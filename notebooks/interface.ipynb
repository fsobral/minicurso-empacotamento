{
 "cells": [
  {
   "cell_type": "code",
   "execution_count": 7,
   "id": "367fead3",
   "metadata": {},
   "outputs": [
    {
     "name": "stderr",
     "output_type": "stream",
     "text": [
      "\u001b[32m\u001b[1m  Activating\u001b[22m\u001b[39m project at `~/personal/working/minicurso-empacotamento/ermacpr25`\n"
     ]
    }
   ],
   "source": [
    "using Pkg\n",
    "\n",
    "Pkg.activate(\"../ermacpr25\")"
   ]
  },
  {
   "cell_type": "code",
   "execution_count": 4,
   "id": "a78c0356",
   "metadata": {},
   "outputs": [],
   "source": [
    "using Plots, Interact"
   ]
  },
  {
   "cell_type": "code",
   "execution_count": null,
   "id": "3e70cf1d",
   "metadata": {},
   "outputs": [
    {
     "ename": "ErrorException",
     "evalue": "The WebIO Jupyter extension must be installed using Python or Conda. See https://juliagizmos.github.io/WebIO.jl/latest/providers/ijulia/ for more information.",
     "output_type": "error",
     "traceback": [
      "The WebIO Jupyter extension must be installed using Python or Conda. See https://juliagizmos.github.io/WebIO.jl/latest/providers/ijulia/ for more information.\n",
      "\n",
      "Stacktrace:\n",
      " [1] error(s::String)\n",
      "   @ Base ./error.jl:35\n",
      " [2] _error()\n",
      "   @ WebIO ~/.julia/packages/WebIO/8Xm9p/deps/jupyter.jl:1\n",
      " [3] install_jupyter_nbextension(; kwargs::@Kwargs{})\n",
      "   @ WebIO ~/.julia/packages/WebIO/8Xm9p/deps/jupyter.jl:10\n",
      " [4] top-level scope\n",
      "   @ ~/personal/working/minicurso-empacotamento/notebooks/jl_notebook_cell_df34fa98e69747e1a8f8a730347b8e2f_W3sZmlsZQ==.jl:2"
     ]
    }
   ],
   "source": [
    "using WebIO\n",
    "WebIO.install_jupyter_nbextension()"
   ]
  },
  {
   "cell_type": "code",
   "execution_count": null,
   "id": "a65fcc5b",
   "metadata": {},
   "outputs": [],
   "source": [
    "arquivo = filepicker(label=\"Arquivo de polígono\"; multiple=false, accept=\".csv\")"
   ]
  }
 ],
 "metadata": {
  "kernelspec": {
   "display_name": "Julia 1.10.9",
   "language": "julia",
   "name": "julia-1.10"
  },
  "language_info": {
   "file_extension": ".jl",
   "mimetype": "application/julia",
   "name": "julia",
   "version": "1.10.9"
  }
 },
 "nbformat": 4,
 "nbformat_minor": 5
}
