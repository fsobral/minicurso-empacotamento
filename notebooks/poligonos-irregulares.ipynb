{
 "cells": [
  {
   "cell_type": "markdown",
   "id": "e80ce21b",
   "metadata": {
    "slideshow": {
     "slide_type": "slide"
    }
   },
   "source": [
    "# Otimização em ação\n",
    "\n",
    "<center>\n",
    "Francisco Nogueira Calmon Sobral<BR>\n",
    "Universidade Estadual de Maringá - PR - Brasil<BR>\n",
    "ERMAC PR - 07 de Maio de 2025\n",
    "</center>"
   ]
  },
  {
   "cell_type": "markdown",
   "id": "f6fc41da",
   "metadata": {},
   "source": [
    "Este trabalho foi feito com a ajuda de\n",
    "\n",
    "  - Anderson Ervino Schwertner\n",
    "  - Joaquim Gabriel Martins\n",
    "\n",
    "e foi inteiramente baseado no artigo\n",
    "\n",
    "> PERALTA, J., ANDRETTA, M., OLIVEIRA, J. **Packing Circles and Irregular Polygons using Separation Lines**. Proceedings of the 7th International Conference on Operations Research and Enterprise Systems (ICORES 2018), 71-77, 2018."
   ]
  },
  {
   "cell_type": "code",
   "execution_count": 12,
   "id": "23631273",
   "metadata": {
    "slideshow": {
     "slide_type": "slide"
    }
   },
   "outputs": [
    {
     "name": "stderr",
     "output_type": "stream",
     "text": [
      "\u001b[32m\u001b[1m  Activating\u001b[22m\u001b[39m project at `~/personal/working/minicurso-empacotamento/ermacpr25`\n"
     ]
    }
   ],
   "source": [
    "using Pkg\n",
    "\n",
    "Pkg.activate(\"../ermacpr25\")\n",
    "Pkg.instantiate()"
   ]
  },
  {
   "cell_type": "code",
   "execution_count": 13,
   "id": "d3bef6fc",
   "metadata": {},
   "outputs": [],
   "source": [
    "using Plots, LinearAlgebra, JuMP, Ipopt"
   ]
  },
  {
   "cell_type": "code",
   "execution_count": 14,
   "id": "f1f407d2",
   "metadata": {},
   "outputs": [
    {
     "data": {
      "text/plain": [
       "desenha_solucao_qc (generic function with 1 method)"
      ]
     },
     "metadata": {},
     "output_type": "display_data"
    }
   ],
   "source": [
    "include(\"../ermacpr25/src/ermacpr25.jl\")"
   ]
  },
  {
   "cell_type": "markdown",
   "id": "f7d0053b-027c-412d-84b8-de42f4bb099b",
   "metadata": {
    "editable": true,
    "slideshow": {
     "slide_type": "slide"
    },
    "tags": []
   },
   "source": [
    "# Empacotamento de itens irregulares\n",
    "\n",
    "Para resolver o problema de itens complexos, como triângulos e polígonos não convexos usaremos a seguinte observação:\n",
    "\n",
    "> Dados dois convexos, existe **uma reta** que os separa"
   ]
  },
  {
   "cell_type": "markdown",
   "id": "4330b15b-0701-4848-bfcd-a058d38d815b",
   "metadata": {
    "editable": true,
    "slideshow": {
     "slide_type": "fragment"
    },
    "tags": []
   },
   "source": [
    "  - Polígonos irregulares serão modelados como a união de convexos (triangularização, por exemplo)\n",
    "  - Retas variáveis separarão polígonos de objetos distintos"
   ]
  },
  {
   "cell_type": "markdown",
   "id": "f9aadc25",
   "metadata": {
    "editable": true,
    "slideshow": {
     "slide_type": "slide"
    },
    "tags": []
   },
   "source": [
    "# A modelagem\n",
    "  \n",
    "  - Um círculo $i \\in \\mathcal{C}$ será definido pelas coordenadas do seu centro $(x^C_i, y^C_i)$ e seu raio $r_i$.\n",
    "  - Um polígono $i \\in \\mathcal{P}$ será definido pela rotação $\\theta_i$ e deslocamento $(x^P_i, y_i^P)$ aplicadas em um **polígono-base** $B_i$\n",
    "      - O polígono base $B_i$ é formado pela união de $p_i$ polígonos convexos $P^i_1, P^i_2, \\dots, P^i_{p_i}$\n",
    "      - Cada $P^i_j$ convexo é formado por $v^i_j$ vértices $(v^{i, j, k}_x, v^{i, j, k}_y)$\n",
    "      - Dados $\\theta_i$ e $(x^P_i, y_i^P)$, denotaremos por $D_i$ a operação de rotação seguida de deslocamento"
   ]
  },
  {
   "cell_type": "code",
   "execution_count": 15,
   "id": "00ba7630",
   "metadata": {
    "editable": true,
    "slideshow": {
     "slide_type": ""
    },
    "tags": []
   },
   "outputs": [],
   "source": [
    "P = [\n",
    "        [ # Poligono 1\n",
    "            [0.0 1.155; 0.866 0.577; 0.866 -0.577; 0.0 -1.155; -0.866 -0.577; -0.866 0.577;   ]\n",
    "        ],\n",
    "        [  # Poligono 2\n",
    "            [0.0 0.0; 2.0 0.0; 2.0 2.0; 0.0 2.0]\n",
    "        ], \n",
    "        [  # Poligono 3\n",
    "            [4.0 0.0; 6.0 0.0; 7.0 1.73; 6.0 3.46; 4.0 3.46; 3.0 1.73]\n",
    "        ],\n",
    "        [ # Poligono 4\n",
    "            [8.0 2.0; 10.0 0.0; 11.0 2.0; 9.0 3.0],\n",
    "            [10.0 0.0; 16.0 3.0; 15.0 4.0; 11.0 2.0]\n",
    "        ],\n",
    "        [ # Poligono 5\n",
    "            [0.0 0.0; 2.0 0.0; 1.5 1.5]\n",
    "        ],\n",
    "        [ # Poligono 6\n",
    "            [0.0 0.0; 2.0 0.0; 4 2; 2.0 2.0],\n",
    "            [4.0 2.0; 3.0 3.0; 1.0 3.0; 2.0 2.0]\n",
    "        ]\n",
    "];"
   ]
  },
  {
   "cell_type": "code",
   "execution_count": 16,
   "id": "13153ffc",
   "metadata": {
    "editable": true,
    "slideshow": {
     "slide_type": ""
    },
    "tags": []
   },
   "outputs": [
    {
     "data": {
      "image/png": "[encoded data removed]",
      "image/svg+xml": [
       "<?xml version=\"1.0\" encoding=\"utf-8\"?>\n",
       "<svg xmlns=\"http://www.w3.org/2000/svg\" xmlns:xlink=\"http://www.w3.org/1999/xlink\" width=\"600\" height=\"400\" viewBox=\"0 0 2400 1600\">\n",
       "<defs>\n",
       "  <clipPath id=\"clip960\">\n",
       "    <rect x=\"0\" y=\"0\" width=\"2400\" height=\"1600\"/>\n",
       "  </clipPath>\n",
       "</defs>\n",
       "<path clip-path=\"url(#clip960)\" d=\"M0 1600 L2400 1600 L2400 0 L0 0  Z\" fill=\"#ffffff\" fill-rule=\"evenodd\" fill-opacity=\"1\"/>\n",
       "<defs>\n",
       "  <clipPath id=\"clip961\">\n",
       "    <rect x=\"480\" y=\"0\" width=\"1681\" height=\"1600\"/>\n",
       "  </clipPath>\n",
       "</defs>\n",
       "<path clip-path=\"url(#clip960)\" d=\"M110.881 1486.45 L2352.76 1486.45 L2352.76 47.2441 L110.881 47.2441  Z\" fill=\"#ffffff\" fill-rule=\"evenodd\" fill-opacity=\"1\"/>\n",
       "<defs>\n",
       "  <clipPath id=\"clip962\">\n",
       "    <rect x=\"110\" y=\"47\" width=\"2243\" height=\"1440\"/>\n",
       "  </clipPath>\n",
       "</defs>\n",
       "<polyline clip-path=\"url(#clip962)\" style=\"stroke:#000000; stroke-linecap:round; stroke-linejoin:round; stroke-width:2; stroke-opacity:0.1; fill:none\" points=\"326.659,1486.45 326.659,47.2441 \"/>\n",
       "<polyline clip-path=\"url(#clip962)\" style=\"stroke:#000000; stroke-linecap:round; stroke-linejoin:round; stroke-width:2; stroke-opacity:0.1; fill:none\" points=\"779.239,1486.45 779.239,47.2441 \"/>\n",
       "<polyline clip-path=\"url(#clip962)\" style=\"stroke:#000000; stroke-linecap:round; stroke-linejoin:round; stroke-width:2; stroke-opacity:0.1; fill:none\" points=\"1231.82,1486.45 1231.82,47.2441 \"/>\n",
       "<polyline clip-path=\"url(#clip962)\" style=\"stroke:#000000; stroke-linecap:round; stroke-linejoin:round; stroke-width:2; stroke-opacity:0.1; fill:none\" points=\"1684.4,1486.45 1684.4,47.2441 \"/>\n",
       "<polyline clip-path=\"url(#clip962)\" style=\"stroke:#000000; stroke-linecap:round; stroke-linejoin:round; stroke-width:2; stroke-opacity:0.1; fill:none\" points=\"2136.98,1486.45 2136.98,47.2441 \"/>\n",
       "<polyline clip-path=\"url(#clip962)\" style=\"stroke:#000000; stroke-linecap:round; stroke-linejoin:round; stroke-width:2; stroke-opacity:0.1; fill:none\" points=\"110.881,1445.72 2352.76,1445.72 \"/>\n",
       "<polyline clip-path=\"url(#clip962)\" style=\"stroke:#000000; stroke-linecap:round; stroke-linejoin:round; stroke-width:2; stroke-opacity:0.1; fill:none\" points=\"110.881,993.136 2352.76,993.136 \"/>\n",
       "<polyline clip-path=\"url(#clip962)\" style=\"stroke:#000000; stroke-linecap:round; stroke-linejoin:round; stroke-width:2; stroke-opacity:0.1; fill:none\" points=\"110.881,540.556 2352.76,540.556 \"/>\n",
       "<polyline clip-path=\"url(#clip962)\" style=\"stroke:#000000; stroke-linecap:round; stroke-linejoin:round; stroke-width:2; stroke-opacity:0.1; fill:none\" points=\"110.881,87.9763 2352.76,87.9763 \"/>\n",
       "<polyline clip-path=\"url(#clip960)\" style=\"stroke:#000000; stroke-linecap:round; stroke-linejoin:round; stroke-width:4; stroke-opacity:1; fill:none\" points=\"110.881,1486.45 2352.76,1486.45 \"/>\n",
       "<polyline clip-path=\"url(#clip960)\" style=\"stroke:#000000; stroke-linecap:round; stroke-linejoin:round; stroke-width:4; stroke-opacity:1; fill:none\" points=\"326.659,1486.45 326.659,1467.55 \"/>\n",
       "<polyline clip-path=\"url(#clip960)\" style=\"stroke:#000000; stroke-linecap:round; stroke-linejoin:round; stroke-width:4; stroke-opacity:1; fill:none\" points=\"779.239,1486.45 779.239,1467.55 \"/>\n",
       "<polyline clip-path=\"url(#clip960)\" style=\"stroke:#000000; stroke-linecap:round; stroke-linejoin:round; stroke-width:4; stroke-opacity:1; fill:none\" points=\"1231.82,1486.45 1231.82,1467.55 \"/>\n",
       "<polyline clip-path=\"url(#clip960)\" style=\"stroke:#000000; stroke-linecap:round; stroke-linejoin:round; stroke-width:4; stroke-opacity:1; fill:none\" points=\"1684.4,1486.45 1684.4,1467.55 \"/>\n",
       "<polyline clip-path=\"url(#clip960)\" style=\"stroke:#000000; stroke-linecap:round; stroke-linejoin:round; stroke-width:4; stroke-opacity:1; fill:none\" points=\"2136.98,1486.45 2136.98,1467.55 \"/>\n",
       "<path clip-path=\"url(#clip960)\" d=\"M326.659 1517.37 Q323.048 1517.37 321.219 1520.93 Q319.413 1524.47 319.413 1531.6 Q319.413 1538.71 321.219 1542.27 Q323.048 1545.82 326.659 1545.82 Q330.293 1545.82 332.099 1542.27 Q333.927 1538.71 333.927 1531.6 Q333.927 1524.47 332.099 1520.93 Q330.293 1517.37 326.659 1517.37 M326.659 1513.66 Q332.469 1513.66 335.524 1518.27 Q338.603 1522.85 338.603 1531.6 Q338.603 1540.33 335.524 1544.94 Q332.469 1549.52 326.659 1549.52 Q320.849 1549.52 317.77 1544.94 Q314.714 1540.33 314.714 1531.6 Q314.714 1522.85 317.77 1518.27 Q320.849 1513.66 326.659 1513.66 Z\" fill=\"#000000\" fill-rule=\"nonzero\" fill-opacity=\"1\" /><path clip-path=\"url(#clip960)\" d=\"M769.621 1544.91 L777.259 1544.91 L777.259 1518.55 L768.949 1520.21 L768.949 1515.95 L777.213 1514.29 L781.889 1514.29 L781.889 1544.91 L789.528 1544.91 L789.528 1548.85 L769.621 1548.85 L769.621 1544.91 Z\" fill=\"#000000\" fill-rule=\"nonzero\" fill-opacity=\"1\" /><path clip-path=\"url(#clip960)\" d=\"M1226.47 1544.91 L1242.79 1544.91 L1242.79 1548.85 L1220.85 1548.85 L1220.85 1544.91 Q1223.51 1542.16 1228.09 1537.53 Q1232.7 1532.88 1233.88 1531.53 Q1236.12 1529.01 1237 1527.27 Q1237.91 1525.51 1237.91 1523.82 Q1237.91 1521.07 1235.96 1519.33 Q1234.04 1517.6 1230.94 1517.6 Q1228.74 1517.6 1226.29 1518.36 Q1223.86 1519.13 1221.08 1520.68 L1221.08 1515.95 Q1223.9 1514.82 1226.36 1514.24 Q1228.81 1513.66 1230.85 1513.66 Q1236.22 1513.66 1239.41 1516.35 Q1242.61 1519.03 1242.61 1523.52 Q1242.61 1525.65 1241.8 1527.57 Q1241.01 1529.47 1238.9 1532.07 Q1238.32 1532.74 1235.22 1535.95 Q1232.12 1539.15 1226.47 1544.91 Z\" fill=\"#000000\" fill-rule=\"nonzero\" fill-opacity=\"1\" /><path clip-path=\"url(#clip960)\" d=\"M1688.65 1530.21 Q1692 1530.93 1693.88 1533.2 Q1695.78 1535.47 1695.78 1538.8 Q1695.78 1543.92 1692.26 1546.72 Q1688.74 1549.52 1682.26 1549.52 Q1680.08 1549.52 1677.77 1549.08 Q1675.47 1548.66 1673.02 1547.81 L1673.02 1543.29 Q1674.97 1544.43 1677.28 1545.01 Q1679.59 1545.58 1682.12 1545.58 Q1686.52 1545.58 1688.81 1543.85 Q1691.12 1542.11 1691.12 1538.8 Q1691.12 1535.75 1688.97 1534.03 Q1686.84 1532.3 1683.02 1532.3 L1678.99 1532.3 L1678.99 1528.45 L1683.21 1528.45 Q1686.66 1528.45 1688.48 1527.09 Q1690.31 1525.7 1690.31 1523.11 Q1690.31 1520.45 1688.41 1519.03 Q1686.54 1517.6 1683.02 1517.6 Q1681.1 1517.6 1678.9 1518.01 Q1676.7 1518.43 1674.06 1519.31 L1674.06 1515.14 Q1676.72 1514.4 1679.04 1514.03 Q1681.38 1513.66 1683.44 1513.66 Q1688.76 1513.66 1691.86 1516.09 Q1694.97 1518.5 1694.97 1522.62 Q1694.97 1525.49 1693.32 1527.48 Q1691.68 1529.45 1688.65 1530.21 Z\" fill=\"#000000\" fill-rule=\"nonzero\" fill-opacity=\"1\" /><path clip-path=\"url(#clip960)\" d=\"M2139.99 1518.36 L2128.18 1536.81 L2139.99 1536.81 L2139.99 1518.36 M2138.76 1514.29 L2144.64 1514.29 L2144.64 1536.81 L2149.57 1536.81 L2149.57 1540.7 L2144.64 1540.7 L2144.64 1548.85 L2139.99 1548.85 L2139.99 1540.7 L2124.39 1540.7 L2124.39 1536.19 L2138.76 1514.29 Z\" fill=\"#000000\" fill-rule=\"nonzero\" fill-opacity=\"1\" /><polyline clip-path=\"url(#clip960)\" style=\"stroke:#000000; stroke-linecap:round; stroke-linejoin:round; stroke-width:4; stroke-opacity:1; fill:none\" points=\"110.881,1486.45 110.881,47.2441 \"/>\n",
       "<polyline clip-path=\"url(#clip960)\" style=\"stroke:#000000; stroke-linecap:round; stroke-linejoin:round; stroke-width:4; stroke-opacity:1; fill:none\" points=\"110.881,1445.72 129.779,1445.72 \"/>\n",
       "<polyline clip-path=\"url(#clip960)\" style=\"stroke:#000000; stroke-linecap:round; stroke-linejoin:round; stroke-width:4; stroke-opacity:1; fill:none\" points=\"110.881,993.136 129.779,993.136 \"/>\n",
       "<polyline clip-path=\"url(#clip960)\" style=\"stroke:#000000; stroke-linecap:round; stroke-linejoin:round; stroke-width:4; stroke-opacity:1; fill:none\" points=\"110.881,540.556 129.779,540.556 \"/>\n",
       "<polyline clip-path=\"url(#clip960)\" style=\"stroke:#000000; stroke-linecap:round; stroke-linejoin:round; stroke-width:4; stroke-opacity:1; fill:none\" points=\"110.881,87.9763 129.779,87.9763 \"/>\n",
       "<path clip-path=\"url(#clip960)\" d=\"M62.9365 1431.51 Q59.3254 1431.51 57.4967 1435.08 Q55.6912 1438.62 55.6912 1445.75 Q55.6912 1452.86 57.4967 1456.42 Q59.3254 1459.96 62.9365 1459.96 Q66.5707 1459.96 68.3763 1456.42 Q70.205 1452.86 70.205 1445.75 Q70.205 1438.62 68.3763 1435.08 Q66.5707 1431.51 62.9365 1431.51 M62.9365 1427.81 Q68.7467 1427.81 71.8022 1432.42 Q74.8809 1437 74.8809 1445.75 Q74.8809 1454.48 71.8022 1459.08 Q68.7467 1463.67 62.9365 1463.67 Q57.1264 1463.67 54.0477 1459.08 Q50.9921 1454.48 50.9921 1445.75 Q50.9921 1437 54.0477 1432.42 Q57.1264 1427.81 62.9365 1427.81 Z\" fill=\"#000000\" fill-rule=\"nonzero\" fill-opacity=\"1\" /><path clip-path=\"url(#clip960)\" d=\"M54.9736 1006.48 L62.6124 1006.48 L62.6124 980.115 L54.3023 981.782 L54.3023 977.523 L62.5661 975.856 L67.242 975.856 L67.242 1006.48 L74.8809 1006.48 L74.8809 1010.42 L54.9736 1010.42 L54.9736 1006.48 Z\" fill=\"#000000\" fill-rule=\"nonzero\" fill-opacity=\"1\" /><path clip-path=\"url(#clip960)\" d=\"M58.5615 553.901 L74.8809 553.901 L74.8809 557.836 L52.9366 557.836 L52.9366 553.901 Q55.5986 551.146 60.1819 546.517 Q64.7883 541.864 65.9689 540.521 Q68.2143 537.998 69.0939 536.262 Q69.9967 534.503 69.9967 532.813 Q69.9967 530.058 68.0522 528.322 Q66.1309 526.586 63.0291 526.586 Q60.83 526.586 58.3763 527.35 Q55.9458 528.114 53.168 529.665 L53.168 524.943 Q55.9921 523.808 58.4458 523.23 Q60.8995 522.651 62.9365 522.651 Q68.3068 522.651 71.5013 525.336 Q74.6957 528.021 74.6957 532.512 Q74.6957 534.642 73.8855 536.563 Q73.0985 538.461 70.992 541.054 Q70.4133 541.725 67.3115 544.943 Q64.2096 548.137 58.5615 553.901 Z\" fill=\"#000000\" fill-rule=\"nonzero\" fill-opacity=\"1\" /><path clip-path=\"url(#clip960)\" d=\"M67.7513 86.6221 Q71.1078 87.3397 72.9827 89.6082 Q74.8809 91.8767 74.8809 95.21 Q74.8809 100.326 71.3624 103.127 Q67.8439 105.928 61.3624 105.928 Q59.1865 105.928 56.8717 105.488 Q54.5801 105.071 52.1264 104.215 L52.1264 99.7008 Q54.0708 100.835 56.3856 101.414 Q58.7004 101.992 61.2236 101.992 Q65.6217 101.992 67.9133 100.256 Q70.2281 98.5202 70.2281 95.21 Q70.2281 92.1545 68.0754 90.4415 Q65.9457 88.7054 62.1263 88.7054 L58.0986 88.7054 L58.0986 84.8629 L62.3115 84.8629 Q65.7606 84.8629 67.5893 83.4971 Q69.418 82.1083 69.418 79.5157 Q69.418 76.8537 67.5198 75.4416 Q65.6448 74.0064 62.1263 74.0064 Q60.205 74.0064 58.006 74.4231 Q55.8069 74.8398 53.168 75.7194 L53.168 71.5528 Q55.8301 70.812 58.1449 70.4416 Q60.4828 70.0713 62.543 70.0713 Q67.867 70.0713 70.9689 72.5018 Q74.0707 74.9092 74.0707 79.0296 Q74.0707 81.8999 72.4272 83.8907 Q70.7837 85.8582 67.7513 86.6221 Z\" fill=\"#000000\" fill-rule=\"nonzero\" fill-opacity=\"1\" /><path clip-path=\"url(#clip962)\" d=\"M326.659 1445.72 L1231.82 1445.72 L2136.98 540.556 L1231.82 540.556 L326.659 1445.72  Z\" fill=\"#1e90ff\" fill-rule=\"evenodd\" fill-opacity=\"1\"/>\n",
       "<polyline clip-path=\"url(#clip962)\" style=\"stroke:#000000; stroke-linecap:round; stroke-linejoin:round; stroke-width:12; stroke-opacity:1; fill:none\" points=\"326.659,1445.72 1231.82,1445.72 2136.98,540.556 1231.82,540.556 326.659,1445.72 \"/>\n",
       "<path clip-path=\"url(#clip962)\" d=\"M2136.98 540.556 L1684.4 87.9763 L779.239 87.9763 L1231.82 540.556 L2136.98 540.556  Z\" fill=\"#1e90ff\" fill-rule=\"evenodd\" fill-opacity=\"1\"/>\n",
       "<polyline clip-path=\"url(#clip962)\" style=\"stroke:#000000; stroke-linecap:round; stroke-linejoin:round; stroke-width:12; stroke-opacity:1; fill:none\" points=\"2136.98,540.556 1684.4,87.9763 779.239,87.9763 1231.82,540.556 2136.98,540.556 \"/>\n",
       "</svg>\n"
      ],
      "text/html": [
       "<?xml version=\"1.0\" encoding=\"utf-8\"?>\n",
       "<svg xmlns=\"http://www.w3.org/2000/svg\" xmlns:xlink=\"http://www.w3.org/1999/xlink\" width=\"600\" height=\"400\" viewBox=\"0 0 2400 1600\">\n",
       "<defs>\n",
       "  <clipPath id=\"clip010\">\n",
       "    <rect x=\"0\" y=\"0\" width=\"2400\" height=\"1600\"/>\n",
       "  </clipPath>\n",
       "</defs>\n",
       "<path clip-path=\"url(#clip010)\" d=\"M0 1600 L2400 1600 L2400 0 L0 0  Z\" fill=\"#ffffff\" fill-rule=\"evenodd\" fill-opacity=\"1\"/>\n",
       "<defs>\n",
       "  <clipPath id=\"clip011\">\n",
       "    <rect x=\"480\" y=\"0\" width=\"1681\" height=\"1600\"/>\n",
       "  </clipPath>\n",
       "</defs>\n",
       "<path clip-path=\"url(#clip010)\" d=\"M110.881 1486.45 L2352.76 1486.45 L2352.76 47.2441 L110.881 47.2441  Z\" fill=\"#ffffff\" fill-rule=\"evenodd\" fill-opacity=\"1\"/>\n",
       "<defs>\n",
       "  <clipPath id=\"clip012\">\n",
       "    <rect x=\"110\" y=\"47\" width=\"2243\" height=\"1440\"/>\n",
       "  </clipPath>\n",
       "</defs>\n",
       "<polyline clip-path=\"url(#clip012)\" style=\"stroke:#000000; stroke-linecap:round; stroke-linejoin:round; stroke-width:2; stroke-opacity:0.1; fill:none\" points=\"326.659,1486.45 326.659,47.2441 \"/>\n",
       "<polyline clip-path=\"url(#clip012)\" style=\"stroke:#000000; stroke-linecap:round; stroke-linejoin:round; stroke-width:2; stroke-opacity:0.1; fill:none\" points=\"779.239,1486.45 779.239,47.2441 \"/>\n",
       "<polyline clip-path=\"url(#clip012)\" style=\"stroke:#000000; stroke-linecap:round; stroke-linejoin:round; stroke-width:2; stroke-opacity:0.1; fill:none\" points=\"1231.82,1486.45 1231.82,47.2441 \"/>\n",
       "<polyline clip-path=\"url(#clip012)\" style=\"stroke:#000000; stroke-linecap:round; stroke-linejoin:round; stroke-width:2; stroke-opacity:0.1; fill:none\" points=\"1684.4,1486.45 1684.4,47.2441 \"/>\n",
       "<polyline clip-path=\"url(#clip012)\" style=\"stroke:#000000; stroke-linecap:round; stroke-linejoin:round; stroke-width:2; stroke-opacity:0.1; fill:none\" points=\"2136.98,1486.45 2136.98,47.2441 \"/>\n",
       "<polyline clip-path=\"url(#clip012)\" style=\"stroke:#000000; stroke-linecap:round; stroke-linejoin:round; stroke-width:2; stroke-opacity:0.1; fill:none\" points=\"110.881,1445.72 2352.76,1445.72 \"/>\n",
       "<polyline clip-path=\"url(#clip012)\" style=\"stroke:#000000; stroke-linecap:round; stroke-linejoin:round; stroke-width:2; stroke-opacity:0.1; fill:none\" points=\"110.881,993.136 2352.76,993.136 \"/>\n",
       "<polyline clip-path=\"url(#clip012)\" style=\"stroke:#000000; stroke-linecap:round; stroke-linejoin:round; stroke-width:2; stroke-opacity:0.1; fill:none\" points=\"110.881,540.556 2352.76,540.556 \"/>\n",
       "<polyline clip-path=\"url(#clip012)\" style=\"stroke:#000000; stroke-linecap:round; stroke-linejoin:round; stroke-width:2; stroke-opacity:0.1; fill:none\" points=\"110.881,87.9763 2352.76,87.9763 \"/>\n",
       "<polyline clip-path=\"url(#clip010)\" style=\"stroke:#000000; stroke-linecap:round; stroke-linejoin:round; stroke-width:4; stroke-opacity:1; fill:none\" points=\"110.881,1486.45 2352.76,1486.45 \"/>\n",
       "<polyline clip-path=\"url(#clip010)\" style=\"stroke:#000000; stroke-linecap:round; stroke-linejoin:round; stroke-width:4; stroke-opacity:1; fill:none\" points=\"326.659,1486.45 326.659,1467.55 \"/>\n",
       "<polyline clip-path=\"url(#clip010)\" style=\"stroke:#000000; stroke-linecap:round; stroke-linejoin:round; stroke-width:4; stroke-opacity:1; fill:none\" points=\"779.239,1486.45 779.239,1467.55 \"/>\n",
       "<polyline clip-path=\"url(#clip010)\" style=\"stroke:#000000; stroke-linecap:round; stroke-linejoin:round; stroke-width:4; stroke-opacity:1; fill:none\" points=\"1231.82,1486.45 1231.82,1467.55 \"/>\n",
       "<polyline clip-path=\"url(#clip010)\" style=\"stroke:#000000; stroke-linecap:round; stroke-linejoin:round; stroke-width:4; stroke-opacity:1; fill:none\" points=\"1684.4,1486.45 1684.4,1467.55 \"/>\n",
       "<polyline clip-path=\"url(#clip010)\" style=\"stroke:#000000; stroke-linecap:round; stroke-linejoin:round; stroke-width:4; stroke-opacity:1; fill:none\" points=\"2136.98,1486.45 2136.98,1467.55 \"/>\n",
       "<path clip-path=\"url(#clip010)\" d=\"M326.659 1517.37 Q323.048 1517.37 321.219 1520.93 Q319.413 1524.47 319.413 1531.6 Q319.413 1538.71 321.219 1542.27 Q323.048 1545.82 326.659 1545.82 Q330.293 1545.82 332.099 1542.27 Q333.927 1538.71 333.927 1531.6 Q333.927 1524.47 332.099 1520.93 Q330.293 1517.37 326.659 1517.37 M326.659 1513.66 Q332.469 1513.66 335.524 1518.27 Q338.603 1522.85 338.603 1531.6 Q338.603 1540.33 335.524 1544.94 Q332.469 1549.52 326.659 1549.52 Q320.849 1549.52 317.77 1544.94 Q314.714 1540.33 314.714 1531.6 Q314.714 1522.85 317.77 1518.27 Q320.849 1513.66 326.659 1513.66 Z\" fill=\"#000000\" fill-rule=\"nonzero\" fill-opacity=\"1\" /><path clip-path=\"url(#clip010)\" d=\"M769.621 1544.91 L777.259 1544.91 L777.259 1518.55 L768.949 1520.21 L768.949 1515.95 L777.213 1514.29 L781.889 1514.29 L781.889 1544.91 L789.528 1544.91 L789.528 1548.85 L769.621 1548.85 L769.621 1544.91 Z\" fill=\"#000000\" fill-rule=\"nonzero\" fill-opacity=\"1\" /><path clip-path=\"url(#clip010)\" d=\"M1226.47 1544.91 L1242.79 1544.91 L1242.79 1548.85 L1220.85 1548.85 L1220.85 1544.91 Q1223.51 1542.16 1228.09 1537.53 Q1232.7 1532.88 1233.88 1531.53 Q1236.12 1529.01 1237 1527.27 Q1237.91 1525.51 1237.91 1523.82 Q1237.91 1521.07 1235.96 1519.33 Q1234.04 1517.6 1230.94 1517.6 Q1228.74 1517.6 1226.29 1518.36 Q1223.86 1519.13 1221.08 1520.68 L1221.08 1515.95 Q1223.9 1514.82 1226.36 1514.24 Q1228.81 1513.66 1230.85 1513.66 Q1236.22 1513.66 1239.41 1516.35 Q1242.61 1519.03 1242.61 1523.52 Q1242.61 1525.65 1241.8 1527.57 Q1241.01 1529.47 1238.9 1532.07 Q1238.32 1532.74 1235.22 1535.95 Q1232.12 1539.15 1226.47 1544.91 Z\" fill=\"#000000\" fill-rule=\"nonzero\" fill-opacity=\"1\" /><path clip-path=\"url(#clip010)\" d=\"M1688.65 1530.21 Q1692 1530.93 1693.88 1533.2 Q1695.78 1535.47 1695.78 1538.8 Q1695.78 1543.92 1692.26 1546.72 Q1688.74 1549.52 1682.26 1549.52 Q1680.08 1549.52 1677.77 1549.08 Q1675.47 1548.66 1673.02 1547.81 L1673.02 1543.29 Q1674.97 1544.43 1677.28 1545.01 Q1679.59 1545.58 1682.12 1545.58 Q1686.52 1545.58 1688.81 1543.85 Q1691.12 1542.11 1691.12 1538.8 Q1691.12 1535.75 1688.97 1534.03 Q1686.84 1532.3 1683.02 1532.3 L1678.99 1532.3 L1678.99 1528.45 L1683.21 1528.45 Q1686.66 1528.45 1688.48 1527.09 Q1690.31 1525.7 1690.31 1523.11 Q1690.31 1520.45 1688.41 1519.03 Q1686.54 1517.6 1683.02 1517.6 Q1681.1 1517.6 1678.9 1518.01 Q1676.7 1518.43 1674.06 1519.31 L1674.06 1515.14 Q1676.72 1514.4 1679.04 1514.03 Q1681.38 1513.66 1683.44 1513.66 Q1688.76 1513.66 1691.86 1516.09 Q1694.97 1518.5 1694.97 1522.62 Q1694.97 1525.49 1693.32 1527.48 Q1691.68 1529.45 1688.65 1530.21 Z\" fill=\"#000000\" fill-rule=\"nonzero\" fill-opacity=\"1\" /><path clip-path=\"url(#clip010)\" d=\"M2139.99 1518.36 L2128.18 1536.81 L2139.99 1536.81 L2139.99 1518.36 M2138.76 1514.29 L2144.64 1514.29 L2144.64 1536.81 L2149.57 1536.81 L2149.57 1540.7 L2144.64 1540.7 L2144.64 1548.85 L2139.99 1548.85 L2139.99 1540.7 L2124.39 1540.7 L2124.39 1536.19 L2138.76 1514.29 Z\" fill=\"#000000\" fill-rule=\"nonzero\" fill-opacity=\"1\" /><polyline clip-path=\"url(#clip010)\" style=\"stroke:#000000; stroke-linecap:round; stroke-linejoin:round; stroke-width:4; stroke-opacity:1; fill:none\" points=\"110.881,1486.45 110.881,47.2441 \"/>\n",
       "<polyline clip-path=\"url(#clip010)\" style=\"stroke:#000000; stroke-linecap:round; stroke-linejoin:round; stroke-width:4; stroke-opacity:1; fill:none\" points=\"110.881,1445.72 129.779,1445.72 \"/>\n",
       "<polyline clip-path=\"url(#clip010)\" style=\"stroke:#000000; stroke-linecap:round; stroke-linejoin:round; stroke-width:4; stroke-opacity:1; fill:none\" points=\"110.881,993.136 129.779,993.136 \"/>\n",
       "<polyline clip-path=\"url(#clip010)\" style=\"stroke:#000000; stroke-linecap:round; stroke-linejoin:round; stroke-width:4; stroke-opacity:1; fill:none\" points=\"110.881,540.556 129.779,540.556 \"/>\n",
       "<polyline clip-path=\"url(#clip010)\" style=\"stroke:#000000; stroke-linecap:round; stroke-linejoin:round; stroke-width:4; stroke-opacity:1; fill:none\" points=\"110.881,87.9763 129.779,87.9763 \"/>\n",
       "<path clip-path=\"url(#clip010)\" d=\"M62.9365 1431.51 Q59.3254 1431.51 57.4967 1435.08 Q55.6912 1438.62 55.6912 1445.75 Q55.6912 1452.86 57.4967 1456.42 Q59.3254 1459.96 62.9365 1459.96 Q66.5707 1459.96 68.3763 1456.42 Q70.205 1452.86 70.205 1445.75 Q70.205 1438.62 68.3763 1435.08 Q66.5707 1431.51 62.9365 1431.51 M62.9365 1427.81 Q68.7467 1427.81 71.8022 1432.42 Q74.8809 1437 74.8809 1445.75 Q74.8809 1454.48 71.8022 1459.08 Q68.7467 1463.67 62.9365 1463.67 Q57.1264 1463.67 54.0477 1459.08 Q50.9921 1454.48 50.9921 1445.75 Q50.9921 1437 54.0477 1432.42 Q57.1264 1427.81 62.9365 1427.81 Z\" fill=\"#000000\" fill-rule=\"nonzero\" fill-opacity=\"1\" /><path clip-path=\"url(#clip010)\" d=\"M54.9736 1006.48 L62.6124 1006.48 L62.6124 980.115 L54.3023 981.782 L54.3023 977.523 L62.5661 975.856 L67.242 975.856 L67.242 1006.48 L74.8809 1006.48 L74.8809 1010.42 L54.9736 1010.42 L54.9736 1006.48 Z\" fill=\"#000000\" fill-rule=\"nonzero\" fill-opacity=\"1\" /><path clip-path=\"url(#clip010)\" d=\"M58.5615 553.901 L74.8809 553.901 L74.8809 557.836 L52.9366 557.836 L52.9366 553.901 Q55.5986 551.146 60.1819 546.517 Q64.7883 541.864 65.9689 540.521 Q68.2143 537.998 69.0939 536.262 Q69.9967 534.503 69.9967 532.813 Q69.9967 530.058 68.0522 528.322 Q66.1309 526.586 63.0291 526.586 Q60.83 526.586 58.3763 527.35 Q55.9458 528.114 53.168 529.665 L53.168 524.943 Q55.9921 523.808 58.4458 523.23 Q60.8995 522.651 62.9365 522.651 Q68.3068 522.651 71.5013 525.336 Q74.6957 528.021 74.6957 532.512 Q74.6957 534.642 73.8855 536.563 Q73.0985 538.461 70.992 541.054 Q70.4133 541.725 67.3115 544.943 Q64.2096 548.137 58.5615 553.901 Z\" fill=\"#000000\" fill-rule=\"nonzero\" fill-opacity=\"1\" /><path clip-path=\"url(#clip010)\" d=\"M67.7513 86.6221 Q71.1078 87.3397 72.9827 89.6082 Q74.8809 91.8767 74.8809 95.21 Q74.8809 100.326 71.3624 103.127 Q67.8439 105.928 61.3624 105.928 Q59.1865 105.928 56.8717 105.488 Q54.5801 105.071 52.1264 104.215 L52.1264 99.7008 Q54.0708 100.835 56.3856 101.414 Q58.7004 101.992 61.2236 101.992 Q65.6217 101.992 67.9133 100.256 Q70.2281 98.5202 70.2281 95.21 Q70.2281 92.1545 68.0754 90.4415 Q65.9457 88.7054 62.1263 88.7054 L58.0986 88.7054 L58.0986 84.8629 L62.3115 84.8629 Q65.7606 84.8629 67.5893 83.4971 Q69.418 82.1083 69.418 79.5157 Q69.418 76.8537 67.5198 75.4416 Q65.6448 74.0064 62.1263 74.0064 Q60.205 74.0064 58.006 74.4231 Q55.8069 74.8398 53.168 75.7194 L53.168 71.5528 Q55.8301 70.812 58.1449 70.4416 Q60.4828 70.0713 62.543 70.0713 Q67.867 70.0713 70.9689 72.5018 Q74.0707 74.9092 74.0707 79.0296 Q74.0707 81.8999 72.4272 83.8907 Q70.7837 85.8582 67.7513 86.6221 Z\" fill=\"#000000\" fill-rule=\"nonzero\" fill-opacity=\"1\" /><path clip-path=\"url(#clip012)\" d=\"M326.659 1445.72 L1231.82 1445.72 L2136.98 540.556 L1231.82 540.556 L326.659 1445.72  Z\" fill=\"#1e90ff\" fill-rule=\"evenodd\" fill-opacity=\"1\"/>\n",
       "<polyline clip-path=\"url(#clip012)\" style=\"stroke:#000000; stroke-linecap:round; stroke-linejoin:round; stroke-width:12; stroke-opacity:1; fill:none\" points=\"326.659,1445.72 1231.82,1445.72 2136.98,540.556 1231.82,540.556 326.659,1445.72 \"/>\n",
       "<path clip-path=\"url(#clip012)\" d=\"M2136.98 540.556 L1684.4 87.9763 L779.239 87.9763 L1231.82 540.556 L2136.98 540.556  Z\" fill=\"#1e90ff\" fill-rule=\"evenodd\" fill-opacity=\"1\"/>\n",
       "<polyline clip-path=\"url(#clip012)\" style=\"stroke:#000000; stroke-linecap:round; stroke-linejoin:round; stroke-width:12; stroke-opacity:1; fill:none\" points=\"2136.98,540.556 1684.4,87.9763 779.239,87.9763 1231.82,540.556 2136.98,540.556 \"/>\n",
       "</svg>\n"
      ]
     },
     "metadata": {},
     "output_type": "display_data"
    }
   ],
   "source": [
    "plot(uniao_poligonos(P[6]), c=:dodgerblue, lc=:black, lw=3, label=false, aspect_ratio=true)"
   ]
  },
  {
   "cell_type": "code",
   "execution_count": 17,
   "id": "114721e6",
   "metadata": {},
   "outputs": [
    {
     "data": {
      "text/plain": [
       "cosseno_model_teste!"
      ]
     },
     "metadata": {},
     "output_type": "display_data"
    }
   ],
   "source": [
    "\n",
    "\"\"\"\n",
    "    cosseno_model_teste!(model, poligonos, ang, xP, yP)\n",
    "\n",
    "Cria as expressões para as coordenadas dos polígonos após a rotação e deslocamento.\n",
    "\"\"\"\n",
    "function cosseno_model_teste!(model, poligonos, ang, xP, yP)\n",
    "    np = length(poligonos)\n",
    "    nalpha = length(ang)\n",
    "    nx = length(xP)\n",
    "    ny = length(yP)\n",
    "    nley = Vector{Any}(undef, np)\n",
    "    nlex = Vector{Any}(undef, np)\n",
    "    for i = 1:np\n",
    "        nlex[i] = @NLexpression(model, [n = 1:length(poligonos[i]), h = 1:size(poligonos[i][n])[1]], \n",
    "                        poligonos[i][n][h, 1] * cos(ang[i]) - poligonos[i][n][h, 2] * sin(ang[i]) + xP[i])\n",
    "\n",
    "        nley[i] = @NLexpression(model, [n = 1:length(poligonos[i]), h = 1:size(poligonos[i][n])[1]], \n",
    "                        poligonos[i][n][h, 1] * sin(ang[i]) + poligonos[i][n][h, 2] * cos(ang[i]) + yP[i])\n",
    "    end\n",
    "    return nlex, nley\n",
    "end"
   ]
  },
  {
   "cell_type": "markdown",
   "id": "2b1583dc-c9b9-48f2-adbb-f29c0d38c472",
   "metadata": {
    "editable": true,
    "slideshow": {
     "slide_type": ""
    },
    "tags": []
   },
   "source": [
    "  - Deve haver uma reta separadora para cada par de polinômios convexos que formam os polinômios $i$ e $j$ com  $i, j \\in \\mathcal{P}$\n",
    "    $$\n",
    "    r^P_{i, j, k, l}: \\quad y = c^{P}_{i, j, k, l} \\cdot x + d^P_{i, j, k, l},\n",
    "    $$\n",
    "    com\n",
    "    $$\n",
    "    \\begin{split}\n",
    "    c^P_{i, j, k, l} & = \\frac{\\sin(\\alpha_{i, j, k, l})}{\\cos(\\alpha_{i, j, k, l})} \\\\\n",
    "    d^P_{i, j, k, l} & = x^{rP}_{i, j, k, l} + c^{P}_{i, j , k, l} \\cdot y^{rP}_{i, j, k, l}\n",
    "    \\end{split}\n",
    "    $$\n",
    "    para $k = 1, \\dots p_i$ e $l = 1, \\dots, p_j$"
   ]
  },
  {
   "cell_type": "code",
   "execution_count": 18,
   "id": "9546b908",
   "metadata": {},
   "outputs": [
    {
     "data": {
      "text/plain": [
       "cdij! (generic function with 1 method)"
      ]
     },
     "metadata": {},
     "output_type": "display_data"
    }
   ],
   "source": [
    "function cdij!(model, reta, alpha_L, xL, yL)\n",
    "    nr = length(reta)\n",
    "    nlerc = Array{Any}(undef, nr)\n",
    "    nlerd = Array{Any}(undef, nr)\n",
    "    for i = 1:nr-1\n",
    "        nlerc[i] = Array{Any}(undef, length(reta[i]))\n",
    "        nlerd[i] = Array{Any}(undef, length(reta[i]))\n",
    "        noutrascc = 0\n",
    "        for j = i+1:nr\n",
    "            if (reta[j]) != 0\n",
    "                noutrascc += length(reta[j])\n",
    "            end\n",
    "        end\n",
    "        for h = 1:length(reta[i])\n",
    "            nlerc[i][h] = Array{Any}(undef, noutrascc)\n",
    "            nlerd[i][h] = Array{Any}(undef, noutrascc)\n",
    "            k = 0\n",
    "            for n = i+1:nr # Fixa o Pol_j\n",
    "                for l = 1:length(reta[n]) # Seleciona a l-esima comp. convexa do Pol_j\n",
    "                    k += 1\n",
    "                    nlerc[i][h][k] = @NLexpression(model, ((reta[i][h][2, 1] - reta[i][h][1, 1]) * sin(alpha_L[i,h,k]) + (reta[i][h][2, 2] - reta[i][h][1, 2]) * cos(alpha_L[i,h,k])) /\n",
    "                                            ((reta[i][h][2, 1] - reta[i][h][1, 1]) * cos(alpha_L[i,h,k]) + (reta[i][h][1, 2] - reta[i][h][2, 2]) * sin(alpha_L[i,h,k])))\n",
    "                    nlerd[i][h][k] = @NLexpression(model, yL[i,h,k] - nlerc[i][h][k] * xL[i,h,k])\n",
    "                end\n",
    "            end\n",
    "        end\n",
    "    end\n",
    "    return nlerc, nlerd\n",
    "end"
   ]
  },
  {
   "cell_type": "markdown",
   "id": "72193f85",
   "metadata": {},
   "source": [
    "- De maneira análoga, devemos ter uma reta que separa um círculo $i \\in \\mathcal{C}$ de todos os $k$ polinômios convexos do polígono $j \\in \\mathcal{P}$\n",
    "    $$\n",
    "    r^C_{i, j, k}: \\quad y = c^{C}_{i, j, k} \\cdot x + d^C_{i, j, k}\n",
    "    $$"
   ]
  },
  {
   "cell_type": "code",
   "execution_count": 19,
   "id": "a870b272",
   "metadata": {},
   "outputs": [
    {
     "data": {
      "text/plain": [
       "cdij_circ! (generic function with 1 method)"
      ]
     },
     "metadata": {},
     "output_type": "display_data"
    }
   ],
   "source": [
    "function cdij_circ!(model, reta, alpha_L_circ, xL_circ, yL_circ, raio)\n",
    "    nr = length(reta)\n",
    "    nc = length(raio)\n",
    "    nlerc_circ = Array{Any}(undef, nr)\n",
    "    nlerd_circ = Array{Any}(undef, nr)\n",
    "    \n",
    "    for i = 1:nr\n",
    "        nlerc_circ[i] = Array{Any}(undef, length(reta[i]))\n",
    "        nlerd_circ[i] = Array{Any}(undef, length(reta[i]))\n",
    "        noutrascc = 0\n",
    "        \n",
    "        for j = 1:nc\n",
    "            noutrascc += 1\n",
    "        end\n",
    "        \n",
    "        for h = 1:length(reta[i])\n",
    "            nlerc_circ[i][h] = Array{Any}(undef, noutrascc)\n",
    "            nlerd_circ[i][h] = Array{Any}(undef, noutrascc)\n",
    "            k = 0\n",
    "            \n",
    "            for n = 1:nc # Fixa o circ\n",
    "                k += 1\n",
    "                nlerc_circ[i][h][k] = @NLexpression(model, ((reta[i][h][2, 1] - reta[i][h][1, 1]) * sin(alpha_L_circ[i,h,k]) + (reta[i][h][2, 2] - reta[i][h][1, 2]) * cos(alpha_L_circ[i,h,k])) /\n",
    "                                            ((reta[i][h][2, 1] - reta[i][h][1, 1]) * cos(alpha_L_circ[i,h,k]) + (reta[i][h][1, 2] - reta[i][h][2, 2]) * sin(alpha_L_circ[i,h,k])))\n",
    "                nlerd_circ[i][h][k] = @NLexpression(model, yL_circ[i,h,k] - nlerc_circ[i][h][k] * xL_circ[i,h,k])\n",
    "            end\n",
    "        end\n",
    "    end\n",
    "    \n",
    "    return nlerc_circ, nlerd_circ\n",
    "end"
   ]
  },
  {
   "cell_type": "markdown",
   "id": "31fcb2ac",
   "metadata": {},
   "source": [
    "### Alocação\n",
    "\n",
    "Considerando que o retângulo possui lados $W \\times L$ e o vértice inferior esquerdo é a origem\n",
    "\n",
    "  - Círculos\n",
    "    $$\n",
    "    \\begin{split}\n",
    "    r_i \\le x^C_i & \\le W - r_i \\\\\n",
    "    r_i \\le y^C_i & \\le L - r_i \n",
    "    \\end{split}\n",
    "    $$\n",
    "  - Polígonos\n",
    "    $$\n",
    "    \\begin{split}\n",
    "    0 \\le x^P_i + \\cos(\\theta^P_i) v^{i, j, k}_x - \\sin(\\theta^P_i) v^{i, j, k}_y & \\le W \\\\\n",
    "    0 \\le y^P_i + \\sin(\\theta^P_i) v^{i, j, k}_x + \\cos(\\theta^P_i) v^{i, j, k}_y & \\le L\n",
    "    \\end{split}\n",
    "    $$\n",
    "    para todo $j = 1, \\dots, p_i$ e $k = 1, \\dots, v^i_j$"
   ]
  },
  {
   "cell_type": "code",
   "execution_count": 20,
   "id": "0c40c994",
   "metadata": {},
   "outputs": [
    {
     "data": {
      "text/plain": [
       "contcir! (generic function with 1 method)"
      ]
     },
     "metadata": {},
     "output_type": "display_data"
    }
   ],
   "source": [
    "function constraints!(model,poligonos,nlex,nley,nlerc,nlerd,l,w)\n",
    "    for i = 1:length(poligonos)\n",
    "     nle_x = nlex[i]\n",
    "     nle_y = nley[i]\n",
    "     @NLconstraint(model, [n =1:length(poligonos[i]), h =1:size(poligonos[i][n])[1]], nle_x[n,h] >= 0 )\n",
    "     @NLconstraint(model,[n =1:length(poligonos[i]), h =1:size(poligonos[i][n])[1]],  nle_y[n,h] >= 0  )\n",
    "     @NLconstraint(model, [n =1:length(poligonos[i]), h =1:size(poligonos[i][n])[1]], nle_x[n,h] <= w )\n",
    "     @NLconstraint(model,[n =1:length(poligonos[i]), h =1:size(poligonos[i][n])[1]],  nle_y[n,h] <= l )       \n",
    "    end\n",
    "end\n",
    "\n",
    "function contcir!(model,raios,xC,yC,l,w)\n",
    "    #colocar l e w como variável local\n",
    "    for i=1:length(xC)\n",
    "        @NLconstraint(model, 0<= xC[i]- raios[i]  )\n",
    "        @NLconstraint(model,  0<= yC[i]- raios[i]  )\n",
    "        @NLconstraint(model,  raios[i]+xC[i] <= w)\n",
    "        @NLconstraint(model,  raios[i]+yC[i] <= l)\n",
    "        @NLconstraint(model, xC[i] >= 0)\n",
    "        @NLconstraint(model, yC[i] >= 0)\n",
    "    end\n",
    "     return model\n",
    "end"
   ]
  },
  {
   "cell_type": "markdown",
   "id": "66f49e90",
   "metadata": {},
   "source": [
    "### Sobreposição entre círculos\n",
    "\n",
    "$$\n",
    "(x^C_i - x^C_j)^2 + (y^C_i - y^C_j)^2 \\ge (r_i + r_j)^2\n",
    "$$"
   ]
  },
  {
   "cell_type": "code",
   "execution_count": 21,
   "id": "7816ea6c",
   "metadata": {},
   "outputs": [
    {
     "data": {
      "text/plain": [
       "nsobrecirc! (generic function with 1 method)"
      ]
     },
     "metadata": {},
     "output_type": "display_data"
    }
   ],
   "source": [
    "function nsobrecirc!(model,Xc,yC,raios)\n",
    "    nc = length(raios)\n",
    "    @NLconstraint(model, [i = 1:nc, j = i + 1:nc],\n",
    "        (xC[i] - xC[j])^2.0 + (yC[i] - yC[j])^2.0 >= (raios[i] + raios[j])^2.0)\n",
    "    # for i= 1:length(xC)\n",
    "    #     for j= i+1:length(xC)\n",
    "    #         @NLconstraint(model, (xC[i] - xC[j])^2.0 + (yC[i] - yC[j])^2.0 >= (raios[i] + raios[j])^2.0)\n",
    "    #     end\n",
    "    # end\n",
    "    return model\n",
    "end "
   ]
  },
  {
   "cell_type": "markdown",
   "id": "83da7b89",
   "metadata": {},
   "source": [
    "### Sobreposição entre círculo e polígono\n",
    "\n",
    "Dado um polígono $i$ e um círculo $j$, temos uma reta separadora $r^C_{i, j, k}$, $k = 1, \\dots, p_j$, de forma que\n",
    "$$\n",
    "\\begin{split}\n",
    "y^C_i - c^C_{i, j, k} \\cdot x^C_i & \\le d^C_{i, j, k} \\\\\n",
    "\\bigg( y^P_i + \\sin(\\theta^P_i) v^{j, k, l}_x + \\cos(\\theta^P_i) v^{j, k, l}_y\\bigg) - c^C_{i, j, k} \\bigg( x^P_i + \\cos(\\theta^P_i) v^{j, k, l}_x - \\sin(\\theta^P_i) v^{j, k, l}_y \\bigg) & \\ge d^C_{i, j, k} \\\\\n",
    "\\bigg(c^C_{i, j, k} \\cdot x^C_i - y^C_i + d^C_{i, j, l}\\bigg)^2 - r_i^2 \\cdot \\bigg((c^C_{i, j, k})^2 + 1\\bigg) & \\ge 0\n",
    "\\end{split}\n",
    "$$"
   ]
  },
  {
   "cell_type": "code",
   "execution_count": 22,
   "id": "a4e26ebb",
   "metadata": {},
   "outputs": [
    {
     "data": {
      "text/plain": [
       "last_re! (generic function with 1 method)"
      ]
     },
     "metadata": {},
     "output_type": "display_data"
    }
   ],
   "source": [
    "function last_re!(model, poligonos, xC, yC, nlerc_circ, nlerd_circ, nlex, nley)\n",
    "    for i = 1:length(poligonos)\n",
    "          for h = 1:length(poligonos[i])\n",
    "                 k = 0\n",
    "                 for q = 1:length(xC) \n",
    "                     k += 1\n",
    "                     c = nlerc_circ[i][h][k]\n",
    "                     d = nlerd_circ[i][h][k]\n",
    "                     @NLconstraint(model, [f = 1:size(poligonos[i][h], 1)],\n",
    "                        nley[i][h,f] - c*nlex[i][h,f] - d >= 0)\n",
    "                    #  for f = 1:size(poligonos[i][h], 1)\n",
    "                    #      @NLconstraint(model, nley[i][h,f] - c*nlex[i][h,f] - d >= 0)\n",
    "                    #  end     \n",
    "                 end\n",
    "             end\n",
    "         end\n",
    "     \n",
    "     return model\n",
    " end"
   ]
  },
  {
   "cell_type": "code",
   "execution_count": 23,
   "id": "599ef788",
   "metadata": {},
   "outputs": [
    {
     "data": {
      "text/plain": [
       "delta! (generic function with 1 method)"
      ]
     },
     "metadata": {},
     "output_type": "display_data"
    }
   ],
   "source": [
    "function delta!(model, poligonos, xC, yC, nlerc_circ, nlerd_circ, raios)\n",
    "    for i = 1:length(poligonos)\n",
    "        for h = 1:length(poligonos[i])\n",
    "            k = 0\n",
    "            for q = 1:length(xC) \n",
    "                k += 1\n",
    "                c = nlerc_circ[i][h][k]\n",
    "                d = nlerd_circ[i][h][k]\n",
    "                @NLconstraint(model,  0 <= c*xC[q]- yC[q]+ d )\n",
    "                @NLconstraint(model, (c*xC[q]- yC[q]+ d)^2  >= (raios[q]^2)*(c ^ 2.0 + 1.0) )\n",
    "                \n",
    "            end\n",
    "        end\n",
    "    end\n",
    "\n",
    "return model\n",
    "end"
   ]
  },
  {
   "cell_type": "markdown",
   "id": "c34a2cb6",
   "metadata": {},
   "source": [
    "### Sobreposição entre polígonos\n",
    "\n",
    "Dados dois polígonos $i$ e $j$, sendo $i, j \\in \\mathcal{P}$, verificamos se os vértices de cada subpolígono convexo estão separados\n",
    "$$\n",
    "\\begin{split}\n",
    "\\bigg(x^P_i + \\cos(\\theta^P_i) v^{i, k, s}_x - \\sin(\\theta^P_i) v^{i, k, s}_y\\bigg) + c^P_{i, j, k, l} \\cdot \\bigg(y^P_i + \\sin(\\theta^P_i) v^{i, k, s}_x + \\cos(\\theta^P_i) v^{i, k, s}_y \\bigg) & \\ge d^P_{i, j, k, l} \\\\\n",
    "\\bigg(x^P_j + \\cos(\\theta^P_j) v^{j, l, t}_x - \\sin(\\theta^P_j) v^{j, l, t}_y\\bigg) + c^P_{i, j, k, l} \\cdot \\bigg(y^P_j + \\sin(\\theta^P_j) v^{j, l, t}_x + \\cos(\\theta^P_j) v^{j, l, t}_y \\bigg) & \\le d^P_{i, j, k, l}\n",
    "\\end{split}\n",
    "$$\n",
    "para $k = 1, \\dots, p_i$, $s = 1, \\dots, v^i_k$, $l = 1, \\dots, p_j$ e $t = 1, \\dots, v^j_l$"
   ]
  },
  {
   "cell_type": "code",
   "execution_count": 24,
   "id": "9b252c5c",
   "metadata": {},
   "outputs": [
    {
     "data": {
      "text/plain": [
       "n_sobreposicao! (generic function with 1 method)"
      ]
     },
     "metadata": {},
     "output_type": "display_data"
    }
   ],
   "source": [
    "function n_sobreposicao!(model, poligonos, reta, nlex, nley, nlerc, nlerd)\n",
    "    for i = 1:length(poligonos)-1\n",
    "          print(i)\n",
    "        nle_x = nlex[i]\n",
    "        nle_y = nley[i]\n",
    "        k=0\n",
    "        for h = 1:length(poligonos[i])\n",
    "           \n",
    "            c = nlerc[i][h]\n",
    "            d = nlerd[i][h]\n",
    "             k =0\n",
    "            for n = i+1:length(poligonos)\n",
    "                nle_xj = nlex[n]\n",
    "                nle_yj = nley[n]\n",
    "                for l = 1:length(poligonos[n])\n",
    "                    k +=1\n",
    "                    @NLconstraint(model, [q = 1:size(poligonos[i][h], 1)],\n",
    "                         nle_y[h,q] - c[k]*nle_x[h,q] - d[k] <= 0.0)\n",
    "                    @NLconstraint(model, [q = 1:size(poligonos[n][l], 1)],\n",
    "                         nle_yj[l,q] - c[k]*nle_xj[l,q] - d[k] >= 0.0)\n",
    "                    # for q = 1:size(poligonos[i][h], 1)\n",
    "                        \n",
    "                    #       @NLconstraint(model, nle_y[h,q] - c[k]*nle_x[h,q] - d[k] <= 0.0)\n",
    "                     \n",
    "                    # end\n",
    "                    # for q = 1:size(poligonos[n][l], 1)\n",
    "                        \n",
    "                    #       @NLconstraint(model, nle_yj[l,q] - c[k]*nle_xj[l,q] - d[k] >= 0.0)\n",
    "                     \n",
    "                    # end\n",
    "#                  \n",
    "                end\n",
    "                \n",
    "            end\n",
    "            \n",
    "            \n",
    "        end\n",
    "    end\n",
    "    return model\n",
    "end"
   ]
  },
  {
   "cell_type": "markdown",
   "id": "3b5d520d",
   "metadata": {
    "slideshow": {
     "slide_type": "slide"
    }
   },
   "source": [
    "# Resolvendo o problema\n",
    "\n",
    "Neste caso, não estamos interessados em minimizar a área, apenas alocar os itens no contêiner."
   ]
  },
  {
   "cell_type": "code",
   "execution_count": 25,
   "id": "1d3e626c",
   "metadata": {
    "slideshow": {
     "slide_type": "fragment"
    }
   },
   "outputs": [
    {
     "data": {
      "text/plain": [
       "20"
      ]
     },
     "metadata": {},
     "output_type": "display_data"
    }
   ],
   "source": [
    "circ_r = [2.0; 3.0; 5.0]\n",
    "lista_poligonos = P\n",
    "L = 15\n",
    "W = 20"
   ]
  },
  {
   "cell_type": "code",
   "execution_count": null,
   "id": "dd31060b",
   "metadata": {},
   "outputs": [],
   "source": [
    "lista_rotacionada =translacao_poligono(lista_poligonos)\n",
    "rt = reta(lista_rotacionada)\n",
    "rt = reta(lista_rotacionada)\n",
    "nr = length(rt)\n",
    "nc = length(circ_r)\n",
    "\n",
    "\n",
    "#MODELO\n",
    "model = Model(Ipopt.Optimizer)\n",
    "    \n",
    "    # Variáveis das coordenadas de referência\n",
    "    @variable(model, xC[1:nc], start = W * rand())\n",
    "    @variable(model, yC[1:nc], start = L * rand())\n",
    "    @variable(model, xP[1:nr], start = W * rand())\n",
    "    @variable(model, yP[1:nr], start = L * rand())\n",
    "    @variable(model, theta_P[1:nr], start = 2 * π * rand())\n",
    "\n",
    "    # Componentes da reta para comparação de polígonos\n",
    "    @variable(model, yL[i = 1:nr-1, h = 1:length(rt[i]), n = 1:sum(length(rt[j]) for j = i+1:nr)], start = rand())\n",
    "    @variable(model, xL[i = 1:nr-1, h = 1:length(rt[i]), n = 1:sum(length(rt[j]) for j = i+1:nr)], start=rand())\n",
    "    @variable(model, alpha_L[i = 1:nr-1, h = 1:length(rt[i]), n = 1:sum(length(rt[j]) for j = i+1:nr)], start=rand())\n",
    "\n",
    "    # Componentes da reta para o delta\n",
    "    @variable(model, yL_circ[i = 1:nr, h = 1:length(rt[i]), n = 1:nc], start = rand())\n",
    "    @variable(model, xL_circ[i = 1:nr, h = 1:length(rt[i]), n = 1:nc], start=rand())\n",
    "    @variable(model, alpha_L_circ[i = 1:nr, h = 1:length(rt[i]), n =1:nc], start=rand())\n",
    "    \n",
    "    nlex, nley = cosseno_model_teste!(model, lista_rotacionada, theta_P, xP, yP)\n",
    "    nlerc, nlerd = cdij!(model, rt, alpha_L, xL, yL)\n",
    "    nlerc_circ, nlerd_circ = cdij_circ!(model, rt, alpha_L_circ, xL_circ, yL_circ, circ_r)\n",
    "    \n",
    "    # Restrições de contenção\n",
    "    contcir!(model, circ_r, xC, yC, L, W)\n",
    "    nsobrecirc!(model, xC, yC, circ_r)\n",
    "    constraints!(model, lista_rotacionada, nlex, nley, nlerc, nlerd, L, W)  \n",
    "    \n",
    "    # Restrições de não sobreposição\n",
    "    n_sobreposicao!(model, lista_rotacionada, rt, nlex, nley, nlerc, nlerd)\n",
    "    delta!(model, lista_rotacionada, xC, yC, nlerc_circ, nlerd_circ, circ_r)\n",
    "    last_re!(model, lista_rotacionada, xC, yC, nlerc_circ, nlerd_circ, nlex, nley)\n",
    "    \n",
    "    @objective(model, Min, 0)\n",
    "    \n",
    "# Chama o otimizador Ipopt:\n",
    "\n",
    "set_attribute(model, \"max_cpu_time\", 30.0)\n",
    "\n",
    "set_attribute(model, \"max_iter\", 10000)\n",
    "\n",
    "optimize!(model)\n"
   ]
  },
  {
   "cell_type": "code",
   "execution_count": 27,
   "id": "6bb2f25f",
   "metadata": {},
   "outputs": [
    {
     "data": {
      "text/plain": [
       "TIME_LIMIT::TerminationStatusCode = 12"
      ]
     },
     "metadata": {},
     "output_type": "display_data"
    }
   ],
   "source": [
    "termination_status(model)"
   ]
  },
  {
   "cell_type": "code",
   "execution_count": 28,
   "id": "d362d65f",
   "metadata": {},
   "outputs": [
    {
     "data": {
      "text/plain": [
       "INFEASIBLE_POINT::ResultStatusCode = 3"
      ]
     },
     "metadata": {},
     "output_type": "display_data"
    }
   ],
   "source": [
    "primal_status(model)"
   ]
  },
  {
   "cell_type": "code",
   "execution_count": 29,
   "id": "0079c9ee",
   "metadata": {},
   "outputs": [
    {
     "data": {
      "image/png": "[encoded data removed]",
      "image/svg+xml": [
       "<?xml version=\"1.0\" encoding=\"utf-8\"?>\n",
       "<svg xmlns=\"http://www.w3.org/2000/svg\" xmlns:xlink=\"http://www.w3.org/1999/xlink\" width=\"600\" height=\"400\" viewBox=\"0 0 2400 1600\">\n",
       "<defs>\n",
       "  <clipPath id=\"clip050\">\n",
       "    <rect x=\"0\" y=\"0\" width=\"2400\" height=\"1600\"/>\n",
       "  </clipPath>\n",
       "</defs>\n",
       "<path clip-path=\"url(#clip050)\" d=\"M0 1600 L2400 1600 L2400 0 L0 0  Z\" fill=\"#ffffff\" fill-rule=\"evenodd\" fill-opacity=\"1\"/>\n",
       "<defs>\n",
       "  <clipPath id=\"clip051\">\n",
       "    <rect x=\"480\" y=\"0\" width=\"1681\" height=\"1600\"/>\n",
       "  </clipPath>\n",
       "</defs>\n",
       "<path clip-path=\"url(#clip050)\" d=\"M138.959 1486.45 L2352.76 1486.45 L2352.76 47.2441 L138.959 47.2441  Z\" fill=\"#ffffff\" fill-rule=\"evenodd\" fill-opacity=\"1\"/>\n",
       "<defs>\n",
       "  <clipPath id=\"clip052\">\n",
       "    <rect x=\"138\" y=\"47\" width=\"2215\" height=\"1440\"/>\n",
       "  </clipPath>\n",
       "</defs>\n",
       "<polyline clip-path=\"url(#clip052)\" style=\"stroke:#000000; stroke-linecap:round; stroke-linejoin:round; stroke-width:2; stroke-opacity:0.1; fill:none\" points=\"450.018,1486.45 450.018,47.2441 \"/>\n",
       "<polyline clip-path=\"url(#clip052)\" style=\"stroke:#000000; stroke-linecap:round; stroke-linejoin:round; stroke-width:2; stroke-opacity:0.1; fill:none\" points=\"866.132,1486.45 866.132,47.2441 \"/>\n",
       "<polyline clip-path=\"url(#clip052)\" style=\"stroke:#000000; stroke-linecap:round; stroke-linejoin:round; stroke-width:2; stroke-opacity:0.1; fill:none\" points=\"1282.24,1486.45 1282.24,47.2441 \"/>\n",
       "<polyline clip-path=\"url(#clip052)\" style=\"stroke:#000000; stroke-linecap:round; stroke-linejoin:round; stroke-width:2; stroke-opacity:0.1; fill:none\" points=\"1698.36,1486.45 1698.36,47.2441 \"/>\n",
       "<polyline clip-path=\"url(#clip052)\" style=\"stroke:#000000; stroke-linecap:round; stroke-linejoin:round; stroke-width:2; stroke-opacity:0.1; fill:none\" points=\"2114.47,1486.45 2114.47,47.2441 \"/>\n",
       "<polyline clip-path=\"url(#clip052)\" style=\"stroke:#000000; stroke-linecap:round; stroke-linejoin:round; stroke-width:2; stroke-opacity:0.1; fill:none\" points=\"138.959,1376.89 2352.76,1376.89 \"/>\n",
       "<polyline clip-path=\"url(#clip052)\" style=\"stroke:#000000; stroke-linecap:round; stroke-linejoin:round; stroke-width:2; stroke-opacity:0.1; fill:none\" points=\"138.959,960.776 2352.76,960.776 \"/>\n",
       "<polyline clip-path=\"url(#clip052)\" style=\"stroke:#000000; stroke-linecap:round; stroke-linejoin:round; stroke-width:2; stroke-opacity:0.1; fill:none\" points=\"138.959,544.663 2352.76,544.663 \"/>\n",
       "<polyline clip-path=\"url(#clip052)\" style=\"stroke:#000000; stroke-linecap:round; stroke-linejoin:round; stroke-width:2; stroke-opacity:0.1; fill:none\" points=\"138.959,128.55 2352.76,128.55 \"/>\n",
       "<polyline clip-path=\"url(#clip050)\" style=\"stroke:#000000; stroke-linecap:round; stroke-linejoin:round; stroke-width:4; stroke-opacity:1; fill:none\" points=\"138.959,1486.45 2352.76,1486.45 \"/>\n",
       "<polyline clip-path=\"url(#clip050)\" style=\"stroke:#000000; stroke-linecap:round; stroke-linejoin:round; stroke-width:4; stroke-opacity:1; fill:none\" points=\"450.018,1486.45 450.018,1467.55 \"/>\n",
       "<polyline clip-path=\"url(#clip050)\" style=\"stroke:#000000; stroke-linecap:round; stroke-linejoin:round; stroke-width:4; stroke-opacity:1; fill:none\" points=\"866.132,1486.45 866.132,1467.55 \"/>\n",
       "<polyline clip-path=\"url(#clip050)\" style=\"stroke:#000000; stroke-linecap:round; stroke-linejoin:round; stroke-width:4; stroke-opacity:1; fill:none\" points=\"1282.24,1486.45 1282.24,1467.55 \"/>\n",
       "<polyline clip-path=\"url(#clip050)\" style=\"stroke:#000000; stroke-linecap:round; stroke-linejoin:round; stroke-width:4; stroke-opacity:1; fill:none\" points=\"1698.36,1486.45 1698.36,1467.55 \"/>\n",
       "<polyline clip-path=\"url(#clip050)\" style=\"stroke:#000000; stroke-linecap:round; stroke-linejoin:round; stroke-width:4; stroke-opacity:1; fill:none\" points=\"2114.47,1486.45 2114.47,1467.55 \"/>\n",
       "<path clip-path=\"url(#clip050)\" d=\"M450.018 1517.37 Q446.407 1517.37 444.579 1520.93 Q442.773 1524.47 442.773 1531.6 Q442.773 1538.71 444.579 1542.27 Q446.407 1545.82 450.018 1545.82 Q453.653 1545.82 455.458 1542.27 Q457.287 1538.71 457.287 1531.6 Q457.287 1524.47 455.458 1520.93 Q453.653 1517.37 450.018 1517.37 M450.018 1513.66 Q455.828 1513.66 458.884 1518.27 Q461.963 1522.85 461.963 1531.6 Q461.963 1540.33 458.884 1544.94 Q455.828 1549.52 450.018 1549.52 Q444.208 1549.52 441.129 1544.94 Q438.074 1540.33 438.074 1531.6 Q438.074 1522.85 441.129 1518.27 Q444.208 1513.66 450.018 1513.66 Z\" fill=\"#000000\" fill-rule=\"nonzero\" fill-opacity=\"1\" /><path clip-path=\"url(#clip050)\" d=\"M856.409 1514.29 L874.766 1514.29 L874.766 1518.22 L860.692 1518.22 L860.692 1526.7 Q861.71 1526.35 862.729 1526.19 Q863.747 1526 864.766 1526 Q870.553 1526 873.932 1529.17 Q877.312 1532.34 877.312 1537.76 Q877.312 1543.34 873.84 1546.44 Q870.368 1549.52 864.048 1549.52 Q861.872 1549.52 859.604 1549.15 Q857.358 1548.78 854.951 1548.04 L854.951 1543.34 Q857.034 1544.47 859.257 1545.03 Q861.479 1545.58 863.956 1545.58 Q867.96 1545.58 870.298 1543.48 Q872.636 1541.37 872.636 1537.76 Q872.636 1534.15 870.298 1532.04 Q867.96 1529.94 863.956 1529.94 Q862.081 1529.94 860.206 1530.35 Q858.354 1530.77 856.409 1531.65 L856.409 1514.29 Z\" fill=\"#000000\" fill-rule=\"nonzero\" fill-opacity=\"1\" /><path clip-path=\"url(#clip050)\" d=\"M1256.93 1544.91 L1264.57 1544.91 L1264.57 1518.55 L1256.26 1520.21 L1256.26 1515.95 L1264.53 1514.29 L1269.2 1514.29 L1269.2 1544.91 L1276.84 1544.91 L1276.84 1548.85 L1256.93 1548.85 L1256.93 1544.91 Z\" fill=\"#000000\" fill-rule=\"nonzero\" fill-opacity=\"1\" /><path clip-path=\"url(#clip050)\" d=\"M1296.28 1517.37 Q1292.67 1517.37 1290.84 1520.93 Q1289.04 1524.47 1289.04 1531.6 Q1289.04 1538.71 1290.84 1542.27 Q1292.67 1545.82 1296.28 1545.82 Q1299.92 1545.82 1301.72 1542.27 Q1303.55 1538.71 1303.55 1531.6 Q1303.55 1524.47 1301.72 1520.93 Q1299.92 1517.37 1296.28 1517.37 M1296.28 1513.66 Q1302.09 1513.66 1305.15 1518.27 Q1308.23 1522.85 1308.23 1531.6 Q1308.23 1540.33 1305.15 1544.94 Q1302.09 1549.52 1296.28 1549.52 Q1290.47 1549.52 1287.4 1544.94 Q1284.34 1540.33 1284.34 1531.6 Q1284.34 1522.85 1287.4 1518.27 Q1290.47 1513.66 1296.28 1513.66 Z\" fill=\"#000000\" fill-rule=\"nonzero\" fill-opacity=\"1\" /><path clip-path=\"url(#clip050)\" d=\"M1673.54 1544.91 L1681.18 1544.91 L1681.18 1518.55 L1672.87 1520.21 L1672.87 1515.95 L1681.14 1514.29 L1685.81 1514.29 L1685.81 1544.91 L1693.45 1544.91 L1693.45 1548.85 L1673.54 1548.85 L1673.54 1544.91 Z\" fill=\"#000000\" fill-rule=\"nonzero\" fill-opacity=\"1\" /><path clip-path=\"url(#clip050)\" d=\"M1702.94 1514.29 L1721.3 1514.29 L1721.3 1518.22 L1707.22 1518.22 L1707.22 1526.7 Q1708.24 1526.35 1709.26 1526.19 Q1710.28 1526 1711.3 1526 Q1717.08 1526 1720.46 1529.17 Q1723.84 1532.34 1723.84 1537.76 Q1723.84 1543.34 1720.37 1546.44 Q1716.9 1549.52 1710.58 1549.52 Q1708.4 1549.52 1706.14 1549.15 Q1703.89 1548.78 1701.48 1548.04 L1701.48 1543.34 Q1703.57 1544.47 1705.79 1545.03 Q1708.01 1545.58 1710.49 1545.58 Q1714.49 1545.58 1716.83 1543.48 Q1719.17 1541.37 1719.17 1537.76 Q1719.17 1534.15 1716.83 1532.04 Q1714.49 1529.94 1710.49 1529.94 Q1708.61 1529.94 1706.74 1530.35 Q1704.89 1530.77 1702.94 1531.65 L1702.94 1514.29 Z\" fill=\"#000000\" fill-rule=\"nonzero\" fill-opacity=\"1\" /><path clip-path=\"url(#clip050)\" d=\"M2093.24 1544.91 L2109.56 1544.91 L2109.56 1548.85 L2087.62 1548.85 L2087.62 1544.91 Q2090.28 1542.16 2094.87 1537.53 Q2099.47 1532.88 2100.65 1531.53 Q2102.9 1529.01 2103.78 1527.27 Q2104.68 1525.51 2104.68 1523.82 Q2104.68 1521.07 2102.74 1519.33 Q2100.81 1517.6 2097.71 1517.6 Q2095.51 1517.6 2093.06 1518.36 Q2090.63 1519.13 2087.85 1520.68 L2087.85 1515.95 Q2090.68 1514.82 2093.13 1514.24 Q2095.58 1513.66 2097.62 1513.66 Q2102.99 1513.66 2106.18 1516.35 Q2109.38 1519.03 2109.38 1523.52 Q2109.38 1525.65 2108.57 1527.57 Q2107.78 1529.47 2105.68 1532.07 Q2105.1 1532.74 2101.99 1535.95 Q2098.89 1539.15 2093.24 1544.91 Z\" fill=\"#000000\" fill-rule=\"nonzero\" fill-opacity=\"1\" /><path clip-path=\"url(#clip050)\" d=\"M2129.38 1517.37 Q2125.77 1517.37 2123.94 1520.93 Q2122.13 1524.47 2122.13 1531.6 Q2122.13 1538.71 2123.94 1542.27 Q2125.77 1545.82 2129.38 1545.82 Q2133.01 1545.82 2134.82 1542.27 Q2136.65 1538.71 2136.65 1531.6 Q2136.65 1524.47 2134.82 1520.93 Q2133.01 1517.37 2129.38 1517.37 M2129.38 1513.66 Q2135.19 1513.66 2138.24 1518.27 Q2141.32 1522.85 2141.32 1531.6 Q2141.32 1540.33 2138.24 1544.94 Q2135.19 1549.52 2129.38 1549.52 Q2123.57 1549.52 2120.49 1544.94 Q2117.43 1540.33 2117.43 1531.6 Q2117.43 1522.85 2120.49 1518.27 Q2123.57 1513.66 2129.38 1513.66 Z\" fill=\"#000000\" fill-rule=\"nonzero\" fill-opacity=\"1\" /><polyline clip-path=\"url(#clip050)\" style=\"stroke:#000000; stroke-linecap:round; stroke-linejoin:round; stroke-width:4; stroke-opacity:1; fill:none\" points=\"138.959,1486.45 138.959,47.2441 \"/>\n",
       "<polyline clip-path=\"url(#clip050)\" style=\"stroke:#000000; stroke-linecap:round; stroke-linejoin:round; stroke-width:4; stroke-opacity:1; fill:none\" points=\"138.959,1376.89 157.857,1376.89 \"/>\n",
       "<polyline clip-path=\"url(#clip050)\" style=\"stroke:#000000; stroke-linecap:round; stroke-linejoin:round; stroke-width:4; stroke-opacity:1; fill:none\" points=\"138.959,960.776 157.857,960.776 \"/>\n",
       "<polyline clip-path=\"url(#clip050)\" style=\"stroke:#000000; stroke-linecap:round; stroke-linejoin:round; stroke-width:4; stroke-opacity:1; fill:none\" points=\"138.959,544.663 157.857,544.663 \"/>\n",
       "<polyline clip-path=\"url(#clip050)\" style=\"stroke:#000000; stroke-linecap:round; stroke-linejoin:round; stroke-width:4; stroke-opacity:1; fill:none\" points=\"138.959,128.55 157.857,128.55 \"/>\n",
       "<path clip-path=\"url(#clip050)\" d=\"M91.0151 1362.69 Q87.404 1362.69 85.5753 1366.25 Q83.7697 1369.79 83.7697 1376.92 Q83.7697 1384.03 85.5753 1387.6 Q87.404 1391.14 91.0151 1391.14 Q94.6493 1391.14 96.4548 1387.6 Q98.2835 1384.03 98.2835 1376.92 Q98.2835 1369.79 96.4548 1366.25 Q94.6493 1362.69 91.0151 1362.69 M91.0151 1358.98 Q96.8252 1358.98 99.8808 1363.59 Q102.959 1368.17 102.959 1376.92 Q102.959 1385.65 99.8808 1390.26 Q96.8252 1394.84 91.0151 1394.84 Q85.2049 1394.84 82.1262 1390.26 Q79.0707 1385.65 79.0707 1376.92 Q79.0707 1368.17 82.1262 1363.59 Q85.2049 1358.98 91.0151 1358.98 Z\" fill=\"#000000\" fill-rule=\"nonzero\" fill-opacity=\"1\" /><path clip-path=\"url(#clip050)\" d=\"M82.0568 943.496 L100.413 943.496 L100.413 947.432 L86.3392 947.432 L86.3392 955.904 Q87.3577 955.556 88.3762 955.394 Q89.3947 955.209 90.4132 955.209 Q96.2002 955.209 99.5798 958.381 Q102.959 961.552 102.959 966.968 Q102.959 972.547 99.4872 975.649 Q96.015 978.728 89.6956 978.728 Q87.5197 978.728 85.2512 978.357 Q83.0058 977.987 80.5984 977.246 L80.5984 972.547 Q82.6818 973.681 84.904 974.237 Q87.1262 974.792 89.603 974.792 Q93.6076 974.792 95.9456 972.686 Q98.2835 970.58 98.2835 966.968 Q98.2835 963.357 95.9456 961.251 Q93.6076 959.144 89.603 959.144 Q87.728 959.144 85.8531 959.561 Q84.0012 959.978 82.0568 960.857 L82.0568 943.496 Z\" fill=\"#000000\" fill-rule=\"nonzero\" fill-opacity=\"1\" /><path clip-path=\"url(#clip050)\" d=\"M51.6634 558.008 L59.3023 558.008 L59.3023 531.642 L50.9921 533.309 L50.9921 529.05 L59.256 527.383 L63.9319 527.383 L63.9319 558.008 L71.5707 558.008 L71.5707 561.943 L51.6634 561.943 L51.6634 558.008 Z\" fill=\"#000000\" fill-rule=\"nonzero\" fill-opacity=\"1\" /><path clip-path=\"url(#clip050)\" d=\"M91.0151 530.462 Q87.404 530.462 85.5753 534.027 Q83.7697 537.568 83.7697 544.698 Q83.7697 551.804 85.5753 555.369 Q87.404 558.911 91.0151 558.911 Q94.6493 558.911 96.4548 555.369 Q98.2835 551.804 98.2835 544.698 Q98.2835 537.568 96.4548 534.027 Q94.6493 530.462 91.0151 530.462 M91.0151 526.758 Q96.8252 526.758 99.8808 531.365 Q102.959 535.948 102.959 544.698 Q102.959 553.425 99.8808 558.031 Q96.8252 562.614 91.0151 562.614 Q85.2049 562.614 82.1262 558.031 Q79.0707 553.425 79.0707 544.698 Q79.0707 535.948 82.1262 531.365 Q85.2049 526.758 91.0151 526.758 Z\" fill=\"#000000\" fill-rule=\"nonzero\" fill-opacity=\"1\" /><path clip-path=\"url(#clip050)\" d=\"M52.6588 141.895 L60.2976 141.895 L60.2976 115.529 L51.9875 117.196 L51.9875 112.936 L60.2513 111.27 L64.9272 111.27 L64.9272 141.895 L72.5661 141.895 L72.5661 145.83 L52.6588 145.83 L52.6588 141.895 Z\" fill=\"#000000\" fill-rule=\"nonzero\" fill-opacity=\"1\" /><path clip-path=\"url(#clip050)\" d=\"M82.0568 111.27 L100.413 111.27 L100.413 115.205 L86.3392 115.205 L86.3392 123.677 Q87.3577 123.33 88.3762 123.168 Q89.3947 122.983 90.4132 122.983 Q96.2002 122.983 99.5798 126.154 Q102.959 129.325 102.959 134.742 Q102.959 140.321 99.4872 143.422 Q96.015 146.501 89.6956 146.501 Q87.5197 146.501 85.2512 146.131 Q83.0058 145.76 80.5984 145.02 L80.5984 140.321 Q82.6818 141.455 84.904 142.01 Q87.1262 142.566 89.603 142.566 Q93.6076 142.566 95.9456 140.459 Q98.2835 138.353 98.2835 134.742 Q98.2835 131.131 95.9456 129.024 Q93.6076 126.918 89.603 126.918 Q87.728 126.918 85.8531 127.335 Q84.0012 127.751 82.0568 128.631 L82.0568 111.27 Z\" fill=\"#000000\" fill-rule=\"nonzero\" fill-opacity=\"1\" /><path clip-path=\"url(#clip052)\" d=\"M450.018 1376.89 L2114.47 1376.89 L2114.47 128.55 L450.018 128.55 L450.018 1376.89  Z\" fill=\"#ffffff\" fill-rule=\"evenodd\" fill-opacity=\"1\"/>\n",
       "<polyline clip-path=\"url(#clip052)\" style=\"stroke:#000000; stroke-linecap:round; stroke-linejoin:round; stroke-width:4; stroke-opacity:1; fill:none\" points=\"450.018,1376.89 2114.47,1376.89 2114.47,128.55 450.018,128.55 450.018,1376.89 \"/>\n",
       "<path clip-path=\"url(#clip052)\" d=\"M2123.66 1072.26 L2138.16 1072.89 L2152.56 1074.78 L2166.74 1077.93 L2180.58 1082.29 L2194 1087.85 L2206.88 1094.55 L2219.13 1102.36 L2230.64 1111.2 L2241.35 1121.01 L2251.16 1131.71 L2260 1143.23 L2267.8 1155.48 L2274.51 1168.36 L2280.06 1181.77 L2284.43 1195.62 L2287.57 1209.8 L2289.47 1224.19 L2290.1 1238.7 L2289.47 1253.21 L2287.57 1267.6 L2284.43 1281.78 L2280.06 1295.63 L2274.51 1309.04 L2267.8 1321.92 L2260 1334.17 L2251.16 1345.69 L2241.35 1356.4 L2230.64 1366.21 L2219.13 1375.04 L2206.88 1382.85 L2194 1389.55 L2180.58 1395.11 L2166.74 1399.47 L2152.56 1402.62 L2138.16 1404.51 L2123.66 1405.15 L2109.15 1404.51 L2094.75 1402.62 L2080.58 1399.47 L2066.73 1395.11 L2053.31 1389.55 L2040.43 1382.85 L2028.19 1375.04 L2016.67 1366.21 L2005.96 1356.4 L1996.15 1345.69 L1987.31 1334.17 L1979.51 1321.92 L1972.81 1309.04 L1967.25 1295.63 L1962.88 1281.78 L1959.74 1267.6 L1957.84 1253.21 L1957.21 1238.7 L1957.84 1224.19 L1959.74 1209.8 L1962.88 1195.62 L1967.25 1181.77 L1972.81 1168.36 L1979.51 1155.48 L1987.31 1143.23 L1996.15 1131.71 L2005.96 1121.01 L2016.67 1111.2 L2028.19 1102.36 L2040.43 1094.55 L2053.31 1087.85 L2066.73 1082.29 L2080.58 1077.93 L2094.75 1074.78 L2109.15 1072.89 L2123.66 1072.26 L2123.66 1072.26  Z\" fill=\"#ff0000\" fill-rule=\"evenodd\" fill-opacity=\"0.5\"/>\n",
       "<polyline clip-path=\"url(#clip052)\" style=\"stroke:#000000; stroke-linecap:round; stroke-linejoin:round; stroke-width:4; stroke-opacity:1; fill:none\" points=\"2123.66,1072.26 2138.16,1072.89 2152.56,1074.78 2166.74,1077.93 2180.58,1082.29 2194,1087.85 2206.88,1094.55 2219.13,1102.36 2230.64,1111.2 2241.35,1121.01 2251.16,1131.71 2260,1143.23 2267.8,1155.48 2274.51,1168.36 2280.06,1181.77 2284.43,1195.62 2287.57,1209.8 2289.47,1224.19 2290.1,1238.7 2289.47,1253.21 2287.57,1267.6 2284.43,1281.78 2280.06,1295.63 2274.51,1309.04 2267.8,1321.92 2260,1334.17 2251.16,1345.69 2241.35,1356.4 2230.64,1366.21 2219.13,1375.04 2206.88,1382.85 2194,1389.55 2180.58,1395.11 2166.74,1399.47 2152.56,1402.62 2138.16,1404.51 2123.66,1405.15 2109.15,1404.51 2094.75,1402.62 2080.58,1399.47 2066.73,1395.11 2053.31,1389.55 2040.43,1382.85 2028.19,1375.04 2016.67,1366.21 2005.96,1356.4 1996.15,1345.69 1987.31,1334.17 1979.51,1321.92 1972.81,1309.04 1967.25,1295.63 1962.88,1281.78 1959.74,1267.6 1957.84,1253.21 1957.21,1238.7 1957.84,1224.19 1959.74,1209.8 1962.88,1195.62 1967.25,1181.77 1972.81,1168.36 1979.51,1155.48 1987.31,1143.23 1996.15,1131.71 2005.96,1121.01 2016.67,1111.2 2028.19,1102.36 2040.43,1094.55 2053.31,1087.85 2066.73,1082.29 2080.58,1077.93 2094.75,1074.78 2109.15,1072.89 2123.66,1072.26 \"/>\n",
       "<path clip-path=\"url(#clip052)\" d=\"M451.282 216.247 L473.042 217.197 L494.636 220.04 L515.901 224.755 L536.673 231.304 L556.796 239.639 L576.116 249.697 L594.486 261.399 L611.765 274.659 L627.824 289.373 L642.539 305.432 L655.798 322.712 L667.501 341.081 L677.558 360.401 L685.893 380.524 L692.443 401.297 L697.157 422.561 L700 444.155 L700.95 465.915 L700 487.675 L697.157 509.27 L692.443 530.534 L685.893 551.307 L677.558 571.43 L667.501 590.749 L655.798 609.119 L642.539 626.399 L627.824 642.457 L611.765 657.172 L594.486 670.431 L576.116 682.134 L556.796 692.191 L536.673 700.526 L515.901 707.076 L494.636 711.79 L473.042 714.633 L451.282 715.583 L429.522 714.633 L407.928 711.79 L386.663 707.076 L365.891 700.526 L345.768 692.191 L326.448 682.134 L308.078 670.431 L290.799 657.172 L274.74 642.457 L260.025 626.399 L246.766 609.119 L235.063 590.749 L225.006 571.43 L216.671 551.307 L210.121 530.534 L205.407 509.27 L202.564 487.675 L201.614 465.915 L202.564 444.155 L205.407 422.561 L210.121 401.297 L216.671 380.524 L225.006 360.401 L235.063 341.081 L246.766 322.712 L260.025 305.432 L274.74 289.373 L290.799 274.659 L308.078 261.399 L326.448 249.697 L345.768 239.639 L365.891 231.304 L386.663 224.755 L407.928 220.04 L429.522 217.197 L451.282 216.247 L451.282 216.247  Z\" fill=\"#ff0000\" fill-rule=\"evenodd\" fill-opacity=\"0.5\"/>\n",
       "<polyline clip-path=\"url(#clip052)\" style=\"stroke:#000000; stroke-linecap:round; stroke-linejoin:round; stroke-width:4; stroke-opacity:1; fill:none\" points=\"451.282,216.247 473.042,217.197 494.636,220.04 515.901,224.755 536.673,231.304 556.796,239.639 576.116,249.697 594.486,261.399 611.765,274.659 627.824,289.373 642.539,305.432 655.798,322.712 667.501,341.081 677.558,360.401 685.893,380.524 692.443,401.297 697.157,422.561 700,444.155 700.95,465.915 700,487.675 697.157,509.27 692.443,530.534 685.893,551.307 677.558,571.43 667.501,590.749 655.798,609.119 642.539,626.399 627.824,642.457 611.765,657.172 594.486,670.431 576.116,682.134 556.796,692.191 536.673,700.526 515.901,707.076 494.636,711.79 473.042,714.633 451.282,715.583 429.522,714.633 407.928,711.79 386.663,707.076 365.891,700.526 345.768,692.191 326.448,682.134 308.078,670.431 290.799,657.172 274.74,642.457 260.025,626.399 246.766,609.119 235.063,590.749 225.006,571.43 216.671,551.307 210.121,530.534 205.407,509.27 202.564,487.675 201.614,465.915 202.564,444.155 205.407,422.561 210.121,401.297 216.671,380.524 225.006,360.401 235.063,341.081 246.766,322.712 260.025,305.432 274.74,289.373 290.799,274.659 308.078,261.399 326.448,249.697 345.768,239.639 365.891,231.304 386.663,224.755 407.928,220.04 429.522,217.197 451.282,216.247 \"/>\n",
       "<path clip-path=\"url(#clip052)\" d=\"M1401.81 169.484 L1438.08 171.067 L1474.07 175.805 L1509.51 183.662 L1544.13 194.578 L1577.67 208.47 L1609.87 225.232 L1640.48 244.737 L1669.28 266.836 L1696.05 291.36 L1720.57 318.124 L1742.67 346.924 L1762.17 377.54 L1778.94 409.74 L1792.83 443.278 L1803.74 477.899 L1811.6 513.339 L1816.34 549.33 L1817.92 585.597 L1816.34 621.863 L1811.6 657.854 L1803.74 693.295 L1792.83 727.916 L1778.94 761.454 L1762.17 793.653 L1742.67 824.27 L1720.57 853.069 L1696.05 879.833 L1669.28 904.358 L1640.48 926.457 L1609.87 945.961 L1577.67 962.723 L1544.13 976.615 L1509.51 987.531 L1474.07 995.388 L1438.08 1000.13 L1401.81 1001.71 L1365.54 1000.13 L1329.55 995.388 L1294.11 987.531 L1259.49 976.615 L1225.95 962.723 L1193.75 945.961 L1163.14 926.457 L1134.34 904.358 L1107.57 879.833 L1083.05 853.069 L1060.95 824.27 L1041.44 793.653 L1024.68 761.454 L1010.79 727.916 L999.875 693.295 L992.018 657.854 L987.279 621.863 L985.696 585.597 L987.279 549.33 L992.018 513.339 L999.875 477.899 L1010.79 443.278 L1024.68 409.74 L1041.44 377.54 L1060.95 346.924 L1083.05 318.124 L1107.57 291.36 L1134.34 266.836 L1163.14 244.737 L1193.75 225.232 L1225.95 208.47 L1259.49 194.578 L1294.11 183.662 L1329.55 175.805 L1365.54 171.067 L1401.81 169.484 L1401.81 169.484  Z\" fill=\"#ff0000\" fill-rule=\"evenodd\" fill-opacity=\"0.5\"/>\n",
       "<polyline clip-path=\"url(#clip052)\" style=\"stroke:#000000; stroke-linecap:round; stroke-linejoin:round; stroke-width:4; stroke-opacity:1; fill:none\" points=\"1401.81,169.484 1438.08,171.067 1474.07,175.805 1509.51,183.662 1544.13,194.578 1577.67,208.47 1609.87,225.232 1640.48,244.737 1669.28,266.836 1696.05,291.36 1720.57,318.124 1742.67,346.924 1762.17,377.54 1778.94,409.74 1792.83,443.278 1803.74,477.899 1811.6,513.339 1816.34,549.33 1817.92,585.597 1816.34,621.863 1811.6,657.854 1803.74,693.295 1792.83,727.916 1778.94,761.454 1762.17,793.653 1742.67,824.27 1720.57,853.069 1696.05,879.833 1669.28,904.358 1640.48,926.457 1609.87,945.961 1577.67,962.723 1544.13,976.615 1509.51,987.531 1474.07,995.388 1438.08,1000.13 1401.81,1001.71 1365.54,1000.13 1329.55,995.388 1294.11,987.531 1259.49,976.615 1225.95,962.723 1193.75,945.961 1163.14,926.457 1134.34,904.358 1107.57,879.833 1083.05,853.069 1060.95,824.27 1041.44,793.653 1024.68,761.454 1010.79,727.916 999.875,693.295 992.018,657.854 987.279,621.863 985.696,585.597 987.279,549.33 992.018,513.339 999.875,477.899 1010.79,443.278 1024.68,409.74 1041.44,377.54 1060.95,346.924 1083.05,318.124 1107.57,291.36 1134.34,266.836 1163.14,244.737 1193.75,225.232 1225.95,208.47 1259.49,194.578 1294.11,183.662 1329.55,175.805 1365.54,171.067 1401.81,169.484 \"/>\n",
       "<path clip-path=\"url(#clip052)\" d=\"M452.219 356.703 L453.007 270.057 L533.369 217.471 L613.083 251.438 L612.295 338.084 L531.932 390.671 L452.219 356.703  Z\" fill=\"#0000ff\" fill-rule=\"evenodd\" fill-opacity=\"0.5\"/>\n",
       "<polyline clip-path=\"url(#clip052)\" style=\"stroke:#000000; stroke-linecap:round; stroke-linejoin:round; stroke-width:4; stroke-opacity:1; fill:none\" points=\"452.219,356.703 453.007,270.057 533.369,217.471 613.083,251.438 612.295,338.084 531.932,390.671 452.219,356.703 \"/>\n",
       "<path clip-path=\"url(#clip052)\" d=\"M2114.47 693.634 L2095.54 528.268 L1930.17 547.198 L1949.1 712.564 L2114.47 693.634  Z\" fill=\"#0000ff\" fill-rule=\"evenodd\" fill-opacity=\"0.5\"/>\n",
       "<polyline clip-path=\"url(#clip052)\" style=\"stroke:#000000; stroke-linecap:round; stroke-linejoin:round; stroke-width:4; stroke-opacity:1; fill:none\" points=\"2114.47,693.634 2095.54,528.268 1930.17,547.198 1949.1,712.564 2114.47,693.634 \"/>\n",
       "<path clip-path=\"url(#clip052)\" d=\"M2062.13 417.248 L2081.28 251.909 L1947.84 152.671 L1795.24 218.772 L1776.09 384.112 L1909.53 483.35 L2062.13 417.248  Z\" fill=\"#0000ff\" fill-rule=\"evenodd\" fill-opacity=\"0.5\"/>\n",
       "<polyline clip-path=\"url(#clip052)\" style=\"stroke:#000000; stroke-linecap:round; stroke-linejoin:round; stroke-width:4; stroke-opacity:1; fill:none\" points=\"2062.13,417.248 2081.28,251.909 1947.84,152.671 1795.24,218.772 1776.09,384.112 1909.53,483.35 2062.13,417.248 \"/>\n",
       "<path clip-path=\"url(#clip052)\" d=\"M1098.82 137.035 L866.425 174.462 L952.594 339.401 L1117.53 253.233 L1098.82 137.035  Z\" fill=\"#0000ff\" fill-rule=\"evenodd\" fill-opacity=\"0.5\"/>\n",
       "<polyline clip-path=\"url(#clip052)\" style=\"stroke:#000000; stroke-linecap:round; stroke-linejoin:round; stroke-width:4; stroke-opacity:1; fill:none\" points=\"1098.82,137.035 866.425,174.462 952.594,339.401 1117.53,253.233 1098.82,137.035 \"/>\n",
       "<path clip-path=\"url(#clip052)\" d=\"M866.425 174.462 L776.338 725.42 L892.536 706.706 L952.594 339.401 L866.425 174.462  Z\" fill=\"#0000ff\" fill-rule=\"evenodd\" fill-opacity=\"0.5\"/>\n",
       "<polyline clip-path=\"url(#clip052)\" style=\"stroke:#000000; stroke-linecap:round; stroke-linejoin:round; stroke-width:4; stroke-opacity:1; fill:none\" points=\"866.425,174.462 776.338,725.42 892.536,706.706 952.594,339.401 866.425,174.462 \"/>\n",
       "<path clip-path=\"url(#clip052)\" d=\"M837.399 292.312 L867.141 128.546 L736.881 147.181 L837.399 292.312  Z\" fill=\"#0000ff\" fill-rule=\"evenodd\" fill-opacity=\"0.5\"/>\n",
       "<polyline clip-path=\"url(#clip052)\" style=\"stroke:#000000; stroke-linecap:round; stroke-linejoin:round; stroke-width:4; stroke-opacity:1; fill:none\" points=\"837.399,292.312 867.141,128.546 736.881,147.181 837.399,292.312 \"/>\n",
       "<path clip-path=\"url(#clip052)\" d=\"M1455.56 337.825 L1432.29 502.635 L1573.82 690.72 L1597.1 525.91 L1455.56 337.825  Z\" fill=\"#0000ff\" fill-rule=\"evenodd\" fill-opacity=\"0.5\"/>\n",
       "<polyline clip-path=\"url(#clip052)\" style=\"stroke:#000000; stroke-linecap:round; stroke-linejoin:round; stroke-width:4; stroke-opacity:1; fill:none\" points=\"1455.56,337.825 1432.29,502.635 1573.82,690.72 1597.1,525.91 1455.56,337.825 \"/>\n",
       "<path clip-path=\"url(#clip052)\" d=\"M1573.82 690.72 L1667.86 619.953 L1691.14 455.143 L1597.1 525.91 L1573.82 690.72  Z\" fill=\"#0000ff\" fill-rule=\"evenodd\" fill-opacity=\"0.5\"/>\n",
       "<polyline clip-path=\"url(#clip052)\" style=\"stroke:#000000; stroke-linecap:round; stroke-linejoin:round; stroke-width:4; stroke-opacity:1; fill:none\" points=\"1573.82,690.72 1667.86,619.953 1691.14,455.143 1597.1,525.91 1573.82,690.72 \"/>\n",
       "</svg>\n"
      ],
      "text/html": [
       "<?xml version=\"1.0\" encoding=\"utf-8\"?>\n",
       "<svg xmlns=\"http://www.w3.org/2000/svg\" xmlns:xlink=\"http://www.w3.org/1999/xlink\" width=\"600\" height=\"400\" viewBox=\"0 0 2400 1600\">\n",
       "<defs>\n",
       "  <clipPath id=\"clip100\">\n",
       "    <rect x=\"0\" y=\"0\" width=\"2400\" height=\"1600\"/>\n",
       "  </clipPath>\n",
       "</defs>\n",
       "<path clip-path=\"url(#clip100)\" d=\"M0 1600 L2400 1600 L2400 0 L0 0  Z\" fill=\"#ffffff\" fill-rule=\"evenodd\" fill-opacity=\"1\"/>\n",
       "<defs>\n",
       "  <clipPath id=\"clip101\">\n",
       "    <rect x=\"480\" y=\"0\" width=\"1681\" height=\"1600\"/>\n",
       "  </clipPath>\n",
       "</defs>\n",
       "<path clip-path=\"url(#clip100)\" d=\"M138.959 1486.45 L2352.76 1486.45 L2352.76 47.2441 L138.959 47.2441  Z\" fill=\"#ffffff\" fill-rule=\"evenodd\" fill-opacity=\"1\"/>\n",
       "<defs>\n",
       "  <clipPath id=\"clip102\">\n",
       "    <rect x=\"138\" y=\"47\" width=\"2215\" height=\"1440\"/>\n",
       "  </clipPath>\n",
       "</defs>\n",
       "<polyline clip-path=\"url(#clip102)\" style=\"stroke:#000000; stroke-linecap:round; stroke-linejoin:round; stroke-width:2; stroke-opacity:0.1; fill:none\" points=\"450.018,1486.45 450.018,47.2441 \"/>\n",
       "<polyline clip-path=\"url(#clip102)\" style=\"stroke:#000000; stroke-linecap:round; stroke-linejoin:round; stroke-width:2; stroke-opacity:0.1; fill:none\" points=\"866.132,1486.45 866.132,47.2441 \"/>\n",
       "<polyline clip-path=\"url(#clip102)\" style=\"stroke:#000000; stroke-linecap:round; stroke-linejoin:round; stroke-width:2; stroke-opacity:0.1; fill:none\" points=\"1282.24,1486.45 1282.24,47.2441 \"/>\n",
       "<polyline clip-path=\"url(#clip102)\" style=\"stroke:#000000; stroke-linecap:round; stroke-linejoin:round; stroke-width:2; stroke-opacity:0.1; fill:none\" points=\"1698.36,1486.45 1698.36,47.2441 \"/>\n",
       "<polyline clip-path=\"url(#clip102)\" style=\"stroke:#000000; stroke-linecap:round; stroke-linejoin:round; stroke-width:2; stroke-opacity:0.1; fill:none\" points=\"2114.47,1486.45 2114.47,47.2441 \"/>\n",
       "<polyline clip-path=\"url(#clip102)\" style=\"stroke:#000000; stroke-linecap:round; stroke-linejoin:round; stroke-width:2; stroke-opacity:0.1; fill:none\" points=\"138.959,1376.89 2352.76,1376.89 \"/>\n",
       "<polyline clip-path=\"url(#clip102)\" style=\"stroke:#000000; stroke-linecap:round; stroke-linejoin:round; stroke-width:2; stroke-opacity:0.1; fill:none\" points=\"138.959,960.776 2352.76,960.776 \"/>\n",
       "<polyline clip-path=\"url(#clip102)\" style=\"stroke:#000000; stroke-linecap:round; stroke-linejoin:round; stroke-width:2; stroke-opacity:0.1; fill:none\" points=\"138.959,544.663 2352.76,544.663 \"/>\n",
       "<polyline clip-path=\"url(#clip102)\" style=\"stroke:#000000; stroke-linecap:round; stroke-linejoin:round; stroke-width:2; stroke-opacity:0.1; fill:none\" points=\"138.959,128.55 2352.76,128.55 \"/>\n",
       "<polyline clip-path=\"url(#clip100)\" style=\"stroke:#000000; stroke-linecap:round; stroke-linejoin:round; stroke-width:4; stroke-opacity:1; fill:none\" points=\"138.959,1486.45 2352.76,1486.45 \"/>\n",
       "<polyline clip-path=\"url(#clip100)\" style=\"stroke:#000000; stroke-linecap:round; stroke-linejoin:round; stroke-width:4; stroke-opacity:1; fill:none\" points=\"450.018,1486.45 450.018,1467.55 \"/>\n",
       "<polyline clip-path=\"url(#clip100)\" style=\"stroke:#000000; stroke-linecap:round; stroke-linejoin:round; stroke-width:4; stroke-opacity:1; fill:none\" points=\"866.132,1486.45 866.132,1467.55 \"/>\n",
       "<polyline clip-path=\"url(#clip100)\" style=\"stroke:#000000; stroke-linecap:round; stroke-linejoin:round; stroke-width:4; stroke-opacity:1; fill:none\" points=\"1282.24,1486.45 1282.24,1467.55 \"/>\n",
       "<polyline clip-path=\"url(#clip100)\" style=\"stroke:#000000; stroke-linecap:round; stroke-linejoin:round; stroke-width:4; stroke-opacity:1; fill:none\" points=\"1698.36,1486.45 1698.36,1467.55 \"/>\n",
       "<polyline clip-path=\"url(#clip100)\" style=\"stroke:#000000; stroke-linecap:round; stroke-linejoin:round; stroke-width:4; stroke-opacity:1; fill:none\" points=\"2114.47,1486.45 2114.47,1467.55 \"/>\n",
       "<path clip-path=\"url(#clip100)\" d=\"M450.018 1517.37 Q446.407 1517.37 444.579 1520.93 Q442.773 1524.47 442.773 1531.6 Q442.773 1538.71 444.579 1542.27 Q446.407 1545.82 450.018 1545.82 Q453.653 1545.82 455.458 1542.27 Q457.287 1538.71 457.287 1531.6 Q457.287 1524.47 455.458 1520.93 Q453.653 1517.37 450.018 1517.37 M450.018 1513.66 Q455.828 1513.66 458.884 1518.27 Q461.963 1522.85 461.963 1531.6 Q461.963 1540.33 458.884 1544.94 Q455.828 1549.52 450.018 1549.52 Q444.208 1549.52 441.129 1544.94 Q438.074 1540.33 438.074 1531.6 Q438.074 1522.85 441.129 1518.27 Q444.208 1513.66 450.018 1513.66 Z\" fill=\"#000000\" fill-rule=\"nonzero\" fill-opacity=\"1\" /><path clip-path=\"url(#clip100)\" d=\"M856.409 1514.29 L874.766 1514.29 L874.766 1518.22 L860.692 1518.22 L860.692 1526.7 Q861.71 1526.35 862.729 1526.19 Q863.747 1526 864.766 1526 Q870.553 1526 873.932 1529.17 Q877.312 1532.34 877.312 1537.76 Q877.312 1543.34 873.84 1546.44 Q870.368 1549.52 864.048 1549.52 Q861.872 1549.52 859.604 1549.15 Q857.358 1548.78 854.951 1548.04 L854.951 1543.34 Q857.034 1544.47 859.257 1545.03 Q861.479 1545.58 863.956 1545.58 Q867.96 1545.58 870.298 1543.48 Q872.636 1541.37 872.636 1537.76 Q872.636 1534.15 870.298 1532.04 Q867.96 1529.94 863.956 1529.94 Q862.081 1529.94 860.206 1530.35 Q858.354 1530.77 856.409 1531.65 L856.409 1514.29 Z\" fill=\"#000000\" fill-rule=\"nonzero\" fill-opacity=\"1\" /><path clip-path=\"url(#clip100)\" d=\"M1256.93 1544.91 L1264.57 1544.91 L1264.57 1518.55 L1256.26 1520.21 L1256.26 1515.95 L1264.53 1514.29 L1269.2 1514.29 L1269.2 1544.91 L1276.84 1544.91 L1276.84 1548.85 L1256.93 1548.85 L1256.93 1544.91 Z\" fill=\"#000000\" fill-rule=\"nonzero\" fill-opacity=\"1\" /><path clip-path=\"url(#clip100)\" d=\"M1296.28 1517.37 Q1292.67 1517.37 1290.84 1520.93 Q1289.04 1524.47 1289.04 1531.6 Q1289.04 1538.71 1290.84 1542.27 Q1292.67 1545.82 1296.28 1545.82 Q1299.92 1545.82 1301.72 1542.27 Q1303.55 1538.71 1303.55 1531.6 Q1303.55 1524.47 1301.72 1520.93 Q1299.92 1517.37 1296.28 1517.37 M1296.28 1513.66 Q1302.09 1513.66 1305.15 1518.27 Q1308.23 1522.85 1308.23 1531.6 Q1308.23 1540.33 1305.15 1544.94 Q1302.09 1549.52 1296.28 1549.52 Q1290.47 1549.52 1287.4 1544.94 Q1284.34 1540.33 1284.34 1531.6 Q1284.34 1522.85 1287.4 1518.27 Q1290.47 1513.66 1296.28 1513.66 Z\" fill=\"#000000\" fill-rule=\"nonzero\" fill-opacity=\"1\" /><path clip-path=\"url(#clip100)\" d=\"M1673.54 1544.91 L1681.18 1544.91 L1681.18 1518.55 L1672.87 1520.21 L1672.87 1515.95 L1681.14 1514.29 L1685.81 1514.29 L1685.81 1544.91 L1693.45 1544.91 L1693.45 1548.85 L1673.54 1548.85 L1673.54 1544.91 Z\" fill=\"#000000\" fill-rule=\"nonzero\" fill-opacity=\"1\" /><path clip-path=\"url(#clip100)\" d=\"M1702.94 1514.29 L1721.3 1514.29 L1721.3 1518.22 L1707.22 1518.22 L1707.22 1526.7 Q1708.24 1526.35 1709.26 1526.19 Q1710.28 1526 1711.3 1526 Q1717.08 1526 1720.46 1529.17 Q1723.84 1532.34 1723.84 1537.76 Q1723.84 1543.34 1720.37 1546.44 Q1716.9 1549.52 1710.58 1549.52 Q1708.4 1549.52 1706.14 1549.15 Q1703.89 1548.78 1701.48 1548.04 L1701.48 1543.34 Q1703.57 1544.47 1705.79 1545.03 Q1708.01 1545.58 1710.49 1545.58 Q1714.49 1545.58 1716.83 1543.48 Q1719.17 1541.37 1719.17 1537.76 Q1719.17 1534.15 1716.83 1532.04 Q1714.49 1529.94 1710.49 1529.94 Q1708.61 1529.94 1706.74 1530.35 Q1704.89 1530.77 1702.94 1531.65 L1702.94 1514.29 Z\" fill=\"#000000\" fill-rule=\"nonzero\" fill-opacity=\"1\" /><path clip-path=\"url(#clip100)\" d=\"M2093.24 1544.91 L2109.56 1544.91 L2109.56 1548.85 L2087.62 1548.85 L2087.62 1544.91 Q2090.28 1542.16 2094.87 1537.53 Q2099.47 1532.88 2100.65 1531.53 Q2102.9 1529.01 2103.78 1527.27 Q2104.68 1525.51 2104.68 1523.82 Q2104.68 1521.07 2102.74 1519.33 Q2100.81 1517.6 2097.71 1517.6 Q2095.51 1517.6 2093.06 1518.36 Q2090.63 1519.13 2087.85 1520.68 L2087.85 1515.95 Q2090.68 1514.82 2093.13 1514.24 Q2095.58 1513.66 2097.62 1513.66 Q2102.99 1513.66 2106.18 1516.35 Q2109.38 1519.03 2109.38 1523.52 Q2109.38 1525.65 2108.57 1527.57 Q2107.78 1529.47 2105.68 1532.07 Q2105.1 1532.74 2101.99 1535.95 Q2098.89 1539.15 2093.24 1544.91 Z\" fill=\"#000000\" fill-rule=\"nonzero\" fill-opacity=\"1\" /><path clip-path=\"url(#clip100)\" d=\"M2129.38 1517.37 Q2125.77 1517.37 2123.94 1520.93 Q2122.13 1524.47 2122.13 1531.6 Q2122.13 1538.71 2123.94 1542.27 Q2125.77 1545.82 2129.38 1545.82 Q2133.01 1545.82 2134.82 1542.27 Q2136.65 1538.71 2136.65 1531.6 Q2136.65 1524.47 2134.82 1520.93 Q2133.01 1517.37 2129.38 1517.37 M2129.38 1513.66 Q2135.19 1513.66 2138.24 1518.27 Q2141.32 1522.85 2141.32 1531.6 Q2141.32 1540.33 2138.24 1544.94 Q2135.19 1549.52 2129.38 1549.52 Q2123.57 1549.52 2120.49 1544.94 Q2117.43 1540.33 2117.43 1531.6 Q2117.43 1522.85 2120.49 1518.27 Q2123.57 1513.66 2129.38 1513.66 Z\" fill=\"#000000\" fill-rule=\"nonzero\" fill-opacity=\"1\" /><polyline clip-path=\"url(#clip100)\" style=\"stroke:#000000; stroke-linecap:round; stroke-linejoin:round; stroke-width:4; stroke-opacity:1; fill:none\" points=\"138.959,1486.45 138.959,47.2441 \"/>\n",
       "<polyline clip-path=\"url(#clip100)\" style=\"stroke:#000000; stroke-linecap:round; stroke-linejoin:round; stroke-width:4; stroke-opacity:1; fill:none\" points=\"138.959,1376.89 157.857,1376.89 \"/>\n",
       "<polyline clip-path=\"url(#clip100)\" style=\"stroke:#000000; stroke-linecap:round; stroke-linejoin:round; stroke-width:4; stroke-opacity:1; fill:none\" points=\"138.959,960.776 157.857,960.776 \"/>\n",
       "<polyline clip-path=\"url(#clip100)\" style=\"stroke:#000000; stroke-linecap:round; stroke-linejoin:round; stroke-width:4; stroke-opacity:1; fill:none\" points=\"138.959,544.663 157.857,544.663 \"/>\n",
       "<polyline clip-path=\"url(#clip100)\" style=\"stroke:#000000; stroke-linecap:round; stroke-linejoin:round; stroke-width:4; stroke-opacity:1; fill:none\" points=\"138.959,128.55 157.857,128.55 \"/>\n",
       "<path clip-path=\"url(#clip100)\" d=\"M91.0151 1362.69 Q87.404 1362.69 85.5753 1366.25 Q83.7697 1369.79 83.7697 1376.92 Q83.7697 1384.03 85.5753 1387.6 Q87.404 1391.14 91.0151 1391.14 Q94.6493 1391.14 96.4548 1387.6 Q98.2835 1384.03 98.2835 1376.92 Q98.2835 1369.79 96.4548 1366.25 Q94.6493 1362.69 91.0151 1362.69 M91.0151 1358.98 Q96.8252 1358.98 99.8808 1363.59 Q102.959 1368.17 102.959 1376.92 Q102.959 1385.65 99.8808 1390.26 Q96.8252 1394.84 91.0151 1394.84 Q85.2049 1394.84 82.1262 1390.26 Q79.0707 1385.65 79.0707 1376.92 Q79.0707 1368.17 82.1262 1363.59 Q85.2049 1358.98 91.0151 1358.98 Z\" fill=\"#000000\" fill-rule=\"nonzero\" fill-opacity=\"1\" /><path clip-path=\"url(#clip100)\" d=\"M82.0568 943.496 L100.413 943.496 L100.413 947.432 L86.3392 947.432 L86.3392 955.904 Q87.3577 955.556 88.3762 955.394 Q89.3947 955.209 90.4132 955.209 Q96.2002 955.209 99.5798 958.381 Q102.959 961.552 102.959 966.968 Q102.959 972.547 99.4872 975.649 Q96.015 978.728 89.6956 978.728 Q87.5197 978.728 85.2512 978.357 Q83.0058 977.987 80.5984 977.246 L80.5984 972.547 Q82.6818 973.681 84.904 974.237 Q87.1262 974.792 89.603 974.792 Q93.6076 974.792 95.9456 972.686 Q98.2835 970.58 98.2835 966.968 Q98.2835 963.357 95.9456 961.251 Q93.6076 959.144 89.603 959.144 Q87.728 959.144 85.8531 959.561 Q84.0012 959.978 82.0568 960.857 L82.0568 943.496 Z\" fill=\"#000000\" fill-rule=\"nonzero\" fill-opacity=\"1\" /><path clip-path=\"url(#clip100)\" d=\"M51.6634 558.008 L59.3023 558.008 L59.3023 531.642 L50.9921 533.309 L50.9921 529.05 L59.256 527.383 L63.9319 527.383 L63.9319 558.008 L71.5707 558.008 L71.5707 561.943 L51.6634 561.943 L51.6634 558.008 Z\" fill=\"#000000\" fill-rule=\"nonzero\" fill-opacity=\"1\" /><path clip-path=\"url(#clip100)\" d=\"M91.0151 530.462 Q87.404 530.462 85.5753 534.027 Q83.7697 537.568 83.7697 544.698 Q83.7697 551.804 85.5753 555.369 Q87.404 558.911 91.0151 558.911 Q94.6493 558.911 96.4548 555.369 Q98.2835 551.804 98.2835 544.698 Q98.2835 537.568 96.4548 534.027 Q94.6493 530.462 91.0151 530.462 M91.0151 526.758 Q96.8252 526.758 99.8808 531.365 Q102.959 535.948 102.959 544.698 Q102.959 553.425 99.8808 558.031 Q96.8252 562.614 91.0151 562.614 Q85.2049 562.614 82.1262 558.031 Q79.0707 553.425 79.0707 544.698 Q79.0707 535.948 82.1262 531.365 Q85.2049 526.758 91.0151 526.758 Z\" fill=\"#000000\" fill-rule=\"nonzero\" fill-opacity=\"1\" /><path clip-path=\"url(#clip100)\" d=\"M52.6588 141.895 L60.2976 141.895 L60.2976 115.529 L51.9875 117.196 L51.9875 112.936 L60.2513 111.27 L64.9272 111.27 L64.9272 141.895 L72.5661 141.895 L72.5661 145.83 L52.6588 145.83 L52.6588 141.895 Z\" fill=\"#000000\" fill-rule=\"nonzero\" fill-opacity=\"1\" /><path clip-path=\"url(#clip100)\" d=\"M82.0568 111.27 L100.413 111.27 L100.413 115.205 L86.3392 115.205 L86.3392 123.677 Q87.3577 123.33 88.3762 123.168 Q89.3947 122.983 90.4132 122.983 Q96.2002 122.983 99.5798 126.154 Q102.959 129.325 102.959 134.742 Q102.959 140.321 99.4872 143.422 Q96.015 146.501 89.6956 146.501 Q87.5197 146.501 85.2512 146.131 Q83.0058 145.76 80.5984 145.02 L80.5984 140.321 Q82.6818 141.455 84.904 142.01 Q87.1262 142.566 89.603 142.566 Q93.6076 142.566 95.9456 140.459 Q98.2835 138.353 98.2835 134.742 Q98.2835 131.131 95.9456 129.024 Q93.6076 126.918 89.603 126.918 Q87.728 126.918 85.8531 127.335 Q84.0012 127.751 82.0568 128.631 L82.0568 111.27 Z\" fill=\"#000000\" fill-rule=\"nonzero\" fill-opacity=\"1\" /><path clip-path=\"url(#clip102)\" d=\"M450.018 1376.89 L2114.47 1376.89 L2114.47 128.55 L450.018 128.55 L450.018 1376.89  Z\" fill=\"#ffffff\" fill-rule=\"evenodd\" fill-opacity=\"1\"/>\n",
       "<polyline clip-path=\"url(#clip102)\" style=\"stroke:#000000; stroke-linecap:round; stroke-linejoin:round; stroke-width:4; stroke-opacity:1; fill:none\" points=\"450.018,1376.89 2114.47,1376.89 2114.47,128.55 450.018,128.55 450.018,1376.89 \"/>\n",
       "<path clip-path=\"url(#clip102)\" d=\"M2123.66 1072.26 L2138.16 1072.89 L2152.56 1074.78 L2166.74 1077.93 L2180.58 1082.29 L2194 1087.85 L2206.88 1094.55 L2219.13 1102.36 L2230.64 1111.2 L2241.35 1121.01 L2251.16 1131.71 L2260 1143.23 L2267.8 1155.48 L2274.51 1168.36 L2280.06 1181.77 L2284.43 1195.62 L2287.57 1209.8 L2289.47 1224.19 L2290.1 1238.7 L2289.47 1253.21 L2287.57 1267.6 L2284.43 1281.78 L2280.06 1295.63 L2274.51 1309.04 L2267.8 1321.92 L2260 1334.17 L2251.16 1345.69 L2241.35 1356.4 L2230.64 1366.21 L2219.13 1375.04 L2206.88 1382.85 L2194 1389.55 L2180.58 1395.11 L2166.74 1399.47 L2152.56 1402.62 L2138.16 1404.51 L2123.66 1405.15 L2109.15 1404.51 L2094.75 1402.62 L2080.58 1399.47 L2066.73 1395.11 L2053.31 1389.55 L2040.43 1382.85 L2028.19 1375.04 L2016.67 1366.21 L2005.96 1356.4 L1996.15 1345.69 L1987.31 1334.17 L1979.51 1321.92 L1972.81 1309.04 L1967.25 1295.63 L1962.88 1281.78 L1959.74 1267.6 L1957.84 1253.21 L1957.21 1238.7 L1957.84 1224.19 L1959.74 1209.8 L1962.88 1195.62 L1967.25 1181.77 L1972.81 1168.36 L1979.51 1155.48 L1987.31 1143.23 L1996.15 1131.71 L2005.96 1121.01 L2016.67 1111.2 L2028.19 1102.36 L2040.43 1094.55 L2053.31 1087.85 L2066.73 1082.29 L2080.58 1077.93 L2094.75 1074.78 L2109.15 1072.89 L2123.66 1072.26 L2123.66 1072.26  Z\" fill=\"#ff0000\" fill-rule=\"evenodd\" fill-opacity=\"0.5\"/>\n",
       "<polyline clip-path=\"url(#clip102)\" style=\"stroke:#000000; stroke-linecap:round; stroke-linejoin:round; stroke-width:4; stroke-opacity:1; fill:none\" points=\"2123.66,1072.26 2138.16,1072.89 2152.56,1074.78 2166.74,1077.93 2180.58,1082.29 2194,1087.85 2206.88,1094.55 2219.13,1102.36 2230.64,1111.2 2241.35,1121.01 2251.16,1131.71 2260,1143.23 2267.8,1155.48 2274.51,1168.36 2280.06,1181.77 2284.43,1195.62 2287.57,1209.8 2289.47,1224.19 2290.1,1238.7 2289.47,1253.21 2287.57,1267.6 2284.43,1281.78 2280.06,1295.63 2274.51,1309.04 2267.8,1321.92 2260,1334.17 2251.16,1345.69 2241.35,1356.4 2230.64,1366.21 2219.13,1375.04 2206.88,1382.85 2194,1389.55 2180.58,1395.11 2166.74,1399.47 2152.56,1402.62 2138.16,1404.51 2123.66,1405.15 2109.15,1404.51 2094.75,1402.62 2080.58,1399.47 2066.73,1395.11 2053.31,1389.55 2040.43,1382.85 2028.19,1375.04 2016.67,1366.21 2005.96,1356.4 1996.15,1345.69 1987.31,1334.17 1979.51,1321.92 1972.81,1309.04 1967.25,1295.63 1962.88,1281.78 1959.74,1267.6 1957.84,1253.21 1957.21,1238.7 1957.84,1224.19 1959.74,1209.8 1962.88,1195.62 1967.25,1181.77 1972.81,1168.36 1979.51,1155.48 1987.31,1143.23 1996.15,1131.71 2005.96,1121.01 2016.67,1111.2 2028.19,1102.36 2040.43,1094.55 2053.31,1087.85 2066.73,1082.29 2080.58,1077.93 2094.75,1074.78 2109.15,1072.89 2123.66,1072.26 \"/>\n",
       "<path clip-path=\"url(#clip102)\" d=\"M451.282 216.247 L473.042 217.197 L494.636 220.04 L515.901 224.755 L536.673 231.304 L556.796 239.639 L576.116 249.697 L594.486 261.399 L611.765 274.659 L627.824 289.373 L642.539 305.432 L655.798 322.712 L667.501 341.081 L677.558 360.401 L685.893 380.524 L692.443 401.297 L697.157 422.561 L700 444.155 L700.95 465.915 L700 487.675 L697.157 509.27 L692.443 530.534 L685.893 551.307 L677.558 571.43 L667.501 590.749 L655.798 609.119 L642.539 626.399 L627.824 642.457 L611.765 657.172 L594.486 670.431 L576.116 682.134 L556.796 692.191 L536.673 700.526 L515.901 707.076 L494.636 711.79 L473.042 714.633 L451.282 715.583 L429.522 714.633 L407.928 711.79 L386.663 707.076 L365.891 700.526 L345.768 692.191 L326.448 682.134 L308.078 670.431 L290.799 657.172 L274.74 642.457 L260.025 626.399 L246.766 609.119 L235.063 590.749 L225.006 571.43 L216.671 551.307 L210.121 530.534 L205.407 509.27 L202.564 487.675 L201.614 465.915 L202.564 444.155 L205.407 422.561 L210.121 401.297 L216.671 380.524 L225.006 360.401 L235.063 341.081 L246.766 322.712 L260.025 305.432 L274.74 289.373 L290.799 274.659 L308.078 261.399 L326.448 249.697 L345.768 239.639 L365.891 231.304 L386.663 224.755 L407.928 220.04 L429.522 217.197 L451.282 216.247 L451.282 216.247  Z\" fill=\"#ff0000\" fill-rule=\"evenodd\" fill-opacity=\"0.5\"/>\n",
       "<polyline clip-path=\"url(#clip102)\" style=\"stroke:#000000; stroke-linecap:round; stroke-linejoin:round; stroke-width:4; stroke-opacity:1; fill:none\" points=\"451.282,216.247 473.042,217.197 494.636,220.04 515.901,224.755 536.673,231.304 556.796,239.639 576.116,249.697 594.486,261.399 611.765,274.659 627.824,289.373 642.539,305.432 655.798,322.712 667.501,341.081 677.558,360.401 685.893,380.524 692.443,401.297 697.157,422.561 700,444.155 700.95,465.915 700,487.675 697.157,509.27 692.443,530.534 685.893,551.307 677.558,571.43 667.501,590.749 655.798,609.119 642.539,626.399 627.824,642.457 611.765,657.172 594.486,670.431 576.116,682.134 556.796,692.191 536.673,700.526 515.901,707.076 494.636,711.79 473.042,714.633 451.282,715.583 429.522,714.633 407.928,711.79 386.663,707.076 365.891,700.526 345.768,692.191 326.448,682.134 308.078,670.431 290.799,657.172 274.74,642.457 260.025,626.399 246.766,609.119 235.063,590.749 225.006,571.43 216.671,551.307 210.121,530.534 205.407,509.27 202.564,487.675 201.614,465.915 202.564,444.155 205.407,422.561 210.121,401.297 216.671,380.524 225.006,360.401 235.063,341.081 246.766,322.712 260.025,305.432 274.74,289.373 290.799,274.659 308.078,261.399 326.448,249.697 345.768,239.639 365.891,231.304 386.663,224.755 407.928,220.04 429.522,217.197 451.282,216.247 \"/>\n",
       "<path clip-path=\"url(#clip102)\" d=\"M1401.81 169.484 L1438.08 171.067 L1474.07 175.805 L1509.51 183.662 L1544.13 194.578 L1577.67 208.47 L1609.87 225.232 L1640.48 244.737 L1669.28 266.836 L1696.05 291.36 L1720.57 318.124 L1742.67 346.924 L1762.17 377.54 L1778.94 409.74 L1792.83 443.278 L1803.74 477.899 L1811.6 513.339 L1816.34 549.33 L1817.92 585.597 L1816.34 621.863 L1811.6 657.854 L1803.74 693.295 L1792.83 727.916 L1778.94 761.454 L1762.17 793.653 L1742.67 824.27 L1720.57 853.069 L1696.05 879.833 L1669.28 904.358 L1640.48 926.457 L1609.87 945.961 L1577.67 962.723 L1544.13 976.615 L1509.51 987.531 L1474.07 995.388 L1438.08 1000.13 L1401.81 1001.71 L1365.54 1000.13 L1329.55 995.388 L1294.11 987.531 L1259.49 976.615 L1225.95 962.723 L1193.75 945.961 L1163.14 926.457 L1134.34 904.358 L1107.57 879.833 L1083.05 853.069 L1060.95 824.27 L1041.44 793.653 L1024.68 761.454 L1010.79 727.916 L999.875 693.295 L992.018 657.854 L987.279 621.863 L985.696 585.597 L987.279 549.33 L992.018 513.339 L999.875 477.899 L1010.79 443.278 L1024.68 409.74 L1041.44 377.54 L1060.95 346.924 L1083.05 318.124 L1107.57 291.36 L1134.34 266.836 L1163.14 244.737 L1193.75 225.232 L1225.95 208.47 L1259.49 194.578 L1294.11 183.662 L1329.55 175.805 L1365.54 171.067 L1401.81 169.484 L1401.81 169.484  Z\" fill=\"#ff0000\" fill-rule=\"evenodd\" fill-opacity=\"0.5\"/>\n",
       "<polyline clip-path=\"url(#clip102)\" style=\"stroke:#000000; stroke-linecap:round; stroke-linejoin:round; stroke-width:4; stroke-opacity:1; fill:none\" points=\"1401.81,169.484 1438.08,171.067 1474.07,175.805 1509.51,183.662 1544.13,194.578 1577.67,208.47 1609.87,225.232 1640.48,244.737 1669.28,266.836 1696.05,291.36 1720.57,318.124 1742.67,346.924 1762.17,377.54 1778.94,409.74 1792.83,443.278 1803.74,477.899 1811.6,513.339 1816.34,549.33 1817.92,585.597 1816.34,621.863 1811.6,657.854 1803.74,693.295 1792.83,727.916 1778.94,761.454 1762.17,793.653 1742.67,824.27 1720.57,853.069 1696.05,879.833 1669.28,904.358 1640.48,926.457 1609.87,945.961 1577.67,962.723 1544.13,976.615 1509.51,987.531 1474.07,995.388 1438.08,1000.13 1401.81,1001.71 1365.54,1000.13 1329.55,995.388 1294.11,987.531 1259.49,976.615 1225.95,962.723 1193.75,945.961 1163.14,926.457 1134.34,904.358 1107.57,879.833 1083.05,853.069 1060.95,824.27 1041.44,793.653 1024.68,761.454 1010.79,727.916 999.875,693.295 992.018,657.854 987.279,621.863 985.696,585.597 987.279,549.33 992.018,513.339 999.875,477.899 1010.79,443.278 1024.68,409.74 1041.44,377.54 1060.95,346.924 1083.05,318.124 1107.57,291.36 1134.34,266.836 1163.14,244.737 1193.75,225.232 1225.95,208.47 1259.49,194.578 1294.11,183.662 1329.55,175.805 1365.54,171.067 1401.81,169.484 \"/>\n",
       "<path clip-path=\"url(#clip102)\" d=\"M452.219 356.703 L453.007 270.057 L533.369 217.471 L613.083 251.438 L612.295 338.084 L531.932 390.671 L452.219 356.703  Z\" fill=\"#0000ff\" fill-rule=\"evenodd\" fill-opacity=\"0.5\"/>\n",
       "<polyline clip-path=\"url(#clip102)\" style=\"stroke:#000000; stroke-linecap:round; stroke-linejoin:round; stroke-width:4; stroke-opacity:1; fill:none\" points=\"452.219,356.703 453.007,270.057 533.369,217.471 613.083,251.438 612.295,338.084 531.932,390.671 452.219,356.703 \"/>\n",
       "<path clip-path=\"url(#clip102)\" d=\"M2114.47 693.634 L2095.54 528.268 L1930.17 547.198 L1949.1 712.564 L2114.47 693.634  Z\" fill=\"#0000ff\" fill-rule=\"evenodd\" fill-opacity=\"0.5\"/>\n",
       "<polyline clip-path=\"url(#clip102)\" style=\"stroke:#000000; stroke-linecap:round; stroke-linejoin:round; stroke-width:4; stroke-opacity:1; fill:none\" points=\"2114.47,693.634 2095.54,528.268 1930.17,547.198 1949.1,712.564 2114.47,693.634 \"/>\n",
       "<path clip-path=\"url(#clip102)\" d=\"M2062.13 417.248 L2081.28 251.909 L1947.84 152.671 L1795.24 218.772 L1776.09 384.112 L1909.53 483.35 L2062.13 417.248  Z\" fill=\"#0000ff\" fill-rule=\"evenodd\" fill-opacity=\"0.5\"/>\n",
       "<polyline clip-path=\"url(#clip102)\" style=\"stroke:#000000; stroke-linecap:round; stroke-linejoin:round; stroke-width:4; stroke-opacity:1; fill:none\" points=\"2062.13,417.248 2081.28,251.909 1947.84,152.671 1795.24,218.772 1776.09,384.112 1909.53,483.35 2062.13,417.248 \"/>\n",
       "<path clip-path=\"url(#clip102)\" d=\"M1098.82 137.035 L866.425 174.462 L952.594 339.401 L1117.53 253.233 L1098.82 137.035  Z\" fill=\"#0000ff\" fill-rule=\"evenodd\" fill-opacity=\"0.5\"/>\n",
       "<polyline clip-path=\"url(#clip102)\" style=\"stroke:#000000; stroke-linecap:round; stroke-linejoin:round; stroke-width:4; stroke-opacity:1; fill:none\" points=\"1098.82,137.035 866.425,174.462 952.594,339.401 1117.53,253.233 1098.82,137.035 \"/>\n",
       "<path clip-path=\"url(#clip102)\" d=\"M866.425 174.462 L776.338 725.42 L892.536 706.706 L952.594 339.401 L866.425 174.462  Z\" fill=\"#0000ff\" fill-rule=\"evenodd\" fill-opacity=\"0.5\"/>\n",
       "<polyline clip-path=\"url(#clip102)\" style=\"stroke:#000000; stroke-linecap:round; stroke-linejoin:round; stroke-width:4; stroke-opacity:1; fill:none\" points=\"866.425,174.462 776.338,725.42 892.536,706.706 952.594,339.401 866.425,174.462 \"/>\n",
       "<path clip-path=\"url(#clip102)\" d=\"M837.399 292.312 L867.141 128.546 L736.881 147.181 L837.399 292.312  Z\" fill=\"#0000ff\" fill-rule=\"evenodd\" fill-opacity=\"0.5\"/>\n",
       "<polyline clip-path=\"url(#clip102)\" style=\"stroke:#000000; stroke-linecap:round; stroke-linejoin:round; stroke-width:4; stroke-opacity:1; fill:none\" points=\"837.399,292.312 867.141,128.546 736.881,147.181 837.399,292.312 \"/>\n",
       "<path clip-path=\"url(#clip102)\" d=\"M1455.56 337.825 L1432.29 502.635 L1573.82 690.72 L1597.1 525.91 L1455.56 337.825  Z\" fill=\"#0000ff\" fill-rule=\"evenodd\" fill-opacity=\"0.5\"/>\n",
       "<polyline clip-path=\"url(#clip102)\" style=\"stroke:#000000; stroke-linecap:round; stroke-linejoin:round; stroke-width:4; stroke-opacity:1; fill:none\" points=\"1455.56,337.825 1432.29,502.635 1573.82,690.72 1597.1,525.91 1455.56,337.825 \"/>\n",
       "<path clip-path=\"url(#clip102)\" d=\"M1573.82 690.72 L1667.86 619.953 L1691.14 455.143 L1597.1 525.91 L1573.82 690.72  Z\" fill=\"#0000ff\" fill-rule=\"evenodd\" fill-opacity=\"0.5\"/>\n",
       "<polyline clip-path=\"url(#clip102)\" style=\"stroke:#000000; stroke-linecap:round; stroke-linejoin:round; stroke-width:4; stroke-opacity:1; fill:none\" points=\"1573.82,690.72 1667.86,619.953 1691.14,455.143 1597.1,525.91 1573.82,690.72 \"/>\n",
       "</svg>\n"
      ]
     },
     "metadata": {},
     "output_type": "display_data"
    }
   ],
   "source": [
    "plota_solucao(circ_r,lista_rotacionada,L, W, xP, yP, theta_P, xL, yL, alpha_L, xC, yC)"
   ]
  },
  {
   "cell_type": "markdown",
   "id": "7ead2c51",
   "metadata": {
    "slideshow": {
     "slide_type": "slide"
    }
   },
   "source": [
    "# Perguntas interessantes\n",
    "\n",
    "  - Como encontrar o _strip_ de lado mínimo? Ou o quadrado?\n",
    "  - O que acontece quando a reta fica quase vertical?\n",
    "  - Como fazer um ponto inicial melhor?"
   ]
  },
  {
   "cell_type": "markdown",
   "id": "36367b78",
   "metadata": {
    "slideshow": {
     "slide_type": "slide"
    }
   },
   "source": [
    "# Em ação!\n",
    "\n",
    "Para ser usável por um leigo, precisamos\n",
    "\n",
    "  - Uma interface com o usuário (usaremos o GeoGebra)\n",
    "  - Definir os parâmetros de entrada\n",
    "      - $W$ e $L$\n",
    "      - Raios dos círculos\n",
    "      - Vértices dos polígonos\n",
    "      - Quantidades de cada um :(\n",
    "  - Definir a saida (texto, imagem)"
   ]
  },
  {
   "cell_type": "markdown",
   "id": "5d97435b",
   "metadata": {
    "slideshow": {
     "slide_type": "subslide"
    }
   },
   "source": [
    "Para esse objetivo, criamos uma função `le_arquivo` que recebe um arquivo com as seguintes propriedades\n",
    "  - Cada linha ou tem um raio, um polígono convexo ou um vazio\n",
    "  - Um polígono irregular é definido por uma sequência de linhas de polígonos convexos seguida de um vazio\n",
    "  - Cada coluna ou tem apenas o raio ou então tem as coordenadas de um vértice no formato `(xx.xxx, xx.xxx)`\n",
    "  - As colunas são separadas por tabulações (`\\t`)\n",
    "\n",
    "Veja os arquivos `.csv` na pasta do GeoGebra"
   ]
  },
  {
   "cell_type": "markdown",
   "id": "5aff89c0",
   "metadata": {
    "slideshow": {
     "slide_type": "subslide"
    }
   },
   "source": [
    "Também criamos a função\n",
    "\n",
    "    resolve_o_problema(W, L, arquivo)\n",
    "\n",
    "que recebe as dimensões do retângulo e o arquivo de itens. Devolve o desenho, mas o correto seria as coordenadas, para que o usuário faça alguma coisa com a resposta."
   ]
  },
  {
   "cell_type": "code",
   "execution_count": 84,
   "id": "8f16c1c3",
   "metadata": {
    "slideshow": {
     "slide_type": "subslide"
    }
   },
   "outputs": [],
   "source": [
    "raios, P = le_arquivo(\"/tmp/ermac.csv\");"
   ]
  },
  {
   "cell_type": "code",
   "execution_count": 85,
   "id": "726075e4",
   "metadata": {
    "slideshow": {
     "slide_type": "fragment"
    }
   },
   "outputs": [
    {
     "data": {
      "text/plain": [
       "3-element Vector{Any}:\n",
       " 1.0\n",
       " 2.0\n",
       " 4.0"
      ]
     },
     "metadata": {},
     "output_type": "display_data"
    }
   ],
   "source": [
    "display(raios)"
   ]
  },
  {
   "cell_type": "code",
   "execution_count": 86,
   "id": "d351795a",
   "metadata": {
    "slideshow": {
     "slide_type": "fragment"
    }
   },
   "outputs": [
    {
     "data": {
      "image/png": "[encoded data removed]",
      "image/svg+xml": [
       "<?xml version=\"1.0\" encoding=\"utf-8\"?>\n",
       "<svg xmlns=\"http://www.w3.org/2000/svg\" xmlns:xlink=\"http://www.w3.org/1999/xlink\" width=\"600\" height=\"400\" viewBox=\"0 0 2400 1600\">\n",
       "<defs>\n",
       "  <clipPath id=\"clip310\">\n",
       "    <rect x=\"0\" y=\"0\" width=\"2400\" height=\"1600\"/>\n",
       "  </clipPath>\n",
       "</defs>\n",
       "<path clip-path=\"url(#clip310)\" d=\"M0 1600 L2400 1600 L2400 0 L0 0  Z\" fill=\"#ffffff\" fill-rule=\"evenodd\" fill-opacity=\"1\"/>\n",
       "<defs>\n",
       "  <clipPath id=\"clip311\">\n",
       "    <rect x=\"480\" y=\"0\" width=\"1681\" height=\"1600\"/>\n",
       "  </clipPath>\n",
       "</defs>\n",
       "<path clip-path=\"url(#clip310)\" d=\"M147.478 1486.45 L2352.76 1486.45 L2352.76 47.2441 L147.478 47.2441  Z\" fill=\"#ffffff\" fill-rule=\"evenodd\" fill-opacity=\"1\"/>\n",
       "<defs>\n",
       "  <clipPath id=\"clip312\">\n",
       "    <rect x=\"147\" y=\"47\" width=\"2206\" height=\"1440\"/>\n",
       "  </clipPath>\n",
       "</defs>\n",
       "<polyline clip-path=\"url(#clip312)\" style=\"stroke:#000000; stroke-linecap:round; stroke-linejoin:round; stroke-width:2; stroke-opacity:0.1; fill:none\" points=\"299.699,1486.45 299.699,47.2441 \"/>\n",
       "<polyline clip-path=\"url(#clip312)\" style=\"stroke:#000000; stroke-linecap:round; stroke-linejoin:round; stroke-width:2; stroke-opacity:0.1; fill:none\" points=\"842.795,1486.45 842.795,47.2441 \"/>\n",
       "<polyline clip-path=\"url(#clip312)\" style=\"stroke:#000000; stroke-linecap:round; stroke-linejoin:round; stroke-width:2; stroke-opacity:0.1; fill:none\" points=\"1385.89,1486.45 1385.89,47.2441 \"/>\n",
       "<polyline clip-path=\"url(#clip312)\" style=\"stroke:#000000; stroke-linecap:round; stroke-linejoin:round; stroke-width:2; stroke-opacity:0.1; fill:none\" points=\"1928.99,1486.45 1928.99,47.2441 \"/>\n",
       "<polyline clip-path=\"url(#clip312)\" style=\"stroke:#000000; stroke-linecap:round; stroke-linejoin:round; stroke-width:2; stroke-opacity:0.1; fill:none\" points=\"147.478,1445.72 2352.76,1445.72 \"/>\n",
       "<polyline clip-path=\"url(#clip312)\" style=\"stroke:#000000; stroke-linecap:round; stroke-linejoin:round; stroke-width:2; stroke-opacity:0.1; fill:none\" points=\"147.478,1174.17 2352.76,1174.17 \"/>\n",
       "<polyline clip-path=\"url(#clip312)\" style=\"stroke:#000000; stroke-linecap:round; stroke-linejoin:round; stroke-width:2; stroke-opacity:0.1; fill:none\" points=\"147.478,902.62 2352.76,902.62 \"/>\n",
       "<polyline clip-path=\"url(#clip312)\" style=\"stroke:#000000; stroke-linecap:round; stroke-linejoin:round; stroke-width:2; stroke-opacity:0.1; fill:none\" points=\"147.478,631.072 2352.76,631.072 \"/>\n",
       "<polyline clip-path=\"url(#clip312)\" style=\"stroke:#000000; stroke-linecap:round; stroke-linejoin:round; stroke-width:2; stroke-opacity:0.1; fill:none\" points=\"147.478,359.524 2352.76,359.524 \"/>\n",
       "<polyline clip-path=\"url(#clip312)\" style=\"stroke:#000000; stroke-linecap:round; stroke-linejoin:round; stroke-width:2; stroke-opacity:0.1; fill:none\" points=\"147.478,87.9763 2352.76,87.9763 \"/>\n",
       "<polyline clip-path=\"url(#clip310)\" style=\"stroke:#000000; stroke-linecap:round; stroke-linejoin:round; stroke-width:4; stroke-opacity:1; fill:none\" points=\"147.478,1486.45 2352.76,1486.45 \"/>\n",
       "<polyline clip-path=\"url(#clip310)\" style=\"stroke:#000000; stroke-linecap:round; stroke-linejoin:round; stroke-width:4; stroke-opacity:1; fill:none\" points=\"299.699,1486.45 299.699,1467.55 \"/>\n",
       "<polyline clip-path=\"url(#clip310)\" style=\"stroke:#000000; stroke-linecap:round; stroke-linejoin:round; stroke-width:4; stroke-opacity:1; fill:none\" points=\"842.795,1486.45 842.795,1467.55 \"/>\n",
       "<polyline clip-path=\"url(#clip310)\" style=\"stroke:#000000; stroke-linecap:round; stroke-linejoin:round; stroke-width:4; stroke-opacity:1; fill:none\" points=\"1385.89,1486.45 1385.89,1467.55 \"/>\n",
       "<polyline clip-path=\"url(#clip310)\" style=\"stroke:#000000; stroke-linecap:round; stroke-linejoin:round; stroke-width:4; stroke-opacity:1; fill:none\" points=\"1928.99,1486.45 1928.99,1467.55 \"/>\n",
       "<path clip-path=\"url(#clip310)\" d=\"M294.352 1544.91 L310.671 1544.91 L310.671 1548.85 L288.727 1548.85 L288.727 1544.91 Q291.389 1542.16 295.972 1537.53 Q300.579 1532.88 301.759 1531.53 Q304.005 1529.01 304.884 1527.27 Q305.787 1525.51 305.787 1523.82 Q305.787 1521.07 303.843 1519.33 Q301.922 1517.6 298.82 1517.6 Q296.621 1517.6 294.167 1518.36 Q291.736 1519.13 288.959 1520.68 L288.959 1515.95 Q291.783 1514.82 294.236 1514.24 Q296.69 1513.66 298.727 1513.66 Q304.097 1513.66 307.292 1516.35 Q310.486 1519.03 310.486 1523.52 Q310.486 1525.65 309.676 1527.57 Q308.889 1529.47 306.783 1532.07 Q306.204 1532.74 303.102 1535.95 Q300 1539.15 294.352 1544.91 Z\" fill=\"#000000\" fill-rule=\"nonzero\" fill-opacity=\"1\" /><path clip-path=\"url(#clip310)\" d=\"M845.804 1518.36 L833.999 1536.81 L845.804 1536.81 L845.804 1518.36 M844.577 1514.29 L850.457 1514.29 L850.457 1536.81 L855.388 1536.81 L855.388 1540.7 L850.457 1540.7 L850.457 1548.85 L845.804 1548.85 L845.804 1540.7 L830.203 1540.7 L830.203 1536.19 L844.577 1514.29 Z\" fill=\"#000000\" fill-rule=\"nonzero\" fill-opacity=\"1\" /><path clip-path=\"url(#clip310)\" d=\"M1386.3 1529.7 Q1383.15 1529.7 1381.3 1531.86 Q1379.47 1534.01 1379.47 1537.76 Q1379.47 1541.49 1381.3 1543.66 Q1383.15 1545.82 1386.3 1545.82 Q1389.44 1545.82 1391.27 1543.66 Q1393.12 1541.49 1393.12 1537.76 Q1393.12 1534.01 1391.27 1531.86 Q1389.44 1529.7 1386.3 1529.7 M1395.58 1515.05 L1395.58 1519.31 Q1393.82 1518.48 1392.01 1518.04 Q1390.23 1517.6 1388.47 1517.6 Q1383.84 1517.6 1381.39 1520.72 Q1378.96 1523.85 1378.61 1530.17 Q1379.98 1528.15 1382.04 1527.09 Q1384.1 1526 1386.57 1526 Q1391.78 1526 1394.79 1529.17 Q1397.82 1532.32 1397.82 1537.76 Q1397.82 1543.08 1394.68 1546.3 Q1391.53 1549.52 1386.3 1549.52 Q1380.3 1549.52 1377.13 1544.94 Q1373.96 1540.33 1373.96 1531.6 Q1373.96 1523.41 1377.85 1518.55 Q1381.74 1513.66 1388.29 1513.66 Q1390.05 1513.66 1391.83 1514.01 Q1393.63 1514.36 1395.58 1515.05 Z\" fill=\"#000000\" fill-rule=\"nonzero\" fill-opacity=\"1\" /><path clip-path=\"url(#clip310)\" d=\"M1928.99 1532.44 Q1925.65 1532.44 1923.73 1534.22 Q1921.83 1536 1921.83 1539.13 Q1921.83 1542.25 1923.73 1544.03 Q1925.65 1545.82 1928.99 1545.82 Q1932.32 1545.82 1934.24 1544.03 Q1936.16 1542.23 1936.16 1539.13 Q1936.16 1536 1934.24 1534.22 Q1932.34 1532.44 1928.99 1532.44 M1924.31 1530.45 Q1921.3 1529.7 1919.61 1527.64 Q1917.95 1525.58 1917.95 1522.62 Q1917.95 1518.48 1920.88 1516.07 Q1923.85 1513.66 1928.99 1513.66 Q1934.15 1513.66 1937.09 1516.07 Q1940.03 1518.48 1940.03 1522.62 Q1940.03 1525.58 1938.34 1527.64 Q1936.67 1529.7 1933.69 1530.45 Q1937.07 1531.23 1938.94 1533.52 Q1940.84 1535.82 1940.84 1539.13 Q1940.84 1544.15 1937.76 1546.83 Q1934.7 1549.52 1928.99 1549.52 Q1923.27 1549.52 1920.19 1546.83 Q1917.13 1544.15 1917.13 1539.13 Q1917.13 1535.82 1919.03 1533.52 Q1920.93 1531.23 1924.31 1530.45 M1922.6 1523.06 Q1922.6 1525.75 1924.26 1527.25 Q1925.95 1528.76 1928.99 1528.76 Q1932 1528.76 1933.69 1527.25 Q1935.4 1525.75 1935.4 1523.06 Q1935.4 1520.38 1933.69 1518.87 Q1932 1517.37 1928.99 1517.37 Q1925.95 1517.37 1924.26 1518.87 Q1922.6 1520.38 1922.6 1523.06 Z\" fill=\"#000000\" fill-rule=\"nonzero\" fill-opacity=\"1\" /><polyline clip-path=\"url(#clip310)\" style=\"stroke:#000000; stroke-linecap:round; stroke-linejoin:round; stroke-width:4; stroke-opacity:1; fill:none\" points=\"147.478,1486.45 147.478,47.2441 \"/>\n",
       "<polyline clip-path=\"url(#clip310)\" style=\"stroke:#000000; stroke-linecap:round; stroke-linejoin:round; stroke-width:4; stroke-opacity:1; fill:none\" points=\"147.478,1445.72 166.376,1445.72 \"/>\n",
       "<polyline clip-path=\"url(#clip310)\" style=\"stroke:#000000; stroke-linecap:round; stroke-linejoin:round; stroke-width:4; stroke-opacity:1; fill:none\" points=\"147.478,1174.17 166.376,1174.17 \"/>\n",
       "<polyline clip-path=\"url(#clip310)\" style=\"stroke:#000000; stroke-linecap:round; stroke-linejoin:round; stroke-width:4; stroke-opacity:1; fill:none\" points=\"147.478,902.62 166.376,902.62 \"/>\n",
       "<polyline clip-path=\"url(#clip310)\" style=\"stroke:#000000; stroke-linecap:round; stroke-linejoin:round; stroke-width:4; stroke-opacity:1; fill:none\" points=\"147.478,631.072 166.376,631.072 \"/>\n",
       "<polyline clip-path=\"url(#clip310)\" style=\"stroke:#000000; stroke-linecap:round; stroke-linejoin:round; stroke-width:4; stroke-opacity:1; fill:none\" points=\"147.478,359.524 166.376,359.524 \"/>\n",
       "<polyline clip-path=\"url(#clip310)\" style=\"stroke:#000000; stroke-linecap:round; stroke-linejoin:round; stroke-width:4; stroke-opacity:1; fill:none\" points=\"147.478,87.9763 166.376,87.9763 \"/>\n",
       "<path clip-path=\"url(#clip310)\" d=\"M50.9921 1446.17 L80.6679 1446.17 L80.6679 1450.1 L50.9921 1450.1 L50.9921 1446.17 Z\" fill=\"#000000\" fill-rule=\"nonzero\" fill-opacity=\"1\" /><path clip-path=\"url(#clip310)\" d=\"M91.5706 1459.06 L99.2095 1459.06 L99.2095 1432.69 L90.8993 1434.36 L90.8993 1430.1 L99.1632 1428.44 L103.839 1428.44 L103.839 1459.06 L111.478 1459.06 L111.478 1463 L91.5706 1463 L91.5706 1459.06 Z\" fill=\"#000000\" fill-rule=\"nonzero\" fill-opacity=\"1\" /><path clip-path=\"url(#clip310)\" d=\"M99.5335 1159.97 Q95.9224 1159.97 94.0937 1163.53 Q92.2882 1167.07 92.2882 1174.2 Q92.2882 1181.31 94.0937 1184.87 Q95.9224 1188.42 99.5335 1188.42 Q103.168 1188.42 104.973 1184.87 Q106.802 1181.31 106.802 1174.2 Q106.802 1167.07 104.973 1163.53 Q103.168 1159.97 99.5335 1159.97 M99.5335 1156.26 Q105.344 1156.26 108.399 1160.87 Q111.478 1165.45 111.478 1174.2 Q111.478 1182.93 108.399 1187.54 Q105.344 1192.12 99.5335 1192.12 Q93.7234 1192.12 90.6447 1187.54 Q87.5892 1182.93 87.5892 1174.2 Q87.5892 1165.45 90.6447 1160.87 Q93.7234 1156.26 99.5335 1156.26 Z\" fill=\"#000000\" fill-rule=\"nonzero\" fill-opacity=\"1\" /><path clip-path=\"url(#clip310)\" d=\"M91.5706 915.965 L99.2095 915.965 L99.2095 889.599 L90.8993 891.266 L90.8993 887.007 L99.1632 885.34 L103.839 885.34 L103.839 915.965 L111.478 915.965 L111.478 919.9 L91.5706 919.9 L91.5706 915.965 Z\" fill=\"#000000\" fill-rule=\"nonzero\" fill-opacity=\"1\" /><path clip-path=\"url(#clip310)\" d=\"M95.1586 644.417 L111.478 644.417 L111.478 648.352 L89.5336 648.352 L89.5336 644.417 Q92.1956 641.662 96.7789 637.033 Q101.385 632.38 102.566 631.037 Q104.811 628.514 105.691 626.778 Q106.594 625.019 106.594 623.329 Q106.594 620.574 104.649 618.838 Q102.728 617.102 99.6261 617.102 Q97.4271 617.102 94.9734 617.866 Q92.5428 618.63 89.7651 620.181 L89.7651 615.459 Q92.5891 614.324 95.0428 613.746 Q97.4965 613.167 99.5335 613.167 Q104.904 613.167 108.098 615.852 Q111.293 618.537 111.293 623.028 Q111.293 625.158 110.483 627.079 Q109.696 628.977 107.589 631.57 Q107.01 632.241 103.909 635.459 Q100.807 638.653 95.1586 644.417 Z\" fill=\"#000000\" fill-rule=\"nonzero\" fill-opacity=\"1\" /><path clip-path=\"url(#clip310)\" d=\"M104.348 358.17 Q107.705 358.888 109.58 361.156 Q111.478 363.425 111.478 366.758 Q111.478 371.874 107.959 374.675 Q104.441 377.475 97.9595 377.475 Q95.7836 377.475 93.4688 377.036 Q91.1771 376.619 88.7234 375.762 L88.7234 371.249 Q90.6678 372.383 92.9826 372.962 Q95.2974 373.54 97.8206 373.54 Q102.219 373.54 104.51 371.804 Q106.825 370.068 106.825 366.758 Q106.825 363.702 104.672 361.989 Q102.543 360.253 98.7234 360.253 L94.6956 360.253 L94.6956 356.411 L98.9085 356.411 Q102.358 356.411 104.186 355.045 Q106.015 353.656 106.015 351.064 Q106.015 348.402 104.117 346.99 Q102.242 345.554 98.7234 345.554 Q96.8021 345.554 94.603 345.971 Q92.4039 346.388 89.7651 347.267 L89.7651 343.101 Q92.4271 342.36 94.7419 341.99 Q97.0798 341.619 99.14 341.619 Q104.464 341.619 107.566 344.05 Q110.668 346.457 110.668 350.577 Q110.668 353.448 109.024 355.439 Q107.381 357.406 104.348 358.17 Z\" fill=\"#000000\" fill-rule=\"nonzero\" fill-opacity=\"1\" /><path clip-path=\"url(#clip310)\" d=\"M101.895 74.7703 L90.0891 93.2193 L101.895 93.2193 L101.895 74.7703 M100.668 70.6963 L106.547 70.6963 L106.547 93.2193 L111.478 93.2193 L111.478 97.1082 L106.547 97.1082 L106.547 105.256 L101.895 105.256 L101.895 97.1082 L86.2929 97.1082 L86.2929 92.5943 L100.668 70.6963 Z\" fill=\"#000000\" fill-rule=\"nonzero\" fill-opacity=\"1\" /><path clip-path=\"url(#clip312)\" d=\"M842.795 87.9763 L1657.44 87.9763 L1657.44 631.072 L1114.34 631.072 L842.795 87.9763  Z\" fill=\"#1e90ff\" fill-rule=\"evenodd\" fill-opacity=\"1\"/>\n",
       "<polyline clip-path=\"url(#clip312)\" style=\"stroke:#000000; stroke-linecap:round; stroke-linejoin:round; stroke-width:12; stroke-opacity:1; fill:none\" points=\"842.795,87.9763 1657.44,87.9763 1657.44,631.072 1114.34,631.072 842.795,87.9763 \"/>\n",
       "<path clip-path=\"url(#clip312)\" d=\"M842.795 87.9763 L842.795 1445.72 L1114.34 1445.72 L1112.67 1066.09 L1114.34 631.072 L842.795 87.9763  Z\" fill=\"#1e90ff\" fill-rule=\"evenodd\" fill-opacity=\"1\"/>\n",
       "<polyline clip-path=\"url(#clip312)\" style=\"stroke:#000000; stroke-linecap:round; stroke-linejoin:round; stroke-width:12; stroke-opacity:1; fill:none\" points=\"842.795,87.9763 842.795,1445.72 1114.34,1445.72 1112.67,1066.09 1114.34,631.072 842.795,87.9763 \"/>\n",
       "<path clip-path=\"url(#clip312)\" d=\"M1114.34 631.072 L1657.44 1445.72 L1385.89 1445.72 L1112.67 1066.09 L1114.34 631.072  Z\" fill=\"#1e90ff\" fill-rule=\"evenodd\" fill-opacity=\"1\"/>\n",
       "<polyline clip-path=\"url(#clip312)\" style=\"stroke:#000000; stroke-linecap:round; stroke-linejoin:round; stroke-width:12; stroke-opacity:1; fill:none\" points=\"1114.34,631.072 1657.44,1445.72 1385.89,1445.72 1112.67,1066.09 1114.34,631.072 \"/>\n",
       "</svg>\n"
      ],
      "text/html": [
       "<?xml version=\"1.0\" encoding=\"utf-8\"?>\n",
       "<svg xmlns=\"http://www.w3.org/2000/svg\" xmlns:xlink=\"http://www.w3.org/1999/xlink\" width=\"600\" height=\"400\" viewBox=\"0 0 2400 1600\">\n",
       "<defs>\n",
       "  <clipPath id=\"clip360\">\n",
       "    <rect x=\"0\" y=\"0\" width=\"2400\" height=\"1600\"/>\n",
       "  </clipPath>\n",
       "</defs>\n",
       "<path clip-path=\"url(#clip360)\" d=\"M0 1600 L2400 1600 L2400 0 L0 0  Z\" fill=\"#ffffff\" fill-rule=\"evenodd\" fill-opacity=\"1\"/>\n",
       "<defs>\n",
       "  <clipPath id=\"clip361\">\n",
       "    <rect x=\"480\" y=\"0\" width=\"1681\" height=\"1600\"/>\n",
       "  </clipPath>\n",
       "</defs>\n",
       "<path clip-path=\"url(#clip360)\" d=\"M147.478 1486.45 L2352.76 1486.45 L2352.76 47.2441 L147.478 47.2441  Z\" fill=\"#ffffff\" fill-rule=\"evenodd\" fill-opacity=\"1\"/>\n",
       "<defs>\n",
       "  <clipPath id=\"clip362\">\n",
       "    <rect x=\"147\" y=\"47\" width=\"2206\" height=\"1440\"/>\n",
       "  </clipPath>\n",
       "</defs>\n",
       "<polyline clip-path=\"url(#clip362)\" style=\"stroke:#000000; stroke-linecap:round; stroke-linejoin:round; stroke-width:2; stroke-opacity:0.1; fill:none\" points=\"299.699,1486.45 299.699,47.2441 \"/>\n",
       "<polyline clip-path=\"url(#clip362)\" style=\"stroke:#000000; stroke-linecap:round; stroke-linejoin:round; stroke-width:2; stroke-opacity:0.1; fill:none\" points=\"842.795,1486.45 842.795,47.2441 \"/>\n",
       "<polyline clip-path=\"url(#clip362)\" style=\"stroke:#000000; stroke-linecap:round; stroke-linejoin:round; stroke-width:2; stroke-opacity:0.1; fill:none\" points=\"1385.89,1486.45 1385.89,47.2441 \"/>\n",
       "<polyline clip-path=\"url(#clip362)\" style=\"stroke:#000000; stroke-linecap:round; stroke-linejoin:round; stroke-width:2; stroke-opacity:0.1; fill:none\" points=\"1928.99,1486.45 1928.99,47.2441 \"/>\n",
       "<polyline clip-path=\"url(#clip362)\" style=\"stroke:#000000; stroke-linecap:round; stroke-linejoin:round; stroke-width:2; stroke-opacity:0.1; fill:none\" points=\"147.478,1445.72 2352.76,1445.72 \"/>\n",
       "<polyline clip-path=\"url(#clip362)\" style=\"stroke:#000000; stroke-linecap:round; stroke-linejoin:round; stroke-width:2; stroke-opacity:0.1; fill:none\" points=\"147.478,1174.17 2352.76,1174.17 \"/>\n",
       "<polyline clip-path=\"url(#clip362)\" style=\"stroke:#000000; stroke-linecap:round; stroke-linejoin:round; stroke-width:2; stroke-opacity:0.1; fill:none\" points=\"147.478,902.62 2352.76,902.62 \"/>\n",
       "<polyline clip-path=\"url(#clip362)\" style=\"stroke:#000000; stroke-linecap:round; stroke-linejoin:round; stroke-width:2; stroke-opacity:0.1; fill:none\" points=\"147.478,631.072 2352.76,631.072 \"/>\n",
       "<polyline clip-path=\"url(#clip362)\" style=\"stroke:#000000; stroke-linecap:round; stroke-linejoin:round; stroke-width:2; stroke-opacity:0.1; fill:none\" points=\"147.478,359.524 2352.76,359.524 \"/>\n",
       "<polyline clip-path=\"url(#clip362)\" style=\"stroke:#000000; stroke-linecap:round; stroke-linejoin:round; stroke-width:2; stroke-opacity:0.1; fill:none\" points=\"147.478,87.9763 2352.76,87.9763 \"/>\n",
       "<polyline clip-path=\"url(#clip360)\" style=\"stroke:#000000; stroke-linecap:round; stroke-linejoin:round; stroke-width:4; stroke-opacity:1; fill:none\" points=\"147.478,1486.45 2352.76,1486.45 \"/>\n",
       "<polyline clip-path=\"url(#clip360)\" style=\"stroke:#000000; stroke-linecap:round; stroke-linejoin:round; stroke-width:4; stroke-opacity:1; fill:none\" points=\"299.699,1486.45 299.699,1467.55 \"/>\n",
       "<polyline clip-path=\"url(#clip360)\" style=\"stroke:#000000; stroke-linecap:round; stroke-linejoin:round; stroke-width:4; stroke-opacity:1; fill:none\" points=\"842.795,1486.45 842.795,1467.55 \"/>\n",
       "<polyline clip-path=\"url(#clip360)\" style=\"stroke:#000000; stroke-linecap:round; stroke-linejoin:round; stroke-width:4; stroke-opacity:1; fill:none\" points=\"1385.89,1486.45 1385.89,1467.55 \"/>\n",
       "<polyline clip-path=\"url(#clip360)\" style=\"stroke:#000000; stroke-linecap:round; stroke-linejoin:round; stroke-width:4; stroke-opacity:1; fill:none\" points=\"1928.99,1486.45 1928.99,1467.55 \"/>\n",
       "<path clip-path=\"url(#clip360)\" d=\"M294.352 1544.91 L310.671 1544.91 L310.671 1548.85 L288.727 1548.85 L288.727 1544.91 Q291.389 1542.16 295.972 1537.53 Q300.579 1532.88 301.759 1531.53 Q304.005 1529.01 304.884 1527.27 Q305.787 1525.51 305.787 1523.82 Q305.787 1521.07 303.843 1519.33 Q301.922 1517.6 298.82 1517.6 Q296.621 1517.6 294.167 1518.36 Q291.736 1519.13 288.959 1520.68 L288.959 1515.95 Q291.783 1514.82 294.236 1514.24 Q296.69 1513.66 298.727 1513.66 Q304.097 1513.66 307.292 1516.35 Q310.486 1519.03 310.486 1523.52 Q310.486 1525.65 309.676 1527.57 Q308.889 1529.47 306.783 1532.07 Q306.204 1532.74 303.102 1535.95 Q300 1539.15 294.352 1544.91 Z\" fill=\"#000000\" fill-rule=\"nonzero\" fill-opacity=\"1\" /><path clip-path=\"url(#clip360)\" d=\"M845.804 1518.36 L833.999 1536.81 L845.804 1536.81 L845.804 1518.36 M844.577 1514.29 L850.457 1514.29 L850.457 1536.81 L855.388 1536.81 L855.388 1540.7 L850.457 1540.7 L850.457 1548.85 L845.804 1548.85 L845.804 1540.7 L830.203 1540.7 L830.203 1536.19 L844.577 1514.29 Z\" fill=\"#000000\" fill-rule=\"nonzero\" fill-opacity=\"1\" /><path clip-path=\"url(#clip360)\" d=\"M1386.3 1529.7 Q1383.15 1529.7 1381.3 1531.86 Q1379.47 1534.01 1379.47 1537.76 Q1379.47 1541.49 1381.3 1543.66 Q1383.15 1545.82 1386.3 1545.82 Q1389.44 1545.82 1391.27 1543.66 Q1393.12 1541.49 1393.12 1537.76 Q1393.12 1534.01 1391.27 1531.86 Q1389.44 1529.7 1386.3 1529.7 M1395.58 1515.05 L1395.58 1519.31 Q1393.82 1518.48 1392.01 1518.04 Q1390.23 1517.6 1388.47 1517.6 Q1383.84 1517.6 1381.39 1520.72 Q1378.96 1523.85 1378.61 1530.17 Q1379.98 1528.15 1382.04 1527.09 Q1384.1 1526 1386.57 1526 Q1391.78 1526 1394.79 1529.17 Q1397.82 1532.32 1397.82 1537.76 Q1397.82 1543.08 1394.68 1546.3 Q1391.53 1549.52 1386.3 1549.52 Q1380.3 1549.52 1377.13 1544.94 Q1373.96 1540.33 1373.96 1531.6 Q1373.96 1523.41 1377.85 1518.55 Q1381.74 1513.66 1388.29 1513.66 Q1390.05 1513.66 1391.83 1514.01 Q1393.63 1514.36 1395.58 1515.05 Z\" fill=\"#000000\" fill-rule=\"nonzero\" fill-opacity=\"1\" /><path clip-path=\"url(#clip360)\" d=\"M1928.99 1532.44 Q1925.65 1532.44 1923.73 1534.22 Q1921.83 1536 1921.83 1539.13 Q1921.83 1542.25 1923.73 1544.03 Q1925.65 1545.82 1928.99 1545.82 Q1932.32 1545.82 1934.24 1544.03 Q1936.16 1542.23 1936.16 1539.13 Q1936.16 1536 1934.24 1534.22 Q1932.34 1532.44 1928.99 1532.44 M1924.31 1530.45 Q1921.3 1529.7 1919.61 1527.64 Q1917.95 1525.58 1917.95 1522.62 Q1917.95 1518.48 1920.88 1516.07 Q1923.85 1513.66 1928.99 1513.66 Q1934.15 1513.66 1937.09 1516.07 Q1940.03 1518.48 1940.03 1522.62 Q1940.03 1525.58 1938.34 1527.64 Q1936.67 1529.7 1933.69 1530.45 Q1937.07 1531.23 1938.94 1533.52 Q1940.84 1535.82 1940.84 1539.13 Q1940.84 1544.15 1937.76 1546.83 Q1934.7 1549.52 1928.99 1549.52 Q1923.27 1549.52 1920.19 1546.83 Q1917.13 1544.15 1917.13 1539.13 Q1917.13 1535.82 1919.03 1533.52 Q1920.93 1531.23 1924.31 1530.45 M1922.6 1523.06 Q1922.6 1525.75 1924.26 1527.25 Q1925.95 1528.76 1928.99 1528.76 Q1932 1528.76 1933.69 1527.25 Q1935.4 1525.75 1935.4 1523.06 Q1935.4 1520.38 1933.69 1518.87 Q1932 1517.37 1928.99 1517.37 Q1925.95 1517.37 1924.26 1518.87 Q1922.6 1520.38 1922.6 1523.06 Z\" fill=\"#000000\" fill-rule=\"nonzero\" fill-opacity=\"1\" /><polyline clip-path=\"url(#clip360)\" style=\"stroke:#000000; stroke-linecap:round; stroke-linejoin:round; stroke-width:4; stroke-opacity:1; fill:none\" points=\"147.478,1486.45 147.478,47.2441 \"/>\n",
       "<polyline clip-path=\"url(#clip360)\" style=\"stroke:#000000; stroke-linecap:round; stroke-linejoin:round; stroke-width:4; stroke-opacity:1; fill:none\" points=\"147.478,1445.72 166.376,1445.72 \"/>\n",
       "<polyline clip-path=\"url(#clip360)\" style=\"stroke:#000000; stroke-linecap:round; stroke-linejoin:round; stroke-width:4; stroke-opacity:1; fill:none\" points=\"147.478,1174.17 166.376,1174.17 \"/>\n",
       "<polyline clip-path=\"url(#clip360)\" style=\"stroke:#000000; stroke-linecap:round; stroke-linejoin:round; stroke-width:4; stroke-opacity:1; fill:none\" points=\"147.478,902.62 166.376,902.62 \"/>\n",
       "<polyline clip-path=\"url(#clip360)\" style=\"stroke:#000000; stroke-linecap:round; stroke-linejoin:round; stroke-width:4; stroke-opacity:1; fill:none\" points=\"147.478,631.072 166.376,631.072 \"/>\n",
       "<polyline clip-path=\"url(#clip360)\" style=\"stroke:#000000; stroke-linecap:round; stroke-linejoin:round; stroke-width:4; stroke-opacity:1; fill:none\" points=\"147.478,359.524 166.376,359.524 \"/>\n",
       "<polyline clip-path=\"url(#clip360)\" style=\"stroke:#000000; stroke-linecap:round; stroke-linejoin:round; stroke-width:4; stroke-opacity:1; fill:none\" points=\"147.478,87.9763 166.376,87.9763 \"/>\n",
       "<path clip-path=\"url(#clip360)\" d=\"M50.9921 1446.17 L80.6679 1446.17 L80.6679 1450.1 L50.9921 1450.1 L50.9921 1446.17 Z\" fill=\"#000000\" fill-rule=\"nonzero\" fill-opacity=\"1\" /><path clip-path=\"url(#clip360)\" d=\"M91.5706 1459.06 L99.2095 1459.06 L99.2095 1432.69 L90.8993 1434.36 L90.8993 1430.1 L99.1632 1428.44 L103.839 1428.44 L103.839 1459.06 L111.478 1459.06 L111.478 1463 L91.5706 1463 L91.5706 1459.06 Z\" fill=\"#000000\" fill-rule=\"nonzero\" fill-opacity=\"1\" /><path clip-path=\"url(#clip360)\" d=\"M99.5335 1159.97 Q95.9224 1159.97 94.0937 1163.53 Q92.2882 1167.07 92.2882 1174.2 Q92.2882 1181.31 94.0937 1184.87 Q95.9224 1188.42 99.5335 1188.42 Q103.168 1188.42 104.973 1184.87 Q106.802 1181.31 106.802 1174.2 Q106.802 1167.07 104.973 1163.53 Q103.168 1159.97 99.5335 1159.97 M99.5335 1156.26 Q105.344 1156.26 108.399 1160.87 Q111.478 1165.45 111.478 1174.2 Q111.478 1182.93 108.399 1187.54 Q105.344 1192.12 99.5335 1192.12 Q93.7234 1192.12 90.6447 1187.54 Q87.5892 1182.93 87.5892 1174.2 Q87.5892 1165.45 90.6447 1160.87 Q93.7234 1156.26 99.5335 1156.26 Z\" fill=\"#000000\" fill-rule=\"nonzero\" fill-opacity=\"1\" /><path clip-path=\"url(#clip360)\" d=\"M91.5706 915.965 L99.2095 915.965 L99.2095 889.599 L90.8993 891.266 L90.8993 887.007 L99.1632 885.34 L103.839 885.34 L103.839 915.965 L111.478 915.965 L111.478 919.9 L91.5706 919.9 L91.5706 915.965 Z\" fill=\"#000000\" fill-rule=\"nonzero\" fill-opacity=\"1\" /><path clip-path=\"url(#clip360)\" d=\"M95.1586 644.417 L111.478 644.417 L111.478 648.352 L89.5336 648.352 L89.5336 644.417 Q92.1956 641.662 96.7789 637.033 Q101.385 632.38 102.566 631.037 Q104.811 628.514 105.691 626.778 Q106.594 625.019 106.594 623.329 Q106.594 620.574 104.649 618.838 Q102.728 617.102 99.6261 617.102 Q97.4271 617.102 94.9734 617.866 Q92.5428 618.63 89.7651 620.181 L89.7651 615.459 Q92.5891 614.324 95.0428 613.746 Q97.4965 613.167 99.5335 613.167 Q104.904 613.167 108.098 615.852 Q111.293 618.537 111.293 623.028 Q111.293 625.158 110.483 627.079 Q109.696 628.977 107.589 631.57 Q107.01 632.241 103.909 635.459 Q100.807 638.653 95.1586 644.417 Z\" fill=\"#000000\" fill-rule=\"nonzero\" fill-opacity=\"1\" /><path clip-path=\"url(#clip360)\" d=\"M104.348 358.17 Q107.705 358.888 109.58 361.156 Q111.478 363.425 111.478 366.758 Q111.478 371.874 107.959 374.675 Q104.441 377.475 97.9595 377.475 Q95.7836 377.475 93.4688 377.036 Q91.1771 376.619 88.7234 375.762 L88.7234 371.249 Q90.6678 372.383 92.9826 372.962 Q95.2974 373.54 97.8206 373.54 Q102.219 373.54 104.51 371.804 Q106.825 370.068 106.825 366.758 Q106.825 363.702 104.672 361.989 Q102.543 360.253 98.7234 360.253 L94.6956 360.253 L94.6956 356.411 L98.9085 356.411 Q102.358 356.411 104.186 355.045 Q106.015 353.656 106.015 351.064 Q106.015 348.402 104.117 346.99 Q102.242 345.554 98.7234 345.554 Q96.8021 345.554 94.603 345.971 Q92.4039 346.388 89.7651 347.267 L89.7651 343.101 Q92.4271 342.36 94.7419 341.99 Q97.0798 341.619 99.14 341.619 Q104.464 341.619 107.566 344.05 Q110.668 346.457 110.668 350.577 Q110.668 353.448 109.024 355.439 Q107.381 357.406 104.348 358.17 Z\" fill=\"#000000\" fill-rule=\"nonzero\" fill-opacity=\"1\" /><path clip-path=\"url(#clip360)\" d=\"M101.895 74.7703 L90.0891 93.2193 L101.895 93.2193 L101.895 74.7703 M100.668 70.6963 L106.547 70.6963 L106.547 93.2193 L111.478 93.2193 L111.478 97.1082 L106.547 97.1082 L106.547 105.256 L101.895 105.256 L101.895 97.1082 L86.2929 97.1082 L86.2929 92.5943 L100.668 70.6963 Z\" fill=\"#000000\" fill-rule=\"nonzero\" fill-opacity=\"1\" /><path clip-path=\"url(#clip362)\" d=\"M842.795 87.9763 L1657.44 87.9763 L1657.44 631.072 L1114.34 631.072 L842.795 87.9763  Z\" fill=\"#1e90ff\" fill-rule=\"evenodd\" fill-opacity=\"1\"/>\n",
       "<polyline clip-path=\"url(#clip362)\" style=\"stroke:#000000; stroke-linecap:round; stroke-linejoin:round; stroke-width:12; stroke-opacity:1; fill:none\" points=\"842.795,87.9763 1657.44,87.9763 1657.44,631.072 1114.34,631.072 842.795,87.9763 \"/>\n",
       "<path clip-path=\"url(#clip362)\" d=\"M842.795 87.9763 L842.795 1445.72 L1114.34 1445.72 L1112.67 1066.09 L1114.34 631.072 L842.795 87.9763  Z\" fill=\"#1e90ff\" fill-rule=\"evenodd\" fill-opacity=\"1\"/>\n",
       "<polyline clip-path=\"url(#clip362)\" style=\"stroke:#000000; stroke-linecap:round; stroke-linejoin:round; stroke-width:12; stroke-opacity:1; fill:none\" points=\"842.795,87.9763 842.795,1445.72 1114.34,1445.72 1112.67,1066.09 1114.34,631.072 842.795,87.9763 \"/>\n",
       "<path clip-path=\"url(#clip362)\" d=\"M1114.34 631.072 L1657.44 1445.72 L1385.89 1445.72 L1112.67 1066.09 L1114.34 631.072  Z\" fill=\"#1e90ff\" fill-rule=\"evenodd\" fill-opacity=\"1\"/>\n",
       "<polyline clip-path=\"url(#clip362)\" style=\"stroke:#000000; stroke-linecap:round; stroke-linejoin:round; stroke-width:12; stroke-opacity:1; fill:none\" points=\"1114.34,631.072 1657.44,1445.72 1385.89,1445.72 1112.67,1066.09 1114.34,631.072 \"/>\n",
       "</svg>\n"
      ]
     },
     "metadata": {},
     "output_type": "display_data"
    }
   ],
   "source": [
    "plot(uniao_poligonos(P[2]), c=:dodgerblue, lc=:black, lw=3, label=false, aspect_ratio=true)"
   ]
  },
  {
   "cell_type": "code",
   "execution_count": null,
   "id": "f0aa1c4a",
   "metadata": {
    "slideshow": {
     "slide_type": "subslide"
    }
   },
   "outputs": [],
   "source": [
    "resolve_o_problema(20, 20, \"/tmp/ermac.csv\")"
   ]
  }
 ],
 "metadata": {
  "kernelspec": {
   "display_name": "Julia 1.10.7",
   "language": "julia",
   "name": "julia-1.10"
  },
  "language_info": {
   "file_extension": ".jl",
   "mimetype": "application/julia",
   "name": "julia",
   "version": "1.10.7"
  }
 },
 "nbformat": 4,
 "nbformat_minor": 5
}
