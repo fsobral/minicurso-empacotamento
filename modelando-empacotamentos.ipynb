{
 "cells": [
  {
   "cell_type": "code",
   "execution_count": 17,
   "id": "54e6c8f1",
   "metadata": {},
   "outputs": [
    {
     "name": "stderr",
     "output_type": "stream",
     "text": [
      "\u001b[32m\u001b[1m  Activating\u001b[22m\u001b[39m project at `~/personal/working/minicurso-empacotamento/ermacpr25`\n"
     ]
    }
   ],
   "source": [
    "using Pkg\n",
    "\n",
    "Pkg.activate(\"ermacpr25\")\n",
    "Pkg.instantiate()"
   ]
  },
  {
   "cell_type": "code",
   "execution_count": 2,
   "id": "3a3d1087",
   "metadata": {},
   "outputs": [],
   "source": [
    "using LinearAlgebra, Plots"
   ]
  },
  {
   "cell_type": "code",
   "execution_count": 10,
   "id": "262ff2f5",
   "metadata": {},
   "outputs": [
    {
     "data": {
      "text/plain": [
       "plota_solucao"
      ]
     },
     "metadata": {},
     "output_type": "display_data"
    }
   ],
   "source": [
    "include(\"ermacpr25/src/ermacpr25.jl\")"
   ]
  },
  {
   "cell_type": "markdown",
   "id": "a1ad9dae-c258-4562-9bdb-34c458b84df0",
   "metadata": {
    "editable": true,
    "slideshow": {
     "slide_type": "subslide"
    },
    "tags": []
   },
   "source": [
    "# O que é um problema de empacotamento?"
   ]
  },
  {
   "cell_type": "markdown",
   "id": "360c4415",
   "metadata": {
    "slideshow": {
     "slide_type": "subslide"
    }
   },
   "source": [
    "## Uma definição simples\n",
    "\n",
    "Em problemas de empacotamento, desejamos **alocar** objetos em **contêineres**."
   ]
  },
  {
   "cell_type": "markdown",
   "id": "15becfaf",
   "metadata": {
    "slideshow": {
     "slide_type": "subslide"
    }
   },
   "source": [
    "Problemas de empacotamento aparecem em diversas áreas\n",
    "\n",
    "  - Alocação de objetos em caixas\n",
    "  - Alocação de objetos em caminhões\n",
    "  - Cortes de peças\n",
    "  - Simulações com proteínas\n",
    "  - Organização de ambientes\n",
    "  - Muito, muito mais"
   ]
  },
  {
   "cell_type": "markdown",
   "id": "7395c5cf",
   "metadata": {
    "slideshow": {
     "slide_type": "subslide"
    }
   },
   "source": [
    "## Mais informações\n",
    "\n",
    "  - HIFI, Mhand; M′ HALLAH, Rym. **A literature review on circle and sphere packing problems: Models and methodologies**. Advances in Operations Research, v. 2009, n. 1, p. 150624, 2009\n",
    "  - LEAO, Aline AS et al. **Irregular packing problems: A review of mathematical models**. European Journal of Operational Research, v. 282, n. 3, p. 803-822, 2020\n",
    "  - E. Spetch, **Packomania**, `http://packomania.com/`, 2025"
   ]
  },
  {
   "cell_type": "markdown",
   "id": "ecf33b30",
   "metadata": {
    "slideshow": {
     "slide_type": "subslide"
    }
   },
   "source": [
    "## Empacotamento de círculos e esferas\n",
    "\n",
    "![circle-packing](figures/circle-packing.jpeg)"
   ]
  },
  {
   "cell_type": "markdown",
   "id": "52d947d0",
   "metadata": {
    "slideshow": {
     "slide_type": "fragment"
    }
   },
   "source": [
    "![sphere-packing](figures/sphere-packing.jpeg)"
   ]
  },
  {
   "cell_type": "markdown",
   "id": "3e034db9",
   "metadata": {
    "slideshow": {
     "slide_type": "fragment"
    }
   },
   "source": [
    "### Sala Planejada\n",
    "\n",
    "![sala-planejada](figures/sala-planejada.png)"
   ]
  },
  {
   "cell_type": "markdown",
   "id": "de6fc2cd",
   "metadata": {
    "slideshow": {
     "slide_type": "fragment"
    }
   },
   "source": [
    "### Empacotamento de triângulos\n",
    "\n",
    "![triangle-packing](figures/triangle-packing.png)"
   ]
  },
  {
   "cell_type": "markdown",
   "id": "af1cc0a9",
   "metadata": {
    "slideshow": {
     "slide_type": "fragment"
    }
   },
   "source": [
    "### Empacotamento em 2 níveis\n",
    "\n",
    "![bilevel](figures/padeiro1.jpg)"
   ]
  },
  {
   "cell_type": "markdown",
   "id": "be0e197d",
   "metadata": {
    "slideshow": {
     "slide_type": "fragment"
    }
   },
   "source": [
    "### Polígonos regulares ou irregulares\n",
    "\n",
    "![irregular](figures/irregular-packing.jpg)"
   ]
  },
  {
   "cell_type": "markdown",
   "id": "22fc06f5-db81-497c-8163-7cc4154f3bc5",
   "metadata": {
    "editable": true,
    "slideshow": {
     "slide_type": "subslide"
    },
    "tags": []
   },
   "source": [
    "### Definição do problema\n",
    "\n",
    "  - Temos um conjunto com $N$ itens\n",
    "      - Círculos\n",
    "      - Quadrados\n",
    "      - Polígonos\n",
    "      - Esferas\n",
    "      - Elipsoides\n",
    "      - **Triângulos**"
   ]
  },
  {
   "cell_type": "markdown",
   "id": "0f43a860-d359-4621-ab60-d2e0de4c2bb6",
   "metadata": {
    "editable": true,
    "slideshow": {
     "slide_type": "fragment"
    },
    "tags": []
   },
   "source": [
    "  - Temos um contêiner\n",
    "      - Círculos, esferas\n",
    "      - Quadrados, cubos\n",
    "      - Retângulos, _strips_\n",
    "      - Polígonos"
   ]
  },
  {
   "cell_type": "markdown",
   "id": "7379eb1a-71b6-46a6-91e7-0ecaeda880dc",
   "metadata": {
    "editable": true,
    "slideshow": {
     "slide_type": "fragment"
    },
    "tags": []
   },
   "source": [
    "  - Devemos **alocar** o máximo de itens no contêiner\n",
    "  - Devemos encontrar o \"menor\" contêiner que os contém\n",
    "  - Podemos ter objetos idênticos ou não\n",
    "  - Não pode haver **sobreposição**"
   ]
  },
  {
   "cell_type": "markdown",
   "id": "ec7dc6d3",
   "metadata": {
    "slideshow": {
     "slide_type": "fragment"
    }
   },
   "source": [
    "$$\n",
    "\\begin{array}{ll}\n",
    "\\min & \\text{área, perímetro, nada \\dots} \\\\\n",
    "\\text{suj. a} & \\text{Não sobreposição} \\\\\n",
    "& \\text{Pertinência} \\\\\n",
    "\\end{array}\n",
    "$$"
   ]
  },
  {
   "cell_type": "markdown",
   "id": "565d0c75-0df4-4b8d-b075-fdce6564b7da",
   "metadata": {
    "editable": true,
    "slideshow": {
     "slide_type": "slide"
    },
    "tags": []
   },
   "source": [
    "# Sobreposição de dois círculos?"
   ]
  },
  {
   "cell_type": "markdown",
   "id": "6a3907a4",
   "metadata": {
    "slideshow": {
     "slide_type": "subslide"
    }
   },
   "source": [
    "Modifique os valores abaixo e veja o valor da sobreposição"
   ]
  },
  {
   "cell_type": "code",
   "execution_count": 22,
   "id": "a641e87b-28ea-45c0-ba22-5438bc90b549",
   "metadata": {
    "editable": true,
    "slideshow": {
     "slide_type": "subslide"
    },
    "tags": []
   },
   "outputs": [
    {
     "name": "stdout",
     "output_type": "stream",
     "text": [
      "Sobreposição = -1.0\n"
     ]
    }
   ],
   "source": [
    "c1 = [1, 1]\n",
    "r1 = 1\n",
    "\n",
    "c2 = [1, 2]\n",
    "r2 = 1\n",
    "\n",
    "s = norm(c2 - c1) - (r1 + r2)\n",
    "\n",
    "println(\"Sobreposição = $s\")"
   ]
  },
  {
   "cell_type": "code",
   "execution_count": 23,
   "id": "cf85d0c9-262d-4848-be74-42ff77dc63d8",
   "metadata": {
    "editable": true,
    "slideshow": {
     "slide_type": "subslide"
    },
    "tags": []
   },
   "outputs": [
    {
     "data": {
      "image/png": "[encoded data removed]",
      "image/svg+xml": [
       "<?xml version=\"1.0\" encoding=\"utf-8\"?>\n",
       "<svg xmlns=\"http://www.w3.org/2000/svg\" xmlns:xlink=\"http://www.w3.org/1999/xlink\" width=\"600\" height=\"400\" viewBox=\"0 0 2400 1600\">\n",
       "<defs>\n",
       "  <clipPath id=\"clip070\">\n",
       "    <rect x=\"0\" y=\"0\" width=\"2400\" height=\"1600\"/>\n",
       "  </clipPath>\n",
       "</defs>\n",
       "<path clip-path=\"url(#clip070)\" d=\"M0 1600 L2400 1600 L2400 0 L0 0  Z\" fill=\"#ffffff\" fill-rule=\"evenodd\" fill-opacity=\"1\"/>\n",
       "<defs>\n",
       "  <clipPath id=\"clip071\">\n",
       "    <rect x=\"480\" y=\"0\" width=\"1681\" height=\"1600\"/>\n",
       "  </clipPath>\n",
       "</defs>\n",
       "<path clip-path=\"url(#clip070)\" d=\"M110.881 1486.45 L2352.76 1486.45 L2352.76 47.2441 L110.881 47.2441  Z\" fill=\"#ffffff\" fill-rule=\"evenodd\" fill-opacity=\"1\"/>\n",
       "<defs>\n",
       "  <clipPath id=\"clip072\">\n",
       "    <rect x=\"110\" y=\"47\" width=\"2243\" height=\"1440\"/>\n",
       "  </clipPath>\n",
       "</defs>\n",
       "<polyline clip-path=\"url(#clip072)\" style=\"stroke:#000000; stroke-linecap:round; stroke-linejoin:round; stroke-width:2; stroke-opacity:0.1; fill:none\" points=\"326.659,1486.45 326.659,47.2441 \"/>\n",
       "<polyline clip-path=\"url(#clip072)\" style=\"stroke:#000000; stroke-linecap:round; stroke-linejoin:round; stroke-width:2; stroke-opacity:0.1; fill:none\" points=\"779.239,1486.45 779.239,47.2441 \"/>\n",
       "<polyline clip-path=\"url(#clip072)\" style=\"stroke:#000000; stroke-linecap:round; stroke-linejoin:round; stroke-width:2; stroke-opacity:0.1; fill:none\" points=\"1231.82,1486.45 1231.82,47.2441 \"/>\n",
       "<polyline clip-path=\"url(#clip072)\" style=\"stroke:#000000; stroke-linecap:round; stroke-linejoin:round; stroke-width:2; stroke-opacity:0.1; fill:none\" points=\"1684.4,1486.45 1684.4,47.2441 \"/>\n",
       "<polyline clip-path=\"url(#clip072)\" style=\"stroke:#000000; stroke-linecap:round; stroke-linejoin:round; stroke-width:2; stroke-opacity:0.1; fill:none\" points=\"2136.98,1486.45 2136.98,47.2441 \"/>\n",
       "<polyline clip-path=\"url(#clip072)\" style=\"stroke:#000000; stroke-linecap:round; stroke-linejoin:round; stroke-width:2; stroke-opacity:0.1; fill:none\" points=\"110.881,1445.72 2352.76,1445.72 \"/>\n",
       "<polyline clip-path=\"url(#clip072)\" style=\"stroke:#000000; stroke-linecap:round; stroke-linejoin:round; stroke-width:2; stroke-opacity:0.1; fill:none\" points=\"110.881,993.136 2352.76,993.136 \"/>\n",
       "<polyline clip-path=\"url(#clip072)\" style=\"stroke:#000000; stroke-linecap:round; stroke-linejoin:round; stroke-width:2; stroke-opacity:0.1; fill:none\" points=\"110.881,540.556 2352.76,540.556 \"/>\n",
       "<polyline clip-path=\"url(#clip072)\" style=\"stroke:#000000; stroke-linecap:round; stroke-linejoin:round; stroke-width:2; stroke-opacity:0.1; fill:none\" points=\"110.881,87.9763 2352.76,87.9763 \"/>\n",
       "<polyline clip-path=\"url(#clip070)\" style=\"stroke:#000000; stroke-linecap:round; stroke-linejoin:round; stroke-width:4; stroke-opacity:1; fill:none\" points=\"110.881,1486.45 2352.76,1486.45 \"/>\n",
       "<polyline clip-path=\"url(#clip070)\" style=\"stroke:#000000; stroke-linecap:round; stroke-linejoin:round; stroke-width:4; stroke-opacity:1; fill:none\" points=\"326.659,1486.45 326.659,1467.55 \"/>\n",
       "<polyline clip-path=\"url(#clip070)\" style=\"stroke:#000000; stroke-linecap:round; stroke-linejoin:round; stroke-width:4; stroke-opacity:1; fill:none\" points=\"779.239,1486.45 779.239,1467.55 \"/>\n",
       "<polyline clip-path=\"url(#clip070)\" style=\"stroke:#000000; stroke-linecap:round; stroke-linejoin:round; stroke-width:4; stroke-opacity:1; fill:none\" points=\"1231.82,1486.45 1231.82,1467.55 \"/>\n",
       "<polyline clip-path=\"url(#clip070)\" style=\"stroke:#000000; stroke-linecap:round; stroke-linejoin:round; stroke-width:4; stroke-opacity:1; fill:none\" points=\"1684.4,1486.45 1684.4,1467.55 \"/>\n",
       "<polyline clip-path=\"url(#clip070)\" style=\"stroke:#000000; stroke-linecap:round; stroke-linejoin:round; stroke-width:4; stroke-opacity:1; fill:none\" points=\"2136.98,1486.45 2136.98,1467.55 \"/>\n",
       "<path clip-path=\"url(#clip070)\" d=\"M296.416 1532.02 L326.092 1532.02 L326.092 1535.95 L296.416 1535.95 L296.416 1532.02 Z\" fill=\"#000000\" fill-rule=\"nonzero\" fill-opacity=\"1\" /><path clip-path=\"url(#clip070)\" d=\"M336.994 1544.91 L344.633 1544.91 L344.633 1518.55 L336.323 1520.21 L336.323 1515.95 L344.587 1514.29 L349.263 1514.29 L349.263 1544.91 L356.902 1544.91 L356.902 1548.85 L336.994 1548.85 L336.994 1544.91 Z\" fill=\"#000000\" fill-rule=\"nonzero\" fill-opacity=\"1\" /><path clip-path=\"url(#clip070)\" d=\"M779.239 1517.37 Q775.627 1517.37 773.799 1520.93 Q771.993 1524.47 771.993 1531.6 Q771.993 1538.71 773.799 1542.27 Q775.627 1545.82 779.239 1545.82 Q782.873 1545.82 784.678 1542.27 Q786.507 1538.71 786.507 1531.6 Q786.507 1524.47 784.678 1520.93 Q782.873 1517.37 779.239 1517.37 M779.239 1513.66 Q785.049 1513.66 788.104 1518.27 Q791.183 1522.85 791.183 1531.6 Q791.183 1540.33 788.104 1544.94 Q785.049 1549.52 779.239 1549.52 Q773.428 1549.52 770.35 1544.94 Q767.294 1540.33 767.294 1531.6 Q767.294 1522.85 770.35 1518.27 Q773.428 1513.66 779.239 1513.66 Z\" fill=\"#000000\" fill-rule=\"nonzero\" fill-opacity=\"1\" /><path clip-path=\"url(#clip070)\" d=\"M1222.2 1544.91 L1229.84 1544.91 L1229.84 1518.55 L1221.53 1520.21 L1221.53 1515.95 L1229.79 1514.29 L1234.47 1514.29 L1234.47 1544.91 L1242.11 1544.91 L1242.11 1548.85 L1222.2 1548.85 L1222.2 1544.91 Z\" fill=\"#000000\" fill-rule=\"nonzero\" fill-opacity=\"1\" /><path clip-path=\"url(#clip070)\" d=\"M1679.05 1544.91 L1695.37 1544.91 L1695.37 1548.85 L1673.43 1548.85 L1673.43 1544.91 Q1676.09 1542.16 1680.67 1537.53 Q1685.28 1532.88 1686.46 1531.53 Q1688.7 1529.01 1689.58 1527.27 Q1690.49 1525.51 1690.49 1523.82 Q1690.49 1521.07 1688.54 1519.33 Q1686.62 1517.6 1683.52 1517.6 Q1681.32 1517.6 1678.87 1518.36 Q1676.44 1519.13 1673.66 1520.68 L1673.66 1515.95 Q1676.48 1514.82 1678.94 1514.24 Q1681.39 1513.66 1683.43 1513.66 Q1688.8 1513.66 1691.99 1516.35 Q1695.19 1519.03 1695.19 1523.52 Q1695.19 1525.65 1694.37 1527.57 Q1693.59 1529.47 1691.48 1532.07 Q1690.9 1532.74 1687.8 1535.95 Q1684.7 1539.15 1679.05 1544.91 Z\" fill=\"#000000\" fill-rule=\"nonzero\" fill-opacity=\"1\" /><path clip-path=\"url(#clip070)\" d=\"M2141.23 1530.21 Q2144.58 1530.93 2146.46 1533.2 Q2148.36 1535.47 2148.36 1538.8 Q2148.36 1543.92 2144.84 1546.72 Q2141.32 1549.52 2134.84 1549.52 Q2132.66 1549.52 2130.35 1549.08 Q2128.05 1548.66 2125.6 1547.81 L2125.6 1543.29 Q2127.55 1544.43 2129.86 1545.01 Q2132.17 1545.58 2134.7 1545.58 Q2139.1 1545.58 2141.39 1543.85 Q2143.7 1542.11 2143.7 1538.8 Q2143.7 1535.75 2141.55 1534.03 Q2139.42 1532.3 2135.6 1532.3 L2131.57 1532.3 L2131.57 1528.45 L2135.79 1528.45 Q2139.23 1528.45 2141.06 1527.09 Q2142.89 1525.7 2142.89 1523.11 Q2142.89 1520.45 2140.99 1519.03 Q2139.12 1517.6 2135.6 1517.6 Q2133.68 1517.6 2131.48 1518.01 Q2129.28 1518.43 2126.64 1519.31 L2126.64 1515.14 Q2129.3 1514.4 2131.62 1514.03 Q2133.96 1513.66 2136.02 1513.66 Q2141.34 1513.66 2144.44 1516.09 Q2147.55 1518.5 2147.55 1522.62 Q2147.55 1525.49 2145.9 1527.48 Q2144.26 1529.45 2141.23 1530.21 Z\" fill=\"#000000\" fill-rule=\"nonzero\" fill-opacity=\"1\" /><polyline clip-path=\"url(#clip070)\" style=\"stroke:#000000; stroke-linecap:round; stroke-linejoin:round; stroke-width:4; stroke-opacity:1; fill:none\" points=\"110.881,1486.45 110.881,47.2441 \"/>\n",
       "<polyline clip-path=\"url(#clip070)\" style=\"stroke:#000000; stroke-linecap:round; stroke-linejoin:round; stroke-width:4; stroke-opacity:1; fill:none\" points=\"110.881,1445.72 129.779,1445.72 \"/>\n",
       "<polyline clip-path=\"url(#clip070)\" style=\"stroke:#000000; stroke-linecap:round; stroke-linejoin:round; stroke-width:4; stroke-opacity:1; fill:none\" points=\"110.881,993.136 129.779,993.136 \"/>\n",
       "<polyline clip-path=\"url(#clip070)\" style=\"stroke:#000000; stroke-linecap:round; stroke-linejoin:round; stroke-width:4; stroke-opacity:1; fill:none\" points=\"110.881,540.556 129.779,540.556 \"/>\n",
       "<polyline clip-path=\"url(#clip070)\" style=\"stroke:#000000; stroke-linecap:round; stroke-linejoin:round; stroke-width:4; stroke-opacity:1; fill:none\" points=\"110.881,87.9763 129.779,87.9763 \"/>\n",
       "<path clip-path=\"url(#clip070)\" d=\"M62.9365 1431.51 Q59.3254 1431.51 57.4967 1435.08 Q55.6912 1438.62 55.6912 1445.75 Q55.6912 1452.86 57.4967 1456.42 Q59.3254 1459.96 62.9365 1459.96 Q66.5707 1459.96 68.3763 1456.42 Q70.205 1452.86 70.205 1445.75 Q70.205 1438.62 68.3763 1435.08 Q66.5707 1431.51 62.9365 1431.51 M62.9365 1427.81 Q68.7467 1427.81 71.8022 1432.42 Q74.8809 1437 74.8809 1445.75 Q74.8809 1454.48 71.8022 1459.08 Q68.7467 1463.67 62.9365 1463.67 Q57.1264 1463.67 54.0477 1459.08 Q50.9921 1454.48 50.9921 1445.75 Q50.9921 1437 54.0477 1432.42 Q57.1264 1427.81 62.9365 1427.81 Z\" fill=\"#000000\" fill-rule=\"nonzero\" fill-opacity=\"1\" /><path clip-path=\"url(#clip070)\" d=\"M54.9736 1006.48 L62.6124 1006.48 L62.6124 980.115 L54.3023 981.782 L54.3023 977.523 L62.5661 975.856 L67.242 975.856 L67.242 1006.48 L74.8809 1006.48 L74.8809 1010.42 L54.9736 1010.42 L54.9736 1006.48 Z\" fill=\"#000000\" fill-rule=\"nonzero\" fill-opacity=\"1\" /><path clip-path=\"url(#clip070)\" d=\"M58.5615 553.901 L74.8809 553.901 L74.8809 557.836 L52.9366 557.836 L52.9366 553.901 Q55.5986 551.146 60.1819 546.517 Q64.7883 541.864 65.9689 540.521 Q68.2143 537.998 69.0939 536.262 Q69.9967 534.503 69.9967 532.813 Q69.9967 530.058 68.0522 528.322 Q66.1309 526.586 63.0291 526.586 Q60.83 526.586 58.3763 527.35 Q55.9458 528.114 53.168 529.665 L53.168 524.943 Q55.9921 523.808 58.4458 523.23 Q60.8995 522.651 62.9365 522.651 Q68.3068 522.651 71.5013 525.336 Q74.6957 528.021 74.6957 532.512 Q74.6957 534.642 73.8855 536.563 Q73.0985 538.461 70.992 541.054 Q70.4133 541.725 67.3115 544.943 Q64.2096 548.137 58.5615 553.901 Z\" fill=\"#000000\" fill-rule=\"nonzero\" fill-opacity=\"1\" /><path clip-path=\"url(#clip070)\" d=\"M67.7513 86.6221 Q71.1078 87.3397 72.9827 89.6082 Q74.8809 91.8767 74.8809 95.21 Q74.8809 100.326 71.3624 103.127 Q67.8439 105.928 61.3624 105.928 Q59.1865 105.928 56.8717 105.488 Q54.5801 105.071 52.1264 104.215 L52.1264 99.7008 Q54.0708 100.835 56.3856 101.414 Q58.7004 101.992 61.2236 101.992 Q65.6217 101.992 67.9133 100.256 Q70.2281 98.5202 70.2281 95.21 Q70.2281 92.1545 68.0754 90.4415 Q65.9457 88.7054 62.1263 88.7054 L58.0986 88.7054 L58.0986 84.8629 L62.3115 84.8629 Q65.7606 84.8629 67.5893 83.4971 Q69.418 82.1083 69.418 79.5157 Q69.418 76.8537 67.5198 75.4416 Q65.6448 74.0064 62.1263 74.0064 Q60.205 74.0064 58.006 74.4231 Q55.8069 74.8398 53.168 75.7194 L53.168 71.5528 Q55.8301 70.812 58.1449 70.4416 Q60.4828 70.0713 62.543 70.0713 Q67.867 70.0713 70.9689 72.5018 Q74.0707 74.9092 74.0707 79.0296 Q74.0707 81.8999 72.4272 83.8907 Q70.7837 85.8582 67.7513 86.6221 Z\" fill=\"#000000\" fill-rule=\"nonzero\" fill-opacity=\"1\" /><path clip-path=\"url(#clip072)\" d=\"M1231.82 540.556 L1271.26 542.278 L1310.41 547.432 L1348.95 555.977 L1386.61 567.85 L1423.09 582.959 L1458.11 601.19 L1491.41 622.404 L1522.73 646.44 L1551.84 673.114 L1578.51 702.223 L1602.55 733.547 L1623.76 766.846 L1641.99 801.867 L1657.1 838.344 L1668.98 876 L1677.52 914.546 L1682.68 953.691 L1684.4 993.136 L1682.68 1032.58 L1677.52 1071.73 L1668.98 1110.27 L1657.1 1147.93 L1641.99 1184.4 L1623.76 1219.43 L1602.55 1252.72 L1578.51 1284.05 L1551.84 1313.16 L1522.73 1339.83 L1491.41 1363.87 L1458.11 1385.08 L1423.09 1403.31 L1386.61 1418.42 L1348.95 1430.29 L1310.41 1438.84 L1271.26 1443.99 L1231.82 1445.72 L1192.37 1443.99 L1153.23 1438.84 L1114.68 1430.29 L1077.03 1418.42 L1040.55 1403.31 L1005.53 1385.08 L972.229 1363.87 L940.906 1339.83 L911.796 1313.16 L885.122 1284.05 L861.087 1252.72 L839.873 1219.43 L821.642 1184.4 L806.532 1147.93 L794.66 1110.27 L786.114 1071.73 L780.961 1032.58 L779.239 993.136 L780.961 953.691 L786.114 914.546 L794.66 876 L806.532 838.344 L821.642 801.867 L839.873 766.846 L861.087 733.547 L885.122 702.223 L911.796 673.114 L940.906 646.44 L972.229 622.404 L1005.53 601.19 L1040.55 582.959 L1077.03 567.85 L1114.68 555.977 L1153.23 547.432 L1192.37 542.278 L1231.82 540.556 L1231.82 540.556  Z\" fill=\"#000000\" fill-rule=\"evenodd\" fill-opacity=\"0\"/>\n",
       "<polyline clip-path=\"url(#clip072)\" style=\"stroke:#ff0000; stroke-linecap:round; stroke-linejoin:round; stroke-width:20; stroke-opacity:1; fill:none\" points=\"1231.82,540.556 1271.26,542.278 1310.41,547.432 1348.95,555.977 1386.61,567.85 1423.09,582.959 1458.11,601.19 1491.41,622.404 1522.73,646.44 1551.84,673.114 1578.51,702.223 1602.55,733.547 1623.76,766.846 1641.99,801.867 1657.1,838.344 1668.98,876 1677.52,914.546 1682.68,953.691 1684.4,993.136 1682.68,1032.58 1677.52,1071.73 1668.98,1110.27 1657.1,1147.93 1641.99,1184.4 1623.76,1219.43 1602.55,1252.72 1578.51,1284.05 1551.84,1313.16 1522.73,1339.83 1491.41,1363.87 1458.11,1385.08 1423.09,1403.31 1386.61,1418.42 1348.95,1430.29 1310.41,1438.84 1271.26,1443.99 1231.82,1445.72 1192.37,1443.99 1153.23,1438.84 1114.68,1430.29 1077.03,1418.42 1040.55,1403.31 1005.53,1385.08 972.229,1363.87 940.906,1339.83 911.796,1313.16 885.122,1284.05 861.087,1252.72 839.873,1219.43 821.642,1184.4 806.532,1147.93 794.66,1110.27 786.114,1071.73 780.961,1032.58 779.239,993.136 780.961,953.691 786.114,914.546 794.66,876 806.532,838.344 821.642,801.867 839.873,766.846 861.087,733.547 885.122,702.223 911.796,673.114 940.906,646.44 972.229,622.404 1005.53,601.19 1040.55,582.959 1077.03,567.85 1114.68,555.977 1153.23,547.432 1192.37,542.278 1231.82,540.556 \"/>\n",
       "<path clip-path=\"url(#clip072)\" d=\"M1231.82 87.9763 L1271.26 89.6985 L1310.41 94.852 L1348.95 103.398 L1386.61 115.27 L1423.09 130.379 L1458.11 148.61 L1491.41 169.824 L1522.73 193.86 L1551.84 220.534 L1578.51 249.643 L1602.55 280.967 L1623.76 314.266 L1641.99 349.288 L1657.1 385.765 L1668.98 423.42 L1677.52 461.966 L1682.68 501.111 L1684.4 540.556 L1682.68 580.001 L1677.52 619.146 L1668.98 657.692 L1657.1 695.347 L1641.99 731.825 L1623.76 766.846 L1602.55 800.145 L1578.51 831.469 L1551.84 860.578 L1522.73 887.252 L1491.41 911.288 L1458.11 932.502 L1423.09 950.733 L1386.61 965.842 L1348.95 977.715 L1310.41 986.26 L1271.26 991.414 L1231.82 993.136 L1192.37 991.414 L1153.23 986.26 L1114.68 977.715 L1077.03 965.842 L1040.55 950.733 L1005.53 932.502 L972.229 911.288 L940.906 887.252 L911.796 860.578 L885.122 831.469 L861.087 800.145 L839.873 766.846 L821.642 731.825 L806.532 695.347 L794.66 657.692 L786.114 619.146 L780.961 580.001 L779.239 540.556 L780.961 501.111 L786.114 461.966 L794.66 423.42 L806.532 385.765 L821.642 349.288 L839.873 314.266 L861.087 280.967 L885.122 249.643 L911.796 220.534 L940.906 193.86 L972.229 169.824 L1005.53 148.61 L1040.55 130.379 L1077.03 115.27 L1114.68 103.398 L1153.23 94.852 L1192.37 89.6985 L1231.82 87.9763 L1231.82 87.9763  Z\" fill=\"#000000\" fill-rule=\"evenodd\" fill-opacity=\"0\"/>\n",
       "<polyline clip-path=\"url(#clip072)\" style=\"stroke:#0000ff; stroke-linecap:round; stroke-linejoin:round; stroke-width:20; stroke-opacity:1; fill:none\" points=\"1231.82,87.9763 1271.26,89.6985 1310.41,94.852 1348.95,103.398 1386.61,115.27 1423.09,130.379 1458.11,148.61 1491.41,169.824 1522.73,193.86 1551.84,220.534 1578.51,249.643 1602.55,280.967 1623.76,314.266 1641.99,349.288 1657.1,385.765 1668.98,423.42 1677.52,461.966 1682.68,501.111 1684.4,540.556 1682.68,580.001 1677.52,619.146 1668.98,657.692 1657.1,695.347 1641.99,731.825 1623.76,766.846 1602.55,800.145 1578.51,831.469 1551.84,860.578 1522.73,887.252 1491.41,911.288 1458.11,932.502 1423.09,950.733 1386.61,965.842 1348.95,977.715 1310.41,986.26 1271.26,991.414 1231.82,993.136 1192.37,991.414 1153.23,986.26 1114.68,977.715 1077.03,965.842 1040.55,950.733 1005.53,932.502 972.229,911.288 940.906,887.252 911.796,860.578 885.122,831.469 861.087,800.145 839.873,766.846 821.642,731.825 806.532,695.347 794.66,657.692 786.114,619.146 780.961,580.001 779.239,540.556 780.961,501.111 786.114,461.966 794.66,423.42 806.532,385.765 821.642,349.288 839.873,314.266 861.087,280.967 885.122,249.643 911.796,220.534 940.906,193.86 972.229,169.824 1005.53,148.61 1040.55,130.379 1077.03,115.27 1114.68,103.398 1153.23,94.852 1192.37,89.6985 1231.82,87.9763 \"/>\n",
       "</svg>\n"
      ],
      "text/html": [
       "<?xml version=\"1.0\" encoding=\"utf-8\"?>\n",
       "<svg xmlns=\"http://www.w3.org/2000/svg\" xmlns:xlink=\"http://www.w3.org/1999/xlink\" width=\"600\" height=\"400\" viewBox=\"0 0 2400 1600\">\n",
       "<defs>\n",
       "  <clipPath id=\"clip120\">\n",
       "    <rect x=\"0\" y=\"0\" width=\"2400\" height=\"1600\"/>\n",
       "  </clipPath>\n",
       "</defs>\n",
       "<path clip-path=\"url(#clip120)\" d=\"M0 1600 L2400 1600 L2400 0 L0 0  Z\" fill=\"#ffffff\" fill-rule=\"evenodd\" fill-opacity=\"1\"/>\n",
       "<defs>\n",
       "  <clipPath id=\"clip121\">\n",
       "    <rect x=\"480\" y=\"0\" width=\"1681\" height=\"1600\"/>\n",
       "  </clipPath>\n",
       "</defs>\n",
       "<path clip-path=\"url(#clip120)\" d=\"M110.881 1486.45 L2352.76 1486.45 L2352.76 47.2441 L110.881 47.2441  Z\" fill=\"#ffffff\" fill-rule=\"evenodd\" fill-opacity=\"1\"/>\n",
       "<defs>\n",
       "  <clipPath id=\"clip122\">\n",
       "    <rect x=\"110\" y=\"47\" width=\"2243\" height=\"1440\"/>\n",
       "  </clipPath>\n",
       "</defs>\n",
       "<polyline clip-path=\"url(#clip122)\" style=\"stroke:#000000; stroke-linecap:round; stroke-linejoin:round; stroke-width:2; stroke-opacity:0.1; fill:none\" points=\"326.659,1486.45 326.659,47.2441 \"/>\n",
       "<polyline clip-path=\"url(#clip122)\" style=\"stroke:#000000; stroke-linecap:round; stroke-linejoin:round; stroke-width:2; stroke-opacity:0.1; fill:none\" points=\"779.239,1486.45 779.239,47.2441 \"/>\n",
       "<polyline clip-path=\"url(#clip122)\" style=\"stroke:#000000; stroke-linecap:round; stroke-linejoin:round; stroke-width:2; stroke-opacity:0.1; fill:none\" points=\"1231.82,1486.45 1231.82,47.2441 \"/>\n",
       "<polyline clip-path=\"url(#clip122)\" style=\"stroke:#000000; stroke-linecap:round; stroke-linejoin:round; stroke-width:2; stroke-opacity:0.1; fill:none\" points=\"1684.4,1486.45 1684.4,47.2441 \"/>\n",
       "<polyline clip-path=\"url(#clip122)\" style=\"stroke:#000000; stroke-linecap:round; stroke-linejoin:round; stroke-width:2; stroke-opacity:0.1; fill:none\" points=\"2136.98,1486.45 2136.98,47.2441 \"/>\n",
       "<polyline clip-path=\"url(#clip122)\" style=\"stroke:#000000; stroke-linecap:round; stroke-linejoin:round; stroke-width:2; stroke-opacity:0.1; fill:none\" points=\"110.881,1445.72 2352.76,1445.72 \"/>\n",
       "<polyline clip-path=\"url(#clip122)\" style=\"stroke:#000000; stroke-linecap:round; stroke-linejoin:round; stroke-width:2; stroke-opacity:0.1; fill:none\" points=\"110.881,993.136 2352.76,993.136 \"/>\n",
       "<polyline clip-path=\"url(#clip122)\" style=\"stroke:#000000; stroke-linecap:round; stroke-linejoin:round; stroke-width:2; stroke-opacity:0.1; fill:none\" points=\"110.881,540.556 2352.76,540.556 \"/>\n",
       "<polyline clip-path=\"url(#clip122)\" style=\"stroke:#000000; stroke-linecap:round; stroke-linejoin:round; stroke-width:2; stroke-opacity:0.1; fill:none\" points=\"110.881,87.9763 2352.76,87.9763 \"/>\n",
       "<polyline clip-path=\"url(#clip120)\" style=\"stroke:#000000; stroke-linecap:round; stroke-linejoin:round; stroke-width:4; stroke-opacity:1; fill:none\" points=\"110.881,1486.45 2352.76,1486.45 \"/>\n",
       "<polyline clip-path=\"url(#clip120)\" style=\"stroke:#000000; stroke-linecap:round; stroke-linejoin:round; stroke-width:4; stroke-opacity:1; fill:none\" points=\"326.659,1486.45 326.659,1467.55 \"/>\n",
       "<polyline clip-path=\"url(#clip120)\" style=\"stroke:#000000; stroke-linecap:round; stroke-linejoin:round; stroke-width:4; stroke-opacity:1; fill:none\" points=\"779.239,1486.45 779.239,1467.55 \"/>\n",
       "<polyline clip-path=\"url(#clip120)\" style=\"stroke:#000000; stroke-linecap:round; stroke-linejoin:round; stroke-width:4; stroke-opacity:1; fill:none\" points=\"1231.82,1486.45 1231.82,1467.55 \"/>\n",
       "<polyline clip-path=\"url(#clip120)\" style=\"stroke:#000000; stroke-linecap:round; stroke-linejoin:round; stroke-width:4; stroke-opacity:1; fill:none\" points=\"1684.4,1486.45 1684.4,1467.55 \"/>\n",
       "<polyline clip-path=\"url(#clip120)\" style=\"stroke:#000000; stroke-linecap:round; stroke-linejoin:round; stroke-width:4; stroke-opacity:1; fill:none\" points=\"2136.98,1486.45 2136.98,1467.55 \"/>\n",
       "<path clip-path=\"url(#clip120)\" d=\"M296.416 1532.02 L326.092 1532.02 L326.092 1535.95 L296.416 1535.95 L296.416 1532.02 Z\" fill=\"#000000\" fill-rule=\"nonzero\" fill-opacity=\"1\" /><path clip-path=\"url(#clip120)\" d=\"M336.994 1544.91 L344.633 1544.91 L344.633 1518.55 L336.323 1520.21 L336.323 1515.95 L344.587 1514.29 L349.263 1514.29 L349.263 1544.91 L356.902 1544.91 L356.902 1548.85 L336.994 1548.85 L336.994 1544.91 Z\" fill=\"#000000\" fill-rule=\"nonzero\" fill-opacity=\"1\" /><path clip-path=\"url(#clip120)\" d=\"M779.239 1517.37 Q775.627 1517.37 773.799 1520.93 Q771.993 1524.47 771.993 1531.6 Q771.993 1538.71 773.799 1542.27 Q775.627 1545.82 779.239 1545.82 Q782.873 1545.82 784.678 1542.27 Q786.507 1538.71 786.507 1531.6 Q786.507 1524.47 784.678 1520.93 Q782.873 1517.37 779.239 1517.37 M779.239 1513.66 Q785.049 1513.66 788.104 1518.27 Q791.183 1522.85 791.183 1531.6 Q791.183 1540.33 788.104 1544.94 Q785.049 1549.52 779.239 1549.52 Q773.428 1549.52 770.35 1544.94 Q767.294 1540.33 767.294 1531.6 Q767.294 1522.85 770.35 1518.27 Q773.428 1513.66 779.239 1513.66 Z\" fill=\"#000000\" fill-rule=\"nonzero\" fill-opacity=\"1\" /><path clip-path=\"url(#clip120)\" d=\"M1222.2 1544.91 L1229.84 1544.91 L1229.84 1518.55 L1221.53 1520.21 L1221.53 1515.95 L1229.79 1514.29 L1234.47 1514.29 L1234.47 1544.91 L1242.11 1544.91 L1242.11 1548.85 L1222.2 1548.85 L1222.2 1544.91 Z\" fill=\"#000000\" fill-rule=\"nonzero\" fill-opacity=\"1\" /><path clip-path=\"url(#clip120)\" d=\"M1679.05 1544.91 L1695.37 1544.91 L1695.37 1548.85 L1673.43 1548.85 L1673.43 1544.91 Q1676.09 1542.16 1680.67 1537.53 Q1685.28 1532.88 1686.46 1531.53 Q1688.7 1529.01 1689.58 1527.27 Q1690.49 1525.51 1690.49 1523.82 Q1690.49 1521.07 1688.54 1519.33 Q1686.62 1517.6 1683.52 1517.6 Q1681.32 1517.6 1678.87 1518.36 Q1676.44 1519.13 1673.66 1520.68 L1673.66 1515.95 Q1676.48 1514.82 1678.94 1514.24 Q1681.39 1513.66 1683.43 1513.66 Q1688.8 1513.66 1691.99 1516.35 Q1695.19 1519.03 1695.19 1523.52 Q1695.19 1525.65 1694.37 1527.57 Q1693.59 1529.47 1691.48 1532.07 Q1690.9 1532.74 1687.8 1535.95 Q1684.7 1539.15 1679.05 1544.91 Z\" fill=\"#000000\" fill-rule=\"nonzero\" fill-opacity=\"1\" /><path clip-path=\"url(#clip120)\" d=\"M2141.23 1530.21 Q2144.58 1530.93 2146.46 1533.2 Q2148.36 1535.47 2148.36 1538.8 Q2148.36 1543.92 2144.84 1546.72 Q2141.32 1549.52 2134.84 1549.52 Q2132.66 1549.52 2130.35 1549.08 Q2128.05 1548.66 2125.6 1547.81 L2125.6 1543.29 Q2127.55 1544.43 2129.86 1545.01 Q2132.17 1545.58 2134.7 1545.58 Q2139.1 1545.58 2141.39 1543.85 Q2143.7 1542.11 2143.7 1538.8 Q2143.7 1535.75 2141.55 1534.03 Q2139.42 1532.3 2135.6 1532.3 L2131.57 1532.3 L2131.57 1528.45 L2135.79 1528.45 Q2139.23 1528.45 2141.06 1527.09 Q2142.89 1525.7 2142.89 1523.11 Q2142.89 1520.45 2140.99 1519.03 Q2139.12 1517.6 2135.6 1517.6 Q2133.68 1517.6 2131.48 1518.01 Q2129.28 1518.43 2126.64 1519.31 L2126.64 1515.14 Q2129.3 1514.4 2131.62 1514.03 Q2133.96 1513.66 2136.02 1513.66 Q2141.34 1513.66 2144.44 1516.09 Q2147.55 1518.5 2147.55 1522.62 Q2147.55 1525.49 2145.9 1527.48 Q2144.26 1529.45 2141.23 1530.21 Z\" fill=\"#000000\" fill-rule=\"nonzero\" fill-opacity=\"1\" /><polyline clip-path=\"url(#clip120)\" style=\"stroke:#000000; stroke-linecap:round; stroke-linejoin:round; stroke-width:4; stroke-opacity:1; fill:none\" points=\"110.881,1486.45 110.881,47.2441 \"/>\n",
       "<polyline clip-path=\"url(#clip120)\" style=\"stroke:#000000; stroke-linecap:round; stroke-linejoin:round; stroke-width:4; stroke-opacity:1; fill:none\" points=\"110.881,1445.72 129.779,1445.72 \"/>\n",
       "<polyline clip-path=\"url(#clip120)\" style=\"stroke:#000000; stroke-linecap:round; stroke-linejoin:round; stroke-width:4; stroke-opacity:1; fill:none\" points=\"110.881,993.136 129.779,993.136 \"/>\n",
       "<polyline clip-path=\"url(#clip120)\" style=\"stroke:#000000; stroke-linecap:round; stroke-linejoin:round; stroke-width:4; stroke-opacity:1; fill:none\" points=\"110.881,540.556 129.779,540.556 \"/>\n",
       "<polyline clip-path=\"url(#clip120)\" style=\"stroke:#000000; stroke-linecap:round; stroke-linejoin:round; stroke-width:4; stroke-opacity:1; fill:none\" points=\"110.881,87.9763 129.779,87.9763 \"/>\n",
       "<path clip-path=\"url(#clip120)\" d=\"M62.9365 1431.51 Q59.3254 1431.51 57.4967 1435.08 Q55.6912 1438.62 55.6912 1445.75 Q55.6912 1452.86 57.4967 1456.42 Q59.3254 1459.96 62.9365 1459.96 Q66.5707 1459.96 68.3763 1456.42 Q70.205 1452.86 70.205 1445.75 Q70.205 1438.62 68.3763 1435.08 Q66.5707 1431.51 62.9365 1431.51 M62.9365 1427.81 Q68.7467 1427.81 71.8022 1432.42 Q74.8809 1437 74.8809 1445.75 Q74.8809 1454.48 71.8022 1459.08 Q68.7467 1463.67 62.9365 1463.67 Q57.1264 1463.67 54.0477 1459.08 Q50.9921 1454.48 50.9921 1445.75 Q50.9921 1437 54.0477 1432.42 Q57.1264 1427.81 62.9365 1427.81 Z\" fill=\"#000000\" fill-rule=\"nonzero\" fill-opacity=\"1\" /><path clip-path=\"url(#clip120)\" d=\"M54.9736 1006.48 L62.6124 1006.48 L62.6124 980.115 L54.3023 981.782 L54.3023 977.523 L62.5661 975.856 L67.242 975.856 L67.242 1006.48 L74.8809 1006.48 L74.8809 1010.42 L54.9736 1010.42 L54.9736 1006.48 Z\" fill=\"#000000\" fill-rule=\"nonzero\" fill-opacity=\"1\" /><path clip-path=\"url(#clip120)\" d=\"M58.5615 553.901 L74.8809 553.901 L74.8809 557.836 L52.9366 557.836 L52.9366 553.901 Q55.5986 551.146 60.1819 546.517 Q64.7883 541.864 65.9689 540.521 Q68.2143 537.998 69.0939 536.262 Q69.9967 534.503 69.9967 532.813 Q69.9967 530.058 68.0522 528.322 Q66.1309 526.586 63.0291 526.586 Q60.83 526.586 58.3763 527.35 Q55.9458 528.114 53.168 529.665 L53.168 524.943 Q55.9921 523.808 58.4458 523.23 Q60.8995 522.651 62.9365 522.651 Q68.3068 522.651 71.5013 525.336 Q74.6957 528.021 74.6957 532.512 Q74.6957 534.642 73.8855 536.563 Q73.0985 538.461 70.992 541.054 Q70.4133 541.725 67.3115 544.943 Q64.2096 548.137 58.5615 553.901 Z\" fill=\"#000000\" fill-rule=\"nonzero\" fill-opacity=\"1\" /><path clip-path=\"url(#clip120)\" d=\"M67.7513 86.6221 Q71.1078 87.3397 72.9827 89.6082 Q74.8809 91.8767 74.8809 95.21 Q74.8809 100.326 71.3624 103.127 Q67.8439 105.928 61.3624 105.928 Q59.1865 105.928 56.8717 105.488 Q54.5801 105.071 52.1264 104.215 L52.1264 99.7008 Q54.0708 100.835 56.3856 101.414 Q58.7004 101.992 61.2236 101.992 Q65.6217 101.992 67.9133 100.256 Q70.2281 98.5202 70.2281 95.21 Q70.2281 92.1545 68.0754 90.4415 Q65.9457 88.7054 62.1263 88.7054 L58.0986 88.7054 L58.0986 84.8629 L62.3115 84.8629 Q65.7606 84.8629 67.5893 83.4971 Q69.418 82.1083 69.418 79.5157 Q69.418 76.8537 67.5198 75.4416 Q65.6448 74.0064 62.1263 74.0064 Q60.205 74.0064 58.006 74.4231 Q55.8069 74.8398 53.168 75.7194 L53.168 71.5528 Q55.8301 70.812 58.1449 70.4416 Q60.4828 70.0713 62.543 70.0713 Q67.867 70.0713 70.9689 72.5018 Q74.0707 74.9092 74.0707 79.0296 Q74.0707 81.8999 72.4272 83.8907 Q70.7837 85.8582 67.7513 86.6221 Z\" fill=\"#000000\" fill-rule=\"nonzero\" fill-opacity=\"1\" /><path clip-path=\"url(#clip122)\" d=\"M1231.82 540.556 L1271.26 542.278 L1310.41 547.432 L1348.95 555.977 L1386.61 567.85 L1423.09 582.959 L1458.11 601.19 L1491.41 622.404 L1522.73 646.44 L1551.84 673.114 L1578.51 702.223 L1602.55 733.547 L1623.76 766.846 L1641.99 801.867 L1657.1 838.344 L1668.98 876 L1677.52 914.546 L1682.68 953.691 L1684.4 993.136 L1682.68 1032.58 L1677.52 1071.73 L1668.98 1110.27 L1657.1 1147.93 L1641.99 1184.4 L1623.76 1219.43 L1602.55 1252.72 L1578.51 1284.05 L1551.84 1313.16 L1522.73 1339.83 L1491.41 1363.87 L1458.11 1385.08 L1423.09 1403.31 L1386.61 1418.42 L1348.95 1430.29 L1310.41 1438.84 L1271.26 1443.99 L1231.82 1445.72 L1192.37 1443.99 L1153.23 1438.84 L1114.68 1430.29 L1077.03 1418.42 L1040.55 1403.31 L1005.53 1385.08 L972.229 1363.87 L940.906 1339.83 L911.796 1313.16 L885.122 1284.05 L861.087 1252.72 L839.873 1219.43 L821.642 1184.4 L806.532 1147.93 L794.66 1110.27 L786.114 1071.73 L780.961 1032.58 L779.239 993.136 L780.961 953.691 L786.114 914.546 L794.66 876 L806.532 838.344 L821.642 801.867 L839.873 766.846 L861.087 733.547 L885.122 702.223 L911.796 673.114 L940.906 646.44 L972.229 622.404 L1005.53 601.19 L1040.55 582.959 L1077.03 567.85 L1114.68 555.977 L1153.23 547.432 L1192.37 542.278 L1231.82 540.556 L1231.82 540.556  Z\" fill=\"#000000\" fill-rule=\"evenodd\" fill-opacity=\"0\"/>\n",
       "<polyline clip-path=\"url(#clip122)\" style=\"stroke:#ff0000; stroke-linecap:round; stroke-linejoin:round; stroke-width:20; stroke-opacity:1; fill:none\" points=\"1231.82,540.556 1271.26,542.278 1310.41,547.432 1348.95,555.977 1386.61,567.85 1423.09,582.959 1458.11,601.19 1491.41,622.404 1522.73,646.44 1551.84,673.114 1578.51,702.223 1602.55,733.547 1623.76,766.846 1641.99,801.867 1657.1,838.344 1668.98,876 1677.52,914.546 1682.68,953.691 1684.4,993.136 1682.68,1032.58 1677.52,1071.73 1668.98,1110.27 1657.1,1147.93 1641.99,1184.4 1623.76,1219.43 1602.55,1252.72 1578.51,1284.05 1551.84,1313.16 1522.73,1339.83 1491.41,1363.87 1458.11,1385.08 1423.09,1403.31 1386.61,1418.42 1348.95,1430.29 1310.41,1438.84 1271.26,1443.99 1231.82,1445.72 1192.37,1443.99 1153.23,1438.84 1114.68,1430.29 1077.03,1418.42 1040.55,1403.31 1005.53,1385.08 972.229,1363.87 940.906,1339.83 911.796,1313.16 885.122,1284.05 861.087,1252.72 839.873,1219.43 821.642,1184.4 806.532,1147.93 794.66,1110.27 786.114,1071.73 780.961,1032.58 779.239,993.136 780.961,953.691 786.114,914.546 794.66,876 806.532,838.344 821.642,801.867 839.873,766.846 861.087,733.547 885.122,702.223 911.796,673.114 940.906,646.44 972.229,622.404 1005.53,601.19 1040.55,582.959 1077.03,567.85 1114.68,555.977 1153.23,547.432 1192.37,542.278 1231.82,540.556 \"/>\n",
       "<path clip-path=\"url(#clip122)\" d=\"M1231.82 87.9763 L1271.26 89.6985 L1310.41 94.852 L1348.95 103.398 L1386.61 115.27 L1423.09 130.379 L1458.11 148.61 L1491.41 169.824 L1522.73 193.86 L1551.84 220.534 L1578.51 249.643 L1602.55 280.967 L1623.76 314.266 L1641.99 349.288 L1657.1 385.765 L1668.98 423.42 L1677.52 461.966 L1682.68 501.111 L1684.4 540.556 L1682.68 580.001 L1677.52 619.146 L1668.98 657.692 L1657.1 695.347 L1641.99 731.825 L1623.76 766.846 L1602.55 800.145 L1578.51 831.469 L1551.84 860.578 L1522.73 887.252 L1491.41 911.288 L1458.11 932.502 L1423.09 950.733 L1386.61 965.842 L1348.95 977.715 L1310.41 986.26 L1271.26 991.414 L1231.82 993.136 L1192.37 991.414 L1153.23 986.26 L1114.68 977.715 L1077.03 965.842 L1040.55 950.733 L1005.53 932.502 L972.229 911.288 L940.906 887.252 L911.796 860.578 L885.122 831.469 L861.087 800.145 L839.873 766.846 L821.642 731.825 L806.532 695.347 L794.66 657.692 L786.114 619.146 L780.961 580.001 L779.239 540.556 L780.961 501.111 L786.114 461.966 L794.66 423.42 L806.532 385.765 L821.642 349.288 L839.873 314.266 L861.087 280.967 L885.122 249.643 L911.796 220.534 L940.906 193.86 L972.229 169.824 L1005.53 148.61 L1040.55 130.379 L1077.03 115.27 L1114.68 103.398 L1153.23 94.852 L1192.37 89.6985 L1231.82 87.9763 L1231.82 87.9763  Z\" fill=\"#000000\" fill-rule=\"evenodd\" fill-opacity=\"0\"/>\n",
       "<polyline clip-path=\"url(#clip122)\" style=\"stroke:#0000ff; stroke-linecap:round; stroke-linejoin:round; stroke-width:20; stroke-opacity:1; fill:none\" points=\"1231.82,87.9763 1271.26,89.6985 1310.41,94.852 1348.95,103.398 1386.61,115.27 1423.09,130.379 1458.11,148.61 1491.41,169.824 1522.73,193.86 1551.84,220.534 1578.51,249.643 1602.55,280.967 1623.76,314.266 1641.99,349.288 1657.1,385.765 1668.98,423.42 1677.52,461.966 1682.68,501.111 1684.4,540.556 1682.68,580.001 1677.52,619.146 1668.98,657.692 1657.1,695.347 1641.99,731.825 1623.76,766.846 1602.55,800.145 1578.51,831.469 1551.84,860.578 1522.73,887.252 1491.41,911.288 1458.11,932.502 1423.09,950.733 1386.61,965.842 1348.95,977.715 1310.41,986.26 1271.26,991.414 1231.82,993.136 1192.37,991.414 1153.23,986.26 1114.68,977.715 1077.03,965.842 1040.55,950.733 1005.53,932.502 972.229,911.288 940.906,887.252 911.796,860.578 885.122,831.469 861.087,800.145 839.873,766.846 821.642,731.825 806.532,695.347 794.66,657.692 786.114,619.146 780.961,580.001 779.239,540.556 780.961,501.111 786.114,461.966 794.66,423.42 806.532,385.765 821.642,349.288 839.873,314.266 861.087,280.967 885.122,249.643 911.796,220.534 940.906,193.86 972.229,169.824 1005.53,148.61 1040.55,130.379 1077.03,115.27 1114.68,103.398 1153.23,94.852 1192.37,89.6985 1231.82,87.9763 \"/>\n",
       "</svg>\n"
      ]
     },
     "metadata": {},
     "output_type": "display_data"
    }
   ],
   "source": [
    "plot(circulo(c1, r1), c=false, lc=:red, lw=5, label=false, aspect_ratio=true)\n",
    "plot!(circulo(c2, r2), c=false, lc=:blue, lw=5, label=false)"
   ]
  },
  {
   "cell_type": "markdown",
   "id": "a87e3c2d",
   "metadata": {},
   "source": [
    "# Sobreposição entre quadrados"
   ]
  },
  {
   "cell_type": "markdown",
   "id": "574b0538",
   "metadata": {
    "slideshow": {
     "slide_type": "subslide"
    }
   },
   "source": [
    "## Sem rotação"
   ]
  },
  {
   "cell_type": "code",
   "execution_count": 20,
   "id": "603131a9-e885-4694-995d-5970a75232e4",
   "metadata": {
    "editable": true,
    "slideshow": {
     "slide_type": ""
    },
    "tags": []
   },
   "outputs": [
    {
     "name": "stdout",
     "output_type": "stream",
     "text": [
      "Medida de sobreposição: 9.0\n",
      "Medida de sobreposição (diferenciável): 81.0\n"
     ]
    }
   ],
   "source": [
    "v1 = [1, 1]\n",
    "l1 = 2\n",
    "\n",
    "v2 = [2, 2]\n",
    "l2 = 2\n",
    "\n",
    "overlap1 = max(0.0, v1[1] + l1 - v2[1]) * max(0.0, v2[1] + l2 - v1[1]) * max(0.0, v1[2] + l1 - v2[2]) * max(0.0, v2[2] + l2 - v1[2])\n",
    "\n",
    "overlap2 = max(0.0, v1[1] + l1 - v2[1])^2 * max(0.0, v2[1] + l2 - v1[1])^2 * max(0.0, v1[2] + l1 - v2[2])^2 * max(0.0, v2[2] + l2 - v1[2])^2\n",
    "\n",
    "println(\"Medida de sobreposição: $overlap1\")\n",
    "println(\"Medida de sobreposição (diferenciável): $overlap2\")"
   ]
  },
  {
   "cell_type": "code",
   "execution_count": 21,
   "id": "06bf07b2",
   "metadata": {},
   "outputs": [
    {
     "data": {
      "image/png": "[encoded data removed]",
      "image/svg+xml": [
       "<?xml version=\"1.0\" encoding=\"utf-8\"?>\n",
       "<svg xmlns=\"http://www.w3.org/2000/svg\" xmlns:xlink=\"http://www.w3.org/1999/xlink\" width=\"600\" height=\"400\" viewBox=\"0 0 2400 1600\">\n",
       "<defs>\n",
       "  <clipPath id=\"clip980\">\n",
       "    <rect x=\"0\" y=\"0\" width=\"2400\" height=\"1600\"/>\n",
       "  </clipPath>\n",
       "</defs>\n",
       "<path clip-path=\"url(#clip980)\" d=\"M0 1600 L2400 1600 L2400 0 L0 0  Z\" fill=\"#ffffff\" fill-rule=\"evenodd\" fill-opacity=\"1\"/>\n",
       "<defs>\n",
       "  <clipPath id=\"clip981\">\n",
       "    <rect x=\"480\" y=\"0\" width=\"1681\" height=\"1600\"/>\n",
       "  </clipPath>\n",
       "</defs>\n",
       "<path clip-path=\"url(#clip980)\" d=\"M112.177 1486.45 L2352.76 1486.45 L2352.76 47.2441 L112.177 47.2441  Z\" fill=\"#ffffff\" fill-rule=\"evenodd\" fill-opacity=\"1\"/>\n",
       "<defs>\n",
       "  <clipPath id=\"clip982\">\n",
       "    <rect x=\"112\" y=\"47\" width=\"2242\" height=\"1440\"/>\n",
       "  </clipPath>\n",
       "</defs>\n",
       "<polyline clip-path=\"url(#clip982)\" style=\"stroke:#000000; stroke-linecap:round; stroke-linejoin:round; stroke-width:2; stroke-opacity:0.1; fill:none\" points=\"553.597,1486.45 553.597,47.2441 \"/>\n",
       "<polyline clip-path=\"url(#clip982)\" style=\"stroke:#000000; stroke-linecap:round; stroke-linejoin:round; stroke-width:2; stroke-opacity:0.1; fill:none\" points=\"1006.18,1486.45 1006.18,47.2441 \"/>\n",
       "<polyline clip-path=\"url(#clip982)\" style=\"stroke:#000000; stroke-linecap:round; stroke-linejoin:round; stroke-width:2; stroke-opacity:0.1; fill:none\" points=\"1458.76,1486.45 1458.76,47.2441 \"/>\n",
       "<polyline clip-path=\"url(#clip982)\" style=\"stroke:#000000; stroke-linecap:round; stroke-linejoin:round; stroke-width:2; stroke-opacity:0.1; fill:none\" points=\"1911.34,1486.45 1911.34,47.2441 \"/>\n",
       "<polyline clip-path=\"url(#clip982)\" style=\"stroke:#000000; stroke-linecap:round; stroke-linejoin:round; stroke-width:2; stroke-opacity:0.1; fill:none\" points=\"112.177,1445.72 2352.76,1445.72 \"/>\n",
       "<polyline clip-path=\"url(#clip982)\" style=\"stroke:#000000; stroke-linecap:round; stroke-linejoin:round; stroke-width:2; stroke-opacity:0.1; fill:none\" points=\"112.177,993.136 2352.76,993.136 \"/>\n",
       "<polyline clip-path=\"url(#clip982)\" style=\"stroke:#000000; stroke-linecap:round; stroke-linejoin:round; stroke-width:2; stroke-opacity:0.1; fill:none\" points=\"112.177,540.556 2352.76,540.556 \"/>\n",
       "<polyline clip-path=\"url(#clip982)\" style=\"stroke:#000000; stroke-linecap:round; stroke-linejoin:round; stroke-width:2; stroke-opacity:0.1; fill:none\" points=\"112.177,87.9763 2352.76,87.9763 \"/>\n",
       "<polyline clip-path=\"url(#clip980)\" style=\"stroke:#000000; stroke-linecap:round; stroke-linejoin:round; stroke-width:4; stroke-opacity:1; fill:none\" points=\"112.177,1486.45 2352.76,1486.45 \"/>\n",
       "<polyline clip-path=\"url(#clip980)\" style=\"stroke:#000000; stroke-linecap:round; stroke-linejoin:round; stroke-width:4; stroke-opacity:1; fill:none\" points=\"553.597,1486.45 553.597,1467.55 \"/>\n",
       "<polyline clip-path=\"url(#clip980)\" style=\"stroke:#000000; stroke-linecap:round; stroke-linejoin:round; stroke-width:4; stroke-opacity:1; fill:none\" points=\"1006.18,1486.45 1006.18,1467.55 \"/>\n",
       "<polyline clip-path=\"url(#clip980)\" style=\"stroke:#000000; stroke-linecap:round; stroke-linejoin:round; stroke-width:4; stroke-opacity:1; fill:none\" points=\"1458.76,1486.45 1458.76,1467.55 \"/>\n",
       "<polyline clip-path=\"url(#clip980)\" style=\"stroke:#000000; stroke-linecap:round; stroke-linejoin:round; stroke-width:4; stroke-opacity:1; fill:none\" points=\"1911.34,1486.45 1911.34,1467.55 \"/>\n",
       "<path clip-path=\"url(#clip980)\" d=\"M543.979 1544.91 L551.618 1544.91 L551.618 1518.55 L543.308 1520.21 L543.308 1515.95 L551.571 1514.29 L556.247 1514.29 L556.247 1544.91 L563.886 1544.91 L563.886 1548.85 L543.979 1548.85 L543.979 1544.91 Z\" fill=\"#000000\" fill-rule=\"nonzero\" fill-opacity=\"1\" /><path clip-path=\"url(#clip980)\" d=\"M1000.83 1544.91 L1017.15 1544.91 L1017.15 1548.85 L995.204 1548.85 L995.204 1544.91 Q997.866 1542.16 1002.45 1537.53 Q1007.06 1532.88 1008.24 1531.53 Q1010.48 1529.01 1011.36 1527.27 Q1012.26 1525.51 1012.26 1523.82 Q1012.26 1521.07 1010.32 1519.33 Q1008.4 1517.6 1005.3 1517.6 Q1003.1 1517.6 1000.64 1518.36 Q998.214 1519.13 995.436 1520.68 L995.436 1515.95 Q998.26 1514.82 1000.71 1514.24 Q1003.17 1513.66 1005.2 1513.66 Q1010.57 1513.66 1013.77 1516.35 Q1016.96 1519.03 1016.96 1523.52 Q1016.96 1525.65 1016.15 1527.57 Q1015.37 1529.47 1013.26 1532.07 Q1012.68 1532.74 1009.58 1535.95 Q1006.48 1539.15 1000.83 1544.91 Z\" fill=\"#000000\" fill-rule=\"nonzero\" fill-opacity=\"1\" /><path clip-path=\"url(#clip980)\" d=\"M1463 1530.21 Q1466.36 1530.93 1468.24 1533.2 Q1470.13 1535.47 1470.13 1538.8 Q1470.13 1543.92 1466.62 1546.72 Q1463.1 1549.52 1456.62 1549.52 Q1454.44 1549.52 1452.12 1549.08 Q1449.83 1548.66 1447.38 1547.81 L1447.38 1543.29 Q1449.32 1544.43 1451.64 1545.01 Q1453.95 1545.58 1456.48 1545.58 Q1460.87 1545.58 1463.17 1543.85 Q1465.48 1542.11 1465.48 1538.8 Q1465.48 1535.75 1463.33 1534.03 Q1461.2 1532.3 1457.38 1532.3 L1453.35 1532.3 L1453.35 1528.45 L1457.56 1528.45 Q1461.01 1528.45 1462.84 1527.09 Q1464.67 1525.7 1464.67 1523.11 Q1464.67 1520.45 1462.77 1519.03 Q1460.9 1517.6 1457.38 1517.6 Q1455.46 1517.6 1453.26 1518.01 Q1451.06 1518.43 1448.42 1519.31 L1448.42 1515.14 Q1451.08 1514.4 1453.4 1514.03 Q1455.74 1513.66 1457.8 1513.66 Q1463.12 1513.66 1466.22 1516.09 Q1469.32 1518.5 1469.32 1522.62 Q1469.32 1525.49 1467.68 1527.48 Q1466.04 1529.45 1463 1530.21 Z\" fill=\"#000000\" fill-rule=\"nonzero\" fill-opacity=\"1\" /><path clip-path=\"url(#clip980)\" d=\"M1914.35 1518.36 L1902.54 1536.81 L1914.35 1536.81 L1914.35 1518.36 M1913.12 1514.29 L1919 1514.29 L1919 1536.81 L1923.93 1536.81 L1923.93 1540.7 L1919 1540.7 L1919 1548.85 L1914.35 1548.85 L1914.35 1540.7 L1898.74 1540.7 L1898.74 1536.19 L1913.12 1514.29 Z\" fill=\"#000000\" fill-rule=\"nonzero\" fill-opacity=\"1\" /><polyline clip-path=\"url(#clip980)\" style=\"stroke:#000000; stroke-linecap:round; stroke-linejoin:round; stroke-width:4; stroke-opacity:1; fill:none\" points=\"112.177,1486.45 112.177,47.2441 \"/>\n",
       "<polyline clip-path=\"url(#clip980)\" style=\"stroke:#000000; stroke-linecap:round; stroke-linejoin:round; stroke-width:4; stroke-opacity:1; fill:none\" points=\"112.177,1445.72 131.075,1445.72 \"/>\n",
       "<polyline clip-path=\"url(#clip980)\" style=\"stroke:#000000; stroke-linecap:round; stroke-linejoin:round; stroke-width:4; stroke-opacity:1; fill:none\" points=\"112.177,993.136 131.075,993.136 \"/>\n",
       "<polyline clip-path=\"url(#clip980)\" style=\"stroke:#000000; stroke-linecap:round; stroke-linejoin:round; stroke-width:4; stroke-opacity:1; fill:none\" points=\"112.177,540.556 131.075,540.556 \"/>\n",
       "<polyline clip-path=\"url(#clip980)\" style=\"stroke:#000000; stroke-linecap:round; stroke-linejoin:round; stroke-width:4; stroke-opacity:1; fill:none\" points=\"112.177,87.9763 131.075,87.9763 \"/>\n",
       "<path clip-path=\"url(#clip980)\" d=\"M56.2699 1459.06 L63.9087 1459.06 L63.9087 1432.69 L55.5986 1434.36 L55.5986 1430.1 L63.8624 1428.44 L68.5383 1428.44 L68.5383 1459.06 L76.1772 1459.06 L76.1772 1463 L56.2699 1463 L56.2699 1459.06 Z\" fill=\"#000000\" fill-rule=\"nonzero\" fill-opacity=\"1\" /><path clip-path=\"url(#clip980)\" d=\"M59.8578 1006.48 L76.1772 1006.48 L76.1772 1010.42 L54.2328 1010.42 L54.2328 1006.48 Q56.8949 1003.73 61.4782 999.097 Q66.0846 994.444 67.2652 993.101 Q69.5105 990.578 70.3902 988.842 Q71.2929 987.083 71.2929 985.393 Q71.2929 982.638 69.3485 980.902 Q67.4272 979.166 64.3254 979.166 Q62.1263 979.166 59.6726 979.93 Q57.2421 980.694 54.4643 982.245 L54.4643 977.523 Q57.2884 976.388 59.7421 975.81 Q62.1958 975.231 64.2328 975.231 Q69.6031 975.231 72.7976 977.916 Q75.992 980.601 75.992 985.092 Q75.992 987.222 75.1818 989.143 Q74.3948 991.041 72.2883 993.634 Q71.7096 994.305 68.6078 997.522 Q65.5059 1000.72 59.8578 1006.48 Z\" fill=\"#000000\" fill-rule=\"nonzero\" fill-opacity=\"1\" /><path clip-path=\"url(#clip980)\" d=\"M69.0476 539.202 Q72.404 539.92 74.279 542.188 Q76.1772 544.457 76.1772 547.79 Q76.1772 552.906 72.6587 555.706 Q69.1402 558.507 62.6587 558.507 Q60.4828 558.507 58.168 558.068 Q55.8764 557.651 53.4227 556.794 L53.4227 552.281 Q55.3671 553.415 57.6819 553.994 Q59.9967 554.572 62.5198 554.572 Q66.918 554.572 69.2096 552.836 Q71.5244 551.1 71.5244 547.79 Q71.5244 544.734 69.3717 543.021 Q67.242 541.285 63.4226 541.285 L59.3949 541.285 L59.3949 537.443 L63.6078 537.443 Q67.0569 537.443 68.8855 536.077 Q70.7142 534.688 70.7142 532.095 Q70.7142 529.433 68.8161 528.021 Q66.9411 526.586 63.4226 526.586 Q61.5013 526.586 59.3023 527.003 Q57.1032 527.42 54.4643 528.299 L54.4643 524.133 Q57.1264 523.392 59.4412 523.021 Q61.7791 522.651 63.8393 522.651 Q69.1633 522.651 72.2652 525.082 Q75.367 527.489 75.367 531.609 Q75.367 534.48 73.7235 536.47 Q72.08 538.438 69.0476 539.202 Z\" fill=\"#000000\" fill-rule=\"nonzero\" fill-opacity=\"1\" /><path clip-path=\"url(#clip980)\" d=\"M66.5939 74.7703 L54.7884 93.2193 L66.5939 93.2193 L66.5939 74.7703 M65.367 70.6963 L71.2466 70.6963 L71.2466 93.2193 L76.1772 93.2193 L76.1772 97.1082 L71.2466 97.1082 L71.2466 105.256 L66.5939 105.256 L66.5939 97.1082 L50.9921 97.1082 L50.9921 92.5943 L65.367 70.6963 Z\" fill=\"#000000\" fill-rule=\"nonzero\" fill-opacity=\"1\" /><path clip-path=\"url(#clip982)\" d=\"M553.597 1445.72 L1458.76 1445.72 L1458.76 540.556 L553.597 540.556 L553.597 1445.72  Z\" fill=\"#000000\" fill-rule=\"evenodd\" fill-opacity=\"0\"/>\n",
       "<polyline clip-path=\"url(#clip982)\" style=\"stroke:#ff0000; stroke-linecap:round; stroke-linejoin:round; stroke-width:20; stroke-opacity:1; fill:none\" points=\"553.597,1445.72 1458.76,1445.72 1458.76,540.556 553.597,540.556 553.597,1445.72 \"/>\n",
       "<path clip-path=\"url(#clip982)\" d=\"M1006.18 993.136 L1911.34 993.136 L1911.34 87.9763 L1006.18 87.9763 L1006.18 993.136  Z\" fill=\"#000000\" fill-rule=\"evenodd\" fill-opacity=\"0\"/>\n",
       "<polyline clip-path=\"url(#clip982)\" style=\"stroke:#0000ff; stroke-linecap:round; stroke-linejoin:round; stroke-width:20; stroke-opacity:1; fill:none\" points=\"1006.18,993.136 1911.34,993.136 1911.34,87.9763 1006.18,87.9763 1006.18,993.136 \"/>\n",
       "</svg>\n"
      ],
      "text/html": [
       "<?xml version=\"1.0\" encoding=\"utf-8\"?>\n",
       "<svg xmlns=\"http://www.w3.org/2000/svg\" xmlns:xlink=\"http://www.w3.org/1999/xlink\" width=\"600\" height=\"400\" viewBox=\"0 0 2400 1600\">\n",
       "<defs>\n",
       "  <clipPath id=\"clip030\">\n",
       "    <rect x=\"0\" y=\"0\" width=\"2400\" height=\"1600\"/>\n",
       "  </clipPath>\n",
       "</defs>\n",
       "<path clip-path=\"url(#clip030)\" d=\"M0 1600 L2400 1600 L2400 0 L0 0  Z\" fill=\"#ffffff\" fill-rule=\"evenodd\" fill-opacity=\"1\"/>\n",
       "<defs>\n",
       "  <clipPath id=\"clip031\">\n",
       "    <rect x=\"480\" y=\"0\" width=\"1681\" height=\"1600\"/>\n",
       "  </clipPath>\n",
       "</defs>\n",
       "<path clip-path=\"url(#clip030)\" d=\"M112.177 1486.45 L2352.76 1486.45 L2352.76 47.2441 L112.177 47.2441  Z\" fill=\"#ffffff\" fill-rule=\"evenodd\" fill-opacity=\"1\"/>\n",
       "<defs>\n",
       "  <clipPath id=\"clip032\">\n",
       "    <rect x=\"112\" y=\"47\" width=\"2242\" height=\"1440\"/>\n",
       "  </clipPath>\n",
       "</defs>\n",
       "<polyline clip-path=\"url(#clip032)\" style=\"stroke:#000000; stroke-linecap:round; stroke-linejoin:round; stroke-width:2; stroke-opacity:0.1; fill:none\" points=\"553.597,1486.45 553.597,47.2441 \"/>\n",
       "<polyline clip-path=\"url(#clip032)\" style=\"stroke:#000000; stroke-linecap:round; stroke-linejoin:round; stroke-width:2; stroke-opacity:0.1; fill:none\" points=\"1006.18,1486.45 1006.18,47.2441 \"/>\n",
       "<polyline clip-path=\"url(#clip032)\" style=\"stroke:#000000; stroke-linecap:round; stroke-linejoin:round; stroke-width:2; stroke-opacity:0.1; fill:none\" points=\"1458.76,1486.45 1458.76,47.2441 \"/>\n",
       "<polyline clip-path=\"url(#clip032)\" style=\"stroke:#000000; stroke-linecap:round; stroke-linejoin:round; stroke-width:2; stroke-opacity:0.1; fill:none\" points=\"1911.34,1486.45 1911.34,47.2441 \"/>\n",
       "<polyline clip-path=\"url(#clip032)\" style=\"stroke:#000000; stroke-linecap:round; stroke-linejoin:round; stroke-width:2; stroke-opacity:0.1; fill:none\" points=\"112.177,1445.72 2352.76,1445.72 \"/>\n",
       "<polyline clip-path=\"url(#clip032)\" style=\"stroke:#000000; stroke-linecap:round; stroke-linejoin:round; stroke-width:2; stroke-opacity:0.1; fill:none\" points=\"112.177,993.136 2352.76,993.136 \"/>\n",
       "<polyline clip-path=\"url(#clip032)\" style=\"stroke:#000000; stroke-linecap:round; stroke-linejoin:round; stroke-width:2; stroke-opacity:0.1; fill:none\" points=\"112.177,540.556 2352.76,540.556 \"/>\n",
       "<polyline clip-path=\"url(#clip032)\" style=\"stroke:#000000; stroke-linecap:round; stroke-linejoin:round; stroke-width:2; stroke-opacity:0.1; fill:none\" points=\"112.177,87.9763 2352.76,87.9763 \"/>\n",
       "<polyline clip-path=\"url(#clip030)\" style=\"stroke:#000000; stroke-linecap:round; stroke-linejoin:round; stroke-width:4; stroke-opacity:1; fill:none\" points=\"112.177,1486.45 2352.76,1486.45 \"/>\n",
       "<polyline clip-path=\"url(#clip030)\" style=\"stroke:#000000; stroke-linecap:round; stroke-linejoin:round; stroke-width:4; stroke-opacity:1; fill:none\" points=\"553.597,1486.45 553.597,1467.55 \"/>\n",
       "<polyline clip-path=\"url(#clip030)\" style=\"stroke:#000000; stroke-linecap:round; stroke-linejoin:round; stroke-width:4; stroke-opacity:1; fill:none\" points=\"1006.18,1486.45 1006.18,1467.55 \"/>\n",
       "<polyline clip-path=\"url(#clip030)\" style=\"stroke:#000000; stroke-linecap:round; stroke-linejoin:round; stroke-width:4; stroke-opacity:1; fill:none\" points=\"1458.76,1486.45 1458.76,1467.55 \"/>\n",
       "<polyline clip-path=\"url(#clip030)\" style=\"stroke:#000000; stroke-linecap:round; stroke-linejoin:round; stroke-width:4; stroke-opacity:1; fill:none\" points=\"1911.34,1486.45 1911.34,1467.55 \"/>\n",
       "<path clip-path=\"url(#clip030)\" d=\"M543.979 1544.91 L551.618 1544.91 L551.618 1518.55 L543.308 1520.21 L543.308 1515.95 L551.571 1514.29 L556.247 1514.29 L556.247 1544.91 L563.886 1544.91 L563.886 1548.85 L543.979 1548.85 L543.979 1544.91 Z\" fill=\"#000000\" fill-rule=\"nonzero\" fill-opacity=\"1\" /><path clip-path=\"url(#clip030)\" d=\"M1000.83 1544.91 L1017.15 1544.91 L1017.15 1548.85 L995.204 1548.85 L995.204 1544.91 Q997.866 1542.16 1002.45 1537.53 Q1007.06 1532.88 1008.24 1531.53 Q1010.48 1529.01 1011.36 1527.27 Q1012.26 1525.51 1012.26 1523.82 Q1012.26 1521.07 1010.32 1519.33 Q1008.4 1517.6 1005.3 1517.6 Q1003.1 1517.6 1000.64 1518.36 Q998.214 1519.13 995.436 1520.68 L995.436 1515.95 Q998.26 1514.82 1000.71 1514.24 Q1003.17 1513.66 1005.2 1513.66 Q1010.57 1513.66 1013.77 1516.35 Q1016.96 1519.03 1016.96 1523.52 Q1016.96 1525.65 1016.15 1527.57 Q1015.37 1529.47 1013.26 1532.07 Q1012.68 1532.74 1009.58 1535.95 Q1006.48 1539.15 1000.83 1544.91 Z\" fill=\"#000000\" fill-rule=\"nonzero\" fill-opacity=\"1\" /><path clip-path=\"url(#clip030)\" d=\"M1463 1530.21 Q1466.36 1530.93 1468.24 1533.2 Q1470.13 1535.47 1470.13 1538.8 Q1470.13 1543.92 1466.62 1546.72 Q1463.1 1549.52 1456.62 1549.52 Q1454.44 1549.52 1452.12 1549.08 Q1449.83 1548.66 1447.38 1547.81 L1447.38 1543.29 Q1449.32 1544.43 1451.64 1545.01 Q1453.95 1545.58 1456.48 1545.58 Q1460.87 1545.58 1463.17 1543.85 Q1465.48 1542.11 1465.48 1538.8 Q1465.48 1535.75 1463.33 1534.03 Q1461.2 1532.3 1457.38 1532.3 L1453.35 1532.3 L1453.35 1528.45 L1457.56 1528.45 Q1461.01 1528.45 1462.84 1527.09 Q1464.67 1525.7 1464.67 1523.11 Q1464.67 1520.45 1462.77 1519.03 Q1460.9 1517.6 1457.38 1517.6 Q1455.46 1517.6 1453.26 1518.01 Q1451.06 1518.43 1448.42 1519.31 L1448.42 1515.14 Q1451.08 1514.4 1453.4 1514.03 Q1455.74 1513.66 1457.8 1513.66 Q1463.12 1513.66 1466.22 1516.09 Q1469.32 1518.5 1469.32 1522.62 Q1469.32 1525.49 1467.68 1527.48 Q1466.04 1529.45 1463 1530.21 Z\" fill=\"#000000\" fill-rule=\"nonzero\" fill-opacity=\"1\" /><path clip-path=\"url(#clip030)\" d=\"M1914.35 1518.36 L1902.54 1536.81 L1914.35 1536.81 L1914.35 1518.36 M1913.12 1514.29 L1919 1514.29 L1919 1536.81 L1923.93 1536.81 L1923.93 1540.7 L1919 1540.7 L1919 1548.85 L1914.35 1548.85 L1914.35 1540.7 L1898.74 1540.7 L1898.74 1536.19 L1913.12 1514.29 Z\" fill=\"#000000\" fill-rule=\"nonzero\" fill-opacity=\"1\" /><polyline clip-path=\"url(#clip030)\" style=\"stroke:#000000; stroke-linecap:round; stroke-linejoin:round; stroke-width:4; stroke-opacity:1; fill:none\" points=\"112.177,1486.45 112.177,47.2441 \"/>\n",
       "<polyline clip-path=\"url(#clip030)\" style=\"stroke:#000000; stroke-linecap:round; stroke-linejoin:round; stroke-width:4; stroke-opacity:1; fill:none\" points=\"112.177,1445.72 131.075,1445.72 \"/>\n",
       "<polyline clip-path=\"url(#clip030)\" style=\"stroke:#000000; stroke-linecap:round; stroke-linejoin:round; stroke-width:4; stroke-opacity:1; fill:none\" points=\"112.177,993.136 131.075,993.136 \"/>\n",
       "<polyline clip-path=\"url(#clip030)\" style=\"stroke:#000000; stroke-linecap:round; stroke-linejoin:round; stroke-width:4; stroke-opacity:1; fill:none\" points=\"112.177,540.556 131.075,540.556 \"/>\n",
       "<polyline clip-path=\"url(#clip030)\" style=\"stroke:#000000; stroke-linecap:round; stroke-linejoin:round; stroke-width:4; stroke-opacity:1; fill:none\" points=\"112.177,87.9763 131.075,87.9763 \"/>\n",
       "<path clip-path=\"url(#clip030)\" d=\"M56.2699 1459.06 L63.9087 1459.06 L63.9087 1432.69 L55.5986 1434.36 L55.5986 1430.1 L63.8624 1428.44 L68.5383 1428.44 L68.5383 1459.06 L76.1772 1459.06 L76.1772 1463 L56.2699 1463 L56.2699 1459.06 Z\" fill=\"#000000\" fill-rule=\"nonzero\" fill-opacity=\"1\" /><path clip-path=\"url(#clip030)\" d=\"M59.8578 1006.48 L76.1772 1006.48 L76.1772 1010.42 L54.2328 1010.42 L54.2328 1006.48 Q56.8949 1003.73 61.4782 999.097 Q66.0846 994.444 67.2652 993.101 Q69.5105 990.578 70.3902 988.842 Q71.2929 987.083 71.2929 985.393 Q71.2929 982.638 69.3485 980.902 Q67.4272 979.166 64.3254 979.166 Q62.1263 979.166 59.6726 979.93 Q57.2421 980.694 54.4643 982.245 L54.4643 977.523 Q57.2884 976.388 59.7421 975.81 Q62.1958 975.231 64.2328 975.231 Q69.6031 975.231 72.7976 977.916 Q75.992 980.601 75.992 985.092 Q75.992 987.222 75.1818 989.143 Q74.3948 991.041 72.2883 993.634 Q71.7096 994.305 68.6078 997.522 Q65.5059 1000.72 59.8578 1006.48 Z\" fill=\"#000000\" fill-rule=\"nonzero\" fill-opacity=\"1\" /><path clip-path=\"url(#clip030)\" d=\"M69.0476 539.202 Q72.404 539.92 74.279 542.188 Q76.1772 544.457 76.1772 547.79 Q76.1772 552.906 72.6587 555.706 Q69.1402 558.507 62.6587 558.507 Q60.4828 558.507 58.168 558.068 Q55.8764 557.651 53.4227 556.794 L53.4227 552.281 Q55.3671 553.415 57.6819 553.994 Q59.9967 554.572 62.5198 554.572 Q66.918 554.572 69.2096 552.836 Q71.5244 551.1 71.5244 547.79 Q71.5244 544.734 69.3717 543.021 Q67.242 541.285 63.4226 541.285 L59.3949 541.285 L59.3949 537.443 L63.6078 537.443 Q67.0569 537.443 68.8855 536.077 Q70.7142 534.688 70.7142 532.095 Q70.7142 529.433 68.8161 528.021 Q66.9411 526.586 63.4226 526.586 Q61.5013 526.586 59.3023 527.003 Q57.1032 527.42 54.4643 528.299 L54.4643 524.133 Q57.1264 523.392 59.4412 523.021 Q61.7791 522.651 63.8393 522.651 Q69.1633 522.651 72.2652 525.082 Q75.367 527.489 75.367 531.609 Q75.367 534.48 73.7235 536.47 Q72.08 538.438 69.0476 539.202 Z\" fill=\"#000000\" fill-rule=\"nonzero\" fill-opacity=\"1\" /><path clip-path=\"url(#clip030)\" d=\"M66.5939 74.7703 L54.7884 93.2193 L66.5939 93.2193 L66.5939 74.7703 M65.367 70.6963 L71.2466 70.6963 L71.2466 93.2193 L76.1772 93.2193 L76.1772 97.1082 L71.2466 97.1082 L71.2466 105.256 L66.5939 105.256 L66.5939 97.1082 L50.9921 97.1082 L50.9921 92.5943 L65.367 70.6963 Z\" fill=\"#000000\" fill-rule=\"nonzero\" fill-opacity=\"1\" /><path clip-path=\"url(#clip032)\" d=\"M553.597 1445.72 L1458.76 1445.72 L1458.76 540.556 L553.597 540.556 L553.597 1445.72  Z\" fill=\"#000000\" fill-rule=\"evenodd\" fill-opacity=\"0\"/>\n",
       "<polyline clip-path=\"url(#clip032)\" style=\"stroke:#ff0000; stroke-linecap:round; stroke-linejoin:round; stroke-width:20; stroke-opacity:1; fill:none\" points=\"553.597,1445.72 1458.76,1445.72 1458.76,540.556 553.597,540.556 553.597,1445.72 \"/>\n",
       "<path clip-path=\"url(#clip032)\" d=\"M1006.18 993.136 L1911.34 993.136 L1911.34 87.9763 L1006.18 87.9763 L1006.18 993.136  Z\" fill=\"#000000\" fill-rule=\"evenodd\" fill-opacity=\"0\"/>\n",
       "<polyline clip-path=\"url(#clip032)\" style=\"stroke:#0000ff; stroke-linecap:round; stroke-linejoin:round; stroke-width:20; stroke-opacity:1; fill:none\" points=\"1006.18,993.136 1911.34,993.136 1911.34,87.9763 1006.18,87.9763 1006.18,993.136 \"/>\n",
       "</svg>\n"
      ]
     },
     "metadata": {},
     "output_type": "display_data"
    }
   ],
   "source": [
    "plot(quadrado(v1, l1), c=false, lc=:red, lw=5, label=false, aspect_ratio=true)\n",
    "plot!(quadrado(v2, l2), c=false, lc=:blue, lw=5, label=false, aspect_ratio=true)"
   ]
  },
  {
   "cell_type": "code",
   "execution_count": null,
   "id": "b95c035e",
   "metadata": {},
   "outputs": [],
   "source": []
  }
 ],
 "metadata": {
  "kernelspec": {
   "display_name": "Julia 1.10.7",
   "language": "julia",
   "name": "julia-1.10"
  },
  "language_info": {
   "file_extension": ".jl",
   "mimetype": "application/julia",
   "name": "julia",
   "version": "1.10.7"
  },
  "toc": {
   "base_numbering": 0
  }
 },
 "nbformat": 4,
 "nbformat_minor": 5
}
