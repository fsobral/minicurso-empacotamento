{
 "cells": [
  {
   "cell_type": "code",
   "execution_count": 1,
   "id": "54e6c8f1",
   "metadata": {},
   "outputs": [
    {
     "name": "stderr",
     "output_type": "stream",
     "text": [
      "\u001b[32m\u001b[1m  Activating\u001b[22m\u001b[39m project at `~/personal/working/minicurso-empacotamento/ermacpr25`\n"
     ]
    }
   ],
   "source": [
    "using Pkg\n",
    "\n",
    "Pkg.activate(\"ermacpr25\")\n",
    "Pkg.instantiate()"
   ]
  },
  {
   "cell_type": "code",
   "execution_count": 2,
   "id": "3a3d1087",
   "metadata": {},
   "outputs": [],
   "source": [
    "using LinearAlgebra, Plots"
   ]
  },
  {
   "cell_type": "code",
   "execution_count": 9,
   "id": "262ff2f5",
   "metadata": {},
   "outputs": [
    {
     "data": {
      "text/plain": [
       "plota_solucao"
      ]
     },
     "metadata": {},
     "output_type": "display_data"
    }
   ],
   "source": [
    "include(\"ermacpr25/src/ermacpr25.jl\")"
   ]
  },
  {
   "cell_type": "markdown",
   "id": "a1ad9dae-c258-4562-9bdb-34c458b84df0",
   "metadata": {
    "editable": true,
    "slideshow": {
     "slide_type": "subslide"
    },
    "tags": []
   },
   "source": [
    "# O que é um problema de empacotamento?"
   ]
  },
  {
   "cell_type": "markdown",
   "id": "360c4415",
   "metadata": {
    "slideshow": {
     "slide_type": "subslide"
    }
   },
   "source": [
    "## Uma definição simples\n",
    "\n",
    "Em problemas de empacotamento, desejamos **alocar** objetos em **contêineres**."
   ]
  },
  {
   "cell_type": "markdown",
   "id": "15becfaf",
   "metadata": {
    "slideshow": {
     "slide_type": "subslide"
    }
   },
   "source": [
    "Problemas de empacotamento aparecem em diversas áreas\n",
    "\n",
    "  - Alocação de objetos em caixas\n",
    "  - Alocação de objetos em caminhões\n",
    "  - Cortes de peças\n",
    "  - Simulações com proteínas\n",
    "  - Organização de ambientes\n",
    "  - Muito, muito mais"
   ]
  },
  {
   "cell_type": "markdown",
   "id": "7395c5cf",
   "metadata": {
    "slideshow": {
     "slide_type": "subslide"
    }
   },
   "source": [
    "## Mais informações\n",
    "\n",
    "  - HIFI, Mhand; M′ HALLAH, Rym. **A literature review on circle and sphere packing problems: Models and methodologies**. Advances in Operations Research, v. 2009, n. 1, p. 150624, 2009\n",
    "  - LEAO, Aline AS et al. **Irregular packing problems: A review of mathematical models**. European Journal of Operational Research, v. 282, n. 3, p. 803-822, 2020\n",
    "  - E. Spetch, **Packomania**, `http://packomania.com/`, 2025"
   ]
  },
  {
   "cell_type": "markdown",
   "id": "ecf33b30",
   "metadata": {
    "slideshow": {
     "slide_type": "subslide"
    }
   },
   "source": [
    "## Empacotamento de círculos e esferas\n",
    "\n",
    "![circle-packing](figures/circle-packing.jpeg)"
   ]
  },
  {
   "cell_type": "markdown",
   "id": "52d947d0",
   "metadata": {
    "slideshow": {
     "slide_type": "fragment"
    }
   },
   "source": [
    "![sphere-packing](figures/sphere-packing.jpeg)"
   ]
  },
  {
   "cell_type": "markdown",
   "id": "3e034db9",
   "metadata": {
    "slideshow": {
     "slide_type": "fragment"
    }
   },
   "source": [
    "### Sala Planejada\n",
    "\n",
    "![sala-planejada](figures/sala-planejada.png)"
   ]
  },
  {
   "cell_type": "markdown",
   "id": "de6fc2cd",
   "metadata": {
    "slideshow": {
     "slide_type": "fragment"
    }
   },
   "source": [
    "### Empacotamento de triângulos\n",
    "\n",
    "![triangle-packing](figures/triangle-packing.png)"
   ]
  },
  {
   "cell_type": "markdown",
   "id": "af1cc0a9",
   "metadata": {
    "slideshow": {
     "slide_type": "fragment"
    }
   },
   "source": [
    "### Empacotamento em 2 níveis\n",
    "\n",
    "![bilevel](figures/padeiro1.jpg)"
   ]
  },
  {
   "cell_type": "markdown",
   "id": "be0e197d",
   "metadata": {
    "slideshow": {
     "slide_type": "fragment"
    }
   },
   "source": [
    "### Polígonos regulares ou irregulares\n",
    "\n",
    "![irregular](figures/irregular-packing.jpg)"
   ]
  },
  {
   "cell_type": "markdown",
   "id": "22fc06f5-db81-497c-8163-7cc4154f3bc5",
   "metadata": {
    "editable": true,
    "slideshow": {
     "slide_type": "subslide"
    },
    "tags": []
   },
   "source": [
    "### Definição do problema\n",
    "\n",
    "  - Temos um conjunto com $N$ itens\n",
    "      - Círculos\n",
    "      - Quadrados\n",
    "      - Polígonos\n",
    "      - Esferas\n",
    "      - Elipsoides\n",
    "      - **Triângulos**"
   ]
  },
  {
   "cell_type": "markdown",
   "id": "0f43a860-d359-4621-ab60-d2e0de4c2bb6",
   "metadata": {
    "editable": true,
    "slideshow": {
     "slide_type": "fragment"
    },
    "tags": []
   },
   "source": [
    "  - Temos um contêiner\n",
    "      - Círculos, esferas\n",
    "      - Quadrados, cubos\n",
    "      - Retângulos, _strips_\n",
    "      - Polígonos"
   ]
  },
  {
   "cell_type": "markdown",
   "id": "7379eb1a-71b6-46a6-91e7-0ecaeda880dc",
   "metadata": {
    "editable": true,
    "slideshow": {
     "slide_type": "fragment"
    },
    "tags": []
   },
   "source": [
    "  - Devemos **alocar** o máximo de itens no contêiner\n",
    "  - Devemos encontrar o \"menor\" contêiner que os contém\n",
    "  - Podemos ter objetos idênticos ou não\n",
    "  - Não pode haver **sobreposição**"
   ]
  },
  {
   "cell_type": "markdown",
   "id": "ec7dc6d3",
   "metadata": {
    "slideshow": {
     "slide_type": "fragment"
    }
   },
   "source": [
    "$$\n",
    "\\begin{array}{ll}\n",
    "\\min & \\text{área, perímetro, nada \\dots} \\\\\n",
    "\\text{suj. a} & \\text{Não sobreposição} \\\\\n",
    "& \\text{Pertinência} \\\\\n",
    "\\end{array}\n",
    "$$"
   ]
  },
  {
   "cell_type": "markdown",
   "id": "565d0c75-0df4-4b8d-b075-fdce6564b7da",
   "metadata": {
    "editable": true,
    "slideshow": {
     "slide_type": "slide"
    },
    "tags": []
   },
   "source": [
    "# Sobreposição de dois círculos?"
   ]
  },
  {
   "cell_type": "markdown",
   "id": "6a3907a4",
   "metadata": {
    "slideshow": {
     "slide_type": "subslide"
    }
   },
   "source": [
    "Modifique os valores abaixo e veja o valor da sobreposição"
   ]
  },
  {
   "cell_type": "code",
   "execution_count": 22,
   "id": "a641e87b-28ea-45c0-ba22-5438bc90b549",
   "metadata": {
    "editable": true,
    "slideshow": {
     "slide_type": "subslide"
    },
    "tags": []
   },
   "outputs": [
    {
     "name": "stdout",
     "output_type": "stream",
     "text": [
      "Sobreposição = -1.0\n"
     ]
    }
   ],
   "source": [
    "c1 = [1, 1]\n",
    "r1 = 1\n",
    "\n",
    "c2 = [1, 2]\n",
    "r2 = 1\n",
    "\n",
    "s = norm(c2 - c1) - (r1 + r2)\n",
    "\n",
    "println(\"Sobreposição = $s\")"
   ]
  },
  {
   "cell_type": "code",
   "execution_count": 23,
   "id": "cf85d0c9-262d-4848-be74-42ff77dc63d8",
   "metadata": {
    "editable": true,
    "slideshow": {
     "slide_type": "subslide"
    },
    "tags": []
   },
   "outputs": [
    {
     "data": {
      "image/png": "[encoded data removed]",
      "image/svg+xml": [
       "<?xml version=\"1.0\" encoding=\"utf-8\"?>\n",
       "<svg xmlns=\"http://www.w3.org/2000/svg\" xmlns:xlink=\"http://www.w3.org/1999/xlink\" width=\"600\" height=\"400\" viewBox=\"0 0 2400 1600\">\n",
       "<defs>\n",
       "  <clipPath id=\"clip070\">\n",
       "    <rect x=\"0\" y=\"0\" width=\"2400\" height=\"1600\"/>\n",
       "  </clipPath>\n",
       "</defs>\n",
       "<path clip-path=\"url(#clip070)\" d=\"M0 1600 L2400 1600 L2400 0 L0 0  Z\" fill=\"#ffffff\" fill-rule=\"evenodd\" fill-opacity=\"1\"/>\n",
       "<defs>\n",
       "  <clipPath id=\"clip071\">\n",
       "    <rect x=\"480\" y=\"0\" width=\"1681\" height=\"1600\"/>\n",
       "  </clipPath>\n",
       "</defs>\n",
       "<path clip-path=\"url(#clip070)\" d=\"M110.881 1486.45 L2352.76 1486.45 L2352.76 47.2441 L110.881 47.2441  Z\" fill=\"#ffffff\" fill-rule=\"evenodd\" fill-opacity=\"1\"/>\n",
       "<defs>\n",
       "  <clipPath id=\"clip072\">\n",
       "    <rect x=\"110\" y=\"47\" width=\"2243\" height=\"1440\"/>\n",
       "  </clipPath>\n",
       "</defs>\n",
       "<polyline clip-path=\"url(#clip072)\" style=\"stroke:#000000; stroke-linecap:round; stroke-linejoin:round; stroke-width:2; stroke-opacity:0.1; fill:none\" points=\"326.659,1486.45 326.659,47.2441 \"/>\n",
       "<polyline clip-path=\"url(#clip072)\" style=\"stroke:#000000; stroke-linecap:round; stroke-linejoin:round; stroke-width:2; stroke-opacity:0.1; fill:none\" points=\"779.239,1486.45 779.239,47.2441 \"/>\n",
       "<polyline clip-path=\"url(#clip072)\" style=\"stroke:#000000; stroke-linecap:round; stroke-linejoin:round; stroke-width:2; stroke-opacity:0.1; fill:none\" points=\"1231.82,1486.45 1231.82,47.2441 \"/>\n",
       "<polyline clip-path=\"url(#clip072)\" style=\"stroke:#000000; stroke-linecap:round; stroke-linejoin:round; stroke-width:2; stroke-opacity:0.1; fill:none\" points=\"1684.4,1486.45 1684.4,47.2441 \"/>\n",
       "<polyline clip-path=\"url(#clip072)\" style=\"stroke:#000000; stroke-linecap:round; stroke-linejoin:round; stroke-width:2; stroke-opacity:0.1; fill:none\" points=\"2136.98,1486.45 2136.98,47.2441 \"/>\n",
       "<polyline clip-path=\"url(#clip072)\" style=\"stroke:#000000; stroke-linecap:round; stroke-linejoin:round; stroke-width:2; stroke-opacity:0.1; fill:none\" points=\"110.881,1445.72 2352.76,1445.72 \"/>\n",
       "<polyline clip-path=\"url(#clip072)\" style=\"stroke:#000000; stroke-linecap:round; stroke-linejoin:round; stroke-width:2; stroke-opacity:0.1; fill:none\" points=\"110.881,993.136 2352.76,993.136 \"/>\n",
       "<polyline clip-path=\"url(#clip072)\" style=\"stroke:#000000; stroke-linecap:round; stroke-linejoin:round; stroke-width:2; stroke-opacity:0.1; fill:none\" points=\"110.881,540.556 2352.76,540.556 \"/>\n",
       "<polyline clip-path=\"url(#clip072)\" style=\"stroke:#000000; stroke-linecap:round; stroke-linejoin:round; stroke-width:2; stroke-opacity:0.1; fill:none\" points=\"110.881,87.9763 2352.76,87.9763 \"/>\n",
       "<polyline clip-path=\"url(#clip070)\" style=\"stroke:#000000; stroke-linecap:round; stroke-linejoin:round; stroke-width:4; stroke-opacity:1; fill:none\" points=\"110.881,1486.45 2352.76,1486.45 \"/>\n",
       "<polyline clip-path=\"url(#clip070)\" style=\"stroke:#000000; stroke-linecap:round; stroke-linejoin:round; stroke-width:4; stroke-opacity:1; fill:none\" points=\"326.659,1486.45 326.659,1467.55 \"/>\n",
       "<polyline clip-path=\"url(#clip070)\" style=\"stroke:#000000; stroke-linecap:round; stroke-linejoin:round; stroke-width:4; stroke-opacity:1; fill:none\" points=\"779.239,1486.45 779.239,1467.55 \"/>\n",
       "<polyline clip-path=\"url(#clip070)\" style=\"stroke:#000000; stroke-linecap:round; stroke-linejoin:round; stroke-width:4; stroke-opacity:1; fill:none\" points=\"1231.82,1486.45 1231.82,1467.55 \"/>\n",
       "<polyline clip-path=\"url(#clip070)\" style=\"stroke:#000000; stroke-linecap:round; stroke-linejoin:round; stroke-width:4; stroke-opacity:1; fill:none\" points=\"1684.4,1486.45 1684.4,1467.55 \"/>\n",
       "<polyline clip-path=\"url(#clip070)\" style=\"stroke:#000000; stroke-linecap:round; stroke-linejoin:round; stroke-width:4; stroke-opacity:1; fill:none\" points=\"2136.98,1486.45 2136.98,1467.55 \"/>\n",
       "<path clip-path=\"url(#clip070)\" d=\"M296.416 1532.02 L326.092 1532.02 L326.092 1535.95 L296.416 1535.95 L296.416 1532.02 Z\" fill=\"#000000\" fill-rule=\"nonzero\" fill-opacity=\"1\" /><path clip-path=\"url(#clip070)\" d=\"M336.994 1544.91 L344.633 1544.91 L344.633 1518.55 L336.323 1520.21 L336.323 1515.95 L344.587 1514.29 L349.263 1514.29 L349.263 1544.91 L356.902 1544.91 L356.902 1548.85 L336.994 1548.85 L336.994 1544.91 Z\" fill=\"#000000\" fill-rule=\"nonzero\" fill-opacity=\"1\" /><path clip-path=\"url(#clip070)\" d=\"M779.239 1517.37 Q775.627 1517.37 773.799 1520.93 Q771.993 1524.47 771.993 1531.6 Q771.993 1538.71 773.799 1542.27 Q775.627 1545.82 779.239 1545.82 Q782.873 1545.82 784.678 1542.27 Q786.507 1538.71 786.507 1531.6 Q786.507 1524.47 784.678 1520.93 Q782.873 1517.37 779.239 1517.37 M779.239 1513.66 Q785.049 1513.66 788.104 1518.27 Q791.183 1522.85 791.183 1531.6 Q791.183 1540.33 788.104 1544.94 Q785.049 1549.52 779.239 1549.52 Q773.428 1549.52 770.35 1544.94 Q767.294 1540.33 767.294 1531.6 Q767.294 1522.85 770.35 1518.27 Q773.428 1513.66 779.239 1513.66 Z\" fill=\"#000000\" fill-rule=\"nonzero\" fill-opacity=\"1\" /><path clip-path=\"url(#clip070)\" d=\"M1222.2 1544.91 L1229.84 1544.91 L1229.84 1518.55 L1221.53 1520.21 L1221.53 1515.95 L1229.79 1514.29 L1234.47 1514.29 L1234.47 1544.91 L1242.11 1544.91 L1242.11 1548.85 L1222.2 1548.85 L1222.2 1544.91 Z\" fill=\"#000000\" fill-rule=\"nonzero\" fill-opacity=\"1\" /><path clip-path=\"url(#clip070)\" d=\"M1679.05 1544.91 L1695.37 1544.91 L1695.37 1548.85 L1673.43 1548.85 L1673.43 1544.91 Q1676.09 1542.16 1680.67 1537.53 Q1685.28 1532.88 1686.46 1531.53 Q1688.7 1529.01 1689.58 1527.27 Q1690.49 1525.51 1690.49 1523.82 Q1690.49 1521.07 1688.54 1519.33 Q1686.62 1517.6 1683.52 1517.6 Q1681.32 1517.6 1678.87 1518.36 Q1676.44 1519.13 1673.66 1520.68 L1673.66 1515.95 Q1676.48 1514.82 1678.94 1514.24 Q1681.39 1513.66 1683.43 1513.66 Q1688.8 1513.66 1691.99 1516.35 Q1695.19 1519.03 1695.19 1523.52 Q1695.19 1525.65 1694.37 1527.57 Q1693.59 1529.47 1691.48 1532.07 Q1690.9 1532.74 1687.8 1535.95 Q1684.7 1539.15 1679.05 1544.91 Z\" fill=\"#000000\" fill-rule=\"nonzero\" fill-opacity=\"1\" /><path clip-path=\"url(#clip070)\" d=\"M2141.23 1530.21 Q2144.58 1530.93 2146.46 1533.2 Q2148.36 1535.47 2148.36 1538.8 Q2148.36 1543.92 2144.84 1546.72 Q2141.32 1549.52 2134.84 1549.52 Q2132.66 1549.52 2130.35 1549.08 Q2128.05 1548.66 2125.6 1547.81 L2125.6 1543.29 Q2127.55 1544.43 2129.86 1545.01 Q2132.17 1545.58 2134.7 1545.58 Q2139.1 1545.58 2141.39 1543.85 Q2143.7 1542.11 2143.7 1538.8 Q2143.7 1535.75 2141.55 1534.03 Q2139.42 1532.3 2135.6 1532.3 L2131.57 1532.3 L2131.57 1528.45 L2135.79 1528.45 Q2139.23 1528.45 2141.06 1527.09 Q2142.89 1525.7 2142.89 1523.11 Q2142.89 1520.45 2140.99 1519.03 Q2139.12 1517.6 2135.6 1517.6 Q2133.68 1517.6 2131.48 1518.01 Q2129.28 1518.43 2126.64 1519.31 L2126.64 1515.14 Q2129.3 1514.4 2131.62 1514.03 Q2133.96 1513.66 2136.02 1513.66 Q2141.34 1513.66 2144.44 1516.09 Q2147.55 1518.5 2147.55 1522.62 Q2147.55 1525.49 2145.9 1527.48 Q2144.26 1529.45 2141.23 1530.21 Z\" fill=\"#000000\" fill-rule=\"nonzero\" fill-opacity=\"1\" /><polyline clip-path=\"url(#clip070)\" style=\"stroke:#000000; stroke-linecap:round; stroke-linejoin:round; stroke-width:4; stroke-opacity:1; fill:none\" points=\"110.881,1486.45 110.881,47.2441 \"/>\n",
       "<polyline clip-path=\"url(#clip070)\" style=\"stroke:#000000; stroke-linecap:round; stroke-linejoin:round; stroke-width:4; stroke-opacity:1; fill:none\" points=\"110.881,1445.72 129.779,1445.72 \"/>\n",
       "<polyline clip-path=\"url(#clip070)\" style=\"stroke:#000000; stroke-linecap:round; stroke-linejoin:round; stroke-width:4; stroke-opacity:1; fill:none\" points=\"110.881,993.136 129.779,993.136 \"/>\n",
       "<polyline clip-path=\"url(#clip070)\" style=\"stroke:#000000; stroke-linecap:round; stroke-linejoin:round; stroke-width:4; stroke-opacity:1; fill:none\" points=\"110.881,540.556 129.779,540.556 \"/>\n",
       "<polyline clip-path=\"url(#clip070)\" style=\"stroke:#000000; stroke-linecap:round; stroke-linejoin:round; stroke-width:4; stroke-opacity:1; fill:none\" points=\"110.881,87.9763 129.779,87.9763 \"/>\n",
       "<path clip-path=\"url(#clip070)\" d=\"M62.9365 1431.51 Q59.3254 1431.51 57.4967 1435.08 Q55.6912 1438.62 55.6912 1445.75 Q55.6912 1452.86 57.4967 1456.42 Q59.3254 1459.96 62.9365 1459.96 Q66.5707 1459.96 68.3763 1456.42 Q70.205 1452.86 70.205 1445.75 Q70.205 1438.62 68.3763 1435.08 Q66.5707 1431.51 62.9365 1431.51 M62.9365 1427.81 Q68.7467 1427.81 71.8022 1432.42 Q74.8809 1437 74.8809 1445.75 Q74.8809 1454.48 71.8022 1459.08 Q68.7467 1463.67 62.9365 1463.67 Q57.1264 1463.67 54.0477 1459.08 Q50.9921 1454.48 50.9921 1445.75 Q50.9921 1437 54.0477 1432.42 Q57.1264 1427.81 62.9365 1427.81 Z\" fill=\"#000000\" fill-rule=\"nonzero\" fill-opacity=\"1\" /><path clip-path=\"url(#clip070)\" d=\"M54.9736 1006.48 L62.6124 1006.48 L62.6124 980.115 L54.3023 981.782 L54.3023 977.523 L62.5661 975.856 L67.242 975.856 L67.242 1006.48 L74.8809 1006.48 L74.8809 1010.42 L54.9736 1010.42 L54.9736 1006.48 Z\" fill=\"#000000\" fill-rule=\"nonzero\" fill-opacity=\"1\" /><path clip-path=\"url(#clip070)\" d=\"M58.5615 553.901 L74.8809 553.901 L74.8809 557.836 L52.9366 557.836 L52.9366 553.901 Q55.5986 551.146 60.1819 546.517 Q64.7883 541.864 65.9689 540.521 Q68.2143 537.998 69.0939 536.262 Q69.9967 534.503 69.9967 532.813 Q69.9967 530.058 68.0522 528.322 Q66.1309 526.586 63.0291 526.586 Q60.83 526.586 58.3763 527.35 Q55.9458 528.114 53.168 529.665 L53.168 524.943 Q55.9921 523.808 58.4458 523.23 Q60.8995 522.651 62.9365 522.651 Q68.3068 522.651 71.5013 525.336 Q74.6957 528.021 74.6957 532.512 Q74.6957 534.642 73.8855 536.563 Q73.0985 538.461 70.992 541.054 Q70.4133 541.725 67.3115 544.943 Q64.2096 548.137 58.5615 553.901 Z\" fill=\"#000000\" fill-rule=\"nonzero\" fill-opacity=\"1\" /><path clip-path=\"url(#clip070)\" d=\"M67.7513 86.6221 Q71.1078 87.3397 72.9827 89.6082 Q74.8809 91.8767 74.8809 95.21 Q74.8809 100.326 71.3624 103.127 Q67.8439 105.928 61.3624 105.928 Q59.1865 105.928 56.8717 105.488 Q54.5801 105.071 52.1264 104.215 L52.1264 99.7008 Q54.0708 100.835 56.3856 101.414 Q58.7004 101.992 61.2236 101.992 Q65.6217 101.992 67.9133 100.256 Q70.2281 98.5202 70.2281 95.21 Q70.2281 92.1545 68.0754 90.4415 Q65.9457 88.7054 62.1263 88.7054 L58.0986 88.7054 L58.0986 84.8629 L62.3115 84.8629 Q65.7606 84.8629 67.5893 83.4971 Q69.418 82.1083 69.418 79.5157 Q69.418 76.8537 67.5198 75.4416 Q65.6448 74.0064 62.1263 74.0064 Q60.205 74.0064 58.006 74.4231 Q55.8069 74.8398 53.168 75.7194 L53.168 71.5528 Q55.8301 70.812 58.1449 70.4416 Q60.4828 70.0713 62.543 70.0713 Q67.867 70.0713 70.9689 72.5018 Q74.0707 74.9092 74.0707 79.0296 Q74.0707 81.8999 72.4272 83.8907 Q70.7837 85.8582 67.7513 86.6221 Z\" fill=\"#000000\" fill-rule=\"nonzero\" fill-opacity=\"1\" /><path clip-path=\"url(#clip072)\" d=\"M1231.82 540.556 L1271.26 542.278 L1310.41 547.432 L1348.95 555.977 L1386.61 567.85 L1423.09 582.959 L1458.11 601.19 L1491.41 622.404 L1522.73 646.44 L1551.84 673.114 L1578.51 702.223 L1602.55 733.547 L1623.76 766.846 L1641.99 801.867 L1657.1 838.344 L1668.98 876 L1677.52 914.546 L1682.68 953.691 L1684.4 993.136 L1682.68 1032.58 L1677.52 1071.73 L1668.98 1110.27 L1657.1 1147.93 L1641.99 1184.4 L1623.76 1219.43 L1602.55 1252.72 L1578.51 1284.05 L1551.84 1313.16 L1522.73 1339.83 L1491.41 1363.87 L1458.11 1385.08 L1423.09 1403.31 L1386.61 1418.42 L1348.95 1430.29 L1310.41 1438.84 L1271.26 1443.99 L1231.82 1445.72 L1192.37 1443.99 L1153.23 1438.84 L1114.68 1430.29 L1077.03 1418.42 L1040.55 1403.31 L1005.53 1385.08 L972.229 1363.87 L940.906 1339.83 L911.796 1313.16 L885.122 1284.05 L861.087 1252.72 L839.873 1219.43 L821.642 1184.4 L806.532 1147.93 L794.66 1110.27 L786.114 1071.73 L780.961 1032.58 L779.239 993.136 L780.961 953.691 L786.114 914.546 L794.66 876 L806.532 838.344 L821.642 801.867 L839.873 766.846 L861.087 733.547 L885.122 702.223 L911.796 673.114 L940.906 646.44 L972.229 622.404 L1005.53 601.19 L1040.55 582.959 L1077.03 567.85 L1114.68 555.977 L1153.23 547.432 L1192.37 542.278 L1231.82 540.556 L1231.82 540.556  Z\" fill=\"#000000\" fill-rule=\"evenodd\" fill-opacity=\"0\"/>\n",
       "<polyline clip-path=\"url(#clip072)\" style=\"stroke:#ff0000; stroke-linecap:round; stroke-linejoin:round; stroke-width:20; stroke-opacity:1; fill:none\" points=\"1231.82,540.556 1271.26,542.278 1310.41,547.432 1348.95,555.977 1386.61,567.85 1423.09,582.959 1458.11,601.19 1491.41,622.404 1522.73,646.44 1551.84,673.114 1578.51,702.223 1602.55,733.547 1623.76,766.846 1641.99,801.867 1657.1,838.344 1668.98,876 1677.52,914.546 1682.68,953.691 1684.4,993.136 1682.68,1032.58 1677.52,1071.73 1668.98,1110.27 1657.1,1147.93 1641.99,1184.4 1623.76,1219.43 1602.55,1252.72 1578.51,1284.05 1551.84,1313.16 1522.73,1339.83 1491.41,1363.87 1458.11,1385.08 1423.09,1403.31 1386.61,1418.42 1348.95,1430.29 1310.41,1438.84 1271.26,1443.99 1231.82,1445.72 1192.37,1443.99 1153.23,1438.84 1114.68,1430.29 1077.03,1418.42 1040.55,1403.31 1005.53,1385.08 972.229,1363.87 940.906,1339.83 911.796,1313.16 885.122,1284.05 861.087,1252.72 839.873,1219.43 821.642,1184.4 806.532,1147.93 794.66,1110.27 786.114,1071.73 780.961,1032.58 779.239,993.136 780.961,953.691 786.114,914.546 794.66,876 806.532,838.344 821.642,801.867 839.873,766.846 861.087,733.547 885.122,702.223 911.796,673.114 940.906,646.44 972.229,622.404 1005.53,601.19 1040.55,582.959 1077.03,567.85 1114.68,555.977 1153.23,547.432 1192.37,542.278 1231.82,540.556 \"/>\n",
       "<path clip-path=\"url(#clip072)\" d=\"M1231.82 87.9763 L1271.26 89.6985 L1310.41 94.852 L1348.95 103.398 L1386.61 115.27 L1423.09 130.379 L1458.11 148.61 L1491.41 169.824 L1522.73 193.86 L1551.84 220.534 L1578.51 249.643 L1602.55 280.967 L1623.76 314.266 L1641.99 349.288 L1657.1 385.765 L1668.98 423.42 L1677.52 461.966 L1682.68 501.111 L1684.4 540.556 L1682.68 580.001 L1677.52 619.146 L1668.98 657.692 L1657.1 695.347 L1641.99 731.825 L1623.76 766.846 L1602.55 800.145 L1578.51 831.469 L1551.84 860.578 L1522.73 887.252 L1491.41 911.288 L1458.11 932.502 L1423.09 950.733 L1386.61 965.842 L1348.95 977.715 L1310.41 986.26 L1271.26 991.414 L1231.82 993.136 L1192.37 991.414 L1153.23 986.26 L1114.68 977.715 L1077.03 965.842 L1040.55 950.733 L1005.53 932.502 L972.229 911.288 L940.906 887.252 L911.796 860.578 L885.122 831.469 L861.087 800.145 L839.873 766.846 L821.642 731.825 L806.532 695.347 L794.66 657.692 L786.114 619.146 L780.961 580.001 L779.239 540.556 L780.961 501.111 L786.114 461.966 L794.66 423.42 L806.532 385.765 L821.642 349.288 L839.873 314.266 L861.087 280.967 L885.122 249.643 L911.796 220.534 L940.906 193.86 L972.229 169.824 L1005.53 148.61 L1040.55 130.379 L1077.03 115.27 L1114.68 103.398 L1153.23 94.852 L1192.37 89.6985 L1231.82 87.9763 L1231.82 87.9763  Z\" fill=\"#000000\" fill-rule=\"evenodd\" fill-opacity=\"0\"/>\n",
       "<polyline clip-path=\"url(#clip072)\" style=\"stroke:#0000ff; stroke-linecap:round; stroke-linejoin:round; stroke-width:20; stroke-opacity:1; fill:none\" points=\"1231.82,87.9763 1271.26,89.6985 1310.41,94.852 1348.95,103.398 1386.61,115.27 1423.09,130.379 1458.11,148.61 1491.41,169.824 1522.73,193.86 1551.84,220.534 1578.51,249.643 1602.55,280.967 1623.76,314.266 1641.99,349.288 1657.1,385.765 1668.98,423.42 1677.52,461.966 1682.68,501.111 1684.4,540.556 1682.68,580.001 1677.52,619.146 1668.98,657.692 1657.1,695.347 1641.99,731.825 1623.76,766.846 1602.55,800.145 1578.51,831.469 1551.84,860.578 1522.73,887.252 1491.41,911.288 1458.11,932.502 1423.09,950.733 1386.61,965.842 1348.95,977.715 1310.41,986.26 1271.26,991.414 1231.82,993.136 1192.37,991.414 1153.23,986.26 1114.68,977.715 1077.03,965.842 1040.55,950.733 1005.53,932.502 972.229,911.288 940.906,887.252 911.796,860.578 885.122,831.469 861.087,800.145 839.873,766.846 821.642,731.825 806.532,695.347 794.66,657.692 786.114,619.146 780.961,580.001 779.239,540.556 780.961,501.111 786.114,461.966 794.66,423.42 806.532,385.765 821.642,349.288 839.873,314.266 861.087,280.967 885.122,249.643 911.796,220.534 940.906,193.86 972.229,169.824 1005.53,148.61 1040.55,130.379 1077.03,115.27 1114.68,103.398 1153.23,94.852 1192.37,89.6985 1231.82,87.9763 \"/>\n",
       "</svg>\n"
      ],
      "text/html": [
       "<?xml version=\"1.0\" encoding=\"utf-8\"?>\n",
       "<svg xmlns=\"http://www.w3.org/2000/svg\" xmlns:xlink=\"http://www.w3.org/1999/xlink\" width=\"600\" height=\"400\" viewBox=\"0 0 2400 1600\">\n",
       "<defs>\n",
       "  <clipPath id=\"clip120\">\n",
       "    <rect x=\"0\" y=\"0\" width=\"2400\" height=\"1600\"/>\n",
       "  </clipPath>\n",
       "</defs>\n",
       "<path clip-path=\"url(#clip120)\" d=\"M0 1600 L2400 1600 L2400 0 L0 0  Z\" fill=\"#ffffff\" fill-rule=\"evenodd\" fill-opacity=\"1\"/>\n",
       "<defs>\n",
       "  <clipPath id=\"clip121\">\n",
       "    <rect x=\"480\" y=\"0\" width=\"1681\" height=\"1600\"/>\n",
       "  </clipPath>\n",
       "</defs>\n",
       "<path clip-path=\"url(#clip120)\" d=\"M110.881 1486.45 L2352.76 1486.45 L2352.76 47.2441 L110.881 47.2441  Z\" fill=\"#ffffff\" fill-rule=\"evenodd\" fill-opacity=\"1\"/>\n",
       "<defs>\n",
       "  <clipPath id=\"clip122\">\n",
       "    <rect x=\"110\" y=\"47\" width=\"2243\" height=\"1440\"/>\n",
       "  </clipPath>\n",
       "</defs>\n",
       "<polyline clip-path=\"url(#clip122)\" style=\"stroke:#000000; stroke-linecap:round; stroke-linejoin:round; stroke-width:2; stroke-opacity:0.1; fill:none\" points=\"326.659,1486.45 326.659,47.2441 \"/>\n",
       "<polyline clip-path=\"url(#clip122)\" style=\"stroke:#000000; stroke-linecap:round; stroke-linejoin:round; stroke-width:2; stroke-opacity:0.1; fill:none\" points=\"779.239,1486.45 779.239,47.2441 \"/>\n",
       "<polyline clip-path=\"url(#clip122)\" style=\"stroke:#000000; stroke-linecap:round; stroke-linejoin:round; stroke-width:2; stroke-opacity:0.1; fill:none\" points=\"1231.82,1486.45 1231.82,47.2441 \"/>\n",
       "<polyline clip-path=\"url(#clip122)\" style=\"stroke:#000000; stroke-linecap:round; stroke-linejoin:round; stroke-width:2; stroke-opacity:0.1; fill:none\" points=\"1684.4,1486.45 1684.4,47.2441 \"/>\n",
       "<polyline clip-path=\"url(#clip122)\" style=\"stroke:#000000; stroke-linecap:round; stroke-linejoin:round; stroke-width:2; stroke-opacity:0.1; fill:none\" points=\"2136.98,1486.45 2136.98,47.2441 \"/>\n",
       "<polyline clip-path=\"url(#clip122)\" style=\"stroke:#000000; stroke-linecap:round; stroke-linejoin:round; stroke-width:2; stroke-opacity:0.1; fill:none\" points=\"110.881,1445.72 2352.76,1445.72 \"/>\n",
       "<polyline clip-path=\"url(#clip122)\" style=\"stroke:#000000; stroke-linecap:round; stroke-linejoin:round; stroke-width:2; stroke-opacity:0.1; fill:none\" points=\"110.881,993.136 2352.76,993.136 \"/>\n",
       "<polyline clip-path=\"url(#clip122)\" style=\"stroke:#000000; stroke-linecap:round; stroke-linejoin:round; stroke-width:2; stroke-opacity:0.1; fill:none\" points=\"110.881,540.556 2352.76,540.556 \"/>\n",
       "<polyline clip-path=\"url(#clip122)\" style=\"stroke:#000000; stroke-linecap:round; stroke-linejoin:round; stroke-width:2; stroke-opacity:0.1; fill:none\" points=\"110.881,87.9763 2352.76,87.9763 \"/>\n",
       "<polyline clip-path=\"url(#clip120)\" style=\"stroke:#000000; stroke-linecap:round; stroke-linejoin:round; stroke-width:4; stroke-opacity:1; fill:none\" points=\"110.881,1486.45 2352.76,1486.45 \"/>\n",
       "<polyline clip-path=\"url(#clip120)\" style=\"stroke:#000000; stroke-linecap:round; stroke-linejoin:round; stroke-width:4; stroke-opacity:1; fill:none\" points=\"326.659,1486.45 326.659,1467.55 \"/>\n",
       "<polyline clip-path=\"url(#clip120)\" style=\"stroke:#000000; stroke-linecap:round; stroke-linejoin:round; stroke-width:4; stroke-opacity:1; fill:none\" points=\"779.239,1486.45 779.239,1467.55 \"/>\n",
       "<polyline clip-path=\"url(#clip120)\" style=\"stroke:#000000; stroke-linecap:round; stroke-linejoin:round; stroke-width:4; stroke-opacity:1; fill:none\" points=\"1231.82,1486.45 1231.82,1467.55 \"/>\n",
       "<polyline clip-path=\"url(#clip120)\" style=\"stroke:#000000; stroke-linecap:round; stroke-linejoin:round; stroke-width:4; stroke-opacity:1; fill:none\" points=\"1684.4,1486.45 1684.4,1467.55 \"/>\n",
       "<polyline clip-path=\"url(#clip120)\" style=\"stroke:#000000; stroke-linecap:round; stroke-linejoin:round; stroke-width:4; stroke-opacity:1; fill:none\" points=\"2136.98,1486.45 2136.98,1467.55 \"/>\n",
       "<path clip-path=\"url(#clip120)\" d=\"M296.416 1532.02 L326.092 1532.02 L326.092 1535.95 L296.416 1535.95 L296.416 1532.02 Z\" fill=\"#000000\" fill-rule=\"nonzero\" fill-opacity=\"1\" /><path clip-path=\"url(#clip120)\" d=\"M336.994 1544.91 L344.633 1544.91 L344.633 1518.55 L336.323 1520.21 L336.323 1515.95 L344.587 1514.29 L349.263 1514.29 L349.263 1544.91 L356.902 1544.91 L356.902 1548.85 L336.994 1548.85 L336.994 1544.91 Z\" fill=\"#000000\" fill-rule=\"nonzero\" fill-opacity=\"1\" /><path clip-path=\"url(#clip120)\" d=\"M779.239 1517.37 Q775.627 1517.37 773.799 1520.93 Q771.993 1524.47 771.993 1531.6 Q771.993 1538.71 773.799 1542.27 Q775.627 1545.82 779.239 1545.82 Q782.873 1545.82 784.678 1542.27 Q786.507 1538.71 786.507 1531.6 Q786.507 1524.47 784.678 1520.93 Q782.873 1517.37 779.239 1517.37 M779.239 1513.66 Q785.049 1513.66 788.104 1518.27 Q791.183 1522.85 791.183 1531.6 Q791.183 1540.33 788.104 1544.94 Q785.049 1549.52 779.239 1549.52 Q773.428 1549.52 770.35 1544.94 Q767.294 1540.33 767.294 1531.6 Q767.294 1522.85 770.35 1518.27 Q773.428 1513.66 779.239 1513.66 Z\" fill=\"#000000\" fill-rule=\"nonzero\" fill-opacity=\"1\" /><path clip-path=\"url(#clip120)\" d=\"M1222.2 1544.91 L1229.84 1544.91 L1229.84 1518.55 L1221.53 1520.21 L1221.53 1515.95 L1229.79 1514.29 L1234.47 1514.29 L1234.47 1544.91 L1242.11 1544.91 L1242.11 1548.85 L1222.2 1548.85 L1222.2 1544.91 Z\" fill=\"#000000\" fill-rule=\"nonzero\" fill-opacity=\"1\" /><path clip-path=\"url(#clip120)\" d=\"M1679.05 1544.91 L1695.37 1544.91 L1695.37 1548.85 L1673.43 1548.85 L1673.43 1544.91 Q1676.09 1542.16 1680.67 1537.53 Q1685.28 1532.88 1686.46 1531.53 Q1688.7 1529.01 1689.58 1527.27 Q1690.49 1525.51 1690.49 1523.82 Q1690.49 1521.07 1688.54 1519.33 Q1686.62 1517.6 1683.52 1517.6 Q1681.32 1517.6 1678.87 1518.36 Q1676.44 1519.13 1673.66 1520.68 L1673.66 1515.95 Q1676.48 1514.82 1678.94 1514.24 Q1681.39 1513.66 1683.43 1513.66 Q1688.8 1513.66 1691.99 1516.35 Q1695.19 1519.03 1695.19 1523.52 Q1695.19 1525.65 1694.37 1527.57 Q1693.59 1529.47 1691.48 1532.07 Q1690.9 1532.74 1687.8 1535.95 Q1684.7 1539.15 1679.05 1544.91 Z\" fill=\"#000000\" fill-rule=\"nonzero\" fill-opacity=\"1\" /><path clip-path=\"url(#clip120)\" d=\"M2141.23 1530.21 Q2144.58 1530.93 2146.46 1533.2 Q2148.36 1535.47 2148.36 1538.8 Q2148.36 1543.92 2144.84 1546.72 Q2141.32 1549.52 2134.84 1549.52 Q2132.66 1549.52 2130.35 1549.08 Q2128.05 1548.66 2125.6 1547.81 L2125.6 1543.29 Q2127.55 1544.43 2129.86 1545.01 Q2132.17 1545.58 2134.7 1545.58 Q2139.1 1545.58 2141.39 1543.85 Q2143.7 1542.11 2143.7 1538.8 Q2143.7 1535.75 2141.55 1534.03 Q2139.42 1532.3 2135.6 1532.3 L2131.57 1532.3 L2131.57 1528.45 L2135.79 1528.45 Q2139.23 1528.45 2141.06 1527.09 Q2142.89 1525.7 2142.89 1523.11 Q2142.89 1520.45 2140.99 1519.03 Q2139.12 1517.6 2135.6 1517.6 Q2133.68 1517.6 2131.48 1518.01 Q2129.28 1518.43 2126.64 1519.31 L2126.64 1515.14 Q2129.3 1514.4 2131.62 1514.03 Q2133.96 1513.66 2136.02 1513.66 Q2141.34 1513.66 2144.44 1516.09 Q2147.55 1518.5 2147.55 1522.62 Q2147.55 1525.49 2145.9 1527.48 Q2144.26 1529.45 2141.23 1530.21 Z\" fill=\"#000000\" fill-rule=\"nonzero\" fill-opacity=\"1\" /><polyline clip-path=\"url(#clip120)\" style=\"stroke:#000000; stroke-linecap:round; stroke-linejoin:round; stroke-width:4; stroke-opacity:1; fill:none\" points=\"110.881,1486.45 110.881,47.2441 \"/>\n",
       "<polyline clip-path=\"url(#clip120)\" style=\"stroke:#000000; stroke-linecap:round; stroke-linejoin:round; stroke-width:4; stroke-opacity:1; fill:none\" points=\"110.881,1445.72 129.779,1445.72 \"/>\n",
       "<polyline clip-path=\"url(#clip120)\" style=\"stroke:#000000; stroke-linecap:round; stroke-linejoin:round; stroke-width:4; stroke-opacity:1; fill:none\" points=\"110.881,993.136 129.779,993.136 \"/>\n",
       "<polyline clip-path=\"url(#clip120)\" style=\"stroke:#000000; stroke-linecap:round; stroke-linejoin:round; stroke-width:4; stroke-opacity:1; fill:none\" points=\"110.881,540.556 129.779,540.556 \"/>\n",
       "<polyline clip-path=\"url(#clip120)\" style=\"stroke:#000000; stroke-linecap:round; stroke-linejoin:round; stroke-width:4; stroke-opacity:1; fill:none\" points=\"110.881,87.9763 129.779,87.9763 \"/>\n",
       "<path clip-path=\"url(#clip120)\" d=\"M62.9365 1431.51 Q59.3254 1431.51 57.4967 1435.08 Q55.6912 1438.62 55.6912 1445.75 Q55.6912 1452.86 57.4967 1456.42 Q59.3254 1459.96 62.9365 1459.96 Q66.5707 1459.96 68.3763 1456.42 Q70.205 1452.86 70.205 1445.75 Q70.205 1438.62 68.3763 1435.08 Q66.5707 1431.51 62.9365 1431.51 M62.9365 1427.81 Q68.7467 1427.81 71.8022 1432.42 Q74.8809 1437 74.8809 1445.75 Q74.8809 1454.48 71.8022 1459.08 Q68.7467 1463.67 62.9365 1463.67 Q57.1264 1463.67 54.0477 1459.08 Q50.9921 1454.48 50.9921 1445.75 Q50.9921 1437 54.0477 1432.42 Q57.1264 1427.81 62.9365 1427.81 Z\" fill=\"#000000\" fill-rule=\"nonzero\" fill-opacity=\"1\" /><path clip-path=\"url(#clip120)\" d=\"M54.9736 1006.48 L62.6124 1006.48 L62.6124 980.115 L54.3023 981.782 L54.3023 977.523 L62.5661 975.856 L67.242 975.856 L67.242 1006.48 L74.8809 1006.48 L74.8809 1010.42 L54.9736 1010.42 L54.9736 1006.48 Z\" fill=\"#000000\" fill-rule=\"nonzero\" fill-opacity=\"1\" /><path clip-path=\"url(#clip120)\" d=\"M58.5615 553.901 L74.8809 553.901 L74.8809 557.836 L52.9366 557.836 L52.9366 553.901 Q55.5986 551.146 60.1819 546.517 Q64.7883 541.864 65.9689 540.521 Q68.2143 537.998 69.0939 536.262 Q69.9967 534.503 69.9967 532.813 Q69.9967 530.058 68.0522 528.322 Q66.1309 526.586 63.0291 526.586 Q60.83 526.586 58.3763 527.35 Q55.9458 528.114 53.168 529.665 L53.168 524.943 Q55.9921 523.808 58.4458 523.23 Q60.8995 522.651 62.9365 522.651 Q68.3068 522.651 71.5013 525.336 Q74.6957 528.021 74.6957 532.512 Q74.6957 534.642 73.8855 536.563 Q73.0985 538.461 70.992 541.054 Q70.4133 541.725 67.3115 544.943 Q64.2096 548.137 58.5615 553.901 Z\" fill=\"#000000\" fill-rule=\"nonzero\" fill-opacity=\"1\" /><path clip-path=\"url(#clip120)\" d=\"M67.7513 86.6221 Q71.1078 87.3397 72.9827 89.6082 Q74.8809 91.8767 74.8809 95.21 Q74.8809 100.326 71.3624 103.127 Q67.8439 105.928 61.3624 105.928 Q59.1865 105.928 56.8717 105.488 Q54.5801 105.071 52.1264 104.215 L52.1264 99.7008 Q54.0708 100.835 56.3856 101.414 Q58.7004 101.992 61.2236 101.992 Q65.6217 101.992 67.9133 100.256 Q70.2281 98.5202 70.2281 95.21 Q70.2281 92.1545 68.0754 90.4415 Q65.9457 88.7054 62.1263 88.7054 L58.0986 88.7054 L58.0986 84.8629 L62.3115 84.8629 Q65.7606 84.8629 67.5893 83.4971 Q69.418 82.1083 69.418 79.5157 Q69.418 76.8537 67.5198 75.4416 Q65.6448 74.0064 62.1263 74.0064 Q60.205 74.0064 58.006 74.4231 Q55.8069 74.8398 53.168 75.7194 L53.168 71.5528 Q55.8301 70.812 58.1449 70.4416 Q60.4828 70.0713 62.543 70.0713 Q67.867 70.0713 70.9689 72.5018 Q74.0707 74.9092 74.0707 79.0296 Q74.0707 81.8999 72.4272 83.8907 Q70.7837 85.8582 67.7513 86.6221 Z\" fill=\"#000000\" fill-rule=\"nonzero\" fill-opacity=\"1\" /><path clip-path=\"url(#clip122)\" d=\"M1231.82 540.556 L1271.26 542.278 L1310.41 547.432 L1348.95 555.977 L1386.61 567.85 L1423.09 582.959 L1458.11 601.19 L1491.41 622.404 L1522.73 646.44 L1551.84 673.114 L1578.51 702.223 L1602.55 733.547 L1623.76 766.846 L1641.99 801.867 L1657.1 838.344 L1668.98 876 L1677.52 914.546 L1682.68 953.691 L1684.4 993.136 L1682.68 1032.58 L1677.52 1071.73 L1668.98 1110.27 L1657.1 1147.93 L1641.99 1184.4 L1623.76 1219.43 L1602.55 1252.72 L1578.51 1284.05 L1551.84 1313.16 L1522.73 1339.83 L1491.41 1363.87 L1458.11 1385.08 L1423.09 1403.31 L1386.61 1418.42 L1348.95 1430.29 L1310.41 1438.84 L1271.26 1443.99 L1231.82 1445.72 L1192.37 1443.99 L1153.23 1438.84 L1114.68 1430.29 L1077.03 1418.42 L1040.55 1403.31 L1005.53 1385.08 L972.229 1363.87 L940.906 1339.83 L911.796 1313.16 L885.122 1284.05 L861.087 1252.72 L839.873 1219.43 L821.642 1184.4 L806.532 1147.93 L794.66 1110.27 L786.114 1071.73 L780.961 1032.58 L779.239 993.136 L780.961 953.691 L786.114 914.546 L794.66 876 L806.532 838.344 L821.642 801.867 L839.873 766.846 L861.087 733.547 L885.122 702.223 L911.796 673.114 L940.906 646.44 L972.229 622.404 L1005.53 601.19 L1040.55 582.959 L1077.03 567.85 L1114.68 555.977 L1153.23 547.432 L1192.37 542.278 L1231.82 540.556 L1231.82 540.556  Z\" fill=\"#000000\" fill-rule=\"evenodd\" fill-opacity=\"0\"/>\n",
       "<polyline clip-path=\"url(#clip122)\" style=\"stroke:#ff0000; stroke-linecap:round; stroke-linejoin:round; stroke-width:20; stroke-opacity:1; fill:none\" points=\"1231.82,540.556 1271.26,542.278 1310.41,547.432 1348.95,555.977 1386.61,567.85 1423.09,582.959 1458.11,601.19 1491.41,622.404 1522.73,646.44 1551.84,673.114 1578.51,702.223 1602.55,733.547 1623.76,766.846 1641.99,801.867 1657.1,838.344 1668.98,876 1677.52,914.546 1682.68,953.691 1684.4,993.136 1682.68,1032.58 1677.52,1071.73 1668.98,1110.27 1657.1,1147.93 1641.99,1184.4 1623.76,1219.43 1602.55,1252.72 1578.51,1284.05 1551.84,1313.16 1522.73,1339.83 1491.41,1363.87 1458.11,1385.08 1423.09,1403.31 1386.61,1418.42 1348.95,1430.29 1310.41,1438.84 1271.26,1443.99 1231.82,1445.72 1192.37,1443.99 1153.23,1438.84 1114.68,1430.29 1077.03,1418.42 1040.55,1403.31 1005.53,1385.08 972.229,1363.87 940.906,1339.83 911.796,1313.16 885.122,1284.05 861.087,1252.72 839.873,1219.43 821.642,1184.4 806.532,1147.93 794.66,1110.27 786.114,1071.73 780.961,1032.58 779.239,993.136 780.961,953.691 786.114,914.546 794.66,876 806.532,838.344 821.642,801.867 839.873,766.846 861.087,733.547 885.122,702.223 911.796,673.114 940.906,646.44 972.229,622.404 1005.53,601.19 1040.55,582.959 1077.03,567.85 1114.68,555.977 1153.23,547.432 1192.37,542.278 1231.82,540.556 \"/>\n",
       "<path clip-path=\"url(#clip122)\" d=\"M1231.82 87.9763 L1271.26 89.6985 L1310.41 94.852 L1348.95 103.398 L1386.61 115.27 L1423.09 130.379 L1458.11 148.61 L1491.41 169.824 L1522.73 193.86 L1551.84 220.534 L1578.51 249.643 L1602.55 280.967 L1623.76 314.266 L1641.99 349.288 L1657.1 385.765 L1668.98 423.42 L1677.52 461.966 L1682.68 501.111 L1684.4 540.556 L1682.68 580.001 L1677.52 619.146 L1668.98 657.692 L1657.1 695.347 L1641.99 731.825 L1623.76 766.846 L1602.55 800.145 L1578.51 831.469 L1551.84 860.578 L1522.73 887.252 L1491.41 911.288 L1458.11 932.502 L1423.09 950.733 L1386.61 965.842 L1348.95 977.715 L1310.41 986.26 L1271.26 991.414 L1231.82 993.136 L1192.37 991.414 L1153.23 986.26 L1114.68 977.715 L1077.03 965.842 L1040.55 950.733 L1005.53 932.502 L972.229 911.288 L940.906 887.252 L911.796 860.578 L885.122 831.469 L861.087 800.145 L839.873 766.846 L821.642 731.825 L806.532 695.347 L794.66 657.692 L786.114 619.146 L780.961 580.001 L779.239 540.556 L780.961 501.111 L786.114 461.966 L794.66 423.42 L806.532 385.765 L821.642 349.288 L839.873 314.266 L861.087 280.967 L885.122 249.643 L911.796 220.534 L940.906 193.86 L972.229 169.824 L1005.53 148.61 L1040.55 130.379 L1077.03 115.27 L1114.68 103.398 L1153.23 94.852 L1192.37 89.6985 L1231.82 87.9763 L1231.82 87.9763  Z\" fill=\"#000000\" fill-rule=\"evenodd\" fill-opacity=\"0\"/>\n",
       "<polyline clip-path=\"url(#clip122)\" style=\"stroke:#0000ff; stroke-linecap:round; stroke-linejoin:round; stroke-width:20; stroke-opacity:1; fill:none\" points=\"1231.82,87.9763 1271.26,89.6985 1310.41,94.852 1348.95,103.398 1386.61,115.27 1423.09,130.379 1458.11,148.61 1491.41,169.824 1522.73,193.86 1551.84,220.534 1578.51,249.643 1602.55,280.967 1623.76,314.266 1641.99,349.288 1657.1,385.765 1668.98,423.42 1677.52,461.966 1682.68,501.111 1684.4,540.556 1682.68,580.001 1677.52,619.146 1668.98,657.692 1657.1,695.347 1641.99,731.825 1623.76,766.846 1602.55,800.145 1578.51,831.469 1551.84,860.578 1522.73,887.252 1491.41,911.288 1458.11,932.502 1423.09,950.733 1386.61,965.842 1348.95,977.715 1310.41,986.26 1271.26,991.414 1231.82,993.136 1192.37,991.414 1153.23,986.26 1114.68,977.715 1077.03,965.842 1040.55,950.733 1005.53,932.502 972.229,911.288 940.906,887.252 911.796,860.578 885.122,831.469 861.087,800.145 839.873,766.846 821.642,731.825 806.532,695.347 794.66,657.692 786.114,619.146 780.961,580.001 779.239,540.556 780.961,501.111 786.114,461.966 794.66,423.42 806.532,385.765 821.642,349.288 839.873,314.266 861.087,280.967 885.122,249.643 911.796,220.534 940.906,193.86 972.229,169.824 1005.53,148.61 1040.55,130.379 1077.03,115.27 1114.68,103.398 1153.23,94.852 1192.37,89.6985 1231.82,87.9763 \"/>\n",
       "</svg>\n"
      ]
     },
     "metadata": {},
     "output_type": "display_data"
    }
   ],
   "source": [
    "plot(circulo(c1, r1), c=false, lc=:red, lw=5, label=false, aspect_ratio=true)\n",
    "plot!(circulo(c2, r2), c=false, lc=:blue, lw=5, label=false)"
   ]
  },
  {
   "cell_type": "markdown",
   "id": "a87e3c2d",
   "metadata": {},
   "source": [
    "# Sobreposição entre quadrados"
   ]
  },
  {
   "cell_type": "markdown",
   "id": "574b0538",
   "metadata": {
    "slideshow": {
     "slide_type": "subslide"
    }
   },
   "source": [
    "## Sem rotação"
   ]
  },
  {
   "cell_type": "code",
   "execution_count": 39,
   "id": "603131a9-e885-4694-995d-5970a75232e4",
   "metadata": {
    "editable": true,
    "slideshow": {
     "slide_type": ""
    },
    "tags": []
   },
   "outputs": [
    {
     "name": "stdout",
     "output_type": "stream",
     "text": [
      "Medida de sobreposição: 9.0\n",
      "Medida de sobreposição (diferenciável): 81.0\n"
     ]
    }
   ],
   "source": [
    "v1 = [1, 1]\n",
    "l1 = 2\n",
    "\n",
    "v2 = [2, 2]\n",
    "l2 = 2\n",
    "\n",
    "overlap1 = max(0.0, v1[1] + l1 / 2 - (v2[1] - l2 / 2)) * \n",
    "           max(0.0, v2[1] + l2 / 2 - (v1[1] - l1 / 2)) * \n",
    "           max(0.0, v1[2] + l1 / 2 - (v2[2] - l2 / 2)) * \n",
    "           max(0.0, v2[2] + l2 / 2 - (v1[2] - l1 / 2))\n",
    "\n",
    "overlap2 = max(0.0, v1[1] + l1 / 2 - (v2[1] - l2 / 2))^2 *\n",
    "           max(0.0, v2[1] + l2 / 2 - (v1[1] - l1 / 2))^2 * \n",
    "           max(0.0, v1[2] + l1 / 2 - (v2[2] - l2 / 2))^2 * \n",
    "           max(0.0, v2[2] + l2 / 2 - (v1[2] - l1 / 2))^2\n",
    "\n",
    "println(\"Medida de sobreposição: $overlap1\")\n",
    "println(\"Medida de sobreposição (diferenciável): $overlap2\")"
   ]
  },
  {
   "cell_type": "code",
   "execution_count": 40,
   "id": "06bf07b2",
   "metadata": {},
   "outputs": [
    {
     "data": {
      "image/png": "[encoded data removed]",
      "image/svg+xml": [
       "<?xml version=\"1.0\" encoding=\"utf-8\"?>\n",
       "<svg xmlns=\"http://www.w3.org/2000/svg\" xmlns:xlink=\"http://www.w3.org/1999/xlink\" width=\"600\" height=\"400\" viewBox=\"0 0 2400 1600\">\n",
       "<defs>\n",
       "  <clipPath id=\"clip700\">\n",
       "    <rect x=\"0\" y=\"0\" width=\"2400\" height=\"1600\"/>\n",
       "  </clipPath>\n",
       "</defs>\n",
       "<path clip-path=\"url(#clip700)\" d=\"M0 1600 L2400 1600 L2400 0 L0 0  Z\" fill=\"#ffffff\" fill-rule=\"evenodd\" fill-opacity=\"1\"/>\n",
       "<defs>\n",
       "  <clipPath id=\"clip701\">\n",
       "    <rect x=\"480\" y=\"0\" width=\"1681\" height=\"1600\"/>\n",
       "  </clipPath>\n",
       "</defs>\n",
       "<path clip-path=\"url(#clip700)\" d=\"M110.881 1486.45 L2352.76 1486.45 L2352.76 47.2441 L110.881 47.2441  Z\" fill=\"#ffffff\" fill-rule=\"evenodd\" fill-opacity=\"1\"/>\n",
       "<defs>\n",
       "  <clipPath id=\"clip702\">\n",
       "    <rect x=\"110\" y=\"47\" width=\"2243\" height=\"1440\"/>\n",
       "  </clipPath>\n",
       "</defs>\n",
       "<polyline clip-path=\"url(#clip702)\" style=\"stroke:#000000; stroke-linecap:round; stroke-linejoin:round; stroke-width:2; stroke-opacity:0.1; fill:none\" points=\"552.949,1486.45 552.949,47.2441 \"/>\n",
       "<polyline clip-path=\"url(#clip702)\" style=\"stroke:#000000; stroke-linecap:round; stroke-linejoin:round; stroke-width:2; stroke-opacity:0.1; fill:none\" points=\"1005.53,1486.45 1005.53,47.2441 \"/>\n",
       "<polyline clip-path=\"url(#clip702)\" style=\"stroke:#000000; stroke-linecap:round; stroke-linejoin:round; stroke-width:2; stroke-opacity:0.1; fill:none\" points=\"1458.11,1486.45 1458.11,47.2441 \"/>\n",
       "<polyline clip-path=\"url(#clip702)\" style=\"stroke:#000000; stroke-linecap:round; stroke-linejoin:round; stroke-width:2; stroke-opacity:0.1; fill:none\" points=\"1910.69,1486.45 1910.69,47.2441 \"/>\n",
       "<polyline clip-path=\"url(#clip702)\" style=\"stroke:#000000; stroke-linecap:round; stroke-linejoin:round; stroke-width:2; stroke-opacity:0.1; fill:none\" points=\"110.881,1445.72 2352.76,1445.72 \"/>\n",
       "<polyline clip-path=\"url(#clip702)\" style=\"stroke:#000000; stroke-linecap:round; stroke-linejoin:round; stroke-width:2; stroke-opacity:0.1; fill:none\" points=\"110.881,993.136 2352.76,993.136 \"/>\n",
       "<polyline clip-path=\"url(#clip702)\" style=\"stroke:#000000; stroke-linecap:round; stroke-linejoin:round; stroke-width:2; stroke-opacity:0.1; fill:none\" points=\"110.881,540.556 2352.76,540.556 \"/>\n",
       "<polyline clip-path=\"url(#clip702)\" style=\"stroke:#000000; stroke-linecap:round; stroke-linejoin:round; stroke-width:2; stroke-opacity:0.1; fill:none\" points=\"110.881,87.9763 2352.76,87.9763 \"/>\n",
       "<polyline clip-path=\"url(#clip700)\" style=\"stroke:#000000; stroke-linecap:round; stroke-linejoin:round; stroke-width:4; stroke-opacity:1; fill:none\" points=\"110.881,1486.45 2352.76,1486.45 \"/>\n",
       "<polyline clip-path=\"url(#clip700)\" style=\"stroke:#000000; stroke-linecap:round; stroke-linejoin:round; stroke-width:4; stroke-opacity:1; fill:none\" points=\"552.949,1486.45 552.949,1467.55 \"/>\n",
       "<polyline clip-path=\"url(#clip700)\" style=\"stroke:#000000; stroke-linecap:round; stroke-linejoin:round; stroke-width:4; stroke-opacity:1; fill:none\" points=\"1005.53,1486.45 1005.53,1467.55 \"/>\n",
       "<polyline clip-path=\"url(#clip700)\" style=\"stroke:#000000; stroke-linecap:round; stroke-linejoin:round; stroke-width:4; stroke-opacity:1; fill:none\" points=\"1458.11,1486.45 1458.11,1467.55 \"/>\n",
       "<polyline clip-path=\"url(#clip700)\" style=\"stroke:#000000; stroke-linecap:round; stroke-linejoin:round; stroke-width:4; stroke-opacity:1; fill:none\" points=\"1910.69,1486.45 1910.69,1467.55 \"/>\n",
       "<path clip-path=\"url(#clip700)\" d=\"M552.949 1517.37 Q549.338 1517.37 547.509 1520.93 Q545.703 1524.47 545.703 1531.6 Q545.703 1538.71 547.509 1542.27 Q549.338 1545.82 552.949 1545.82 Q556.583 1545.82 558.388 1542.27 Q560.217 1538.71 560.217 1531.6 Q560.217 1524.47 558.388 1520.93 Q556.583 1517.37 552.949 1517.37 M552.949 1513.66 Q558.759 1513.66 561.814 1518.27 Q564.893 1522.85 564.893 1531.6 Q564.893 1540.33 561.814 1544.94 Q558.759 1549.52 552.949 1549.52 Q547.139 1549.52 544.06 1544.94 Q541.004 1540.33 541.004 1531.6 Q541.004 1522.85 544.06 1518.27 Q547.139 1513.66 552.949 1513.66 Z\" fill=\"#000000\" fill-rule=\"nonzero\" fill-opacity=\"1\" /><path clip-path=\"url(#clip700)\" d=\"M995.91 1544.91 L1003.55 1544.91 L1003.55 1518.55 L995.239 1520.21 L995.239 1515.95 L1003.5 1514.29 L1008.18 1514.29 L1008.18 1544.91 L1015.82 1544.91 L1015.82 1548.85 L995.91 1548.85 L995.91 1544.91 Z\" fill=\"#000000\" fill-rule=\"nonzero\" fill-opacity=\"1\" /><path clip-path=\"url(#clip700)\" d=\"M1452.76 1544.91 L1469.08 1544.91 L1469.08 1548.85 L1447.14 1548.85 L1447.14 1544.91 Q1449.8 1542.16 1454.38 1537.53 Q1458.99 1532.88 1460.17 1531.53 Q1462.41 1529.01 1463.29 1527.27 Q1464.2 1525.51 1464.2 1523.82 Q1464.2 1521.07 1462.25 1519.33 Q1460.33 1517.6 1457.23 1517.6 Q1455.03 1517.6 1452.58 1518.36 Q1450.15 1519.13 1447.37 1520.68 L1447.37 1515.95 Q1450.19 1514.82 1452.65 1514.24 Q1455.1 1513.66 1457.14 1513.66 Q1462.51 1513.66 1465.7 1516.35 Q1468.9 1519.03 1468.9 1523.52 Q1468.9 1525.65 1468.09 1527.57 Q1467.3 1529.47 1465.19 1532.07 Q1464.61 1532.74 1461.51 1535.95 Q1458.41 1539.15 1452.76 1544.91 Z\" fill=\"#000000\" fill-rule=\"nonzero\" fill-opacity=\"1\" /><path clip-path=\"url(#clip700)\" d=\"M1914.94 1530.21 Q1918.29 1530.93 1920.17 1533.2 Q1922.07 1535.47 1922.07 1538.8 Q1922.07 1543.92 1918.55 1546.72 Q1915.03 1549.52 1908.55 1549.52 Q1906.37 1549.52 1904.06 1549.08 Q1901.76 1548.66 1899.31 1547.81 L1899.31 1543.29 Q1901.26 1544.43 1903.57 1545.01 Q1905.88 1545.58 1908.41 1545.58 Q1912.81 1545.58 1915.1 1543.85 Q1917.41 1542.11 1917.41 1538.8 Q1917.41 1535.75 1915.26 1534.03 Q1913.13 1532.3 1909.31 1532.3 L1905.28 1532.3 L1905.28 1528.45 L1909.5 1528.45 Q1912.95 1528.45 1914.77 1527.09 Q1916.6 1525.7 1916.6 1523.11 Q1916.6 1520.45 1914.7 1519.03 Q1912.83 1517.6 1909.31 1517.6 Q1907.39 1517.6 1905.19 1518.01 Q1902.99 1518.43 1900.35 1519.31 L1900.35 1515.14 Q1903.01 1514.4 1905.33 1514.03 Q1907.67 1513.66 1909.73 1513.66 Q1915.05 1513.66 1918.15 1516.09 Q1921.26 1518.5 1921.26 1522.62 Q1921.26 1525.49 1919.61 1527.48 Q1917.97 1529.45 1914.94 1530.21 Z\" fill=\"#000000\" fill-rule=\"nonzero\" fill-opacity=\"1\" /><polyline clip-path=\"url(#clip700)\" style=\"stroke:#000000; stroke-linecap:round; stroke-linejoin:round; stroke-width:4; stroke-opacity:1; fill:none\" points=\"110.881,1486.45 110.881,47.2441 \"/>\n",
       "<polyline clip-path=\"url(#clip700)\" style=\"stroke:#000000; stroke-linecap:round; stroke-linejoin:round; stroke-width:4; stroke-opacity:1; fill:none\" points=\"110.881,1445.72 129.779,1445.72 \"/>\n",
       "<polyline clip-path=\"url(#clip700)\" style=\"stroke:#000000; stroke-linecap:round; stroke-linejoin:round; stroke-width:4; stroke-opacity:1; fill:none\" points=\"110.881,993.136 129.779,993.136 \"/>\n",
       "<polyline clip-path=\"url(#clip700)\" style=\"stroke:#000000; stroke-linecap:round; stroke-linejoin:round; stroke-width:4; stroke-opacity:1; fill:none\" points=\"110.881,540.556 129.779,540.556 \"/>\n",
       "<polyline clip-path=\"url(#clip700)\" style=\"stroke:#000000; stroke-linecap:round; stroke-linejoin:round; stroke-width:4; stroke-opacity:1; fill:none\" points=\"110.881,87.9763 129.779,87.9763 \"/>\n",
       "<path clip-path=\"url(#clip700)\" d=\"M62.9365 1431.51 Q59.3254 1431.51 57.4967 1435.08 Q55.6912 1438.62 55.6912 1445.75 Q55.6912 1452.86 57.4967 1456.42 Q59.3254 1459.96 62.9365 1459.96 Q66.5707 1459.96 68.3763 1456.42 Q70.205 1452.86 70.205 1445.75 Q70.205 1438.62 68.3763 1435.08 Q66.5707 1431.51 62.9365 1431.51 M62.9365 1427.81 Q68.7467 1427.81 71.8022 1432.42 Q74.8809 1437 74.8809 1445.75 Q74.8809 1454.48 71.8022 1459.08 Q68.7467 1463.67 62.9365 1463.67 Q57.1264 1463.67 54.0477 1459.08 Q50.9921 1454.48 50.9921 1445.75 Q50.9921 1437 54.0477 1432.42 Q57.1264 1427.81 62.9365 1427.81 Z\" fill=\"#000000\" fill-rule=\"nonzero\" fill-opacity=\"1\" /><path clip-path=\"url(#clip700)\" d=\"M54.9736 1006.48 L62.6124 1006.48 L62.6124 980.115 L54.3023 981.782 L54.3023 977.523 L62.5661 975.856 L67.242 975.856 L67.242 1006.48 L74.8809 1006.48 L74.8809 1010.42 L54.9736 1010.42 L54.9736 1006.48 Z\" fill=\"#000000\" fill-rule=\"nonzero\" fill-opacity=\"1\" /><path clip-path=\"url(#clip700)\" d=\"M58.5615 553.901 L74.8809 553.901 L74.8809 557.836 L52.9366 557.836 L52.9366 553.901 Q55.5986 551.146 60.1819 546.517 Q64.7883 541.864 65.9689 540.521 Q68.2143 537.998 69.0939 536.262 Q69.9967 534.503 69.9967 532.813 Q69.9967 530.058 68.0522 528.322 Q66.1309 526.586 63.0291 526.586 Q60.83 526.586 58.3763 527.35 Q55.9458 528.114 53.168 529.665 L53.168 524.943 Q55.9921 523.808 58.4458 523.23 Q60.8995 522.651 62.9365 522.651 Q68.3068 522.651 71.5013 525.336 Q74.6957 528.021 74.6957 532.512 Q74.6957 534.642 73.8855 536.563 Q73.0985 538.461 70.992 541.054 Q70.4133 541.725 67.3115 544.943 Q64.2096 548.137 58.5615 553.901 Z\" fill=\"#000000\" fill-rule=\"nonzero\" fill-opacity=\"1\" /><path clip-path=\"url(#clip700)\" d=\"M67.7513 86.6221 Q71.1078 87.3397 72.9827 89.6082 Q74.8809 91.8767 74.8809 95.21 Q74.8809 100.326 71.3624 103.127 Q67.8439 105.928 61.3624 105.928 Q59.1865 105.928 56.8717 105.488 Q54.5801 105.071 52.1264 104.215 L52.1264 99.7008 Q54.0708 100.835 56.3856 101.414 Q58.7004 101.992 61.2236 101.992 Q65.6217 101.992 67.9133 100.256 Q70.2281 98.5202 70.2281 95.21 Q70.2281 92.1545 68.0754 90.4415 Q65.9457 88.7054 62.1263 88.7054 L58.0986 88.7054 L58.0986 84.8629 L62.3115 84.8629 Q65.7606 84.8629 67.5893 83.4971 Q69.418 82.1083 69.418 79.5157 Q69.418 76.8537 67.5198 75.4416 Q65.6448 74.0064 62.1263 74.0064 Q60.205 74.0064 58.006 74.4231 Q55.8069 74.8398 53.168 75.7194 L53.168 71.5528 Q55.8301 70.812 58.1449 70.4416 Q60.4828 70.0713 62.543 70.0713 Q67.867 70.0713 70.9689 72.5018 Q74.0707 74.9092 74.0707 79.0296 Q74.0707 81.8999 72.4272 83.8907 Q70.7837 85.8582 67.7513 86.6221 Z\" fill=\"#000000\" fill-rule=\"nonzero\" fill-opacity=\"1\" /><path clip-path=\"url(#clip702)\" d=\"M552.949 1445.72 L1458.11 1445.72 L1458.11 540.556 L552.949 540.556 L552.949 1445.72  Z\" fill=\"#000000\" fill-rule=\"evenodd\" fill-opacity=\"0\"/>\n",
       "<polyline clip-path=\"url(#clip702)\" style=\"stroke:#ff0000; stroke-linecap:round; stroke-linejoin:round; stroke-width:20; stroke-opacity:1; fill:none\" points=\"552.949,1445.72 1458.11,1445.72 1458.11,540.556 552.949,540.556 552.949,1445.72 \"/>\n",
       "<path clip-path=\"url(#clip702)\" d=\"M1005.53 993.136 L1910.69 993.136 L1910.69 87.9763 L1005.53 87.9763 L1005.53 993.136  Z\" fill=\"#000000\" fill-rule=\"evenodd\" fill-opacity=\"0\"/>\n",
       "<polyline clip-path=\"url(#clip702)\" style=\"stroke:#0000ff; stroke-linecap:round; stroke-linejoin:round; stroke-width:20; stroke-opacity:1; fill:none\" points=\"1005.53,993.136 1910.69,993.136 1910.69,87.9763 1005.53,87.9763 1005.53,993.136 \"/>\n",
       "</svg>\n"
      ],
      "text/html": [
       "<?xml version=\"1.0\" encoding=\"utf-8\"?>\n",
       "<svg xmlns=\"http://www.w3.org/2000/svg\" xmlns:xlink=\"http://www.w3.org/1999/xlink\" width=\"600\" height=\"400\" viewBox=\"0 0 2400 1600\">\n",
       "<defs>\n",
       "  <clipPath id=\"clip750\">\n",
       "    <rect x=\"0\" y=\"0\" width=\"2400\" height=\"1600\"/>\n",
       "  </clipPath>\n",
       "</defs>\n",
       "<path clip-path=\"url(#clip750)\" d=\"M0 1600 L2400 1600 L2400 0 L0 0  Z\" fill=\"#ffffff\" fill-rule=\"evenodd\" fill-opacity=\"1\"/>\n",
       "<defs>\n",
       "  <clipPath id=\"clip751\">\n",
       "    <rect x=\"480\" y=\"0\" width=\"1681\" height=\"1600\"/>\n",
       "  </clipPath>\n",
       "</defs>\n",
       "<path clip-path=\"url(#clip750)\" d=\"M110.881 1486.45 L2352.76 1486.45 L2352.76 47.2441 L110.881 47.2441  Z\" fill=\"#ffffff\" fill-rule=\"evenodd\" fill-opacity=\"1\"/>\n",
       "<defs>\n",
       "  <clipPath id=\"clip752\">\n",
       "    <rect x=\"110\" y=\"47\" width=\"2243\" height=\"1440\"/>\n",
       "  </clipPath>\n",
       "</defs>\n",
       "<polyline clip-path=\"url(#clip752)\" style=\"stroke:#000000; stroke-linecap:round; stroke-linejoin:round; stroke-width:2; stroke-opacity:0.1; fill:none\" points=\"552.949,1486.45 552.949,47.2441 \"/>\n",
       "<polyline clip-path=\"url(#clip752)\" style=\"stroke:#000000; stroke-linecap:round; stroke-linejoin:round; stroke-width:2; stroke-opacity:0.1; fill:none\" points=\"1005.53,1486.45 1005.53,47.2441 \"/>\n",
       "<polyline clip-path=\"url(#clip752)\" style=\"stroke:#000000; stroke-linecap:round; stroke-linejoin:round; stroke-width:2; stroke-opacity:0.1; fill:none\" points=\"1458.11,1486.45 1458.11,47.2441 \"/>\n",
       "<polyline clip-path=\"url(#clip752)\" style=\"stroke:#000000; stroke-linecap:round; stroke-linejoin:round; stroke-width:2; stroke-opacity:0.1; fill:none\" points=\"1910.69,1486.45 1910.69,47.2441 \"/>\n",
       "<polyline clip-path=\"url(#clip752)\" style=\"stroke:#000000; stroke-linecap:round; stroke-linejoin:round; stroke-width:2; stroke-opacity:0.1; fill:none\" points=\"110.881,1445.72 2352.76,1445.72 \"/>\n",
       "<polyline clip-path=\"url(#clip752)\" style=\"stroke:#000000; stroke-linecap:round; stroke-linejoin:round; stroke-width:2; stroke-opacity:0.1; fill:none\" points=\"110.881,993.136 2352.76,993.136 \"/>\n",
       "<polyline clip-path=\"url(#clip752)\" style=\"stroke:#000000; stroke-linecap:round; stroke-linejoin:round; stroke-width:2; stroke-opacity:0.1; fill:none\" points=\"110.881,540.556 2352.76,540.556 \"/>\n",
       "<polyline clip-path=\"url(#clip752)\" style=\"stroke:#000000; stroke-linecap:round; stroke-linejoin:round; stroke-width:2; stroke-opacity:0.1; fill:none\" points=\"110.881,87.9763 2352.76,87.9763 \"/>\n",
       "<polyline clip-path=\"url(#clip750)\" style=\"stroke:#000000; stroke-linecap:round; stroke-linejoin:round; stroke-width:4; stroke-opacity:1; fill:none\" points=\"110.881,1486.45 2352.76,1486.45 \"/>\n",
       "<polyline clip-path=\"url(#clip750)\" style=\"stroke:#000000; stroke-linecap:round; stroke-linejoin:round; stroke-width:4; stroke-opacity:1; fill:none\" points=\"552.949,1486.45 552.949,1467.55 \"/>\n",
       "<polyline clip-path=\"url(#clip750)\" style=\"stroke:#000000; stroke-linecap:round; stroke-linejoin:round; stroke-width:4; stroke-opacity:1; fill:none\" points=\"1005.53,1486.45 1005.53,1467.55 \"/>\n",
       "<polyline clip-path=\"url(#clip750)\" style=\"stroke:#000000; stroke-linecap:round; stroke-linejoin:round; stroke-width:4; stroke-opacity:1; fill:none\" points=\"1458.11,1486.45 1458.11,1467.55 \"/>\n",
       "<polyline clip-path=\"url(#clip750)\" style=\"stroke:#000000; stroke-linecap:round; stroke-linejoin:round; stroke-width:4; stroke-opacity:1; fill:none\" points=\"1910.69,1486.45 1910.69,1467.55 \"/>\n",
       "<path clip-path=\"url(#clip750)\" d=\"M552.949 1517.37 Q549.338 1517.37 547.509 1520.93 Q545.703 1524.47 545.703 1531.6 Q545.703 1538.71 547.509 1542.27 Q549.338 1545.82 552.949 1545.82 Q556.583 1545.82 558.388 1542.27 Q560.217 1538.71 560.217 1531.6 Q560.217 1524.47 558.388 1520.93 Q556.583 1517.37 552.949 1517.37 M552.949 1513.66 Q558.759 1513.66 561.814 1518.27 Q564.893 1522.85 564.893 1531.6 Q564.893 1540.33 561.814 1544.94 Q558.759 1549.52 552.949 1549.52 Q547.139 1549.52 544.06 1544.94 Q541.004 1540.33 541.004 1531.6 Q541.004 1522.85 544.06 1518.27 Q547.139 1513.66 552.949 1513.66 Z\" fill=\"#000000\" fill-rule=\"nonzero\" fill-opacity=\"1\" /><path clip-path=\"url(#clip750)\" d=\"M995.91 1544.91 L1003.55 1544.91 L1003.55 1518.55 L995.239 1520.21 L995.239 1515.95 L1003.5 1514.29 L1008.18 1514.29 L1008.18 1544.91 L1015.82 1544.91 L1015.82 1548.85 L995.91 1548.85 L995.91 1544.91 Z\" fill=\"#000000\" fill-rule=\"nonzero\" fill-opacity=\"1\" /><path clip-path=\"url(#clip750)\" d=\"M1452.76 1544.91 L1469.08 1544.91 L1469.08 1548.85 L1447.14 1548.85 L1447.14 1544.91 Q1449.8 1542.16 1454.38 1537.53 Q1458.99 1532.88 1460.17 1531.53 Q1462.41 1529.01 1463.29 1527.27 Q1464.2 1525.51 1464.2 1523.82 Q1464.2 1521.07 1462.25 1519.33 Q1460.33 1517.6 1457.23 1517.6 Q1455.03 1517.6 1452.58 1518.36 Q1450.15 1519.13 1447.37 1520.68 L1447.37 1515.95 Q1450.19 1514.82 1452.65 1514.24 Q1455.1 1513.66 1457.14 1513.66 Q1462.51 1513.66 1465.7 1516.35 Q1468.9 1519.03 1468.9 1523.52 Q1468.9 1525.65 1468.09 1527.57 Q1467.3 1529.47 1465.19 1532.07 Q1464.61 1532.74 1461.51 1535.95 Q1458.41 1539.15 1452.76 1544.91 Z\" fill=\"#000000\" fill-rule=\"nonzero\" fill-opacity=\"1\" /><path clip-path=\"url(#clip750)\" d=\"M1914.94 1530.21 Q1918.29 1530.93 1920.17 1533.2 Q1922.07 1535.47 1922.07 1538.8 Q1922.07 1543.92 1918.55 1546.72 Q1915.03 1549.52 1908.55 1549.52 Q1906.37 1549.52 1904.06 1549.08 Q1901.76 1548.66 1899.31 1547.81 L1899.31 1543.29 Q1901.26 1544.43 1903.57 1545.01 Q1905.88 1545.58 1908.41 1545.58 Q1912.81 1545.58 1915.1 1543.85 Q1917.41 1542.11 1917.41 1538.8 Q1917.41 1535.75 1915.26 1534.03 Q1913.13 1532.3 1909.31 1532.3 L1905.28 1532.3 L1905.28 1528.45 L1909.5 1528.45 Q1912.95 1528.45 1914.77 1527.09 Q1916.6 1525.7 1916.6 1523.11 Q1916.6 1520.45 1914.7 1519.03 Q1912.83 1517.6 1909.31 1517.6 Q1907.39 1517.6 1905.19 1518.01 Q1902.99 1518.43 1900.35 1519.31 L1900.35 1515.14 Q1903.01 1514.4 1905.33 1514.03 Q1907.67 1513.66 1909.73 1513.66 Q1915.05 1513.66 1918.15 1516.09 Q1921.26 1518.5 1921.26 1522.62 Q1921.26 1525.49 1919.61 1527.48 Q1917.97 1529.45 1914.94 1530.21 Z\" fill=\"#000000\" fill-rule=\"nonzero\" fill-opacity=\"1\" /><polyline clip-path=\"url(#clip750)\" style=\"stroke:#000000; stroke-linecap:round; stroke-linejoin:round; stroke-width:4; stroke-opacity:1; fill:none\" points=\"110.881,1486.45 110.881,47.2441 \"/>\n",
       "<polyline clip-path=\"url(#clip750)\" style=\"stroke:#000000; stroke-linecap:round; stroke-linejoin:round; stroke-width:4; stroke-opacity:1; fill:none\" points=\"110.881,1445.72 129.779,1445.72 \"/>\n",
       "<polyline clip-path=\"url(#clip750)\" style=\"stroke:#000000; stroke-linecap:round; stroke-linejoin:round; stroke-width:4; stroke-opacity:1; fill:none\" points=\"110.881,993.136 129.779,993.136 \"/>\n",
       "<polyline clip-path=\"url(#clip750)\" style=\"stroke:#000000; stroke-linecap:round; stroke-linejoin:round; stroke-width:4; stroke-opacity:1; fill:none\" points=\"110.881,540.556 129.779,540.556 \"/>\n",
       "<polyline clip-path=\"url(#clip750)\" style=\"stroke:#000000; stroke-linecap:round; stroke-linejoin:round; stroke-width:4; stroke-opacity:1; fill:none\" points=\"110.881,87.9763 129.779,87.9763 \"/>\n",
       "<path clip-path=\"url(#clip750)\" d=\"M62.9365 1431.51 Q59.3254 1431.51 57.4967 1435.08 Q55.6912 1438.62 55.6912 1445.75 Q55.6912 1452.86 57.4967 1456.42 Q59.3254 1459.96 62.9365 1459.96 Q66.5707 1459.96 68.3763 1456.42 Q70.205 1452.86 70.205 1445.75 Q70.205 1438.62 68.3763 1435.08 Q66.5707 1431.51 62.9365 1431.51 M62.9365 1427.81 Q68.7467 1427.81 71.8022 1432.42 Q74.8809 1437 74.8809 1445.75 Q74.8809 1454.48 71.8022 1459.08 Q68.7467 1463.67 62.9365 1463.67 Q57.1264 1463.67 54.0477 1459.08 Q50.9921 1454.48 50.9921 1445.75 Q50.9921 1437 54.0477 1432.42 Q57.1264 1427.81 62.9365 1427.81 Z\" fill=\"#000000\" fill-rule=\"nonzero\" fill-opacity=\"1\" /><path clip-path=\"url(#clip750)\" d=\"M54.9736 1006.48 L62.6124 1006.48 L62.6124 980.115 L54.3023 981.782 L54.3023 977.523 L62.5661 975.856 L67.242 975.856 L67.242 1006.48 L74.8809 1006.48 L74.8809 1010.42 L54.9736 1010.42 L54.9736 1006.48 Z\" fill=\"#000000\" fill-rule=\"nonzero\" fill-opacity=\"1\" /><path clip-path=\"url(#clip750)\" d=\"M58.5615 553.901 L74.8809 553.901 L74.8809 557.836 L52.9366 557.836 L52.9366 553.901 Q55.5986 551.146 60.1819 546.517 Q64.7883 541.864 65.9689 540.521 Q68.2143 537.998 69.0939 536.262 Q69.9967 534.503 69.9967 532.813 Q69.9967 530.058 68.0522 528.322 Q66.1309 526.586 63.0291 526.586 Q60.83 526.586 58.3763 527.35 Q55.9458 528.114 53.168 529.665 L53.168 524.943 Q55.9921 523.808 58.4458 523.23 Q60.8995 522.651 62.9365 522.651 Q68.3068 522.651 71.5013 525.336 Q74.6957 528.021 74.6957 532.512 Q74.6957 534.642 73.8855 536.563 Q73.0985 538.461 70.992 541.054 Q70.4133 541.725 67.3115 544.943 Q64.2096 548.137 58.5615 553.901 Z\" fill=\"#000000\" fill-rule=\"nonzero\" fill-opacity=\"1\" /><path clip-path=\"url(#clip750)\" d=\"M67.7513 86.6221 Q71.1078 87.3397 72.9827 89.6082 Q74.8809 91.8767 74.8809 95.21 Q74.8809 100.326 71.3624 103.127 Q67.8439 105.928 61.3624 105.928 Q59.1865 105.928 56.8717 105.488 Q54.5801 105.071 52.1264 104.215 L52.1264 99.7008 Q54.0708 100.835 56.3856 101.414 Q58.7004 101.992 61.2236 101.992 Q65.6217 101.992 67.9133 100.256 Q70.2281 98.5202 70.2281 95.21 Q70.2281 92.1545 68.0754 90.4415 Q65.9457 88.7054 62.1263 88.7054 L58.0986 88.7054 L58.0986 84.8629 L62.3115 84.8629 Q65.7606 84.8629 67.5893 83.4971 Q69.418 82.1083 69.418 79.5157 Q69.418 76.8537 67.5198 75.4416 Q65.6448 74.0064 62.1263 74.0064 Q60.205 74.0064 58.006 74.4231 Q55.8069 74.8398 53.168 75.7194 L53.168 71.5528 Q55.8301 70.812 58.1449 70.4416 Q60.4828 70.0713 62.543 70.0713 Q67.867 70.0713 70.9689 72.5018 Q74.0707 74.9092 74.0707 79.0296 Q74.0707 81.8999 72.4272 83.8907 Q70.7837 85.8582 67.7513 86.6221 Z\" fill=\"#000000\" fill-rule=\"nonzero\" fill-opacity=\"1\" /><path clip-path=\"url(#clip752)\" d=\"M552.949 1445.72 L1458.11 1445.72 L1458.11 540.556 L552.949 540.556 L552.949 1445.72  Z\" fill=\"#000000\" fill-rule=\"evenodd\" fill-opacity=\"0\"/>\n",
       "<polyline clip-path=\"url(#clip752)\" style=\"stroke:#ff0000; stroke-linecap:round; stroke-linejoin:round; stroke-width:20; stroke-opacity:1; fill:none\" points=\"552.949,1445.72 1458.11,1445.72 1458.11,540.556 552.949,540.556 552.949,1445.72 \"/>\n",
       "<path clip-path=\"url(#clip752)\" d=\"M1005.53 993.136 L1910.69 993.136 L1910.69 87.9763 L1005.53 87.9763 L1005.53 993.136  Z\" fill=\"#000000\" fill-rule=\"evenodd\" fill-opacity=\"0\"/>\n",
       "<polyline clip-path=\"url(#clip752)\" style=\"stroke:#0000ff; stroke-linecap:round; stroke-linejoin:round; stroke-width:20; stroke-opacity:1; fill:none\" points=\"1005.53,993.136 1910.69,993.136 1910.69,87.9763 1005.53,87.9763 1005.53,993.136 \"/>\n",
       "</svg>\n"
      ]
     },
     "metadata": {},
     "output_type": "display_data"
    }
   ],
   "source": [
    "plot(quadrado(v1, l1), c=false, lc=:red, lw=5, label=false, aspect_ratio=true)\n",
    "plot!(quadrado(v2, l2), c=false, lc=:blue, lw=5, label=false, aspect_ratio=true)"
   ]
  },
  {
   "cell_type": "markdown",
   "id": "5668fb60",
   "metadata": {
    "slideshow": {
     "slide_type": "subslide"
    }
   },
   "source": [
    "## Com rotação\n",
    "\n",
    "Quando ocorre rotação, a medida simplificada de sobreposição pode não ser correta."
   ]
  },
  {
   "cell_type": "code",
   "execution_count": 67,
   "id": "b95c035e",
   "metadata": {
    "slideshow": {
     "slide_type": "fragment"
    }
   },
   "outputs": [
    {
     "data": {
      "text/plain": [
       "1.5707963267948966"
      ]
     },
     "metadata": {},
     "output_type": "display_data"
    }
   ],
   "source": [
    "v1 = [1, 0]\n",
    "l1 = 2\n",
    "θ1 = π / 4\n",
    "\n",
    "v2 = [2, 2]\n",
    "l2 = 3\n",
    "θ2 = π / 2"
   ]
  },
  {
   "cell_type": "code",
   "execution_count": 68,
   "id": "4067f8f8",
   "metadata": {
    "slideshow": {
     "slide_type": "fragment"
    }
   },
   "outputs": [
    {
     "data": {
      "image/png": "[encoded data removed]",
      "image/svg+xml": [
       "<?xml version=\"1.0\" encoding=\"utf-8\"?>\n",
       "<svg xmlns=\"http://www.w3.org/2000/svg\" xmlns:xlink=\"http://www.w3.org/1999/xlink\" width=\"600\" height=\"400\" viewBox=\"0 0 2400 1600\">\n",
       "<defs>\n",
       "  <clipPath id=\"clip420\">\n",
       "    <rect x=\"0\" y=\"0\" width=\"2400\" height=\"1600\"/>\n",
       "  </clipPath>\n",
       "</defs>\n",
       "<path clip-path=\"url(#clip420)\" d=\"M0 1600 L2400 1600 L2400 0 L0 0  Z\" fill=\"#ffffff\" fill-rule=\"evenodd\" fill-opacity=\"1\"/>\n",
       "<defs>\n",
       "  <clipPath id=\"clip421\">\n",
       "    <rect x=\"480\" y=\"0\" width=\"1681\" height=\"1600\"/>\n",
       "  </clipPath>\n",
       "</defs>\n",
       "<path clip-path=\"url(#clip420)\" d=\"M147.478 1486.45 L2352.76 1486.45 L2352.76 47.2441 L147.478 47.2441  Z\" fill=\"#ffffff\" fill-rule=\"evenodd\" fill-opacity=\"1\"/>\n",
       "<defs>\n",
       "  <clipPath id=\"clip422\">\n",
       "    <rect x=\"147\" y=\"47\" width=\"2206\" height=\"1440\"/>\n",
       "  </clipPath>\n",
       "</defs>\n",
       "<polyline clip-path=\"url(#clip422)\" style=\"stroke:#000000; stroke-linecap:round; stroke-linejoin:round; stroke-width:2; stroke-opacity:0.1; fill:none\" points=\"271.257,1486.45 271.257,47.2441 \"/>\n",
       "<polyline clip-path=\"url(#clip422)\" style=\"stroke:#000000; stroke-linecap:round; stroke-linejoin:round; stroke-width:2; stroke-opacity:0.1; fill:none\" points=\"823.834,1486.45 823.834,47.2441 \"/>\n",
       "<polyline clip-path=\"url(#clip422)\" style=\"stroke:#000000; stroke-linecap:round; stroke-linejoin:round; stroke-width:2; stroke-opacity:0.1; fill:none\" points=\"1376.41,1486.45 1376.41,47.2441 \"/>\n",
       "<polyline clip-path=\"url(#clip422)\" style=\"stroke:#000000; stroke-linecap:round; stroke-linejoin:round; stroke-width:2; stroke-opacity:0.1; fill:none\" points=\"1928.99,1486.45 1928.99,47.2441 \"/>\n",
       "<polyline clip-path=\"url(#clip422)\" style=\"stroke:#000000; stroke-linecap:round; stroke-linejoin:round; stroke-width:2; stroke-opacity:0.1; fill:none\" points=\"147.478,1331.27 2352.76,1331.27 \"/>\n",
       "<polyline clip-path=\"url(#clip422)\" style=\"stroke:#000000; stroke-linecap:round; stroke-linejoin:round; stroke-width:2; stroke-opacity:0.1; fill:none\" points=\"147.478,1054.99 2352.76,1054.99 \"/>\n",
       "<polyline clip-path=\"url(#clip422)\" style=\"stroke:#000000; stroke-linecap:round; stroke-linejoin:round; stroke-width:2; stroke-opacity:0.1; fill:none\" points=\"147.478,778.697 2352.76,778.697 \"/>\n",
       "<polyline clip-path=\"url(#clip422)\" style=\"stroke:#000000; stroke-linecap:round; stroke-linejoin:round; stroke-width:2; stroke-opacity:0.1; fill:none\" points=\"147.478,502.409 2352.76,502.409 \"/>\n",
       "<polyline clip-path=\"url(#clip422)\" style=\"stroke:#000000; stroke-linecap:round; stroke-linejoin:round; stroke-width:2; stroke-opacity:0.1; fill:none\" points=\"147.478,226.12 2352.76,226.12 \"/>\n",
       "<polyline clip-path=\"url(#clip420)\" style=\"stroke:#000000; stroke-linecap:round; stroke-linejoin:round; stroke-width:4; stroke-opacity:1; fill:none\" points=\"147.478,1486.45 2352.76,1486.45 \"/>\n",
       "<polyline clip-path=\"url(#clip420)\" style=\"stroke:#000000; stroke-linecap:round; stroke-linejoin:round; stroke-width:4; stroke-opacity:1; fill:none\" points=\"271.257,1486.45 271.257,1467.55 \"/>\n",
       "<polyline clip-path=\"url(#clip420)\" style=\"stroke:#000000; stroke-linecap:round; stroke-linejoin:round; stroke-width:4; stroke-opacity:1; fill:none\" points=\"823.834,1486.45 823.834,1467.55 \"/>\n",
       "<polyline clip-path=\"url(#clip420)\" style=\"stroke:#000000; stroke-linecap:round; stroke-linejoin:round; stroke-width:4; stroke-opacity:1; fill:none\" points=\"1376.41,1486.45 1376.41,1467.55 \"/>\n",
       "<polyline clip-path=\"url(#clip420)\" style=\"stroke:#000000; stroke-linecap:round; stroke-linejoin:round; stroke-width:4; stroke-opacity:1; fill:none\" points=\"1928.99,1486.45 1928.99,1467.55 \"/>\n",
       "<path clip-path=\"url(#clip420)\" d=\"M241.199 1532.02 L270.875 1532.02 L270.875 1535.95 L241.199 1535.95 L241.199 1532.02 Z\" fill=\"#000000\" fill-rule=\"nonzero\" fill-opacity=\"1\" /><path clip-path=\"url(#clip420)\" d=\"M284.996 1544.91 L301.315 1544.91 L301.315 1548.85 L279.371 1548.85 L279.371 1544.91 Q282.033 1542.16 286.616 1537.53 Q291.222 1532.88 292.403 1531.53 Q294.648 1529.01 295.528 1527.27 Q296.431 1525.51 296.431 1523.82 Q296.431 1521.07 294.486 1519.33 Q292.565 1517.6 289.463 1517.6 Q287.264 1517.6 284.81 1518.36 Q282.38 1519.13 279.602 1520.68 L279.602 1515.95 Q282.426 1514.82 284.88 1514.24 Q287.333 1513.66 289.371 1513.66 Q294.741 1513.66 297.935 1516.35 Q301.13 1519.03 301.13 1523.52 Q301.13 1525.65 300.32 1527.57 Q299.532 1529.47 297.426 1532.07 Q296.847 1532.74 293.745 1535.95 Q290.644 1539.15 284.996 1544.91 Z\" fill=\"#000000\" fill-rule=\"nonzero\" fill-opacity=\"1\" /><path clip-path=\"url(#clip420)\" d=\"M823.834 1517.37 Q820.223 1517.37 818.394 1520.93 Q816.588 1524.47 816.588 1531.6 Q816.588 1538.71 818.394 1542.27 Q820.223 1545.82 823.834 1545.82 Q827.468 1545.82 829.273 1542.27 Q831.102 1538.71 831.102 1531.6 Q831.102 1524.47 829.273 1520.93 Q827.468 1517.37 823.834 1517.37 M823.834 1513.66 Q829.644 1513.66 832.699 1518.27 Q835.778 1522.85 835.778 1531.6 Q835.778 1540.33 832.699 1544.94 Q829.644 1549.52 823.834 1549.52 Q818.024 1549.52 814.945 1544.94 Q811.889 1540.33 811.889 1531.6 Q811.889 1522.85 814.945 1518.27 Q818.024 1513.66 823.834 1513.66 Z\" fill=\"#000000\" fill-rule=\"nonzero\" fill-opacity=\"1\" /><path clip-path=\"url(#clip420)\" d=\"M1371.06 1544.91 L1387.38 1544.91 L1387.38 1548.85 L1365.44 1548.85 L1365.44 1544.91 Q1368.1 1542.16 1372.68 1537.53 Q1377.29 1532.88 1378.47 1531.53 Q1380.72 1529.01 1381.6 1527.27 Q1382.5 1525.51 1382.5 1523.82 Q1382.5 1521.07 1380.55 1519.33 Q1378.63 1517.6 1375.53 1517.6 Q1373.33 1517.6 1370.88 1518.36 Q1368.45 1519.13 1365.67 1520.68 L1365.67 1515.95 Q1368.49 1514.82 1370.95 1514.24 Q1373.4 1513.66 1375.44 1513.66 Q1380.81 1513.66 1384 1516.35 Q1387.2 1519.03 1387.2 1523.52 Q1387.2 1525.65 1386.39 1527.57 Q1385.6 1529.47 1383.49 1532.07 Q1382.91 1532.74 1379.81 1535.95 Q1376.71 1539.15 1371.06 1544.91 Z\" fill=\"#000000\" fill-rule=\"nonzero\" fill-opacity=\"1\" /><path clip-path=\"url(#clip420)\" d=\"M1932 1518.36 L1920.19 1536.81 L1932 1536.81 L1932 1518.36 M1930.77 1514.29 L1936.65 1514.29 L1936.65 1536.81 L1941.58 1536.81 L1941.58 1540.7 L1936.65 1540.7 L1936.65 1548.85 L1932 1548.85 L1932 1540.7 L1916.39 1540.7 L1916.39 1536.19 L1930.77 1514.29 Z\" fill=\"#000000\" fill-rule=\"nonzero\" fill-opacity=\"1\" /><polyline clip-path=\"url(#clip420)\" style=\"stroke:#000000; stroke-linecap:round; stroke-linejoin:round; stroke-width:4; stroke-opacity:1; fill:none\" points=\"147.478,1486.45 147.478,47.2441 \"/>\n",
       "<polyline clip-path=\"url(#clip420)\" style=\"stroke:#000000; stroke-linecap:round; stroke-linejoin:round; stroke-width:4; stroke-opacity:1; fill:none\" points=\"147.478,1331.27 166.376,1331.27 \"/>\n",
       "<polyline clip-path=\"url(#clip420)\" style=\"stroke:#000000; stroke-linecap:round; stroke-linejoin:round; stroke-width:4; stroke-opacity:1; fill:none\" points=\"147.478,1054.99 166.376,1054.99 \"/>\n",
       "<polyline clip-path=\"url(#clip420)\" style=\"stroke:#000000; stroke-linecap:round; stroke-linejoin:round; stroke-width:4; stroke-opacity:1; fill:none\" points=\"147.478,778.697 166.376,778.697 \"/>\n",
       "<polyline clip-path=\"url(#clip420)\" style=\"stroke:#000000; stroke-linecap:round; stroke-linejoin:round; stroke-width:4; stroke-opacity:1; fill:none\" points=\"147.478,502.409 166.376,502.409 \"/>\n",
       "<polyline clip-path=\"url(#clip420)\" style=\"stroke:#000000; stroke-linecap:round; stroke-linejoin:round; stroke-width:4; stroke-opacity:1; fill:none\" points=\"147.478,226.12 166.376,226.12 \"/>\n",
       "<path clip-path=\"url(#clip420)\" d=\"M50.9921 1331.72 L80.6679 1331.72 L80.6679 1335.66 L50.9921 1335.66 L50.9921 1331.72 Z\" fill=\"#000000\" fill-rule=\"nonzero\" fill-opacity=\"1\" /><path clip-path=\"url(#clip420)\" d=\"M91.5706 1344.62 L99.2095 1344.62 L99.2095 1318.25 L90.8993 1319.92 L90.8993 1315.66 L99.1632 1313.99 L103.839 1313.99 L103.839 1344.62 L111.478 1344.62 L111.478 1348.55 L91.5706 1348.55 L91.5706 1344.62 Z\" fill=\"#000000\" fill-rule=\"nonzero\" fill-opacity=\"1\" /><path clip-path=\"url(#clip420)\" d=\"M99.5335 1040.78 Q95.9224 1040.78 94.0937 1044.35 Q92.2882 1047.89 92.2882 1055.02 Q92.2882 1062.13 94.0937 1065.69 Q95.9224 1069.23 99.5335 1069.23 Q103.168 1069.23 104.973 1065.69 Q106.802 1062.13 106.802 1055.02 Q106.802 1047.89 104.973 1044.35 Q103.168 1040.78 99.5335 1040.78 M99.5335 1037.08 Q105.344 1037.08 108.399 1041.69 Q111.478 1046.27 111.478 1055.02 Q111.478 1063.75 108.399 1068.35 Q105.344 1072.94 99.5335 1072.94 Q93.7234 1072.94 90.6447 1068.35 Q87.5892 1063.75 87.5892 1055.02 Q87.5892 1046.27 90.6447 1041.69 Q93.7234 1037.08 99.5335 1037.08 Z\" fill=\"#000000\" fill-rule=\"nonzero\" fill-opacity=\"1\" /><path clip-path=\"url(#clip420)\" d=\"M91.5706 792.042 L99.2095 792.042 L99.2095 765.676 L90.8993 767.343 L90.8993 763.084 L99.1632 761.417 L103.839 761.417 L103.839 792.042 L111.478 792.042 L111.478 795.977 L91.5706 795.977 L91.5706 792.042 Z\" fill=\"#000000\" fill-rule=\"nonzero\" fill-opacity=\"1\" /><path clip-path=\"url(#clip420)\" d=\"M95.1586 515.753 L111.478 515.753 L111.478 519.689 L89.5336 519.689 L89.5336 515.753 Q92.1956 512.999 96.7789 508.369 Q101.385 503.716 102.566 502.374 Q104.811 499.851 105.691 498.115 Q106.594 496.355 106.594 494.666 Q106.594 491.911 104.649 490.175 Q102.728 488.439 99.6261 488.439 Q97.4271 488.439 94.9734 489.203 Q92.5428 489.967 89.7651 491.517 L89.7651 486.795 Q92.5891 485.661 95.0428 485.082 Q97.4965 484.504 99.5335 484.504 Q104.904 484.504 108.098 487.189 Q111.293 489.874 111.293 494.365 Q111.293 496.494 110.483 498.416 Q109.696 500.314 107.589 502.906 Q107.01 503.578 103.909 506.795 Q100.807 509.99 95.1586 515.753 Z\" fill=\"#000000\" fill-rule=\"nonzero\" fill-opacity=\"1\" /><path clip-path=\"url(#clip420)\" d=\"M104.348 224.766 Q107.705 225.484 109.58 227.752 Q111.478 230.021 111.478 233.354 Q111.478 238.47 107.959 241.271 Q104.441 244.072 97.9595 244.072 Q95.7836 244.072 93.4688 243.632 Q91.1771 243.215 88.7234 242.359 L88.7234 237.845 Q90.6678 238.979 92.9826 239.558 Q95.2974 240.137 97.8206 240.137 Q102.219 240.137 104.51 238.4 Q106.825 236.664 106.825 233.354 Q106.825 230.299 104.672 228.586 Q102.543 226.85 98.7234 226.85 L94.6956 226.85 L94.6956 223.007 L98.9085 223.007 Q102.358 223.007 104.186 221.641 Q106.015 220.252 106.015 217.66 Q106.015 214.998 104.117 213.586 Q102.242 212.151 98.7234 212.151 Q96.8021 212.151 94.603 212.567 Q92.4039 212.984 89.7651 213.864 L89.7651 209.697 Q92.4271 208.956 94.7419 208.586 Q97.0798 208.215 99.14 208.215 Q104.464 208.215 107.566 210.646 Q110.668 213.053 110.668 217.174 Q110.668 220.044 109.024 222.035 Q107.381 224.002 104.348 224.766 Z\" fill=\"#000000\" fill-rule=\"nonzero\" fill-opacity=\"1\" /><path clip-path=\"url(#clip422)\" d=\"M1100.12 1445.72 L1490.85 1054.99 L1100.12 664.255 L709.391 1054.99 L1100.12 1445.72  Z\" fill=\"#000000\" fill-rule=\"evenodd\" fill-opacity=\"0\"/>\n",
       "<polyline clip-path=\"url(#clip422)\" style=\"stroke:#ff0000; stroke-linecap:round; stroke-linejoin:round; stroke-width:20; stroke-opacity:1; fill:none\" points=\"1100.12,1445.72 1490.85,1054.99 1100.12,664.255 709.391,1054.99 1100.12,1445.72 \"/>\n",
       "<path clip-path=\"url(#clip422)\" d=\"M1790.84 916.841 L1790.84 87.9763 L961.978 87.9763 L961.978 916.841 L1790.84 916.841  Z\" fill=\"#000000\" fill-rule=\"evenodd\" fill-opacity=\"0\"/>\n",
       "<polyline clip-path=\"url(#clip422)\" style=\"stroke:#0000ff; stroke-linecap:round; stroke-linejoin:round; stroke-width:20; stroke-opacity:1; fill:none\" points=\"1790.84,916.841 1790.84,87.9763 961.978,87.9763 961.978,916.841 1790.84,916.841 \"/>\n",
       "</svg>\n"
      ],
      "text/html": [
       "<?xml version=\"1.0\" encoding=\"utf-8\"?>\n",
       "<svg xmlns=\"http://www.w3.org/2000/svg\" xmlns:xlink=\"http://www.w3.org/1999/xlink\" width=\"600\" height=\"400\" viewBox=\"0 0 2400 1600\">\n",
       "<defs>\n",
       "  <clipPath id=\"clip470\">\n",
       "    <rect x=\"0\" y=\"0\" width=\"2400\" height=\"1600\"/>\n",
       "  </clipPath>\n",
       "</defs>\n",
       "<path clip-path=\"url(#clip470)\" d=\"M0 1600 L2400 1600 L2400 0 L0 0  Z\" fill=\"#ffffff\" fill-rule=\"evenodd\" fill-opacity=\"1\"/>\n",
       "<defs>\n",
       "  <clipPath id=\"clip471\">\n",
       "    <rect x=\"480\" y=\"0\" width=\"1681\" height=\"1600\"/>\n",
       "  </clipPath>\n",
       "</defs>\n",
       "<path clip-path=\"url(#clip470)\" d=\"M147.478 1486.45 L2352.76 1486.45 L2352.76 47.2441 L147.478 47.2441  Z\" fill=\"#ffffff\" fill-rule=\"evenodd\" fill-opacity=\"1\"/>\n",
       "<defs>\n",
       "  <clipPath id=\"clip472\">\n",
       "    <rect x=\"147\" y=\"47\" width=\"2206\" height=\"1440\"/>\n",
       "  </clipPath>\n",
       "</defs>\n",
       "<polyline clip-path=\"url(#clip472)\" style=\"stroke:#000000; stroke-linecap:round; stroke-linejoin:round; stroke-width:2; stroke-opacity:0.1; fill:none\" points=\"271.257,1486.45 271.257,47.2441 \"/>\n",
       "<polyline clip-path=\"url(#clip472)\" style=\"stroke:#000000; stroke-linecap:round; stroke-linejoin:round; stroke-width:2; stroke-opacity:0.1; fill:none\" points=\"823.834,1486.45 823.834,47.2441 \"/>\n",
       "<polyline clip-path=\"url(#clip472)\" style=\"stroke:#000000; stroke-linecap:round; stroke-linejoin:round; stroke-width:2; stroke-opacity:0.1; fill:none\" points=\"1376.41,1486.45 1376.41,47.2441 \"/>\n",
       "<polyline clip-path=\"url(#clip472)\" style=\"stroke:#000000; stroke-linecap:round; stroke-linejoin:round; stroke-width:2; stroke-opacity:0.1; fill:none\" points=\"1928.99,1486.45 1928.99,47.2441 \"/>\n",
       "<polyline clip-path=\"url(#clip472)\" style=\"stroke:#000000; stroke-linecap:round; stroke-linejoin:round; stroke-width:2; stroke-opacity:0.1; fill:none\" points=\"147.478,1331.27 2352.76,1331.27 \"/>\n",
       "<polyline clip-path=\"url(#clip472)\" style=\"stroke:#000000; stroke-linecap:round; stroke-linejoin:round; stroke-width:2; stroke-opacity:0.1; fill:none\" points=\"147.478,1054.99 2352.76,1054.99 \"/>\n",
       "<polyline clip-path=\"url(#clip472)\" style=\"stroke:#000000; stroke-linecap:round; stroke-linejoin:round; stroke-width:2; stroke-opacity:0.1; fill:none\" points=\"147.478,778.697 2352.76,778.697 \"/>\n",
       "<polyline clip-path=\"url(#clip472)\" style=\"stroke:#000000; stroke-linecap:round; stroke-linejoin:round; stroke-width:2; stroke-opacity:0.1; fill:none\" points=\"147.478,502.409 2352.76,502.409 \"/>\n",
       "<polyline clip-path=\"url(#clip472)\" style=\"stroke:#000000; stroke-linecap:round; stroke-linejoin:round; stroke-width:2; stroke-opacity:0.1; fill:none\" points=\"147.478,226.12 2352.76,226.12 \"/>\n",
       "<polyline clip-path=\"url(#clip470)\" style=\"stroke:#000000; stroke-linecap:round; stroke-linejoin:round; stroke-width:4; stroke-opacity:1; fill:none\" points=\"147.478,1486.45 2352.76,1486.45 \"/>\n",
       "<polyline clip-path=\"url(#clip470)\" style=\"stroke:#000000; stroke-linecap:round; stroke-linejoin:round; stroke-width:4; stroke-opacity:1; fill:none\" points=\"271.257,1486.45 271.257,1467.55 \"/>\n",
       "<polyline clip-path=\"url(#clip470)\" style=\"stroke:#000000; stroke-linecap:round; stroke-linejoin:round; stroke-width:4; stroke-opacity:1; fill:none\" points=\"823.834,1486.45 823.834,1467.55 \"/>\n",
       "<polyline clip-path=\"url(#clip470)\" style=\"stroke:#000000; stroke-linecap:round; stroke-linejoin:round; stroke-width:4; stroke-opacity:1; fill:none\" points=\"1376.41,1486.45 1376.41,1467.55 \"/>\n",
       "<polyline clip-path=\"url(#clip470)\" style=\"stroke:#000000; stroke-linecap:round; stroke-linejoin:round; stroke-width:4; stroke-opacity:1; fill:none\" points=\"1928.99,1486.45 1928.99,1467.55 \"/>\n",
       "<path clip-path=\"url(#clip470)\" d=\"M241.199 1532.02 L270.875 1532.02 L270.875 1535.95 L241.199 1535.95 L241.199 1532.02 Z\" fill=\"#000000\" fill-rule=\"nonzero\" fill-opacity=\"1\" /><path clip-path=\"url(#clip470)\" d=\"M284.996 1544.91 L301.315 1544.91 L301.315 1548.85 L279.371 1548.85 L279.371 1544.91 Q282.033 1542.16 286.616 1537.53 Q291.222 1532.88 292.403 1531.53 Q294.648 1529.01 295.528 1527.27 Q296.431 1525.51 296.431 1523.82 Q296.431 1521.07 294.486 1519.33 Q292.565 1517.6 289.463 1517.6 Q287.264 1517.6 284.81 1518.36 Q282.38 1519.13 279.602 1520.68 L279.602 1515.95 Q282.426 1514.82 284.88 1514.24 Q287.333 1513.66 289.371 1513.66 Q294.741 1513.66 297.935 1516.35 Q301.13 1519.03 301.13 1523.52 Q301.13 1525.65 300.32 1527.57 Q299.532 1529.47 297.426 1532.07 Q296.847 1532.74 293.745 1535.95 Q290.644 1539.15 284.996 1544.91 Z\" fill=\"#000000\" fill-rule=\"nonzero\" fill-opacity=\"1\" /><path clip-path=\"url(#clip470)\" d=\"M823.834 1517.37 Q820.223 1517.37 818.394 1520.93 Q816.588 1524.47 816.588 1531.6 Q816.588 1538.71 818.394 1542.27 Q820.223 1545.82 823.834 1545.82 Q827.468 1545.82 829.273 1542.27 Q831.102 1538.71 831.102 1531.6 Q831.102 1524.47 829.273 1520.93 Q827.468 1517.37 823.834 1517.37 M823.834 1513.66 Q829.644 1513.66 832.699 1518.27 Q835.778 1522.85 835.778 1531.6 Q835.778 1540.33 832.699 1544.94 Q829.644 1549.52 823.834 1549.52 Q818.024 1549.52 814.945 1544.94 Q811.889 1540.33 811.889 1531.6 Q811.889 1522.85 814.945 1518.27 Q818.024 1513.66 823.834 1513.66 Z\" fill=\"#000000\" fill-rule=\"nonzero\" fill-opacity=\"1\" /><path clip-path=\"url(#clip470)\" d=\"M1371.06 1544.91 L1387.38 1544.91 L1387.38 1548.85 L1365.44 1548.85 L1365.44 1544.91 Q1368.1 1542.16 1372.68 1537.53 Q1377.29 1532.88 1378.47 1531.53 Q1380.72 1529.01 1381.6 1527.27 Q1382.5 1525.51 1382.5 1523.82 Q1382.5 1521.07 1380.55 1519.33 Q1378.63 1517.6 1375.53 1517.6 Q1373.33 1517.6 1370.88 1518.36 Q1368.45 1519.13 1365.67 1520.68 L1365.67 1515.95 Q1368.49 1514.82 1370.95 1514.24 Q1373.4 1513.66 1375.44 1513.66 Q1380.81 1513.66 1384 1516.35 Q1387.2 1519.03 1387.2 1523.52 Q1387.2 1525.65 1386.39 1527.57 Q1385.6 1529.47 1383.49 1532.07 Q1382.91 1532.74 1379.81 1535.95 Q1376.71 1539.15 1371.06 1544.91 Z\" fill=\"#000000\" fill-rule=\"nonzero\" fill-opacity=\"1\" /><path clip-path=\"url(#clip470)\" d=\"M1932 1518.36 L1920.19 1536.81 L1932 1536.81 L1932 1518.36 M1930.77 1514.29 L1936.65 1514.29 L1936.65 1536.81 L1941.58 1536.81 L1941.58 1540.7 L1936.65 1540.7 L1936.65 1548.85 L1932 1548.85 L1932 1540.7 L1916.39 1540.7 L1916.39 1536.19 L1930.77 1514.29 Z\" fill=\"#000000\" fill-rule=\"nonzero\" fill-opacity=\"1\" /><polyline clip-path=\"url(#clip470)\" style=\"stroke:#000000; stroke-linecap:round; stroke-linejoin:round; stroke-width:4; stroke-opacity:1; fill:none\" points=\"147.478,1486.45 147.478,47.2441 \"/>\n",
       "<polyline clip-path=\"url(#clip470)\" style=\"stroke:#000000; stroke-linecap:round; stroke-linejoin:round; stroke-width:4; stroke-opacity:1; fill:none\" points=\"147.478,1331.27 166.376,1331.27 \"/>\n",
       "<polyline clip-path=\"url(#clip470)\" style=\"stroke:#000000; stroke-linecap:round; stroke-linejoin:round; stroke-width:4; stroke-opacity:1; fill:none\" points=\"147.478,1054.99 166.376,1054.99 \"/>\n",
       "<polyline clip-path=\"url(#clip470)\" style=\"stroke:#000000; stroke-linecap:round; stroke-linejoin:round; stroke-width:4; stroke-opacity:1; fill:none\" points=\"147.478,778.697 166.376,778.697 \"/>\n",
       "<polyline clip-path=\"url(#clip470)\" style=\"stroke:#000000; stroke-linecap:round; stroke-linejoin:round; stroke-width:4; stroke-opacity:1; fill:none\" points=\"147.478,502.409 166.376,502.409 \"/>\n",
       "<polyline clip-path=\"url(#clip470)\" style=\"stroke:#000000; stroke-linecap:round; stroke-linejoin:round; stroke-width:4; stroke-opacity:1; fill:none\" points=\"147.478,226.12 166.376,226.12 \"/>\n",
       "<path clip-path=\"url(#clip470)\" d=\"M50.9921 1331.72 L80.6679 1331.72 L80.6679 1335.66 L50.9921 1335.66 L50.9921 1331.72 Z\" fill=\"#000000\" fill-rule=\"nonzero\" fill-opacity=\"1\" /><path clip-path=\"url(#clip470)\" d=\"M91.5706 1344.62 L99.2095 1344.62 L99.2095 1318.25 L90.8993 1319.92 L90.8993 1315.66 L99.1632 1313.99 L103.839 1313.99 L103.839 1344.62 L111.478 1344.62 L111.478 1348.55 L91.5706 1348.55 L91.5706 1344.62 Z\" fill=\"#000000\" fill-rule=\"nonzero\" fill-opacity=\"1\" /><path clip-path=\"url(#clip470)\" d=\"M99.5335 1040.78 Q95.9224 1040.78 94.0937 1044.35 Q92.2882 1047.89 92.2882 1055.02 Q92.2882 1062.13 94.0937 1065.69 Q95.9224 1069.23 99.5335 1069.23 Q103.168 1069.23 104.973 1065.69 Q106.802 1062.13 106.802 1055.02 Q106.802 1047.89 104.973 1044.35 Q103.168 1040.78 99.5335 1040.78 M99.5335 1037.08 Q105.344 1037.08 108.399 1041.69 Q111.478 1046.27 111.478 1055.02 Q111.478 1063.75 108.399 1068.35 Q105.344 1072.94 99.5335 1072.94 Q93.7234 1072.94 90.6447 1068.35 Q87.5892 1063.75 87.5892 1055.02 Q87.5892 1046.27 90.6447 1041.69 Q93.7234 1037.08 99.5335 1037.08 Z\" fill=\"#000000\" fill-rule=\"nonzero\" fill-opacity=\"1\" /><path clip-path=\"url(#clip470)\" d=\"M91.5706 792.042 L99.2095 792.042 L99.2095 765.676 L90.8993 767.343 L90.8993 763.084 L99.1632 761.417 L103.839 761.417 L103.839 792.042 L111.478 792.042 L111.478 795.977 L91.5706 795.977 L91.5706 792.042 Z\" fill=\"#000000\" fill-rule=\"nonzero\" fill-opacity=\"1\" /><path clip-path=\"url(#clip470)\" d=\"M95.1586 515.753 L111.478 515.753 L111.478 519.689 L89.5336 519.689 L89.5336 515.753 Q92.1956 512.999 96.7789 508.369 Q101.385 503.716 102.566 502.374 Q104.811 499.851 105.691 498.115 Q106.594 496.355 106.594 494.666 Q106.594 491.911 104.649 490.175 Q102.728 488.439 99.6261 488.439 Q97.4271 488.439 94.9734 489.203 Q92.5428 489.967 89.7651 491.517 L89.7651 486.795 Q92.5891 485.661 95.0428 485.082 Q97.4965 484.504 99.5335 484.504 Q104.904 484.504 108.098 487.189 Q111.293 489.874 111.293 494.365 Q111.293 496.494 110.483 498.416 Q109.696 500.314 107.589 502.906 Q107.01 503.578 103.909 506.795 Q100.807 509.99 95.1586 515.753 Z\" fill=\"#000000\" fill-rule=\"nonzero\" fill-opacity=\"1\" /><path clip-path=\"url(#clip470)\" d=\"M104.348 224.766 Q107.705 225.484 109.58 227.752 Q111.478 230.021 111.478 233.354 Q111.478 238.47 107.959 241.271 Q104.441 244.072 97.9595 244.072 Q95.7836 244.072 93.4688 243.632 Q91.1771 243.215 88.7234 242.359 L88.7234 237.845 Q90.6678 238.979 92.9826 239.558 Q95.2974 240.137 97.8206 240.137 Q102.219 240.137 104.51 238.4 Q106.825 236.664 106.825 233.354 Q106.825 230.299 104.672 228.586 Q102.543 226.85 98.7234 226.85 L94.6956 226.85 L94.6956 223.007 L98.9085 223.007 Q102.358 223.007 104.186 221.641 Q106.015 220.252 106.015 217.66 Q106.015 214.998 104.117 213.586 Q102.242 212.151 98.7234 212.151 Q96.8021 212.151 94.603 212.567 Q92.4039 212.984 89.7651 213.864 L89.7651 209.697 Q92.4271 208.956 94.7419 208.586 Q97.0798 208.215 99.14 208.215 Q104.464 208.215 107.566 210.646 Q110.668 213.053 110.668 217.174 Q110.668 220.044 109.024 222.035 Q107.381 224.002 104.348 224.766 Z\" fill=\"#000000\" fill-rule=\"nonzero\" fill-opacity=\"1\" /><path clip-path=\"url(#clip472)\" d=\"M1100.12 1445.72 L1490.85 1054.99 L1100.12 664.255 L709.391 1054.99 L1100.12 1445.72  Z\" fill=\"#000000\" fill-rule=\"evenodd\" fill-opacity=\"0\"/>\n",
       "<polyline clip-path=\"url(#clip472)\" style=\"stroke:#ff0000; stroke-linecap:round; stroke-linejoin:round; stroke-width:20; stroke-opacity:1; fill:none\" points=\"1100.12,1445.72 1490.85,1054.99 1100.12,664.255 709.391,1054.99 1100.12,1445.72 \"/>\n",
       "<path clip-path=\"url(#clip472)\" d=\"M1790.84 916.841 L1790.84 87.9763 L961.978 87.9763 L961.978 916.841 L1790.84 916.841  Z\" fill=\"#000000\" fill-rule=\"evenodd\" fill-opacity=\"0\"/>\n",
       "<polyline clip-path=\"url(#clip472)\" style=\"stroke:#0000ff; stroke-linecap:round; stroke-linejoin:round; stroke-width:20; stroke-opacity:1; fill:none\" points=\"1790.84,916.841 1790.84,87.9763 961.978,87.9763 961.978,916.841 1790.84,916.841 \"/>\n",
       "</svg>\n"
      ]
     },
     "metadata": {},
     "output_type": "display_data"
    }
   ],
   "source": [
    "plot(quadrado(v1, l1, θ1), c=false, lc=:red, lw=5, label=false, aspect_ratio=true)\n",
    "plot!(quadrado(v2, l2, θ2), c=false, lc=:blue, lw=5, label=false, aspect_ratio=true)"
   ]
  },
  {
   "cell_type": "code",
   "execution_count": 60,
   "id": "e926d96c",
   "metadata": {
    "slideshow": {
     "slide_type": "fragment"
    }
   },
   "outputs": [
    {
     "data": {
      "text/plain": [
       "quadrado_base (generic function with 1 method)"
      ]
     },
     "metadata": {},
     "output_type": "display_data"
    }
   ],
   "source": [
    "quadrado_base(l) = [[-l/2 -l/2], [l/2 -l/2], [l/2 l/2], [-l/2 l/2]]"
   ]
  },
  {
   "cell_type": "code",
   "execution_count": 73,
   "id": "5bfa5463",
   "metadata": {
    "slideshow": {
     "slide_type": "fragment"
    }
   },
   "outputs": [
    {
     "data": {
      "text/plain": [
       "medida_dentro_quad (generic function with 1 method)"
      ]
     },
     "metadata": {},
     "output_type": "display_data"
    }
   ],
   "source": [
    "# Sobreposição com um quadrado SEM rotação\n",
    "medida_dentro_quad(v, l, p) = max(0.0, p[1] - (v[1] - l / 2)) * \n",
    "                              max(0.0, v[1] + l / 2 - p[1]  ) *\n",
    "                              max(0.0, p[2] - (v[2] - l / 2)) *\n",
    "                              max(0.0, v[2] + l / 2 - p[2]  )"
   ]
  },
  {
   "cell_type": "code",
   "execution_count": 70,
   "id": "1f1cf067",
   "metadata": {
    "slideshow": {
     "slide_type": "fragment"
    }
   },
   "outputs": [
    {
     "data": {
      "text/plain": [
       "rotaciona_desloca_inv (generic function with 1 method)"
      ]
     },
     "metadata": {},
     "output_type": "display_data"
    }
   ],
   "source": [
    "rotaciona_desloca(v, θ, p) = [v[1] + cos(θ) * p[1] - sin(θ) * p[2],\n",
    "                              v[2] + sin(θ) * p[1] + cos(θ) * p[2]]\n",
    "\n",
    "rotaciona_desloca_inv(v, θ, p) = [cos(-θ) * (p[1] - v[1]) - sin(-θ) * (p[2] - v[2]),\n",
    "                                  sin(-θ) * (p[1] - v[1]) + cos(-θ) * (p[2] - v[2])]"
   ]
  },
  {
   "cell_type": "code",
   "execution_count": 72,
   "id": "6a8ca29b",
   "metadata": {
    "slideshow": {
     "slide_type": "fragment"
    }
   },
   "outputs": [
    {
     "name": "stdout",
     "output_type": "stream",
     "text": [
      "Medida de sobreposição com rotação: 2.883567811865475\n"
     ]
    }
   ],
   "source": [
    "overlap3 = sum(medida_dentro_quad([0,0], l1, rotaciona_desloca_inv(v1, θ1, rotaciona_desloca(v2, θ2, p)))\n",
    "               for p in quadrado_base(l2)) +\n",
    "           sum(medida_dentro_quad([0,0], l2, rotaciona_desloca_inv(v2, θ2, rotaciona_desloca(v1, θ1, p)))\n",
    "               for p in quadrado_base(l1))\n",
    "\n",
    "println(\"Medida de sobreposição com rotação: $overlap3\")"
   ]
  },
  {
   "cell_type": "code",
   "execution_count": 19,
   "id": "0eb5c01d",
   "metadata": {},
   "outputs": [
    {
     "data": {
      "image/png": "[encoded data removed]",
      "image/svg+xml": [
       "<?xml version=\"1.0\" encoding=\"utf-8\"?>\n",
       "<svg xmlns=\"http://www.w3.org/2000/svg\" xmlns:xlink=\"http://www.w3.org/1999/xlink\" width=\"600\" height=\"400\" viewBox=\"0 0 2400 1600\">\n",
       "<defs>\n",
       "  <clipPath id=\"clip730\">\n",
       "    <rect x=\"0\" y=\"0\" width=\"2400\" height=\"1600\"/>\n",
       "  </clipPath>\n",
       "</defs>\n",
       "<path clip-path=\"url(#clip730)\" d=\"M0 1600 L2400 1600 L2400 0 L0 0  Z\" fill=\"#ffffff\" fill-rule=\"evenodd\" fill-opacity=\"1\"/>\n",
       "<defs>\n",
       "  <clipPath id=\"clip731\">\n",
       "    <rect x=\"480\" y=\"0\" width=\"1681\" height=\"1600\"/>\n",
       "  </clipPath>\n",
       "</defs>\n",
       "<path clip-path=\"url(#clip730)\" d=\"M156.112 1486.45 L2352.76 1486.45 L2352.76 47.2441 L156.112 47.2441  Z\" fill=\"#ffffff\" fill-rule=\"evenodd\" fill-opacity=\"1\"/>\n",
       "<defs>\n",
       "  <clipPath id=\"clip732\">\n",
       "    <rect x=\"156\" y=\"47\" width=\"2198\" height=\"1440\"/>\n",
       "  </clipPath>\n",
       "</defs>\n",
       "<polyline clip-path=\"url(#clip732)\" style=\"stroke:#000000; stroke-linecap:round; stroke-linejoin:round; stroke-width:2; stroke-opacity:0.1; fill:none\" points=\"211.901,1486.45 211.901,47.2441 \"/>\n",
       "<polyline clip-path=\"url(#clip732)\" style=\"stroke:#000000; stroke-linecap:round; stroke-linejoin:round; stroke-width:2; stroke-opacity:0.1; fill:none\" points=\"863.484,1486.45 863.484,47.2441 \"/>\n",
       "<polyline clip-path=\"url(#clip732)\" style=\"stroke:#000000; stroke-linecap:round; stroke-linejoin:round; stroke-width:2; stroke-opacity:0.1; fill:none\" points=\"1515.07,1486.45 1515.07,47.2441 \"/>\n",
       "<polyline clip-path=\"url(#clip732)\" style=\"stroke:#000000; stroke-linecap:round; stroke-linejoin:round; stroke-width:2; stroke-opacity:0.1; fill:none\" points=\"2166.65,1486.45 2166.65,47.2441 \"/>\n",
       "<polyline clip-path=\"url(#clip732)\" style=\"stroke:#000000; stroke-linecap:round; stroke-linejoin:round; stroke-width:2; stroke-opacity:0.1; fill:none\" points=\"156.112,1166.15 2352.76,1166.15 \"/>\n",
       "<polyline clip-path=\"url(#clip732)\" style=\"stroke:#000000; stroke-linecap:round; stroke-linejoin:round; stroke-width:2; stroke-opacity:0.1; fill:none\" points=\"156.112,840.359 2352.76,840.359 \"/>\n",
       "<polyline clip-path=\"url(#clip732)\" style=\"stroke:#000000; stroke-linecap:round; stroke-linejoin:round; stroke-width:2; stroke-opacity:0.1; fill:none\" points=\"156.112,514.568 2352.76,514.568 \"/>\n",
       "<polyline clip-path=\"url(#clip732)\" style=\"stroke:#000000; stroke-linecap:round; stroke-linejoin:round; stroke-width:2; stroke-opacity:0.1; fill:none\" points=\"156.112,188.777 2352.76,188.777 \"/>\n",
       "<polyline clip-path=\"url(#clip730)\" style=\"stroke:#000000; stroke-linecap:round; stroke-linejoin:round; stroke-width:4; stroke-opacity:1; fill:none\" points=\"156.112,1486.45 2352.76,1486.45 \"/>\n",
       "<polyline clip-path=\"url(#clip730)\" style=\"stroke:#000000; stroke-linecap:round; stroke-linejoin:round; stroke-width:4; stroke-opacity:1; fill:none\" points=\"211.901,1486.45 211.901,1467.55 \"/>\n",
       "<polyline clip-path=\"url(#clip730)\" style=\"stroke:#000000; stroke-linecap:round; stroke-linejoin:round; stroke-width:4; stroke-opacity:1; fill:none\" points=\"863.484,1486.45 863.484,1467.55 \"/>\n",
       "<polyline clip-path=\"url(#clip730)\" style=\"stroke:#000000; stroke-linecap:round; stroke-linejoin:round; stroke-width:4; stroke-opacity:1; fill:none\" points=\"1515.07,1486.45 1515.07,1467.55 \"/>\n",
       "<polyline clip-path=\"url(#clip730)\" style=\"stroke:#000000; stroke-linecap:round; stroke-linejoin:round; stroke-width:4; stroke-opacity:1; fill:none\" points=\"2166.65,1486.45 2166.65,1467.55 \"/>\n",
       "<path clip-path=\"url(#clip730)\" d=\"M181.658 1532.02 L211.334 1532.02 L211.334 1535.95 L181.658 1535.95 L181.658 1532.02 Z\" fill=\"#000000\" fill-rule=\"nonzero\" fill-opacity=\"1\" /><path clip-path=\"url(#clip730)\" d=\"M222.237 1544.91 L229.876 1544.91 L229.876 1518.55 L221.566 1520.21 L221.566 1515.95 L229.83 1514.29 L234.505 1514.29 L234.505 1544.91 L242.144 1544.91 L242.144 1548.85 L222.237 1548.85 L222.237 1544.91 Z\" fill=\"#000000\" fill-rule=\"nonzero\" fill-opacity=\"1\" /><path clip-path=\"url(#clip730)\" d=\"M863.484 1517.37 Q859.873 1517.37 858.044 1520.93 Q856.239 1524.47 856.239 1531.6 Q856.239 1538.71 858.044 1542.27 Q859.873 1545.82 863.484 1545.82 Q867.119 1545.82 868.924 1542.27 Q870.753 1538.71 870.753 1531.6 Q870.753 1524.47 868.924 1520.93 Q867.119 1517.37 863.484 1517.37 M863.484 1513.66 Q869.294 1513.66 872.35 1518.27 Q875.429 1522.85 875.429 1531.6 Q875.429 1540.33 872.35 1544.94 Q869.294 1549.52 863.484 1549.52 Q857.674 1549.52 854.595 1544.94 Q851.54 1540.33 851.54 1531.6 Q851.54 1522.85 854.595 1518.27 Q857.674 1513.66 863.484 1513.66 Z\" fill=\"#000000\" fill-rule=\"nonzero\" fill-opacity=\"1\" /><path clip-path=\"url(#clip730)\" d=\"M1505.45 1544.91 L1513.09 1544.91 L1513.09 1518.55 L1504.78 1520.21 L1504.78 1515.95 L1513.04 1514.29 L1517.72 1514.29 L1517.72 1544.91 L1525.36 1544.91 L1525.36 1548.85 L1505.45 1548.85 L1505.45 1544.91 Z\" fill=\"#000000\" fill-rule=\"nonzero\" fill-opacity=\"1\" /><path clip-path=\"url(#clip730)\" d=\"M2161.3 1544.91 L2177.62 1544.91 L2177.62 1548.85 L2155.68 1548.85 L2155.68 1544.91 Q2158.34 1542.16 2162.92 1537.53 Q2167.53 1532.88 2168.71 1531.53 Q2170.96 1529.01 2171.84 1527.27 Q2172.74 1525.51 2172.74 1523.82 Q2172.74 1521.07 2170.79 1519.33 Q2168.87 1517.6 2165.77 1517.6 Q2163.57 1517.6 2161.12 1518.36 Q2158.69 1519.13 2155.91 1520.68 L2155.91 1515.95 Q2158.73 1514.82 2161.19 1514.24 Q2163.64 1513.66 2165.68 1513.66 Q2171.05 1513.66 2174.24 1516.35 Q2177.44 1519.03 2177.44 1523.52 Q2177.44 1525.65 2176.63 1527.57 Q2175.84 1529.47 2173.73 1532.07 Q2173.15 1532.74 2170.05 1535.95 Q2166.95 1539.15 2161.3 1544.91 Z\" fill=\"#000000\" fill-rule=\"nonzero\" fill-opacity=\"1\" /><polyline clip-path=\"url(#clip730)\" style=\"stroke:#000000; stroke-linecap:round; stroke-linejoin:round; stroke-width:4; stroke-opacity:1; fill:none\" points=\"156.112,1486.45 156.112,47.2441 \"/>\n",
       "<polyline clip-path=\"url(#clip730)\" style=\"stroke:#000000; stroke-linecap:round; stroke-linejoin:round; stroke-width:4; stroke-opacity:1; fill:none\" points=\"156.112,1166.15 175.01,1166.15 \"/>\n",
       "<polyline clip-path=\"url(#clip730)\" style=\"stroke:#000000; stroke-linecap:round; stroke-linejoin:round; stroke-width:4; stroke-opacity:1; fill:none\" points=\"156.112,840.359 175.01,840.359 \"/>\n",
       "<polyline clip-path=\"url(#clip730)\" style=\"stroke:#000000; stroke-linecap:round; stroke-linejoin:round; stroke-width:4; stroke-opacity:1; fill:none\" points=\"156.112,514.568 175.01,514.568 \"/>\n",
       "<polyline clip-path=\"url(#clip730)\" style=\"stroke:#000000; stroke-linecap:round; stroke-linejoin:round; stroke-width:4; stroke-opacity:1; fill:none\" points=\"156.112,188.777 175.01,188.777 \"/>\n",
       "<path clip-path=\"url(#clip730)\" d=\"M62.9365 1151.95 Q59.3254 1151.95 57.4967 1155.51 Q55.6912 1159.06 55.6912 1166.19 Q55.6912 1173.29 57.4967 1176.86 Q59.3254 1180.4 62.9365 1180.4 Q66.5707 1180.4 68.3763 1176.86 Q70.205 1173.29 70.205 1166.19 Q70.205 1159.06 68.3763 1155.51 Q66.5707 1151.95 62.9365 1151.95 M62.9365 1148.25 Q68.7467 1148.25 71.8022 1152.85 Q74.8809 1157.44 74.8809 1166.19 Q74.8809 1174.91 71.8022 1179.52 Q68.7467 1184.1 62.9365 1184.1 Q57.1264 1184.1 54.0477 1179.52 Q50.9921 1174.91 50.9921 1166.19 Q50.9921 1157.44 54.0477 1152.85 Q57.1264 1148.25 62.9365 1148.25 Z\" fill=\"#000000\" fill-rule=\"nonzero\" fill-opacity=\"1\" /><path clip-path=\"url(#clip730)\" d=\"M83.0984 1177.55 L87.9827 1177.55 L87.9827 1183.43 L83.0984 1183.43 L83.0984 1177.55 Z\" fill=\"#000000\" fill-rule=\"nonzero\" fill-opacity=\"1\" /><path clip-path=\"url(#clip730)\" d=\"M108.168 1151.95 Q104.557 1151.95 102.728 1155.51 Q100.922 1159.06 100.922 1166.19 Q100.922 1173.29 102.728 1176.86 Q104.557 1180.4 108.168 1180.4 Q111.802 1180.4 113.608 1176.86 Q115.436 1173.29 115.436 1166.19 Q115.436 1159.06 113.608 1155.51 Q111.802 1151.95 108.168 1151.95 M108.168 1148.25 Q113.978 1148.25 117.033 1152.85 Q120.112 1157.44 120.112 1166.19 Q120.112 1174.91 117.033 1179.52 Q113.978 1184.1 108.168 1184.1 Q102.358 1184.1 99.2789 1179.52 Q96.2234 1174.91 96.2234 1166.19 Q96.2234 1157.44 99.2789 1152.85 Q102.358 1148.25 108.168 1148.25 Z\" fill=\"#000000\" fill-rule=\"nonzero\" fill-opacity=\"1\" /><path clip-path=\"url(#clip730)\" d=\"M63.9319 826.158 Q60.3208 826.158 58.4921 829.723 Q56.6865 833.265 56.6865 840.394 Q56.6865 847.501 58.4921 851.065 Q60.3208 854.607 63.9319 854.607 Q67.5661 854.607 69.3717 851.065 Q71.2004 847.501 71.2004 840.394 Q71.2004 833.265 69.3717 829.723 Q67.5661 826.158 63.9319 826.158 M63.9319 822.454 Q69.742 822.454 72.7976 827.061 Q75.8763 831.644 75.8763 840.394 Q75.8763 849.121 72.7976 853.727 Q69.742 858.311 63.9319 858.311 Q58.1217 858.311 55.043 853.727 Q51.9875 849.121 51.9875 840.394 Q51.9875 831.644 55.043 827.061 Q58.1217 822.454 63.9319 822.454 Z\" fill=\"#000000\" fill-rule=\"nonzero\" fill-opacity=\"1\" /><path clip-path=\"url(#clip730)\" d=\"M84.0938 851.76 L88.978 851.76 L88.978 857.639 L84.0938 857.639 L84.0938 851.76 Z\" fill=\"#000000\" fill-rule=\"nonzero\" fill-opacity=\"1\" /><path clip-path=\"url(#clip730)\" d=\"M99.2095 823.079 L117.566 823.079 L117.566 827.015 L103.492 827.015 L103.492 835.487 Q104.51 835.14 105.529 834.978 Q106.547 834.792 107.566 834.792 Q113.353 834.792 116.733 837.964 Q120.112 841.135 120.112 846.552 Q120.112 852.13 116.64 855.232 Q113.168 858.311 106.848 858.311 Q104.672 858.311 102.404 857.94 Q100.159 857.57 97.7511 856.829 L97.7511 852.13 Q99.8345 853.264 102.057 853.82 Q104.279 854.376 106.756 854.376 Q110.76 854.376 113.098 852.269 Q115.436 850.163 115.436 846.552 Q115.436 842.94 113.098 840.834 Q110.76 838.727 106.756 838.727 Q104.881 838.727 103.006 839.144 Q101.154 839.561 99.2095 840.44 L99.2095 823.079 Z\" fill=\"#000000\" fill-rule=\"nonzero\" fill-opacity=\"1\" /><path clip-path=\"url(#clip730)\" d=\"M53.7467 527.913 L61.3856 527.913 L61.3856 501.547 L53.0754 503.214 L53.0754 498.955 L61.3393 497.288 L66.0152 497.288 L66.0152 527.913 L73.654 527.913 L73.654 531.848 L53.7467 531.848 L53.7467 527.913 Z\" fill=\"#000000\" fill-rule=\"nonzero\" fill-opacity=\"1\" /><path clip-path=\"url(#clip730)\" d=\"M83.0984 525.968 L87.9827 525.968 L87.9827 531.848 L83.0984 531.848 L83.0984 525.968 Z\" fill=\"#000000\" fill-rule=\"nonzero\" fill-opacity=\"1\" /><path clip-path=\"url(#clip730)\" d=\"M108.168 500.367 Q104.557 500.367 102.728 503.931 Q100.922 507.473 100.922 514.603 Q100.922 521.709 102.728 525.274 Q104.557 528.816 108.168 528.816 Q111.802 528.816 113.608 525.274 Q115.436 521.709 115.436 514.603 Q115.436 507.473 113.608 503.931 Q111.802 500.367 108.168 500.367 M108.168 496.663 Q113.978 496.663 117.033 501.269 Q120.112 505.853 120.112 514.603 Q120.112 523.329 117.033 527.936 Q113.978 532.519 108.168 532.519 Q102.358 532.519 99.2789 527.936 Q96.2234 523.329 96.2234 514.603 Q96.2234 505.853 99.2789 501.269 Q102.358 496.663 108.168 496.663 Z\" fill=\"#000000\" fill-rule=\"nonzero\" fill-opacity=\"1\" /><path clip-path=\"url(#clip730)\" d=\"M54.7421 202.121 L62.381 202.121 L62.381 175.756 L54.0708 177.422 L54.0708 173.163 L62.3347 171.497 L67.0106 171.497 L67.0106 202.121 L74.6494 202.121 L74.6494 206.057 L54.7421 206.057 L54.7421 202.121 Z\" fill=\"#000000\" fill-rule=\"nonzero\" fill-opacity=\"1\" /><path clip-path=\"url(#clip730)\" d=\"M84.0938 200.177 L88.978 200.177 L88.978 206.057 L84.0938 206.057 L84.0938 200.177 Z\" fill=\"#000000\" fill-rule=\"nonzero\" fill-opacity=\"1\" /><path clip-path=\"url(#clip730)\" d=\"M99.2095 171.497 L117.566 171.497 L117.566 175.432 L103.492 175.432 L103.492 183.904 Q104.51 183.557 105.529 183.395 Q106.547 183.209 107.566 183.209 Q113.353 183.209 116.733 186.381 Q120.112 189.552 120.112 194.969 Q120.112 200.547 116.64 203.649 Q113.168 206.728 106.848 206.728 Q104.672 206.728 102.404 206.357 Q100.159 205.987 97.7511 205.246 L97.7511 200.547 Q99.8345 201.682 102.057 202.237 Q104.279 202.793 106.756 202.793 Q110.76 202.793 113.098 200.686 Q115.436 198.58 115.436 194.969 Q115.436 191.358 113.098 189.251 Q110.76 187.145 106.756 187.145 Q104.881 187.145 103.006 187.561 Q101.154 187.978 99.2095 188.858 L99.2095 171.497 Z\" fill=\"#000000\" fill-rule=\"nonzero\" fill-opacity=\"1\" /><path clip-path=\"url(#clip732)\" d=\"M611.763 1445.72 L1231.46 1244.37 L747.235 808.371 L611.763 1445.72  Z\" fill=\"#000000\" fill-rule=\"evenodd\" fill-opacity=\"0\"/>\n",
       "<polyline clip-path=\"url(#clip732)\" style=\"stroke:#0000ff; stroke-linecap:round; stroke-linejoin:round; stroke-width:20; stroke-opacity:1; fill:none\" points=\"611.763,1445.72 1231.46,1244.37 747.235,808.371 611.763,1445.72 \"/>\n",
       "<path clip-path=\"url(#clip732)\" d=\"M602.851 1216.55 L1906.02 1216.55 L1254.43 87.9763 L602.851 1216.55  Z\" fill=\"#000000\" fill-rule=\"evenodd\" fill-opacity=\"0\"/>\n",
       "<polyline clip-path=\"url(#clip732)\" style=\"stroke:#ff0000; stroke-linecap:round; stroke-linejoin:round; stroke-width:20; stroke-opacity:1; fill:none\" points=\"602.851,1216.55 1906.02,1216.55 1254.43,87.9763 602.851,1216.55 \"/>\n",
       "</svg>\n"
      ],
      "text/html": [
       "<?xml version=\"1.0\" encoding=\"utf-8\"?>\n",
       "<svg xmlns=\"http://www.w3.org/2000/svg\" xmlns:xlink=\"http://www.w3.org/1999/xlink\" width=\"600\" height=\"400\" viewBox=\"0 0 2400 1600\">\n",
       "<defs>\n",
       "  <clipPath id=\"clip780\">\n",
       "    <rect x=\"0\" y=\"0\" width=\"2400\" height=\"1600\"/>\n",
       "  </clipPath>\n",
       "</defs>\n",
       "<path clip-path=\"url(#clip780)\" d=\"M0 1600 L2400 1600 L2400 0 L0 0  Z\" fill=\"#ffffff\" fill-rule=\"evenodd\" fill-opacity=\"1\"/>\n",
       "<defs>\n",
       "  <clipPath id=\"clip781\">\n",
       "    <rect x=\"480\" y=\"0\" width=\"1681\" height=\"1600\"/>\n",
       "  </clipPath>\n",
       "</defs>\n",
       "<path clip-path=\"url(#clip780)\" d=\"M156.112 1486.45 L2352.76 1486.45 L2352.76 47.2441 L156.112 47.2441  Z\" fill=\"#ffffff\" fill-rule=\"evenodd\" fill-opacity=\"1\"/>\n",
       "<defs>\n",
       "  <clipPath id=\"clip782\">\n",
       "    <rect x=\"156\" y=\"47\" width=\"2198\" height=\"1440\"/>\n",
       "  </clipPath>\n",
       "</defs>\n",
       "<polyline clip-path=\"url(#clip782)\" style=\"stroke:#000000; stroke-linecap:round; stroke-linejoin:round; stroke-width:2; stroke-opacity:0.1; fill:none\" points=\"211.901,1486.45 211.901,47.2441 \"/>\n",
       "<polyline clip-path=\"url(#clip782)\" style=\"stroke:#000000; stroke-linecap:round; stroke-linejoin:round; stroke-width:2; stroke-opacity:0.1; fill:none\" points=\"863.484,1486.45 863.484,47.2441 \"/>\n",
       "<polyline clip-path=\"url(#clip782)\" style=\"stroke:#000000; stroke-linecap:round; stroke-linejoin:round; stroke-width:2; stroke-opacity:0.1; fill:none\" points=\"1515.07,1486.45 1515.07,47.2441 \"/>\n",
       "<polyline clip-path=\"url(#clip782)\" style=\"stroke:#000000; stroke-linecap:round; stroke-linejoin:round; stroke-width:2; stroke-opacity:0.1; fill:none\" points=\"2166.65,1486.45 2166.65,47.2441 \"/>\n",
       "<polyline clip-path=\"url(#clip782)\" style=\"stroke:#000000; stroke-linecap:round; stroke-linejoin:round; stroke-width:2; stroke-opacity:0.1; fill:none\" points=\"156.112,1166.15 2352.76,1166.15 \"/>\n",
       "<polyline clip-path=\"url(#clip782)\" style=\"stroke:#000000; stroke-linecap:round; stroke-linejoin:round; stroke-width:2; stroke-opacity:0.1; fill:none\" points=\"156.112,840.359 2352.76,840.359 \"/>\n",
       "<polyline clip-path=\"url(#clip782)\" style=\"stroke:#000000; stroke-linecap:round; stroke-linejoin:round; stroke-width:2; stroke-opacity:0.1; fill:none\" points=\"156.112,514.568 2352.76,514.568 \"/>\n",
       "<polyline clip-path=\"url(#clip782)\" style=\"stroke:#000000; stroke-linecap:round; stroke-linejoin:round; stroke-width:2; stroke-opacity:0.1; fill:none\" points=\"156.112,188.777 2352.76,188.777 \"/>\n",
       "<polyline clip-path=\"url(#clip780)\" style=\"stroke:#000000; stroke-linecap:round; stroke-linejoin:round; stroke-width:4; stroke-opacity:1; fill:none\" points=\"156.112,1486.45 2352.76,1486.45 \"/>\n",
       "<polyline clip-path=\"url(#clip780)\" style=\"stroke:#000000; stroke-linecap:round; stroke-linejoin:round; stroke-width:4; stroke-opacity:1; fill:none\" points=\"211.901,1486.45 211.901,1467.55 \"/>\n",
       "<polyline clip-path=\"url(#clip780)\" style=\"stroke:#000000; stroke-linecap:round; stroke-linejoin:round; stroke-width:4; stroke-opacity:1; fill:none\" points=\"863.484,1486.45 863.484,1467.55 \"/>\n",
       "<polyline clip-path=\"url(#clip780)\" style=\"stroke:#000000; stroke-linecap:round; stroke-linejoin:round; stroke-width:4; stroke-opacity:1; fill:none\" points=\"1515.07,1486.45 1515.07,1467.55 \"/>\n",
       "<polyline clip-path=\"url(#clip780)\" style=\"stroke:#000000; stroke-linecap:round; stroke-linejoin:round; stroke-width:4; stroke-opacity:1; fill:none\" points=\"2166.65,1486.45 2166.65,1467.55 \"/>\n",
       "<path clip-path=\"url(#clip780)\" d=\"M181.658 1532.02 L211.334 1532.02 L211.334 1535.95 L181.658 1535.95 L181.658 1532.02 Z\" fill=\"#000000\" fill-rule=\"nonzero\" fill-opacity=\"1\" /><path clip-path=\"url(#clip780)\" d=\"M222.237 1544.91 L229.876 1544.91 L229.876 1518.55 L221.566 1520.21 L221.566 1515.95 L229.83 1514.29 L234.505 1514.29 L234.505 1544.91 L242.144 1544.91 L242.144 1548.85 L222.237 1548.85 L222.237 1544.91 Z\" fill=\"#000000\" fill-rule=\"nonzero\" fill-opacity=\"1\" /><path clip-path=\"url(#clip780)\" d=\"M863.484 1517.37 Q859.873 1517.37 858.044 1520.93 Q856.239 1524.47 856.239 1531.6 Q856.239 1538.71 858.044 1542.27 Q859.873 1545.82 863.484 1545.82 Q867.119 1545.82 868.924 1542.27 Q870.753 1538.71 870.753 1531.6 Q870.753 1524.47 868.924 1520.93 Q867.119 1517.37 863.484 1517.37 M863.484 1513.66 Q869.294 1513.66 872.35 1518.27 Q875.429 1522.85 875.429 1531.6 Q875.429 1540.33 872.35 1544.94 Q869.294 1549.52 863.484 1549.52 Q857.674 1549.52 854.595 1544.94 Q851.54 1540.33 851.54 1531.6 Q851.54 1522.85 854.595 1518.27 Q857.674 1513.66 863.484 1513.66 Z\" fill=\"#000000\" fill-rule=\"nonzero\" fill-opacity=\"1\" /><path clip-path=\"url(#clip780)\" d=\"M1505.45 1544.91 L1513.09 1544.91 L1513.09 1518.55 L1504.78 1520.21 L1504.78 1515.95 L1513.04 1514.29 L1517.72 1514.29 L1517.72 1544.91 L1525.36 1544.91 L1525.36 1548.85 L1505.45 1548.85 L1505.45 1544.91 Z\" fill=\"#000000\" fill-rule=\"nonzero\" fill-opacity=\"1\" /><path clip-path=\"url(#clip780)\" d=\"M2161.3 1544.91 L2177.62 1544.91 L2177.62 1548.85 L2155.68 1548.85 L2155.68 1544.91 Q2158.34 1542.16 2162.92 1537.53 Q2167.53 1532.88 2168.71 1531.53 Q2170.96 1529.01 2171.84 1527.27 Q2172.74 1525.51 2172.74 1523.82 Q2172.74 1521.07 2170.79 1519.33 Q2168.87 1517.6 2165.77 1517.6 Q2163.57 1517.6 2161.12 1518.36 Q2158.69 1519.13 2155.91 1520.68 L2155.91 1515.95 Q2158.73 1514.82 2161.19 1514.24 Q2163.64 1513.66 2165.68 1513.66 Q2171.05 1513.66 2174.24 1516.35 Q2177.44 1519.03 2177.44 1523.52 Q2177.44 1525.65 2176.63 1527.57 Q2175.84 1529.47 2173.73 1532.07 Q2173.15 1532.74 2170.05 1535.95 Q2166.95 1539.15 2161.3 1544.91 Z\" fill=\"#000000\" fill-rule=\"nonzero\" fill-opacity=\"1\" /><polyline clip-path=\"url(#clip780)\" style=\"stroke:#000000; stroke-linecap:round; stroke-linejoin:round; stroke-width:4; stroke-opacity:1; fill:none\" points=\"156.112,1486.45 156.112,47.2441 \"/>\n",
       "<polyline clip-path=\"url(#clip780)\" style=\"stroke:#000000; stroke-linecap:round; stroke-linejoin:round; stroke-width:4; stroke-opacity:1; fill:none\" points=\"156.112,1166.15 175.01,1166.15 \"/>\n",
       "<polyline clip-path=\"url(#clip780)\" style=\"stroke:#000000; stroke-linecap:round; stroke-linejoin:round; stroke-width:4; stroke-opacity:1; fill:none\" points=\"156.112,840.359 175.01,840.359 \"/>\n",
       "<polyline clip-path=\"url(#clip780)\" style=\"stroke:#000000; stroke-linecap:round; stroke-linejoin:round; stroke-width:4; stroke-opacity:1; fill:none\" points=\"156.112,514.568 175.01,514.568 \"/>\n",
       "<polyline clip-path=\"url(#clip780)\" style=\"stroke:#000000; stroke-linecap:round; stroke-linejoin:round; stroke-width:4; stroke-opacity:1; fill:none\" points=\"156.112,188.777 175.01,188.777 \"/>\n",
       "<path clip-path=\"url(#clip780)\" d=\"M62.9365 1151.95 Q59.3254 1151.95 57.4967 1155.51 Q55.6912 1159.06 55.6912 1166.19 Q55.6912 1173.29 57.4967 1176.86 Q59.3254 1180.4 62.9365 1180.4 Q66.5707 1180.4 68.3763 1176.86 Q70.205 1173.29 70.205 1166.19 Q70.205 1159.06 68.3763 1155.51 Q66.5707 1151.95 62.9365 1151.95 M62.9365 1148.25 Q68.7467 1148.25 71.8022 1152.85 Q74.8809 1157.44 74.8809 1166.19 Q74.8809 1174.91 71.8022 1179.52 Q68.7467 1184.1 62.9365 1184.1 Q57.1264 1184.1 54.0477 1179.52 Q50.9921 1174.91 50.9921 1166.19 Q50.9921 1157.44 54.0477 1152.85 Q57.1264 1148.25 62.9365 1148.25 Z\" fill=\"#000000\" fill-rule=\"nonzero\" fill-opacity=\"1\" /><path clip-path=\"url(#clip780)\" d=\"M83.0984 1177.55 L87.9827 1177.55 L87.9827 1183.43 L83.0984 1183.43 L83.0984 1177.55 Z\" fill=\"#000000\" fill-rule=\"nonzero\" fill-opacity=\"1\" /><path clip-path=\"url(#clip780)\" d=\"M108.168 1151.95 Q104.557 1151.95 102.728 1155.51 Q100.922 1159.06 100.922 1166.19 Q100.922 1173.29 102.728 1176.86 Q104.557 1180.4 108.168 1180.4 Q111.802 1180.4 113.608 1176.86 Q115.436 1173.29 115.436 1166.19 Q115.436 1159.06 113.608 1155.51 Q111.802 1151.95 108.168 1151.95 M108.168 1148.25 Q113.978 1148.25 117.033 1152.85 Q120.112 1157.44 120.112 1166.19 Q120.112 1174.91 117.033 1179.52 Q113.978 1184.1 108.168 1184.1 Q102.358 1184.1 99.2789 1179.52 Q96.2234 1174.91 96.2234 1166.19 Q96.2234 1157.44 99.2789 1152.85 Q102.358 1148.25 108.168 1148.25 Z\" fill=\"#000000\" fill-rule=\"nonzero\" fill-opacity=\"1\" /><path clip-path=\"url(#clip780)\" d=\"M63.9319 826.158 Q60.3208 826.158 58.4921 829.723 Q56.6865 833.265 56.6865 840.394 Q56.6865 847.501 58.4921 851.065 Q60.3208 854.607 63.9319 854.607 Q67.5661 854.607 69.3717 851.065 Q71.2004 847.501 71.2004 840.394 Q71.2004 833.265 69.3717 829.723 Q67.5661 826.158 63.9319 826.158 M63.9319 822.454 Q69.742 822.454 72.7976 827.061 Q75.8763 831.644 75.8763 840.394 Q75.8763 849.121 72.7976 853.727 Q69.742 858.311 63.9319 858.311 Q58.1217 858.311 55.043 853.727 Q51.9875 849.121 51.9875 840.394 Q51.9875 831.644 55.043 827.061 Q58.1217 822.454 63.9319 822.454 Z\" fill=\"#000000\" fill-rule=\"nonzero\" fill-opacity=\"1\" /><path clip-path=\"url(#clip780)\" d=\"M84.0938 851.76 L88.978 851.76 L88.978 857.639 L84.0938 857.639 L84.0938 851.76 Z\" fill=\"#000000\" fill-rule=\"nonzero\" fill-opacity=\"1\" /><path clip-path=\"url(#clip780)\" d=\"M99.2095 823.079 L117.566 823.079 L117.566 827.015 L103.492 827.015 L103.492 835.487 Q104.51 835.14 105.529 834.978 Q106.547 834.792 107.566 834.792 Q113.353 834.792 116.733 837.964 Q120.112 841.135 120.112 846.552 Q120.112 852.13 116.64 855.232 Q113.168 858.311 106.848 858.311 Q104.672 858.311 102.404 857.94 Q100.159 857.57 97.7511 856.829 L97.7511 852.13 Q99.8345 853.264 102.057 853.82 Q104.279 854.376 106.756 854.376 Q110.76 854.376 113.098 852.269 Q115.436 850.163 115.436 846.552 Q115.436 842.94 113.098 840.834 Q110.76 838.727 106.756 838.727 Q104.881 838.727 103.006 839.144 Q101.154 839.561 99.2095 840.44 L99.2095 823.079 Z\" fill=\"#000000\" fill-rule=\"nonzero\" fill-opacity=\"1\" /><path clip-path=\"url(#clip780)\" d=\"M53.7467 527.913 L61.3856 527.913 L61.3856 501.547 L53.0754 503.214 L53.0754 498.955 L61.3393 497.288 L66.0152 497.288 L66.0152 527.913 L73.654 527.913 L73.654 531.848 L53.7467 531.848 L53.7467 527.913 Z\" fill=\"#000000\" fill-rule=\"nonzero\" fill-opacity=\"1\" /><path clip-path=\"url(#clip780)\" d=\"M83.0984 525.968 L87.9827 525.968 L87.9827 531.848 L83.0984 531.848 L83.0984 525.968 Z\" fill=\"#000000\" fill-rule=\"nonzero\" fill-opacity=\"1\" /><path clip-path=\"url(#clip780)\" d=\"M108.168 500.367 Q104.557 500.367 102.728 503.931 Q100.922 507.473 100.922 514.603 Q100.922 521.709 102.728 525.274 Q104.557 528.816 108.168 528.816 Q111.802 528.816 113.608 525.274 Q115.436 521.709 115.436 514.603 Q115.436 507.473 113.608 503.931 Q111.802 500.367 108.168 500.367 M108.168 496.663 Q113.978 496.663 117.033 501.269 Q120.112 505.853 120.112 514.603 Q120.112 523.329 117.033 527.936 Q113.978 532.519 108.168 532.519 Q102.358 532.519 99.2789 527.936 Q96.2234 523.329 96.2234 514.603 Q96.2234 505.853 99.2789 501.269 Q102.358 496.663 108.168 496.663 Z\" fill=\"#000000\" fill-rule=\"nonzero\" fill-opacity=\"1\" /><path clip-path=\"url(#clip780)\" d=\"M54.7421 202.121 L62.381 202.121 L62.381 175.756 L54.0708 177.422 L54.0708 173.163 L62.3347 171.497 L67.0106 171.497 L67.0106 202.121 L74.6494 202.121 L74.6494 206.057 L54.7421 206.057 L54.7421 202.121 Z\" fill=\"#000000\" fill-rule=\"nonzero\" fill-opacity=\"1\" /><path clip-path=\"url(#clip780)\" d=\"M84.0938 200.177 L88.978 200.177 L88.978 206.057 L84.0938 206.057 L84.0938 200.177 Z\" fill=\"#000000\" fill-rule=\"nonzero\" fill-opacity=\"1\" /><path clip-path=\"url(#clip780)\" d=\"M99.2095 171.497 L117.566 171.497 L117.566 175.432 L103.492 175.432 L103.492 183.904 Q104.51 183.557 105.529 183.395 Q106.547 183.209 107.566 183.209 Q113.353 183.209 116.733 186.381 Q120.112 189.552 120.112 194.969 Q120.112 200.547 116.64 203.649 Q113.168 206.728 106.848 206.728 Q104.672 206.728 102.404 206.357 Q100.159 205.987 97.7511 205.246 L97.7511 200.547 Q99.8345 201.682 102.057 202.237 Q104.279 202.793 106.756 202.793 Q110.76 202.793 113.098 200.686 Q115.436 198.58 115.436 194.969 Q115.436 191.358 113.098 189.251 Q110.76 187.145 106.756 187.145 Q104.881 187.145 103.006 187.561 Q101.154 187.978 99.2095 188.858 L99.2095 171.497 Z\" fill=\"#000000\" fill-rule=\"nonzero\" fill-opacity=\"1\" /><path clip-path=\"url(#clip782)\" d=\"M611.763 1445.72 L1231.46 1244.37 L747.235 808.371 L611.763 1445.72  Z\" fill=\"#000000\" fill-rule=\"evenodd\" fill-opacity=\"0\"/>\n",
       "<polyline clip-path=\"url(#clip782)\" style=\"stroke:#0000ff; stroke-linecap:round; stroke-linejoin:round; stroke-width:20; stroke-opacity:1; fill:none\" points=\"611.763,1445.72 1231.46,1244.37 747.235,808.371 611.763,1445.72 \"/>\n",
       "<path clip-path=\"url(#clip782)\" d=\"M602.851 1216.55 L1906.02 1216.55 L1254.43 87.9763 L602.851 1216.55  Z\" fill=\"#000000\" fill-rule=\"evenodd\" fill-opacity=\"0\"/>\n",
       "<polyline clip-path=\"url(#clip782)\" style=\"stroke:#ff0000; stroke-linecap:round; stroke-linejoin:round; stroke-width:20; stroke-opacity:1; fill:none\" points=\"602.851,1216.55 1906.02,1216.55 1254.43,87.9763 602.851,1216.55 \"/>\n",
       "</svg>\n"
      ]
     },
     "metadata": {},
     "output_type": "display_data"
    }
   ],
   "source": [
    "bc1 = [0, 0]\n",
    "l1  = 1.0\n",
    "θ1  = π / 10\n",
    "\n",
    "bc2 = [0.6, 0.5]\n",
    "l2 = 2.0\n",
    "θ2 = 0.0\n",
    "\n",
    "plot(triangulo_eq(bc1, θ1, l1), c=false, lc=:blue, lw=5, label=false, aspect_ratio=true)\n",
    "plot!(triangulo_eq(bc2, θ2, l2), c=false, lc=:red, lw=5, label=false, aspect_ratio=true)"
   ]
  },
  {
   "cell_type": "code",
   "execution_count": 10,
   "id": "04a27b4c",
   "metadata": {},
   "outputs": [
    {
     "data": {
      "text/plain": [
       "3×2 Matrix{Float64}:\n",
       " -0.5  -0.288675\n",
       "  0.5  -0.288675\n",
       "  0.0   0.57735"
      ]
     },
     "metadata": {},
     "output_type": "display_data"
    }
   ],
   "source": [
    "_triangulo_base"
   ]
  },
  {
   "cell_type": "code",
   "execution_count": null,
   "id": "f6a11880",
   "metadata": {},
   "outputs": [],
   "source": []
  }
 ],
 "metadata": {
  "kernelspec": {
   "display_name": "Julia 1.10.7",
   "language": "julia",
   "name": "julia-1.10"
  },
  "language_info": {
   "file_extension": ".jl",
   "mimetype": "application/julia",
   "name": "julia",
   "version": "1.10.7"
  },
  "toc": {
   "base_numbering": 0
  }
 },
 "nbformat": 4,
 "nbformat_minor": 5
}
